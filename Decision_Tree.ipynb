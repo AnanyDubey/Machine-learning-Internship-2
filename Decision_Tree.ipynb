{
  "nbformat": 4,
  "nbformat_minor": 0,
  "metadata": {
    "colab": {
      "name": "Decision Tree.ipynb",
      "provenance": [],
      "collapsed_sections": [],
      "authorship_tag": "ABX9TyOcPXFYlqmGoZQA34z/vhcl",
      "include_colab_link": true
    },
    "kernelspec": {
      "name": "python3",
      "display_name": "Python 3"
    }
  },
  "cells": [
    {
      "cell_type": "markdown",
      "metadata": {
        "id": "view-in-github",
        "colab_type": "text"
      },
      "source": [
        "<a href=\"https://colab.research.google.com/github/MohammedNayaz/Machine-learning-Internship-2/blob/master/Decision_Tree.ipynb\" target=\"_parent\"><img src=\"https://colab.research.google.com/assets/colab-badge.svg\" alt=\"Open In Colab\"/></a>"
      ]
    },
    {
      "cell_type": "markdown",
      "metadata": {
        "id": "Psvh1y1RXl42"
      },
      "source": [
        "#Decision Trees"
      ]
    },
    {
      "cell_type": "markdown",
      "metadata": {
        "id": "1Dz3ttcyZChF"
      },
      "source": [
        "##example-1"
      ]
    },
    {
      "cell_type": "code",
      "metadata": {
        "id": "5LtVCD_YXohy"
      },
      "source": [
        "import pydotplus\n",
        "from sklearn.tree import DecisionTreeClassifier \n",
        "from sklearn import datasets"
      ],
      "execution_count": 1,
      "outputs": []
    },
    {
      "cell_type": "code",
      "metadata": {
        "id": "DwxVcGDEXrCN",
        "outputId": "35ae3f3b-1f0a-4f58-c212-55226a4da93e",
        "colab": {
          "base_uri": "https://localhost:8080/",
          "height": 1000
        }
      },
      "source": [
        "iris = datasets.load_iris() \n",
        "features = iris.data \n",
        "target = iris.target\n",
        "\n",
        "print(features)\n",
        "print(target)"
      ],
      "execution_count": 2,
      "outputs": [
        {
          "output_type": "stream",
          "text": [
            "[[5.1 3.5 1.4 0.2]\n",
            " [4.9 3.  1.4 0.2]\n",
            " [4.7 3.2 1.3 0.2]\n",
            " [4.6 3.1 1.5 0.2]\n",
            " [5.  3.6 1.4 0.2]\n",
            " [5.4 3.9 1.7 0.4]\n",
            " [4.6 3.4 1.4 0.3]\n",
            " [5.  3.4 1.5 0.2]\n",
            " [4.4 2.9 1.4 0.2]\n",
            " [4.9 3.1 1.5 0.1]\n",
            " [5.4 3.7 1.5 0.2]\n",
            " [4.8 3.4 1.6 0.2]\n",
            " [4.8 3.  1.4 0.1]\n",
            " [4.3 3.  1.1 0.1]\n",
            " [5.8 4.  1.2 0.2]\n",
            " [5.7 4.4 1.5 0.4]\n",
            " [5.4 3.9 1.3 0.4]\n",
            " [5.1 3.5 1.4 0.3]\n",
            " [5.7 3.8 1.7 0.3]\n",
            " [5.1 3.8 1.5 0.3]\n",
            " [5.4 3.4 1.7 0.2]\n",
            " [5.1 3.7 1.5 0.4]\n",
            " [4.6 3.6 1.  0.2]\n",
            " [5.1 3.3 1.7 0.5]\n",
            " [4.8 3.4 1.9 0.2]\n",
            " [5.  3.  1.6 0.2]\n",
            " [5.  3.4 1.6 0.4]\n",
            " [5.2 3.5 1.5 0.2]\n",
            " [5.2 3.4 1.4 0.2]\n",
            " [4.7 3.2 1.6 0.2]\n",
            " [4.8 3.1 1.6 0.2]\n",
            " [5.4 3.4 1.5 0.4]\n",
            " [5.2 4.1 1.5 0.1]\n",
            " [5.5 4.2 1.4 0.2]\n",
            " [4.9 3.1 1.5 0.2]\n",
            " [5.  3.2 1.2 0.2]\n",
            " [5.5 3.5 1.3 0.2]\n",
            " [4.9 3.6 1.4 0.1]\n",
            " [4.4 3.  1.3 0.2]\n",
            " [5.1 3.4 1.5 0.2]\n",
            " [5.  3.5 1.3 0.3]\n",
            " [4.5 2.3 1.3 0.3]\n",
            " [4.4 3.2 1.3 0.2]\n",
            " [5.  3.5 1.6 0.6]\n",
            " [5.1 3.8 1.9 0.4]\n",
            " [4.8 3.  1.4 0.3]\n",
            " [5.1 3.8 1.6 0.2]\n",
            " [4.6 3.2 1.4 0.2]\n",
            " [5.3 3.7 1.5 0.2]\n",
            " [5.  3.3 1.4 0.2]\n",
            " [7.  3.2 4.7 1.4]\n",
            " [6.4 3.2 4.5 1.5]\n",
            " [6.9 3.1 4.9 1.5]\n",
            " [5.5 2.3 4.  1.3]\n",
            " [6.5 2.8 4.6 1.5]\n",
            " [5.7 2.8 4.5 1.3]\n",
            " [6.3 3.3 4.7 1.6]\n",
            " [4.9 2.4 3.3 1. ]\n",
            " [6.6 2.9 4.6 1.3]\n",
            " [5.2 2.7 3.9 1.4]\n",
            " [5.  2.  3.5 1. ]\n",
            " [5.9 3.  4.2 1.5]\n",
            " [6.  2.2 4.  1. ]\n",
            " [6.1 2.9 4.7 1.4]\n",
            " [5.6 2.9 3.6 1.3]\n",
            " [6.7 3.1 4.4 1.4]\n",
            " [5.6 3.  4.5 1.5]\n",
            " [5.8 2.7 4.1 1. ]\n",
            " [6.2 2.2 4.5 1.5]\n",
            " [5.6 2.5 3.9 1.1]\n",
            " [5.9 3.2 4.8 1.8]\n",
            " [6.1 2.8 4.  1.3]\n",
            " [6.3 2.5 4.9 1.5]\n",
            " [6.1 2.8 4.7 1.2]\n",
            " [6.4 2.9 4.3 1.3]\n",
            " [6.6 3.  4.4 1.4]\n",
            " [6.8 2.8 4.8 1.4]\n",
            " [6.7 3.  5.  1.7]\n",
            " [6.  2.9 4.5 1.5]\n",
            " [5.7 2.6 3.5 1. ]\n",
            " [5.5 2.4 3.8 1.1]\n",
            " [5.5 2.4 3.7 1. ]\n",
            " [5.8 2.7 3.9 1.2]\n",
            " [6.  2.7 5.1 1.6]\n",
            " [5.4 3.  4.5 1.5]\n",
            " [6.  3.4 4.5 1.6]\n",
            " [6.7 3.1 4.7 1.5]\n",
            " [6.3 2.3 4.4 1.3]\n",
            " [5.6 3.  4.1 1.3]\n",
            " [5.5 2.5 4.  1.3]\n",
            " [5.5 2.6 4.4 1.2]\n",
            " [6.1 3.  4.6 1.4]\n",
            " [5.8 2.6 4.  1.2]\n",
            " [5.  2.3 3.3 1. ]\n",
            " [5.6 2.7 4.2 1.3]\n",
            " [5.7 3.  4.2 1.2]\n",
            " [5.7 2.9 4.2 1.3]\n",
            " [6.2 2.9 4.3 1.3]\n",
            " [5.1 2.5 3.  1.1]\n",
            " [5.7 2.8 4.1 1.3]\n",
            " [6.3 3.3 6.  2.5]\n",
            " [5.8 2.7 5.1 1.9]\n",
            " [7.1 3.  5.9 2.1]\n",
            " [6.3 2.9 5.6 1.8]\n",
            " [6.5 3.  5.8 2.2]\n",
            " [7.6 3.  6.6 2.1]\n",
            " [4.9 2.5 4.5 1.7]\n",
            " [7.3 2.9 6.3 1.8]\n",
            " [6.7 2.5 5.8 1.8]\n",
            " [7.2 3.6 6.1 2.5]\n",
            " [6.5 3.2 5.1 2. ]\n",
            " [6.4 2.7 5.3 1.9]\n",
            " [6.8 3.  5.5 2.1]\n",
            " [5.7 2.5 5.  2. ]\n",
            " [5.8 2.8 5.1 2.4]\n",
            " [6.4 3.2 5.3 2.3]\n",
            " [6.5 3.  5.5 1.8]\n",
            " [7.7 3.8 6.7 2.2]\n",
            " [7.7 2.6 6.9 2.3]\n",
            " [6.  2.2 5.  1.5]\n",
            " [6.9 3.2 5.7 2.3]\n",
            " [5.6 2.8 4.9 2. ]\n",
            " [7.7 2.8 6.7 2. ]\n",
            " [6.3 2.7 4.9 1.8]\n",
            " [6.7 3.3 5.7 2.1]\n",
            " [7.2 3.2 6.  1.8]\n",
            " [6.2 2.8 4.8 1.8]\n",
            " [6.1 3.  4.9 1.8]\n",
            " [6.4 2.8 5.6 2.1]\n",
            " [7.2 3.  5.8 1.6]\n",
            " [7.4 2.8 6.1 1.9]\n",
            " [7.9 3.8 6.4 2. ]\n",
            " [6.4 2.8 5.6 2.2]\n",
            " [6.3 2.8 5.1 1.5]\n",
            " [6.1 2.6 5.6 1.4]\n",
            " [7.7 3.  6.1 2.3]\n",
            " [6.3 3.4 5.6 2.4]\n",
            " [6.4 3.1 5.5 1.8]\n",
            " [6.  3.  4.8 1.8]\n",
            " [6.9 3.1 5.4 2.1]\n",
            " [6.7 3.1 5.6 2.4]\n",
            " [6.9 3.1 5.1 2.3]\n",
            " [5.8 2.7 5.1 1.9]\n",
            " [6.8 3.2 5.9 2.3]\n",
            " [6.7 3.3 5.7 2.5]\n",
            " [6.7 3.  5.2 2.3]\n",
            " [6.3 2.5 5.  1.9]\n",
            " [6.5 3.  5.2 2. ]\n",
            " [6.2 3.4 5.4 2.3]\n",
            " [5.9 3.  5.1 1.8]]\n",
            "[0 0 0 0 0 0 0 0 0 0 0 0 0 0 0 0 0 0 0 0 0 0 0 0 0 0 0 0 0 0 0 0 0 0 0 0 0\n",
            " 0 0 0 0 0 0 0 0 0 0 0 0 0 1 1 1 1 1 1 1 1 1 1 1 1 1 1 1 1 1 1 1 1 1 1 1 1\n",
            " 1 1 1 1 1 1 1 1 1 1 1 1 1 1 1 1 1 1 1 1 1 1 1 1 1 1 2 2 2 2 2 2 2 2 2 2 2\n",
            " 2 2 2 2 2 2 2 2 2 2 2 2 2 2 2 2 2 2 2 2 2 2 2 2 2 2 2 2 2 2 2 2 2 2 2 2 2\n",
            " 2 2]\n"
          ],
          "name": "stdout"
        }
      ]
    },
    {
      "cell_type": "code",
      "metadata": {
        "id": "s4CVndExXrEc"
      },
      "source": [
        "decisiontree = DecisionTreeClassifier() "
      ],
      "execution_count": 3,
      "outputs": []
    },
    {
      "cell_type": "code",
      "metadata": {
        "id": "rFjD5u4vXrG_"
      },
      "source": [
        "model = decisiontree.fit(features, target)"
      ],
      "execution_count": 4,
      "outputs": []
    },
    {
      "cell_type": "code",
      "metadata": {
        "id": "mDiRxr8oXrJT",
        "outputId": "26d4b027-104f-4499-cf3e-41ac95dcb922",
        "colab": {
          "base_uri": "https://localhost:8080/",
          "height": 34
        }
      },
      "source": [
        " # Predict observation's class\n",
        "observation = [[ 5, 4, 3, 2]]\n",
        "model.predict(observation)\n",
        "model.predict_proba(observation)"
      ],
      "execution_count": 5,
      "outputs": [
        {
          "output_type": "execute_result",
          "data": {
            "text/plain": [
              "array([[0., 1., 0.]])"
            ]
          },
          "metadata": {
            "tags": []
          },
          "execution_count": 5
        }
      ]
    },
    {
      "cell_type": "code",
      "metadata": {
        "id": "thdzINE2XrLf"
      },
      "source": [
        "from sklearn import tree\n",
        "\n",
        "dot_data = tree.export_graphviz(decisiontree, out_file=None,\n",
        "feature_names=iris.feature_names, \n",
        "class_names=iris.target_names\n",
        ")"
      ],
      "execution_count": 6,
      "outputs": []
    },
    {
      "cell_type": "code",
      "metadata": {
        "id": "whHwfMCFXrNn",
        "outputId": "a683fd56-e925-4180-e374-24a56b88b225",
        "colab": {
          "base_uri": "https://localhost:8080/",
          "height": 895
        }
      },
      "source": [
        "from IPython.display import Image\n",
        "\n",
        "graph = pydotplus.graph_from_dot_data(dot_data) # Show graph\n",
        "\n",
        "Image(graph.create_png()) "
      ],
      "execution_count": 7,
      "outputs": [
        {
          "output_type": "execute_result",
          "data": {
            "image/png": "[encoded data removed]",
            "text/plain": [
              "<IPython.core.display.Image object>"
            ]
          },
          "metadata": {
            "tags": []
          },
          "execution_count": 7
        }
      ]
    },
    {
      "cell_type": "markdown",
      "metadata": {
        "id": "h-IILKWUY_8_"
      },
      "source": [
        "##example-2"
      ]
    },
    {
      "cell_type": "code",
      "metadata": {
        "id": "Rbuk8aiHXrPz"
      },
      "source": [
        "#example-2\n",
        "import numpy as np\n",
        "import pandas as pd\n",
        "import matplotlib.pyplot as plt\n",
        "\n",
        "#Loading the dataset\n",
        "df = pd.read_csv('Salary_Data-2.csv').values\n",
        "#Specify dependent and independent veraibles\n",
        "x = df[:, :-1]   #last coloumn is left behind.\n",
        "y = df[:, -1]"
      ],
      "execution_count": 9,
      "outputs": []
    },
    {
      "cell_type": "code",
      "metadata": {
        "id": "ecG_ql4VXrSA",
        "outputId": "399e1673-c7c0-4281-9734-f209a6b236bb",
        "colab": {
          "base_uri": "https://localhost:8080/",
          "height": 588
        }
      },
      "source": [
        "print(x)\n",
        "print(y)"
      ],
      "execution_count": 10,
      "outputs": [
        {
          "output_type": "stream",
          "text": [
            "[[ 1.1]\n",
            " [ 1.3]\n",
            " [ 1.5]\n",
            " [ 2. ]\n",
            " [ 2.2]\n",
            " [ 2.9]\n",
            " [ 3. ]\n",
            " [ 3.2]\n",
            " [ 3.2]\n",
            " [ 3.7]\n",
            " [ 3.9]\n",
            " [ 4. ]\n",
            " [ 4. ]\n",
            " [ 4.1]\n",
            " [ 4.5]\n",
            " [ 4.9]\n",
            " [ 5.1]\n",
            " [ 5.3]\n",
            " [ 5.9]\n",
            " [ 6. ]\n",
            " [ 6.8]\n",
            " [ 7.1]\n",
            " [ 7.9]\n",
            " [ 8.2]\n",
            " [ 8.7]\n",
            " [ 9. ]\n",
            " [ 9.5]\n",
            " [ 9.6]\n",
            " [10.3]\n",
            " [10.5]]\n",
            "[ 39343.  46205.  37731.  43525.  39891.  56642.  60150.  54445.  64445.\n",
            "  57189.  63218.  55794.  56957.  57081.  61111.  67938.  66029.  83088.\n",
            "  81363.  93940.  91738.  98273. 101302. 113812. 109431. 105582. 116969.\n",
            " 112635. 122391. 121872.]\n"
          ],
          "name": "stdout"
        }
      ]
    },
    {
      "cell_type": "code",
      "metadata": {
        "id": "voiCNDWGXrUV",
        "outputId": "89d50e56-f637-43ff-878c-7a0e65c0289d",
        "colab": {
          "base_uri": "https://localhost:8080/",
          "height": 282
        }
      },
      "source": [
        "#scattering\n",
        "plt.scatter(x,y)\n"
      ],
      "execution_count": 11,
      "outputs": [
        {
          "output_type": "execute_result",
          "data": {
            "text/plain": [
              "<matplotlib.collections.PathCollection at 0x7fe5c5db8b70>"
            ]
          },
          "metadata": {
            "tags": []
          },
          "execution_count": 11
        },
        {
          "output_type": "display_data",
          "data": {
            "image/png": "[encoded data removed]",
            "text/plain": [
              "<Figure size 432x288 with 1 Axes>"
            ]
          },
          "metadata": {
            "tags": [],
            "needs_background": "light"
          }
        }
      ]
    },
    {
      "cell_type": "code",
      "metadata": {
        "id": "7C2E2evMXrWp"
      },
      "source": [
        "# Importing decision tree class\n",
        "from sklearn.tree import DecisionTreeRegressor"
      ],
      "execution_count": 12,
      "outputs": []
    },
    {
      "cell_type": "code",
      "metadata": {
        "id": "h9p2E5NTYcK0"
      },
      "source": [
        "#1 Create decision tree object\n",
        "model=DecisionTreeRegressor(max_depth=100)"
      ],
      "execution_count": 13,
      "outputs": []
    },
    {
      "cell_type": "code",
      "metadata": {
        "id": "CByT-FoWYcNJ",
        "outputId": "9beb4345-9253-4a17-e3b9-f11b4e7f32f0",
        "colab": {
          "base_uri": "https://localhost:8080/",
          "height": 118
        }
      },
      "source": [
        "#2 Train the model using the training sets\n",
        "model.fit(x,y)"
      ],
      "execution_count": 14,
      "outputs": [
        {
          "output_type": "execute_result",
          "data": {
            "text/plain": [
              "DecisionTreeRegressor(ccp_alpha=0.0, criterion='mse', max_depth=100,\n",
              "                      max_features=None, max_leaf_nodes=None,\n",
              "                      min_impurity_decrease=0.0, min_impurity_split=None,\n",
              "                      min_samples_leaf=1, min_samples_split=2,\n",
              "                      min_weight_fraction_leaf=0.0, presort='deprecated',\n",
              "                      random_state=None, splitter='best')"
            ]
          },
          "metadata": {
            "tags": []
          },
          "execution_count": 14
        }
      ]
    },
    {
      "cell_type": "code",
      "metadata": {
        "id": "iel7f6dvYcPb",
        "outputId": "d19b804f-1940-4236-e204-724448150d3d",
        "colab": {
          "base_uri": "https://localhost:8080/",
          "height": 84
        }
      },
      "source": [
        "#Predicting the Test Set Results\n",
        "y_pred=model.predict(x)              #we can predict the salary of 7.5yrs\n",
        "print(y_pred)"
      ],
      "execution_count": 15,
      "outputs": [
        {
          "output_type": "stream",
          "text": [
            "[ 39343.   46205.   37731.   43525.   39891.   56642.   60150.   59445.\n",
            "  59445.   57189.   63218.   56375.5  56375.5  57081.   61111.   67938.\n",
            "  66029.   83088.   81363.   93940.   91738.   98273.  101302.  113812.\n",
            " 109431.  105582.  116969.  112635.  122391.  121872. ]\n"
          ],
          "name": "stdout"
        }
      ]
    },
    {
      "cell_type": "code",
      "metadata": {
        "id": "oFAmxKbHYcRx",
        "outputId": "c0d2dc38-4188-49d1-e715-2dfa0a647acf",
        "colab": {
          "base_uri": "https://localhost:8080/",
          "height": 1000
        }
      },
      "source": [
        "#For high resolution\n",
        "x_grid=np.arange(min (x),max (x),0.01).reshape(-1,1)\n",
        "y_pred=model.predict(x_grid)\n",
        "y_pred"
      ],
      "execution_count": 16,
      "outputs": [
        {
          "output_type": "execute_result",
          "data": {
            "text/plain": [
              "array([ 39343. ,  39343. ,  39343. ,  39343. ,  39343. ,  39343. ,\n",
              "        39343. ,  39343. ,  39343. ,  39343. ,  46205. ,  46205. ,\n",
              "        46205. ,  46205. ,  46205. ,  46205. ,  46205. ,  46205. ,\n",
              "        46205. ,  46205. ,  46205. ,  46205. ,  46205. ,  46205. ,\n",
              "        46205. ,  46205. ,  46205. ,  46205. ,  46205. ,  46205. ,\n",
              "        46205. ,  37731. ,  37731. ,  37731. ,  37731. ,  37731. ,\n",
              "        37731. ,  37731. ,  37731. ,  37731. ,  37731. ,  37731. ,\n",
              "        37731. ,  37731. ,  37731. ,  37731. ,  37731. ,  37731. ,\n",
              "        37731. ,  37731. ,  37731. ,  37731. ,  37731. ,  37731. ,\n",
              "        37731. ,  37731. ,  37731. ,  37731. ,  37731. ,  37731. ,\n",
              "        37731. ,  37731. ,  37731. ,  37731. ,  37731. ,  37731. ,\n",
              "        43525. ,  43525. ,  43525. ,  43525. ,  43525. ,  43525. ,\n",
              "        43525. ,  43525. ,  43525. ,  43525. ,  43525. ,  43525. ,\n",
              "        43525. ,  43525. ,  43525. ,  43525. ,  43525. ,  43525. ,\n",
              "        43525. ,  43525. ,  43525. ,  43525. ,  43525. ,  43525. ,\n",
              "        43525. ,  43525. ,  43525. ,  43525. ,  43525. ,  43525. ,\n",
              "        43525. ,  43525. ,  43525. ,  43525. ,  43525. ,  39891. ,\n",
              "        39891. ,  39891. ,  39891. ,  39891. ,  39891. ,  39891. ,\n",
              "        39891. ,  39891. ,  39891. ,  39891. ,  39891. ,  39891. ,\n",
              "        39891. ,  39891. ,  39891. ,  39891. ,  39891. ,  39891. ,\n",
              "        39891. ,  39891. ,  39891. ,  39891. ,  39891. ,  39891. ,\n",
              "        39891. ,  39891. ,  39891. ,  39891. ,  39891. ,  39891. ,\n",
              "        39891. ,  39891. ,  39891. ,  39891. ,  39891. ,  39891. ,\n",
              "        39891. ,  39891. ,  39891. ,  39891. ,  39891. ,  39891. ,\n",
              "        39891. ,  39891. ,  56642. ,  56642. ,  56642. ,  56642. ,\n",
              "        56642. ,  56642. ,  56642. ,  56642. ,  56642. ,  56642. ,\n",
              "        56642. ,  56642. ,  56642. ,  56642. ,  56642. ,  56642. ,\n",
              "        56642. ,  56642. ,  56642. ,  56642. ,  56642. ,  56642. ,\n",
              "        56642. ,  56642. ,  56642. ,  56642. ,  56642. ,  56642. ,\n",
              "        56642. ,  56642. ,  56642. ,  56642. ,  56642. ,  56642. ,\n",
              "        56642. ,  56642. ,  56642. ,  56642. ,  56642. ,  56642. ,\n",
              "        60150. ,  60150. ,  60150. ,  60150. ,  60150. ,  60150. ,\n",
              "        60150. ,  60150. ,  60150. ,  60150. ,  60150. ,  60150. ,\n",
              "        60150. ,  60150. ,  60150. ,  59445. ,  59445. ,  59445. ,\n",
              "        59445. ,  59445. ,  59445. ,  59445. ,  59445. ,  59445. ,\n",
              "        59445. ,  59445. ,  59445. ,  59445. ,  59445. ,  59445. ,\n",
              "        59445. ,  59445. ,  59445. ,  59445. ,  59445. ,  59445. ,\n",
              "        59445. ,  59445. ,  59445. ,  59445. ,  59445. ,  59445. ,\n",
              "        59445. ,  59445. ,  59445. ,  59445. ,  59445. ,  59445. ,\n",
              "        59445. ,  59445. ,  57189. ,  57189. ,  57189. ,  57189. ,\n",
              "        57189. ,  57189. ,  57189. ,  57189. ,  57189. ,  57189. ,\n",
              "        57189. ,  57189. ,  57189. ,  57189. ,  57189. ,  57189. ,\n",
              "        57189. ,  57189. ,  57189. ,  57189. ,  57189. ,  57189. ,\n",
              "        57189. ,  57189. ,  57189. ,  57189. ,  57189. ,  57189. ,\n",
              "        57189. ,  57189. ,  57189. ,  57189. ,  57189. ,  57189. ,\n",
              "        57189. ,  63218. ,  63218. ,  63218. ,  63218. ,  63218. ,\n",
              "        63218. ,  63218. ,  63218. ,  63218. ,  63218. ,  63218. ,\n",
              "        63218. ,  63218. ,  63218. ,  63218. ,  56375.5,  56375.5,\n",
              "        56375.5,  56375.5,  56375.5,  56375.5,  56375.5,  56375.5,\n",
              "        56375.5,  57081. ,  57081. ,  57081. ,  57081. ,  57081. ,\n",
              "        57081. ,  57081. ,  57081. ,  57081. ,  57081. ,  57081. ,\n",
              "        57081. ,  57081. ,  57081. ,  57081. ,  57081. ,  57081. ,\n",
              "        57081. ,  57081. ,  57081. ,  57081. ,  57081. ,  57081. ,\n",
              "        57081. ,  57081. ,  61111. ,  61111. ,  61111. ,  61111. ,\n",
              "        61111. ,  61111. ,  61111. ,  61111. ,  61111. ,  61111. ,\n",
              "        61111. ,  61111. ,  61111. ,  61111. ,  61111. ,  61111. ,\n",
              "        61111. ,  61111. ,  61111. ,  61111. ,  61111. ,  61111. ,\n",
              "        61111. ,  61111. ,  61111. ,  61111. ,  61111. ,  61111. ,\n",
              "        61111. ,  61111. ,  61111. ,  61111. ,  61111. ,  61111. ,\n",
              "        61111. ,  61111. ,  61111. ,  61111. ,  61111. ,  61111. ,\n",
              "        61111. ,  67938. ,  67938. ,  67938. ,  67938. ,  67938. ,\n",
              "        67938. ,  67938. ,  67938. ,  67938. ,  67938. ,  67938. ,\n",
              "        67938. ,  67938. ,  67938. ,  67938. ,  67938. ,  67938. ,\n",
              "        67938. ,  67938. ,  67938. ,  67938. ,  67938. ,  67938. ,\n",
              "        67938. ,  67938. ,  67938. ,  67938. ,  67938. ,  67938. ,\n",
              "        67938. ,  66029. ,  66029. ,  66029. ,  66029. ,  66029. ,\n",
              "        66029. ,  66029. ,  66029. ,  66029. ,  66029. ,  66029. ,\n",
              "        66029. ,  66029. ,  66029. ,  66029. ,  66029. ,  66029. ,\n",
              "        66029. ,  66029. ,  66029. ,  83088. ,  83088. ,  83088. ,\n",
              "        83088. ,  83088. ,  83088. ,  83088. ,  83088. ,  83088. ,\n",
              "        83088. ,  83088. ,  83088. ,  83088. ,  83088. ,  83088. ,\n",
              "        83088. ,  83088. ,  83088. ,  83088. ,  83088. ,  83088. ,\n",
              "        83088. ,  83088. ,  83088. ,  83088. ,  83088. ,  83088. ,\n",
              "        83088. ,  83088. ,  83088. ,  83088. ,  83088. ,  83088. ,\n",
              "        83088. ,  83088. ,  83088. ,  83088. ,  83088. ,  83088. ,\n",
              "        83088. ,  81363. ,  81363. ,  81363. ,  81363. ,  81363. ,\n",
              "        81363. ,  81363. ,  81363. ,  81363. ,  81363. ,  81363. ,\n",
              "        81363. ,  81363. ,  81363. ,  81363. ,  81363. ,  81363. ,\n",
              "        81363. ,  81363. ,  81363. ,  81363. ,  81363. ,  81363. ,\n",
              "        81363. ,  81363. ,  81363. ,  81363. ,  81363. ,  81363. ,\n",
              "        81363. ,  81363. ,  81363. ,  81363. ,  81363. ,  81363. ,\n",
              "        93940. ,  93940. ,  93940. ,  93940. ,  93940. ,  93940. ,\n",
              "        93940. ,  93940. ,  93940. ,  93940. ,  93940. ,  93940. ,\n",
              "        93940. ,  93940. ,  93940. ,  93940. ,  93940. ,  93940. ,\n",
              "        93940. ,  93940. ,  93940. ,  93940. ,  93940. ,  93940. ,\n",
              "        93940. ,  93940. ,  93940. ,  93940. ,  93940. ,  93940. ,\n",
              "        93940. ,  93940. ,  93940. ,  93940. ,  93940. ,  93940. ,\n",
              "        93940. ,  93940. ,  93940. ,  93940. ,  93940. ,  93940. ,\n",
              "        93940. ,  93940. ,  93940. ,  91738. ,  91738. ,  91738. ,\n",
              "        91738. ,  91738. ,  91738. ,  91738. ,  91738. ,  91738. ,\n",
              "        91738. ,  91738. ,  91738. ,  91738. ,  91738. ,  91738. ,\n",
              "        91738. ,  91738. ,  91738. ,  91738. ,  91738. ,  91738. ,\n",
              "        91738. ,  91738. ,  91738. ,  91738. ,  91738. ,  91738. ,\n",
              "        91738. ,  91738. ,  91738. ,  91738. ,  91738. ,  91738. ,\n",
              "        91738. ,  91738. ,  91738. ,  91738. ,  91738. ,  91738. ,\n",
              "        91738. ,  91738. ,  91738. ,  91738. ,  91738. ,  91738. ,\n",
              "        91738. ,  91738. ,  91738. ,  91738. ,  91738. ,  91738. ,\n",
              "        91738. ,  91738. ,  91738. ,  91738. ,  98273. ,  98273. ,\n",
              "        98273. ,  98273. ,  98273. ,  98273. ,  98273. ,  98273. ,\n",
              "        98273. ,  98273. ,  98273. ,  98273. ,  98273. ,  98273. ,\n",
              "        98273. ,  98273. ,  98273. ,  98273. ,  98273. ,  98273. ,\n",
              "        98273. ,  98273. ,  98273. ,  98273. ,  98273. ,  98273. ,\n",
              "        98273. ,  98273. ,  98273. ,  98273. ,  98273. ,  98273. ,\n",
              "        98273. ,  98273. ,  98273. ,  98273. ,  98273. ,  98273. ,\n",
              "        98273. ,  98273. ,  98273. ,  98273. ,  98273. ,  98273. ,\n",
              "        98273. ,  98273. ,  98273. ,  98273. ,  98273. ,  98273. ,\n",
              "        98273. ,  98273. ,  98273. ,  98273. ,  98273. , 101302. ,\n",
              "       101302. , 101302. , 101302. , 101302. , 101302. , 101302. ,\n",
              "       101302. , 101302. , 101302. , 101302. , 101302. , 101302. ,\n",
              "       101302. , 101302. , 101302. , 101302. , 101302. , 101302. ,\n",
              "       101302. , 101302. , 101302. , 101302. , 101302. , 101302. ,\n",
              "       101302. , 101302. , 101302. , 101302. , 101302. , 101302. ,\n",
              "       101302. , 101302. , 101302. , 101302. , 101302. , 101302. ,\n",
              "       101302. , 101302. , 101302. , 101302. , 101302. , 101302. ,\n",
              "       101302. , 101302. , 101302. , 101302. , 101302. , 101302. ,\n",
              "       101302. , 101302. , 101302. , 101302. , 101302. , 113812. ,\n",
              "       113812. , 113812. , 113812. , 113812. , 113812. , 113812. ,\n",
              "       113812. , 113812. , 113812. , 113812. , 113812. , 113812. ,\n",
              "       113812. , 113812. , 113812. , 113812. , 113812. , 113812. ,\n",
              "       113812. , 113812. , 113812. , 113812. , 113812. , 113812. ,\n",
              "       113812. , 113812. , 113812. , 113812. , 113812. , 113812. ,\n",
              "       113812. , 113812. , 113812. , 113812. , 113812. , 113812. ,\n",
              "       113812. , 113812. , 113812. , 113812. , 109431. , 109431. ,\n",
              "       109431. , 109431. , 109431. , 109431. , 109431. , 109431. ,\n",
              "       109431. , 109431. , 109431. , 109431. , 109431. , 109431. ,\n",
              "       109431. , 109431. , 109431. , 109431. , 109431. , 109431. ,\n",
              "       109431. , 109431. , 109431. , 109431. , 109431. , 109431. ,\n",
              "       109431. , 109431. , 109431. , 109431. , 109431. , 109431. ,\n",
              "       109431. , 109431. , 109431. , 109431. , 109431. , 109431. ,\n",
              "       109431. , 105582. , 105582. , 105582. , 105582. , 105582. ,\n",
              "       105582. , 105582. , 105582. , 105582. , 105582. , 105582. ,\n",
              "       105582. , 105582. , 105582. , 105582. , 105582. , 105582. ,\n",
              "       105582. , 105582. , 105582. , 105582. , 105582. , 105582. ,\n",
              "       105582. , 105582. , 105582. , 105582. , 105582. , 105582. ,\n",
              "       105582. , 105582. , 105582. , 105582. , 105582. , 105582. ,\n",
              "       105582. , 105582. , 105582. , 105582. , 105582. , 105582. ,\n",
              "       116969. , 116969. , 116969. , 116969. , 116969. , 116969. ,\n",
              "       116969. , 116969. , 116969. , 116969. , 116969. , 116969. ,\n",
              "       116969. , 116969. , 116969. , 116969. , 116969. , 116969. ,\n",
              "       116969. , 116969. , 116969. , 116969. , 116969. , 116969. ,\n",
              "       116969. , 116969. , 116969. , 116969. , 116969. , 116969. ,\n",
              "       112635. , 112635. , 112635. , 112635. , 112635. , 112635. ,\n",
              "       112635. , 112635. , 112635. , 112635. , 112635. , 112635. ,\n",
              "       112635. , 112635. , 112635. , 112635. , 112635. , 112635. ,\n",
              "       112635. , 112635. , 112635. , 112635. , 112635. , 112635. ,\n",
              "       112635. , 112635. , 112635. , 112635. , 112635. , 112635. ,\n",
              "       112635. , 112635. , 112635. , 112635. , 112635. , 112635. ,\n",
              "       112635. , 112635. , 112635. , 112635. , 122391. , 122391. ,\n",
              "       122391. , 122391. , 122391. , 122391. , 122391. , 122391. ,\n",
              "       122391. , 122391. , 122391. , 122391. , 122391. , 122391. ,\n",
              "       122391. , 122391. , 122391. , 122391. , 122391. , 122391. ,\n",
              "       122391. , 122391. , 122391. , 122391. , 122391. , 122391. ,\n",
              "       122391. , 122391. , 122391. , 122391. , 122391. , 122391. ,\n",
              "       122391. , 122391. , 122391. , 122391. , 122391. , 122391. ,\n",
              "       122391. , 122391. , 122391. , 122391. , 122391. , 122391. ,\n",
              "       122391. , 121872. , 121872. , 121872. , 121872. , 121872. ,\n",
              "       121872. , 121872. , 121872. , 121872. ])"
            ]
          },
          "metadata": {
            "tags": []
          },
          "execution_count": 16
        }
      ]
    },
    {
      "cell_type": "code",
      "metadata": {
        "id": "stWHMmw-YcT8",
        "outputId": "1397f0c9-1d9c-4d27-9014-1d905a136708",
        "colab": {
          "base_uri": "https://localhost:8080/",
          "height": 282
        }
      },
      "source": [
        "#scattering\n",
        "plt.scatter(x,y)\n",
        "\n",
        "#plt.scatter(X_test, y_test, color='red')\n",
        "plt.plot(x_grid,y_pred,color='red')\n",
        "\n"
      ],
      "execution_count": 17,
      "outputs": [
        {
          "output_type": "execute_result",
          "data": {
            "text/plain": [
              "[<matplotlib.lines.Line2D at 0x7fe5c5e2d048>]"
            ]
          },
          "metadata": {
            "tags": []
          },
          "execution_count": 17
        },
        {
          "output_type": "display_data",
          "data": {
            "image/png": "[encoded data removed]",
            "text/plain": [
              "<Figure size 432x288 with 1 Axes>"
            ]
          },
          "metadata": {
            "tags": [],
            "needs_background": "light"
          }
        }
      ]
    },
    {
      "cell_type": "code",
      "metadata": {
        "id": "kJw6QNLxYcWK",
        "outputId": "60dbea4c-9dee-476f-eb7a-06f0da6265d7",
        "colab": {
          "base_uri": "https://localhost:8080/",
          "height": 34
        }
      },
      "source": [
        "y_pred.shape"
      ],
      "execution_count": 18,
      "outputs": [
        {
          "output_type": "execute_result",
          "data": {
            "text/plain": [
              "(940,)"
            ]
          },
          "metadata": {
            "tags": []
          },
          "execution_count": 18
        }
      ]
    },
    {
      "cell_type": "markdown",
      "metadata": {
        "id": "gA8_Coj-Y642"
      },
      "source": [
        "##example-3"
      ]
    },
    {
      "cell_type": "code",
      "metadata": {
        "id": "E193EXrrYcYy",
        "outputId": "0edd759b-fe36-4d25-f412-5159e3441b8f",
        "colab": {
          "base_uri": "https://localhost:8080/",
          "height": 286
        }
      },
      "source": [
        "#example-3\n",
        "import numpy as np\n",
        "import pandas as pd\n",
        "import matplotlib.pyplot as plt\n",
        "\n",
        "#Loading the dataset\n",
        "df = pd.read_csv('gunpowder.csv').values\n",
        "#Specify dependent and independent veraibles\n",
        "x = df[:, :-1]   #last coloumn is left behind.\n",
        "y = df[:, -1]\n",
        "\n",
        "df"
      ],
      "execution_count": 19,
      "outputs": [
        {
          "output_type": "execute_result",
          "data": {
            "text/plain": [
              "array([[  78. ,   99. ],\n",
              "       [ 117. ,  124. ],\n",
              "       [ 156. ,  207.7],\n",
              "       [ 195. ,  304.8],\n",
              "       [ 234. ,  372.4],\n",
              "       [ 273. ,  440.9],\n",
              "       [ 312. ,  632.7],\n",
              "       [ 351. ,  842.6],\n",
              "       [ 390. , 1023.5],\n",
              "       [ 429. , 1205.3],\n",
              "       [ 468. , 1398. ],\n",
              "       [ 507. , 1783.4],\n",
              "       [ 546. , 2177.1],\n",
              "       [ 585. , 2565.2],\n",
              "       [ 624. , 3851.2],\n",
              "       [ 702. , 5962.5]])"
            ]
          },
          "metadata": {
            "tags": []
          },
          "execution_count": 19
        }
      ]
    },
    {
      "cell_type": "code",
      "metadata": {
        "id": "VEhd7Hz2Yca_",
        "outputId": "7f905003-7d47-4a38-ca1f-c04468d20db0",
        "colab": {
          "base_uri": "https://localhost:8080/",
          "height": 319
        }
      },
      "source": [
        "print(x)\n",
        "print(y)"
      ],
      "execution_count": 20,
      "outputs": [
        {
          "output_type": "stream",
          "text": [
            "[[ 78.]\n",
            " [117.]\n",
            " [156.]\n",
            " [195.]\n",
            " [234.]\n",
            " [273.]\n",
            " [312.]\n",
            " [351.]\n",
            " [390.]\n",
            " [429.]\n",
            " [468.]\n",
            " [507.]\n",
            " [546.]\n",
            " [585.]\n",
            " [624.]\n",
            " [702.]]\n",
            "[  99.   124.   207.7  304.8  372.4  440.9  632.7  842.6 1023.5 1205.3\n",
            " 1398.  1783.4 2177.1 2565.2 3851.2 5962.5]\n"
          ],
          "name": "stdout"
        }
      ]
    },
    {
      "cell_type": "code",
      "metadata": {
        "id": "KGO4agmIYcdf",
        "outputId": "153db2b2-8b84-40cf-e4a1-a0bc48cd1093",
        "colab": {
          "base_uri": "https://localhost:8080/",
          "height": 282
        }
      },
      "source": [
        "#scattering\n",
        "plt.scatter(x,y)\n",
        "\n"
      ],
      "execution_count": 21,
      "outputs": [
        {
          "output_type": "execute_result",
          "data": {
            "text/plain": [
              "<matplotlib.collections.PathCollection at 0x7fe5c3f88278>"
            ]
          },
          "metadata": {
            "tags": []
          },
          "execution_count": 21
        },
        {
          "output_type": "display_data",
          "data": {
            "image/png": "[encoded data removed]",
            "text/plain": [
              "<Figure size 432x288 with 1 Axes>"
            ]
          },
          "metadata": {
            "tags": [],
            "needs_background": "light"
          }
        }
      ]
    },
    {
      "cell_type": "code",
      "metadata": {
        "id": "mei3dAvWYcfc"
      },
      "source": [
        "# Importing decision tree class\n",
        "from sklearn.tree import DecisionTreeRegressor\n",
        "\n",
        "#1 Create decision tree object\n",
        "model=DecisionTreeRegressor()"
      ],
      "execution_count": 22,
      "outputs": []
    },
    {
      "cell_type": "code",
      "metadata": {
        "id": "TguuD7gTYchv",
        "outputId": "50b2f672-a5a7-4114-cb29-bbd4edee5dfc",
        "colab": {
          "base_uri": "https://localhost:8080/",
          "height": 118
        }
      },
      "source": [
        "#2 Train the model using the training sets\n",
        "model.fit(x,y)"
      ],
      "execution_count": 23,
      "outputs": [
        {
          "output_type": "execute_result",
          "data": {
            "text/plain": [
              "DecisionTreeRegressor(ccp_alpha=0.0, criterion='mse', max_depth=None,\n",
              "                      max_features=None, max_leaf_nodes=None,\n",
              "                      min_impurity_decrease=0.0, min_impurity_split=None,\n",
              "                      min_samples_leaf=1, min_samples_split=2,\n",
              "                      min_weight_fraction_leaf=0.0, presort='deprecated',\n",
              "                      random_state=None, splitter='best')"
            ]
          },
          "metadata": {
            "tags": []
          },
          "execution_count": 23
        }
      ]
    },
    {
      "cell_type": "code",
      "metadata": {
        "id": "nGN0ISXyYckF",
        "outputId": "2f82e158-eb9e-4ba7-b030-81fe8218f375",
        "colab": {
          "base_uri": "https://localhost:8080/",
          "height": 50
        }
      },
      "source": [
        "#Predicting the Test Set Results\n",
        "y_pred=model.predict(x)\n",
        "print(y_pred)"
      ],
      "execution_count": 24,
      "outputs": [
        {
          "output_type": "stream",
          "text": [
            "[  99.   124.   207.7  304.8  372.4  440.9  632.7  842.6 1023.5 1205.3\n",
            " 1398.  1783.4 2177.1 2565.2 3851.2 5962.5]\n"
          ],
          "name": "stdout"
        }
      ]
    },
    {
      "cell_type": "code",
      "metadata": {
        "id": "USimUx1RYcmZ",
        "outputId": "ba020a94-db2f-4d44-e016-cc7f804c7f60",
        "colab": {
          "base_uri": "https://localhost:8080/",
          "height": 282
        }
      },
      "source": [
        "#Visualising the Training & Test Set Results\n",
        "plt.scatter(x,y)\n",
        "\n",
        "#plt.scatter(X_test, y_test, color='red')\n",
        "plt.plot(x,y_pred,color='red')"
      ],
      "execution_count": 25,
      "outputs": [
        {
          "output_type": "execute_result",
          "data": {
            "text/plain": [
              "[<matplotlib.lines.Line2D at 0x7fe5c3f3d6d8>]"
            ]
          },
          "metadata": {
            "tags": []
          },
          "execution_count": 25
        },
        {
          "output_type": "display_data",
          "data": {
            "image/png": "[encoded data removed]",
            "text/plain": [
              "<Figure size 432x288 with 1 Axes>"
            ]
          },
          "metadata": {
            "tags": [],
            "needs_background": "light"
          }
        }
      ]
    },
    {
      "cell_type": "code",
      "metadata": {
        "id": "qxT_9_VUYcos",
        "outputId": "86eb9c3e-3eff-43e3-b696-84ebac2e3205",
        "colab": {
          "base_uri": "https://localhost:8080/",
          "height": 34
        }
      },
      "source": [
        "#For high resolotuion\n",
        "x_grid=np.arange(min (x),max (x),0.1).reshape(-1,1)\n",
        "y_pred=model.predict(x_grid)\n",
        "y_pred"
      ],
      "execution_count": 26,
      "outputs": [
        {
          "output_type": "execute_result",
          "data": {
            "text/plain": [
              "array([  99. ,   99. ,   99. , ..., 5962.5, 5962.5, 5962.5])"
            ]
          },
          "metadata": {
            "tags": []
          },
          "execution_count": 26
        }
      ]
    },
    {
      "cell_type": "markdown",
      "metadata": {
        "id": "4LwzJm83ZlQW"
      },
      "source": [
        "##example-4"
      ]
    },
    {
      "cell_type": "code",
      "metadata": {
        "id": "NIEnLBg8YcrY"
      },
      "source": [
        "#example-4\n",
        "import pandas as pd\n",
        "import numpy as np\n",
        "import matplotlib.pyplot as plt"
      ],
      "execution_count": 27,
      "outputs": []
    },
    {
      "cell_type": "code",
      "metadata": {
        "id": "IQQLebDOYct6",
        "outputId": "f0069097-6c89-421b-ae97-b0c8685f9340",
        "colab": {
          "base_uri": "https://localhost:8080/",
          "height": 34
        }
      },
      "source": [
        "#Importing the data\n",
        "df =pd.read_csv('Chip_test-1.csv').values\n",
        "df.shape"
      ],
      "execution_count": 28,
      "outputs": [
        {
          "output_type": "execute_result",
          "data": {
            "text/plain": [
              "(118, 3)"
            ]
          },
          "metadata": {
            "tags": []
          },
          "execution_count": 28
        }
      ]
    },
    {
      "cell_type": "code",
      "metadata": {
        "id": "lDXk3bOUYcwM"
      },
      "source": [
        "x= df[:, 0:2 ]\n",
        "y= df[:, -1] "
      ],
      "execution_count": 29,
      "outputs": []
    },
    {
      "cell_type": "code",
      "metadata": {
        "id": "A-loCXPPYcyV",
        "outputId": "07855ce2-5a50-4d03-908a-d932b71b8bf1",
        "colab": {
          "base_uri": "https://localhost:8080/",
          "height": 1000
        }
      },
      "source": [
        "x, y\n"
      ],
      "execution_count": 30,
      "outputs": [
        {
          "output_type": "execute_result",
          "data": {
            "text/plain": [
              "(array([[ 0.051267 ,  0.69956  ],\n",
              "        [-0.092742 ,  0.68494  ],\n",
              "        [-0.21371  ,  0.69225  ],\n",
              "        [-0.375    ,  0.50219  ],\n",
              "        [-0.51325  ,  0.46564  ],\n",
              "        [-0.52477  ,  0.2098   ],\n",
              "        [-0.39804  ,  0.034357 ],\n",
              "        [-0.30588  , -0.19225  ],\n",
              "        [ 0.016705 , -0.40424  ],\n",
              "        [ 0.13191  , -0.51389  ],\n",
              "        [ 0.38537  , -0.56506  ],\n",
              "        [ 0.52938  , -0.5212   ],\n",
              "        [ 0.63882  , -0.24342  ],\n",
              "        [ 0.73675  , -0.18494  ],\n",
              "        [ 0.54666  ,  0.48757  ],\n",
              "        [ 0.322    ,  0.5826   ],\n",
              "        [ 0.16647  ,  0.53874  ],\n",
              "        [-0.046659 ,  0.81652  ],\n",
              "        [-0.17339  ,  0.69956  ],\n",
              "        [-0.47869  ,  0.63377  ],\n",
              "        [-0.60541  ,  0.59722  ],\n",
              "        [-0.62846  ,  0.33406  ],\n",
              "        [-0.59389  ,  0.005117 ],\n",
              "        [-0.42108  , -0.27266  ],\n",
              "        [-0.11578  , -0.39693  ],\n",
              "        [ 0.20104  , -0.60161  ],\n",
              "        [ 0.46601  , -0.53582  ],\n",
              "        [ 0.67339  , -0.53582  ],\n",
              "        [-0.13882  ,  0.54605  ],\n",
              "        [-0.29435  ,  0.77997  ],\n",
              "        [-0.26555  ,  0.96272  ],\n",
              "        [-0.16187  ,  0.8019   ],\n",
              "        [-0.17339  ,  0.64839  ],\n",
              "        [-0.28283  ,  0.47295  ],\n",
              "        [-0.36348  ,  0.31213  ],\n",
              "        [-0.30012  ,  0.027047 ],\n",
              "        [-0.23675  , -0.21418  ],\n",
              "        [-0.06394  , -0.18494  ],\n",
              "        [ 0.062788 , -0.16301  ],\n",
              "        [ 0.22984  , -0.41155  ],\n",
              "        [ 0.2932   , -0.2288   ],\n",
              "        [ 0.48329  , -0.18494  ],\n",
              "        [ 0.64459  , -0.14108  ],\n",
              "        [ 0.46025  ,  0.012427 ],\n",
              "        [ 0.6273   ,  0.15863  ],\n",
              "        [ 0.57546  ,  0.26827  ],\n",
              "        [ 0.72523  ,  0.44371  ],\n",
              "        [ 0.22408  ,  0.52412  ],\n",
              "        [ 0.44297  ,  0.67032  ],\n",
              "        [ 0.322    ,  0.69225  ],\n",
              "        [ 0.13767  ,  0.57529  ],\n",
              "        [-0.0063364,  0.39985  ],\n",
              "        [-0.092742 ,  0.55336  ],\n",
              "        [-0.20795  ,  0.35599  ],\n",
              "        [-0.20795  ,  0.17325  ],\n",
              "        [-0.43836  ,  0.21711  ],\n",
              "        [-0.21947  , -0.016813 ],\n",
              "        [-0.13882  , -0.27266  ],\n",
              "        [ 0.18376  ,  0.93348  ],\n",
              "        [ 0.22408  ,  0.77997  ],\n",
              "        [ 0.29896  ,  0.61915  ],\n",
              "        [ 0.50634  ,  0.75804  ],\n",
              "        [ 0.61578  ,  0.7288   ],\n",
              "        [ 0.60426  ,  0.59722  ],\n",
              "        [ 0.76555  ,  0.50219  ],\n",
              "        [ 0.92684  ,  0.3633   ],\n",
              "        [ 0.82316  ,  0.27558  ],\n",
              "        [ 0.96141  ,  0.085526 ],\n",
              "        [ 0.93836  ,  0.012427 ],\n",
              "        [ 0.86348  , -0.082602 ],\n",
              "        [ 0.89804  , -0.20687  ],\n",
              "        [ 0.85196  , -0.36769  ],\n",
              "        [ 0.82892  , -0.5212   ],\n",
              "        [ 0.79435  , -0.55775  ],\n",
              "        [ 0.59274  , -0.7405   ],\n",
              "        [ 0.51786  , -0.5943   ],\n",
              "        [ 0.46601  , -0.41886  ],\n",
              "        [ 0.35081  , -0.57968  ],\n",
              "        [ 0.28744  , -0.76974  ],\n",
              "        [ 0.085829 , -0.75512  ],\n",
              "        [ 0.14919  , -0.57968  ],\n",
              "        [-0.13306  , -0.4481   ],\n",
              "        [-0.40956  , -0.41155  ],\n",
              "        [-0.39228  , -0.25804  ],\n",
              "        [-0.74366  , -0.25804  ],\n",
              "        [-0.69758  ,  0.041667 ],\n",
              "        [-0.75518  ,  0.2902   ],\n",
              "        [-0.69758  ,  0.68494  ],\n",
              "        [-0.4038   ,  0.70687  ],\n",
              "        [-0.38076  ,  0.91886  ],\n",
              "        [-0.50749  ,  0.90424  ],\n",
              "        [-0.54781  ,  0.70687  ],\n",
              "        [ 0.10311  ,  0.77997  ],\n",
              "        [ 0.057028 ,  0.91886  ],\n",
              "        [-0.10426  ,  0.99196  ],\n",
              "        [-0.081221 ,  1.1089   ],\n",
              "        [ 0.28744  ,  1.087    ],\n",
              "        [ 0.39689  ,  0.82383  ],\n",
              "        [ 0.63882  ,  0.88962  ],\n",
              "        [ 0.82316  ,  0.66301  ],\n",
              "        [ 0.67339  ,  0.64108  ],\n",
              "        [ 1.0709   ,  0.10015  ],\n",
              "        [-0.046659 , -0.57968  ],\n",
              "        [-0.23675  , -0.63816  ],\n",
              "        [-0.15035  , -0.36769  ],\n",
              "        [-0.49021  , -0.3019   ],\n",
              "        [-0.46717  , -0.13377  ],\n",
              "        [-0.28859  , -0.060673 ],\n",
              "        [-0.61118  , -0.067982 ],\n",
              "        [-0.66302  , -0.21418  ],\n",
              "        [-0.59965  , -0.41886  ],\n",
              "        [-0.72638  , -0.082602 ],\n",
              "        [-0.83007  ,  0.31213  ],\n",
              "        [-0.72062  ,  0.53874  ],\n",
              "        [-0.59389  ,  0.49488  ],\n",
              "        [-0.48445  ,  0.99927  ],\n",
              "        [-0.0063364,  0.99927  ],\n",
              "        [ 0.63265  , -0.030612 ]]),\n",
              " array([1., 1., 1., 1., 1., 1., 1., 1., 1., 1., 1., 1., 1., 1., 1., 1., 1.,\n",
              "        1., 1., 1., 1., 1., 1., 1., 1., 1., 1., 1., 1., 1., 1., 1., 1., 1.,\n",
              "        1., 1., 1., 1., 1., 1., 1., 1., 1., 1., 1., 1., 1., 1., 1., 1., 1.,\n",
              "        1., 1., 1., 1., 1., 1., 1., 0., 0., 0., 0., 0., 0., 0., 0., 0., 0.,\n",
              "        0., 0., 0., 0., 0., 0., 0., 0., 0., 0., 0., 0., 0., 0., 0., 0., 0.,\n",
              "        0., 0., 0., 0., 0., 0., 0., 0., 0., 0., 0., 0., 0., 0., 0., 0., 0.,\n",
              "        0., 0., 0., 0., 0., 0., 0., 0., 0., 0., 0., 0., 0., 0., 0., 0.]))"
            ]
          },
          "metadata": {
            "tags": []
          },
          "execution_count": 30
        }
      ]
    },
    {
      "cell_type": "code",
      "metadata": {
        "id": "et4DBbnXYc0z"
      },
      "source": [
        "# Splitting the dataset into the Training set and Test set\n",
        "from sklearn.model_selection import train_test_split\n",
        "x_train, x_test, y_train, y_test = train_test_split(x, y, test_size = 0.25) "
      ],
      "execution_count": 31,
      "outputs": []
    },
    {
      "cell_type": "code",
      "metadata": {
        "id": "hgivbIilYc3M"
      },
      "source": [
        "#Fitting DT classifier to Training Set\n",
        "from sklearn.tree import DecisionTreeClassifier\n",
        "model= DecisionTreeClassifier()"
      ],
      "execution_count": 32,
      "outputs": []
    },
    {
      "cell_type": "code",
      "metadata": {
        "id": "Vs_6XWMjYc5w",
        "outputId": "0afe5aad-f8dd-43dd-b29d-e673d9bd4f6a",
        "colab": {
          "base_uri": "https://localhost:8080/",
          "height": 118
        }
      },
      "source": [
        "model.fit(x_train,y_train)"
      ],
      "execution_count": 33,
      "outputs": [
        {
          "output_type": "execute_result",
          "data": {
            "text/plain": [
              "DecisionTreeClassifier(ccp_alpha=0.0, class_weight=None, criterion='gini',\n",
              "                       max_depth=None, max_features=None, max_leaf_nodes=None,\n",
              "                       min_impurity_decrease=0.0, min_impurity_split=None,\n",
              "                       min_samples_leaf=1, min_samples_split=2,\n",
              "                       min_weight_fraction_leaf=0.0, presort='deprecated',\n",
              "                       random_state=None, splitter='best')"
            ]
          },
          "metadata": {
            "tags": []
          },
          "execution_count": 33
        }
      ]
    },
    {
      "cell_type": "code",
      "metadata": {
        "id": "30xK5Yu1Yc8H",
        "outputId": "f1d25dc7-1bb6-4b8d-8874-8d8e38907274",
        "colab": {
          "base_uri": "https://localhost:8080/",
          "height": 50
        }
      },
      "source": [
        "#Predicting the Test Set Results\n",
        "y_pred = model.predict(x_test)\n",
        "y_pred"
      ],
      "execution_count": 34,
      "outputs": [
        {
          "output_type": "execute_result",
          "data": {
            "text/plain": [
              "array([1., 0., 0., 0., 1., 1., 0., 1., 1., 0., 0., 1., 1., 1., 1., 1., 1.,\n",
              "       1., 1., 0., 0., 1., 0., 1., 1., 0., 0., 0., 0., 1.])"
            ]
          },
          "metadata": {
            "tags": []
          },
          "execution_count": 34
        }
      ]
    },
    {
      "cell_type": "code",
      "metadata": {
        "id": "Qe0SgrWGYc-Z",
        "outputId": "a7448924-02c0-49f5-ac4f-43fc12fec66f",
        "colab": {
          "base_uri": "https://localhost:8080/",
          "height": 50
        }
      },
      "source": [
        "from sklearn.metrics import confusion_matrix\n",
        "cm = confusion_matrix(y_test,y_pred)\n",
        "cm"
      ],
      "execution_count": 35,
      "outputs": [
        {
          "output_type": "execute_result",
          "data": {
            "text/plain": [
              "array([[11,  6],\n",
              "       [ 2, 11]])"
            ]
          },
          "metadata": {
            "tags": []
          },
          "execution_count": 35
        }
      ]
    },
    {
      "cell_type": "markdown",
      "metadata": {
        "id": "__AZfn5HaIUa"
      },
      "source": [
        "#Random Forest"
      ]
    },
    {
      "cell_type": "markdown",
      "metadata": {
        "id": "v_MXbNozbDII"
      },
      "source": [
        "##example-1"
      ]
    },
    {
      "cell_type": "code",
      "metadata": {
        "id": "Zw9MhpY8XrYy",
        "outputId": "ac0c6088-3169-417f-b0a5-be767491badd",
        "colab": {
          "base_uri": "https://localhost:8080/",
          "height": 521
        }
      },
      "source": [
        "#example-1\n",
        "import numpy as np\n",
        "import pandas as pd\n",
        "import matplotlib.pyplot as plt\n",
        "\n",
        "#Loading the dataset\n",
        "df = pd.read_csv('Salary_Data-2.csv').values\n",
        "df"
      ],
      "execution_count": 37,
      "outputs": [
        {
          "output_type": "execute_result",
          "data": {
            "text/plain": [
              "array([[1.10000e+00, 3.93430e+04],\n",
              "       [1.30000e+00, 4.62050e+04],\n",
              "       [1.50000e+00, 3.77310e+04],\n",
              "       [2.00000e+00, 4.35250e+04],\n",
              "       [2.20000e+00, 3.98910e+04],\n",
              "       [2.90000e+00, 5.66420e+04],\n",
              "       [3.00000e+00, 6.01500e+04],\n",
              "       [3.20000e+00, 5.44450e+04],\n",
              "       [3.20000e+00, 6.44450e+04],\n",
              "       [3.70000e+00, 5.71890e+04],\n",
              "       [3.90000e+00, 6.32180e+04],\n",
              "       [4.00000e+00, 5.57940e+04],\n",
              "       [4.00000e+00, 5.69570e+04],\n",
              "       [4.10000e+00, 5.70810e+04],\n",
              "       [4.50000e+00, 6.11110e+04],\n",
              "       [4.90000e+00, 6.79380e+04],\n",
              "       [5.10000e+00, 6.60290e+04],\n",
              "       [5.30000e+00, 8.30880e+04],\n",
              "       [5.90000e+00, 8.13630e+04],\n",
              "       [6.00000e+00, 9.39400e+04],\n",
              "       [6.80000e+00, 9.17380e+04],\n",
              "       [7.10000e+00, 9.82730e+04],\n",
              "       [7.90000e+00, 1.01302e+05],\n",
              "       [8.20000e+00, 1.13812e+05],\n",
              "       [8.70000e+00, 1.09431e+05],\n",
              "       [9.00000e+00, 1.05582e+05],\n",
              "       [9.50000e+00, 1.16969e+05],\n",
              "       [9.60000e+00, 1.12635e+05],\n",
              "       [1.03000e+01, 1.22391e+05],\n",
              "       [1.05000e+01, 1.21872e+05]])"
            ]
          },
          "metadata": {
            "tags": []
          },
          "execution_count": 37
        }
      ]
    },
    {
      "cell_type": "code",
      "metadata": {
        "id": "8cLqjkQJXrbN",
        "outputId": "1913bbd7-02f1-4aa1-8945-e25c933ec7c7",
        "colab": {
          "base_uri": "https://localhost:8080/",
          "height": 34
        }
      },
      "source": [
        "df.shape"
      ],
      "execution_count": 38,
      "outputs": [
        {
          "output_type": "execute_result",
          "data": {
            "text/plain": [
              "(30, 2)"
            ]
          },
          "metadata": {
            "tags": []
          },
          "execution_count": 38
        }
      ]
    },
    {
      "cell_type": "code",
      "metadata": {
        "id": "PkiwmDOFXrfb",
        "outputId": "afa6a6ca-74eb-4ece-d941-4ef9cd244069",
        "colab": {
          "base_uri": "https://localhost:8080/",
          "height": 588
        }
      },
      "source": [
        "#Specify dependent and independent veraibles\n",
        "x = df[:, :-1]                                   #last coloumn is left behind.\n",
        "y = df[:, -1]\n",
        "print(x)\n",
        "print(y)\n"
      ],
      "execution_count": 39,
      "outputs": [
        {
          "output_type": "stream",
          "text": [
            "[[ 1.1]\n",
            " [ 1.3]\n",
            " [ 1.5]\n",
            " [ 2. ]\n",
            " [ 2.2]\n",
            " [ 2.9]\n",
            " [ 3. ]\n",
            " [ 3.2]\n",
            " [ 3.2]\n",
            " [ 3.7]\n",
            " [ 3.9]\n",
            " [ 4. ]\n",
            " [ 4. ]\n",
            " [ 4.1]\n",
            " [ 4.5]\n",
            " [ 4.9]\n",
            " [ 5.1]\n",
            " [ 5.3]\n",
            " [ 5.9]\n",
            " [ 6. ]\n",
            " [ 6.8]\n",
            " [ 7.1]\n",
            " [ 7.9]\n",
            " [ 8.2]\n",
            " [ 8.7]\n",
            " [ 9. ]\n",
            " [ 9.5]\n",
            " [ 9.6]\n",
            " [10.3]\n",
            " [10.5]]\n",
            "[ 39343.  46205.  37731.  43525.  39891.  56642.  60150.  54445.  64445.\n",
            "  57189.  63218.  55794.  56957.  57081.  61111.  67938.  66029.  83088.\n",
            "  81363.  93940.  91738.  98273. 101302. 113812. 109431. 105582. 116969.\n",
            " 112635. 122391. 121872.]\n"
          ],
          "name": "stdout"
        }
      ]
    },
    {
      "cell_type": "code",
      "metadata": {
        "id": "QWQejRYBXrh9",
        "outputId": "d1fa6cc6-1e77-4b1f-f6d7-12cafbc54696",
        "colab": {
          "base_uri": "https://localhost:8080/",
          "height": 282
        }
      },
      "source": [
        "#scattering\n",
        "plt.scatter(x,y)"
      ],
      "execution_count": 40,
      "outputs": [
        {
          "output_type": "execute_result",
          "data": {
            "text/plain": [
              "<matplotlib.collections.PathCollection at 0x7fe5c3edb4a8>"
            ]
          },
          "metadata": {
            "tags": []
          },
          "execution_count": 40
        },
        {
          "output_type": "display_data",
          "data": {
            "image/png": "[encoded data removed]",
            "text/plain": [
              "<Figure size 432x288 with 1 Axes>"
            ]
          },
          "metadata": {
            "tags": [],
            "needs_background": "light"
          }
        }
      ]
    },
    {
      "cell_type": "code",
      "metadata": {
        "id": "FCvCbxTqab6e"
      },
      "source": [
        "# Importing random forest class\n",
        "from sklearn.ensemble import RandomForestRegressor"
      ],
      "execution_count": 41,
      "outputs": []
    },
    {
      "cell_type": "code",
      "metadata": {
        "id": "IRpqf03Hab9B"
      },
      "source": [
        "#1 Create decision tree object\n",
        "model=RandomForestRegressor(n_estimators=50)"
      ],
      "execution_count": 42,
      "outputs": []
    },
    {
      "cell_type": "code",
      "metadata": {
        "id": "y6nmJB9Hab_g",
        "outputId": "69acdec6-e8c9-416b-c484-14406b0b71d8",
        "colab": {
          "base_uri": "https://localhost:8080/",
          "height": 134
        }
      },
      "source": [
        "#2 Train the model using the training sets\n",
        "model.fit(x,y)"
      ],
      "execution_count": 43,
      "outputs": [
        {
          "output_type": "execute_result",
          "data": {
            "text/plain": [
              "RandomForestRegressor(bootstrap=True, ccp_alpha=0.0, criterion='mse',\n",
              "                      max_depth=None, max_features='auto', max_leaf_nodes=None,\n",
              "                      max_samples=None, min_impurity_decrease=0.0,\n",
              "                      min_impurity_split=None, min_samples_leaf=1,\n",
              "                      min_samples_split=2, min_weight_fraction_leaf=0.0,\n",
              "                      n_estimators=50, n_jobs=None, oob_score=False,\n",
              "                      random_state=None, verbose=0, warm_start=False)"
            ]
          },
          "metadata": {
            "tags": []
          },
          "execution_count": 43
        }
      ]
    },
    {
      "cell_type": "code",
      "metadata": {
        "id": "rAX9ilxFacEM",
        "outputId": "16b5efc8-49dd-4a96-c524-f8401bc62ebb",
        "colab": {
          "base_uri": "https://localhost:8080/",
          "height": 151
        }
      },
      "source": [
        "#Predicting the Test Set Results\n",
        "y_pred=model.predict(x)                     \n",
        "y_pred"
      ],
      "execution_count": 44,
      "outputs": [
        {
          "output_type": "execute_result",
          "data": {
            "text/plain": [
              "array([ 41060.6       ,  43393.68      ,  39334.44      ,  42014.48      ,\n",
              "        41142.32      ,  57169.91333333,  58502.95333333,  59924.13333333,\n",
              "        59924.13333333,  58758.554     ,  61140.969     ,  56457.05566667,\n",
              "        56457.05566667,  56936.41333333,  60340.74      ,  66993.86      ,\n",
              "        66555.26      ,  76348.12      ,  84932.92      ,  89723.28      ,\n",
              "        93126.72      ,  96809.54      , 103064.1       , 109365.48      ,\n",
              "       108527.34      , 107095.9       , 114228.58      , 112840.86      ,\n",
              "       120937.22      , 120760.76      ])"
            ]
          },
          "metadata": {
            "tags": []
          },
          "execution_count": 44
        }
      ]
    },
    {
      "cell_type": "code",
      "metadata": {
        "id": "93jXeRPHacIH",
        "outputId": "2f26cf14-923e-4376-92e4-7e755b939b8d",
        "colab": {
          "base_uri": "https://localhost:8080/",
          "height": 282
        }
      },
      "source": [
        "#plt.scatter(X_test, y_test, color='red')\n",
        "plt.plot(x,y_pred,color='red')"
      ],
      "execution_count": 45,
      "outputs": [
        {
          "output_type": "execute_result",
          "data": {
            "text/plain": [
              "[<matplotlib.lines.Line2D at 0x7fe5c3b25940>]"
            ]
          },
          "metadata": {
            "tags": []
          },
          "execution_count": 45
        },
        {
          "output_type": "display_data",
          "data": {
            "image/png": "[encoded data removed]",
            "text/plain": [
              "<Figure size 432x288 with 1 Axes>"
            ]
          },
          "metadata": {
            "tags": [],
            "needs_background": "light"
          }
        }
      ]
    },
    {
      "cell_type": "code",
      "metadata": {
        "id": "Y0Yz3SvSacMw",
        "outputId": "32bdfe81-c099-4c7c-b529-3c0593293034",
        "colab": {
          "base_uri": "https://localhost:8080/",
          "height": 34
        }
      },
      "source": [
        "#test accuracy of prediction\n",
        "#it should closer to 1\n",
        "from sklearn.metrics import mean_squared_error,r2_score\n",
        "msc=mean_squared_error(y,y_pred)      #lesser the value ,more accurate\n",
        "r2_score=r2_score(y,y_pred)  \n",
        "print(msc)"
      ],
      "execution_count": 46,
      "outputs": [
        {
          "output_type": "stream",
          "text": [
            "6562646.476809896\n"
          ],
          "name": "stdout"
        }
      ]
    },
    {
      "cell_type": "code",
      "metadata": {
        "id": "5dp4UPu6acRR",
        "outputId": "fa7db01f-dcff-44ac-e2fe-7b83b0d6b44a",
        "colab": {
          "base_uri": "https://localhost:8080/",
          "height": 34
        }
      },
      "source": [
        "print(r2_score)"
      ],
      "execution_count": 47,
      "outputs": [
        {
          "output_type": "stream",
          "text": [
            "0.99096675410082\n"
          ],
          "name": "stdout"
        }
      ]
    },
    {
      "cell_type": "markdown",
      "metadata": {
        "id": "Fk3UDvRIa82R"
      },
      "source": [
        "##example-2"
      ]
    },
    {
      "cell_type": "code",
      "metadata": {
        "id": "uM-c10zGacUG"
      },
      "source": [
        "#example-2\n",
        "import numpy as np\n",
        "import matplotlib.pyplot as plt\n",
        "import pandas as pd"
      ],
      "execution_count": 48,
      "outputs": []
    },
    {
      "cell_type": "code",
      "metadata": {
        "id": "Hj2ufmP4acYb"
      },
      "source": [
        "path = \"https://archive.ics.uci.edu/ml/machine-learning-databases/iris/iris.data\""
      ],
      "execution_count": 49,
      "outputs": []
    },
    {
      "cell_type": "code",
      "metadata": {
        "id": "ZjuGmW3vacbo"
      },
      "source": [
        "headernames = ['sepal-length', 'sepal-width', 'petal-length', 'petal-width', 'Class']"
      ],
      "execution_count": 50,
      "outputs": []
    },
    {
      "cell_type": "code",
      "metadata": {
        "id": "brQl_P-aacW9",
        "outputId": "34c2e8a3-46c5-42d8-e754-4d35e4f9d333",
        "colab": {
          "base_uri": "https://localhost:8080/",
          "height": 195
        }
      },
      "source": [
        "dataset = pd.read_csv(path, names = headernames)\n",
        "dataset.head()"
      ],
      "execution_count": 51,
      "outputs": [
        {
          "output_type": "execute_result",
          "data": {
            "text/html": [
              "<div>\n",
              "<style scoped>\n",
              "    .dataframe tbody tr th:only-of-type {\n",
              "        vertical-align: middle;\n",
              "    }\n",
              "\n",
              "    .dataframe tbody tr th {\n",
              "        vertical-align: top;\n",
              "    }\n",
              "\n",
              "    .dataframe thead th {\n",
              "        text-align: right;\n",
              "    }\n",
              "</style>\n",
              "<table border=\"1\" class=\"dataframe\">\n",
              "  <thead>\n",
              "    <tr style=\"text-align: right;\">\n",
              "      <th></th>\n",
              "      <th>sepal-length</th>\n",
              "      <th>sepal-width</th>\n",
              "      <th>petal-length</th>\n",
              "      <th>petal-width</th>\n",
              "      <th>Class</th>\n",
              "    </tr>\n",
              "  </thead>\n",
              "  <tbody>\n",
              "    <tr>\n",
              "      <th>0</th>\n",
              "      <td>5.1</td>\n",
              "      <td>3.5</td>\n",
              "      <td>1.4</td>\n",
              "      <td>0.2</td>\n",
              "      <td>Iris-setosa</td>\n",
              "    </tr>\n",
              "    <tr>\n",
              "      <th>1</th>\n",
              "      <td>4.9</td>\n",
              "      <td>3.0</td>\n",
              "      <td>1.4</td>\n",
              "      <td>0.2</td>\n",
              "      <td>Iris-setosa</td>\n",
              "    </tr>\n",
              "    <tr>\n",
              "      <th>2</th>\n",
              "      <td>4.7</td>\n",
              "      <td>3.2</td>\n",
              "      <td>1.3</td>\n",
              "      <td>0.2</td>\n",
              "      <td>Iris-setosa</td>\n",
              "    </tr>\n",
              "    <tr>\n",
              "      <th>3</th>\n",
              "      <td>4.6</td>\n",
              "      <td>3.1</td>\n",
              "      <td>1.5</td>\n",
              "      <td>0.2</td>\n",
              "      <td>Iris-setosa</td>\n",
              "    </tr>\n",
              "    <tr>\n",
              "      <th>4</th>\n",
              "      <td>5.0</td>\n",
              "      <td>3.6</td>\n",
              "      <td>1.4</td>\n",
              "      <td>0.2</td>\n",
              "      <td>Iris-setosa</td>\n",
              "    </tr>\n",
              "  </tbody>\n",
              "</table>\n",
              "</div>"
            ],
            "text/plain": [
              "   sepal-length  sepal-width  petal-length  petal-width        Class\n",
              "0           5.1          3.5           1.4          0.2  Iris-setosa\n",
              "1           4.9          3.0           1.4          0.2  Iris-setosa\n",
              "2           4.7          3.2           1.3          0.2  Iris-setosa\n",
              "3           4.6          3.1           1.5          0.2  Iris-setosa\n",
              "4           5.0          3.6           1.4          0.2  Iris-setosa"
            ]
          },
          "metadata": {
            "tags": []
          },
          "execution_count": 51
        }
      ]
    },
    {
      "cell_type": "code",
      "metadata": {
        "id": "0ZAcLUECacPJ",
        "outputId": "7e742bca-50d2-47c8-98a6-de36cbf6b177",
        "colab": {
          "base_uri": "https://localhost:8080/",
          "height": 195
        }
      },
      "source": [
        "dataset = pd.read_csv(path, names = headernames)\n",
        "dataset.tail()"
      ],
      "execution_count": 52,
      "outputs": [
        {
          "output_type": "execute_result",
          "data": {
            "text/html": [
              "<div>\n",
              "<style scoped>\n",
              "    .dataframe tbody tr th:only-of-type {\n",
              "        vertical-align: middle;\n",
              "    }\n",
              "\n",
              "    .dataframe tbody tr th {\n",
              "        vertical-align: top;\n",
              "    }\n",
              "\n",
              "    .dataframe thead th {\n",
              "        text-align: right;\n",
              "    }\n",
              "</style>\n",
              "<table border=\"1\" class=\"dataframe\">\n",
              "  <thead>\n",
              "    <tr style=\"text-align: right;\">\n",
              "      <th></th>\n",
              "      <th>sepal-length</th>\n",
              "      <th>sepal-width</th>\n",
              "      <th>petal-length</th>\n",
              "      <th>petal-width</th>\n",
              "      <th>Class</th>\n",
              "    </tr>\n",
              "  </thead>\n",
              "  <tbody>\n",
              "    <tr>\n",
              "      <th>145</th>\n",
              "      <td>6.7</td>\n",
              "      <td>3.0</td>\n",
              "      <td>5.2</td>\n",
              "      <td>2.3</td>\n",
              "      <td>Iris-virginica</td>\n",
              "    </tr>\n",
              "    <tr>\n",
              "      <th>146</th>\n",
              "      <td>6.3</td>\n",
              "      <td>2.5</td>\n",
              "      <td>5.0</td>\n",
              "      <td>1.9</td>\n",
              "      <td>Iris-virginica</td>\n",
              "    </tr>\n",
              "    <tr>\n",
              "      <th>147</th>\n",
              "      <td>6.5</td>\n",
              "      <td>3.0</td>\n",
              "      <td>5.2</td>\n",
              "      <td>2.0</td>\n",
              "      <td>Iris-virginica</td>\n",
              "    </tr>\n",
              "    <tr>\n",
              "      <th>148</th>\n",
              "      <td>6.2</td>\n",
              "      <td>3.4</td>\n",
              "      <td>5.4</td>\n",
              "      <td>2.3</td>\n",
              "      <td>Iris-virginica</td>\n",
              "    </tr>\n",
              "    <tr>\n",
              "      <th>149</th>\n",
              "      <td>5.9</td>\n",
              "      <td>3.0</td>\n",
              "      <td>5.1</td>\n",
              "      <td>1.8</td>\n",
              "      <td>Iris-virginica</td>\n",
              "    </tr>\n",
              "  </tbody>\n",
              "</table>\n",
              "</div>"
            ],
            "text/plain": [
              "     sepal-length  sepal-width  petal-length  petal-width           Class\n",
              "145           6.7          3.0           5.2          2.3  Iris-virginica\n",
              "146           6.3          2.5           5.0          1.9  Iris-virginica\n",
              "147           6.5          3.0           5.2          2.0  Iris-virginica\n",
              "148           6.2          3.4           5.4          2.3  Iris-virginica\n",
              "149           5.9          3.0           5.1          1.8  Iris-virginica"
            ]
          },
          "metadata": {
            "tags": []
          },
          "execution_count": 52
        }
      ]
    },
    {
      "cell_type": "code",
      "metadata": {
        "id": "M18SN3xLacKe",
        "outputId": "a94f6435-5f7c-4e73-a5c4-ac8e071899e3",
        "colab": {
          "base_uri": "https://localhost:8080/",
          "height": 218
        }
      },
      "source": [
        "dataset = pd.read_csv(path, names = headernames)\n",
        "dataset.info()"
      ],
      "execution_count": 53,
      "outputs": [
        {
          "output_type": "stream",
          "text": [
            "<class 'pandas.core.frame.DataFrame'>\n",
            "RangeIndex: 150 entries, 0 to 149\n",
            "Data columns (total 5 columns):\n",
            " #   Column        Non-Null Count  Dtype  \n",
            "---  ------        --------------  -----  \n",
            " 0   sepal-length  150 non-null    float64\n",
            " 1   sepal-width   150 non-null    float64\n",
            " 2   petal-length  150 non-null    float64\n",
            " 3   petal-width   150 non-null    float64\n",
            " 4   Class         150 non-null    object \n",
            "dtypes: float64(4), object(1)\n",
            "memory usage: 6.0+ KB\n"
          ],
          "name": "stdout"
        }
      ]
    },
    {
      "cell_type": "code",
      "metadata": {
        "id": "qK5Pjrw0acGe"
      },
      "source": [
        "X = dataset.iloc[:, :-1].values\n",
        "y = dataset.iloc[:, 4].values"
      ],
      "execution_count": 54,
      "outputs": []
    },
    {
      "cell_type": "code",
      "metadata": {
        "id": "zEOx1CYObWFe"
      },
      "source": [
        "from sklearn.model_selection import train_test_split\n",
        "X_train, X_test, y_train, y_test = train_test_split(X, y, test_size = 0.30)"
      ],
      "execution_count": 55,
      "outputs": []
    },
    {
      "cell_type": "code",
      "metadata": {
        "id": "a2iI-bnhbWIN",
        "outputId": "3bf915a5-2635-4c87-c754-c2296083a80a",
        "colab": {
          "base_uri": "https://localhost:8080/",
          "height": 151
        }
      },
      "source": [
        "from sklearn.ensemble import RandomForestClassifier\n",
        "classifier = RandomForestClassifier(n_estimators = 50)\n",
        "classifier.fit(X_train, y_train)"
      ],
      "execution_count": 56,
      "outputs": [
        {
          "output_type": "execute_result",
          "data": {
            "text/plain": [
              "RandomForestClassifier(bootstrap=True, ccp_alpha=0.0, class_weight=None,\n",
              "                       criterion='gini', max_depth=None, max_features='auto',\n",
              "                       max_leaf_nodes=None, max_samples=None,\n",
              "                       min_impurity_decrease=0.0, min_impurity_split=None,\n",
              "                       min_samples_leaf=1, min_samples_split=2,\n",
              "                       min_weight_fraction_leaf=0.0, n_estimators=50,\n",
              "                       n_jobs=None, oob_score=False, random_state=None,\n",
              "                       verbose=0, warm_start=False)"
            ]
          },
          "metadata": {
            "tags": []
          },
          "execution_count": 56
        }
      ]
    },
    {
      "cell_type": "code",
      "metadata": {
        "id": "YsHmMqdcbWLD",
        "outputId": "7278597f-67fa-4f65-bd1f-7680e7b18818",
        "colab": {
          "base_uri": "https://localhost:8080/",
          "height": 235
        }
      },
      "source": [
        "y_pred = classifier.predict(X_test)\n",
        "y_pred"
      ],
      "execution_count": 57,
      "outputs": [
        {
          "output_type": "execute_result",
          "data": {
            "text/plain": [
              "array(['Iris-versicolor', 'Iris-setosa', 'Iris-setosa', 'Iris-virginica',\n",
              "       'Iris-versicolor', 'Iris-virginica', 'Iris-virginica',\n",
              "       'Iris-versicolor', 'Iris-versicolor', 'Iris-virginica',\n",
              "       'Iris-virginica', 'Iris-setosa', 'Iris-setosa', 'Iris-setosa',\n",
              "       'Iris-setosa', 'Iris-versicolor', 'Iris-versicolor',\n",
              "       'Iris-versicolor', 'Iris-versicolor', 'Iris-setosa', 'Iris-setosa',\n",
              "       'Iris-versicolor', 'Iris-setosa', 'Iris-virginica', 'Iris-setosa',\n",
              "       'Iris-versicolor', 'Iris-setosa', 'Iris-setosa', 'Iris-virginica',\n",
              "       'Iris-versicolor', 'Iris-setosa', 'Iris-setosa', 'Iris-versicolor',\n",
              "       'Iris-virginica', 'Iris-setosa', 'Iris-virginica', 'Iris-setosa',\n",
              "       'Iris-virginica', 'Iris-versicolor', 'Iris-setosa', 'Iris-setosa',\n",
              "       'Iris-virginica', 'Iris-setosa', 'Iris-virginica', 'Iris-setosa'],\n",
              "      dtype=object)"
            ]
          },
          "metadata": {
            "tags": []
          },
          "execution_count": 57
        }
      ]
    },
    {
      "cell_type": "code",
      "metadata": {
        "id": "nzLyVYeRbWPd",
        "outputId": "6f756bbf-32d7-43b5-f689-2764194e97db",
        "colab": {
          "base_uri": "https://localhost:8080/",
          "height": 84
        }
      },
      "source": [
        "from sklearn.metrics import classification_report, confusion_matrix, accuracy_score\n",
        "result = confusion_matrix(y_test, y_pred)\n",
        "print(\"Confusion Matrix:\")\n",
        "print(result)"
      ],
      "execution_count": 58,
      "outputs": [
        {
          "output_type": "stream",
          "text": [
            "Confusion Matrix:\n",
            "[[20  0  0]\n",
            " [ 0 10  0]\n",
            " [ 0  3 12]]\n"
          ],
          "name": "stdout"
        }
      ]
    },
    {
      "cell_type": "code",
      "metadata": {
        "id": "RZVC0JKobWSp",
        "outputId": "945a8e23-c425-4995-cdc9-09f21334e86b",
        "colab": {
          "base_uri": "https://localhost:8080/",
          "height": 202
        }
      },
      "source": [
        "result1 = classification_report(y_test, y_pred)\n",
        "print(\"Classification Report:\",)\n",
        "print (result1)"
      ],
      "execution_count": 59,
      "outputs": [
        {
          "output_type": "stream",
          "text": [
            "Classification Report:\n",
            "                 precision    recall  f1-score   support\n",
            "\n",
            "    Iris-setosa       1.00      1.00      1.00        20\n",
            "Iris-versicolor       0.77      1.00      0.87        10\n",
            " Iris-virginica       1.00      0.80      0.89        15\n",
            "\n",
            "       accuracy                           0.93        45\n",
            "      macro avg       0.92      0.93      0.92        45\n",
            "   weighted avg       0.95      0.93      0.93        45\n",
            "\n"
          ],
          "name": "stdout"
        }
      ]
    },
    {
      "cell_type": "code",
      "metadata": {
        "id": "uygIUZiUbWN0",
        "outputId": "1ce7c852-d179-4bab-e9f1-d89a87550f1e",
        "colab": {
          "base_uri": "https://localhost:8080/",
          "height": 34
        }
      },
      "source": [
        "result2 = accuracy_score(y_test,y_pred)\n",
        "print(\"Accuracy:\",result2)"
      ],
      "execution_count": 60,
      "outputs": [
        {
          "output_type": "stream",
          "text": [
            "Accuracy: 0.9333333333333333\n"
          ],
          "name": "stdout"
        }
      ]
    },
    {
      "cell_type": "markdown",
      "metadata": {
        "id": "oDRUg4y4b9nz"
      },
      "source": [
        "##example-3"
      ]
    },
    {
      "cell_type": "code",
      "metadata": {
        "id": "1UiOz93Tbyg1"
      },
      "source": [
        "#example-3\n",
        "# Importing the libraries\n",
        "\n",
        "# Importing the dataset\n",
        "df = pd.read_csv('Chip_test-1.csv').values\n",
        "x = df[:, 0:2]\n",
        "y = df[:, -1]"
      ],
      "execution_count": 62,
      "outputs": []
    },
    {
      "cell_type": "code",
      "metadata": {
        "id": "eXOpWsyObyjI",
        "outputId": "46c01b3b-3f3f-4aef-b56c-f068087a0134",
        "colab": {
          "base_uri": "https://localhost:8080/",
          "height": 1000
        }
      },
      "source": [
        "x, y"
      ],
      "execution_count": 63,
      "outputs": [
        {
          "output_type": "execute_result",
          "data": {
            "text/plain": [
              "(array([[ 0.051267 ,  0.69956  ],\n",
              "        [-0.092742 ,  0.68494  ],\n",
              "        [-0.21371  ,  0.69225  ],\n",
              "        [-0.375    ,  0.50219  ],\n",
              "        [-0.51325  ,  0.46564  ],\n",
              "        [-0.52477  ,  0.2098   ],\n",
              "        [-0.39804  ,  0.034357 ],\n",
              "        [-0.30588  , -0.19225  ],\n",
              "        [ 0.016705 , -0.40424  ],\n",
              "        [ 0.13191  , -0.51389  ],\n",
              "        [ 0.38537  , -0.56506  ],\n",
              "        [ 0.52938  , -0.5212   ],\n",
              "        [ 0.63882  , -0.24342  ],\n",
              "        [ 0.73675  , -0.18494  ],\n",
              "        [ 0.54666  ,  0.48757  ],\n",
              "        [ 0.322    ,  0.5826   ],\n",
              "        [ 0.16647  ,  0.53874  ],\n",
              "        [-0.046659 ,  0.81652  ],\n",
              "        [-0.17339  ,  0.69956  ],\n",
              "        [-0.47869  ,  0.63377  ],\n",
              "        [-0.60541  ,  0.59722  ],\n",
              "        [-0.62846  ,  0.33406  ],\n",
              "        [-0.59389  ,  0.005117 ],\n",
              "        [-0.42108  , -0.27266  ],\n",
              "        [-0.11578  , -0.39693  ],\n",
              "        [ 0.20104  , -0.60161  ],\n",
              "        [ 0.46601  , -0.53582  ],\n",
              "        [ 0.67339  , -0.53582  ],\n",
              "        [-0.13882  ,  0.54605  ],\n",
              "        [-0.29435  ,  0.77997  ],\n",
              "        [-0.26555  ,  0.96272  ],\n",
              "        [-0.16187  ,  0.8019   ],\n",
              "        [-0.17339  ,  0.64839  ],\n",
              "        [-0.28283  ,  0.47295  ],\n",
              "        [-0.36348  ,  0.31213  ],\n",
              "        [-0.30012  ,  0.027047 ],\n",
              "        [-0.23675  , -0.21418  ],\n",
              "        [-0.06394  , -0.18494  ],\n",
              "        [ 0.062788 , -0.16301  ],\n",
              "        [ 0.22984  , -0.41155  ],\n",
              "        [ 0.2932   , -0.2288   ],\n",
              "        [ 0.48329  , -0.18494  ],\n",
              "        [ 0.64459  , -0.14108  ],\n",
              "        [ 0.46025  ,  0.012427 ],\n",
              "        [ 0.6273   ,  0.15863  ],\n",
              "        [ 0.57546  ,  0.26827  ],\n",
              "        [ 0.72523  ,  0.44371  ],\n",
              "        [ 0.22408  ,  0.52412  ],\n",
              "        [ 0.44297  ,  0.67032  ],\n",
              "        [ 0.322    ,  0.69225  ],\n",
              "        [ 0.13767  ,  0.57529  ],\n",
              "        [-0.0063364,  0.39985  ],\n",
              "        [-0.092742 ,  0.55336  ],\n",
              "        [-0.20795  ,  0.35599  ],\n",
              "        [-0.20795  ,  0.17325  ],\n",
              "        [-0.43836  ,  0.21711  ],\n",
              "        [-0.21947  , -0.016813 ],\n",
              "        [-0.13882  , -0.27266  ],\n",
              "        [ 0.18376  ,  0.93348  ],\n",
              "        [ 0.22408  ,  0.77997  ],\n",
              "        [ 0.29896  ,  0.61915  ],\n",
              "        [ 0.50634  ,  0.75804  ],\n",
              "        [ 0.61578  ,  0.7288   ],\n",
              "        [ 0.60426  ,  0.59722  ],\n",
              "        [ 0.76555  ,  0.50219  ],\n",
              "        [ 0.92684  ,  0.3633   ],\n",
              "        [ 0.82316  ,  0.27558  ],\n",
              "        [ 0.96141  ,  0.085526 ],\n",
              "        [ 0.93836  ,  0.012427 ],\n",
              "        [ 0.86348  , -0.082602 ],\n",
              "        [ 0.89804  , -0.20687  ],\n",
              "        [ 0.85196  , -0.36769  ],\n",
              "        [ 0.82892  , -0.5212   ],\n",
              "        [ 0.79435  , -0.55775  ],\n",
              "        [ 0.59274  , -0.7405   ],\n",
              "        [ 0.51786  , -0.5943   ],\n",
              "        [ 0.46601  , -0.41886  ],\n",
              "        [ 0.35081  , -0.57968  ],\n",
              "        [ 0.28744  , -0.76974  ],\n",
              "        [ 0.085829 , -0.75512  ],\n",
              "        [ 0.14919  , -0.57968  ],\n",
              "        [-0.13306  , -0.4481   ],\n",
              "        [-0.40956  , -0.41155  ],\n",
              "        [-0.39228  , -0.25804  ],\n",
              "        [-0.74366  , -0.25804  ],\n",
              "        [-0.69758  ,  0.041667 ],\n",
              "        [-0.75518  ,  0.2902   ],\n",
              "        [-0.69758  ,  0.68494  ],\n",
              "        [-0.4038   ,  0.70687  ],\n",
              "        [-0.38076  ,  0.91886  ],\n",
              "        [-0.50749  ,  0.90424  ],\n",
              "        [-0.54781  ,  0.70687  ],\n",
              "        [ 0.10311  ,  0.77997  ],\n",
              "        [ 0.057028 ,  0.91886  ],\n",
              "        [-0.10426  ,  0.99196  ],\n",
              "        [-0.081221 ,  1.1089   ],\n",
              "        [ 0.28744  ,  1.087    ],\n",
              "        [ 0.39689  ,  0.82383  ],\n",
              "        [ 0.63882  ,  0.88962  ],\n",
              "        [ 0.82316  ,  0.66301  ],\n",
              "        [ 0.67339  ,  0.64108  ],\n",
              "        [ 1.0709   ,  0.10015  ],\n",
              "        [-0.046659 , -0.57968  ],\n",
              "        [-0.23675  , -0.63816  ],\n",
              "        [-0.15035  , -0.36769  ],\n",
              "        [-0.49021  , -0.3019   ],\n",
              "        [-0.46717  , -0.13377  ],\n",
              "        [-0.28859  , -0.060673 ],\n",
              "        [-0.61118  , -0.067982 ],\n",
              "        [-0.66302  , -0.21418  ],\n",
              "        [-0.59965  , -0.41886  ],\n",
              "        [-0.72638  , -0.082602 ],\n",
              "        [-0.83007  ,  0.31213  ],\n",
              "        [-0.72062  ,  0.53874  ],\n",
              "        [-0.59389  ,  0.49488  ],\n",
              "        [-0.48445  ,  0.99927  ],\n",
              "        [-0.0063364,  0.99927  ],\n",
              "        [ 0.63265  , -0.030612 ]]),\n",
              " array([1., 1., 1., 1., 1., 1., 1., 1., 1., 1., 1., 1., 1., 1., 1., 1., 1.,\n",
              "        1., 1., 1., 1., 1., 1., 1., 1., 1., 1., 1., 1., 1., 1., 1., 1., 1.,\n",
              "        1., 1., 1., 1., 1., 1., 1., 1., 1., 1., 1., 1., 1., 1., 1., 1., 1.,\n",
              "        1., 1., 1., 1., 1., 1., 1., 0., 0., 0., 0., 0., 0., 0., 0., 0., 0.,\n",
              "        0., 0., 0., 0., 0., 0., 0., 0., 0., 0., 0., 0., 0., 0., 0., 0., 0.,\n",
              "        0., 0., 0., 0., 0., 0., 0., 0., 0., 0., 0., 0., 0., 0., 0., 0., 0.,\n",
              "        0., 0., 0., 0., 0., 0., 0., 0., 0., 0., 0., 0., 0., 0., 0., 0.]))"
            ]
          },
          "metadata": {
            "tags": []
          },
          "execution_count": 63
        }
      ]
    },
    {
      "cell_type": "code",
      "metadata": {
        "id": "Jb8tKmgnbylk",
        "outputId": "41e86f19-0bd4-4ba2-8412-4f562775f0d5",
        "colab": {
          "base_uri": "https://localhost:8080/",
          "height": 34
        }
      },
      "source": [
        "x.shape"
      ],
      "execution_count": 64,
      "outputs": [
        {
          "output_type": "execute_result",
          "data": {
            "text/plain": [
              "(118, 2)"
            ]
          },
          "metadata": {
            "tags": []
          },
          "execution_count": 64
        }
      ]
    },
    {
      "cell_type": "code",
      "metadata": {
        "id": "WWly-CyxcKI9"
      },
      "source": [
        "# Splitting the dataset into the Training set and Test set\n",
        "from sklearn.model_selection import train_test_split\n",
        "x_train, x_test, y_train, y_test = train_test_split(x, y, test_size = 0.25) "
      ],
      "execution_count": 65,
      "outputs": []
    },
    {
      "cell_type": "code",
      "metadata": {
        "id": "6tE7E3qNcKUt"
      },
      "source": [
        "from sklearn.preprocessing import StandardScaler\n",
        "sc_x = StandardScaler()\n",
        "x_train = sc_x.fit_transform(x_train)\n",
        "x_test = sc_x.transform(x_test)"
      ],
      "execution_count": 66,
      "outputs": []
    },
    {
      "cell_type": "code",
      "metadata": {
        "id": "Bd5T6iHJcKS3",
        "outputId": "eca4afc6-cb85-44e7-8ffb-5e177ca6fe8f",
        "colab": {
          "base_uri": "https://localhost:8080/",
          "height": 151
        }
      },
      "source": [
        "#Fitting Decision Tree classifier to Training Set\n",
        "from sklearn.ensemble import RandomForestClassifier\n",
        "classifier = RandomForestClassifier(n_estimators = 100, criterion = 'entropy', random_state = 0)\n",
        "classifier.fit(x_train,y_train)"
      ],
      "execution_count": 67,
      "outputs": [
        {
          "output_type": "execute_result",
          "data": {
            "text/plain": [
              "RandomForestClassifier(bootstrap=True, ccp_alpha=0.0, class_weight=None,\n",
              "                       criterion='entropy', max_depth=None, max_features='auto',\n",
              "                       max_leaf_nodes=None, max_samples=None,\n",
              "                       min_impurity_decrease=0.0, min_impurity_split=None,\n",
              "                       min_samples_leaf=1, min_samples_split=2,\n",
              "                       min_weight_fraction_leaf=0.0, n_estimators=100,\n",
              "                       n_jobs=None, oob_score=False, random_state=0, verbose=0,\n",
              "                       warm_start=False)"
            ]
          },
          "metadata": {
            "tags": []
          },
          "execution_count": 67
        }
      ]
    },
    {
      "cell_type": "code",
      "metadata": {
        "id": "HMa694kjcKQi"
      },
      "source": [
        "#Predicting the Test Set Results\n",
        "y_pred = classifier.predict(x_test)"
      ],
      "execution_count": 68,
      "outputs": []
    },
    {
      "cell_type": "code",
      "metadata": {
        "id": "o205xs0ncKOU",
        "outputId": "55c7c4d1-1e44-4fbc-94d4-2ca93b7578ad",
        "colab": {
          "base_uri": "https://localhost:8080/",
          "height": 50
        }
      },
      "source": [
        "#Making the Confusion Matrix\n",
        "from sklearn.metrics import confusion_matrix\n",
        "cm = confusion_matrix(y_test,y_pred)\n",
        "cm"
      ],
      "execution_count": 69,
      "outputs": [
        {
          "output_type": "execute_result",
          "data": {
            "text/plain": [
              "array([[13,  5],\n",
              "       [ 1, 11]])"
            ]
          },
          "metadata": {
            "tags": []
          },
          "execution_count": 69
        }
      ]
    },
    {
      "cell_type": "code",
      "metadata": {
        "id": "jkecD6eqcKL8",
        "outputId": "be3f8ec7-dde5-4ca8-aec7-f7e5af55bd35",
        "colab": {
          "base_uri": "https://localhost:8080/",
          "height": 334
        }
      },
      "source": [
        "#Visualizing the Training Set Results\n",
        "from matplotlib.colors import ListedColormap\n",
        "x_set , y_set = x_train ,y_train\n",
        "x1, x2 = np.meshgrid(np.arange(start = x_set[:,0].min()-1,stop =x_set[:,0].max()+1,step=0.01),\n",
        "                    np.arange(start = x_set[:,1].min()-1,stop =x_set[:,1].max()+1,step=0.01))\n",
        "plt.contour(x1,x2,classifier.predict(np.array([x1.ravel(),x2.ravel()]).T).reshape(x1.shape),\n",
        "            alpha= 0.75 ,cmap = ListedColormap(('red','green')))\n",
        "plt.xlim(x1.min() ,x1.max())\n",
        "plt.ylim(x2.min() ,x2.max())\n",
        "for i,j in enumerate(np.unique(y_set)):\n",
        "    plt.scatter(x_set[y_set == j ,0], x_set[y_set == j,1],\n",
        "                c= ListedColormap(('red' , 'green'))(i) , label = j)\n",
        "plt.title('(Training Set)')\n",
        "\n",
        "plt.legend()\n",
        "plt.show()"
      ],
      "execution_count": 70,
      "outputs": [
        {
          "output_type": "stream",
          "text": [
            "*c* argument looks like a single numeric RGB or RGBA sequence, which should be avoided as value-mapping will have precedence in case its length matches with *x* & *y*.  Please use the *color* keyword-argument or provide a 2-D array with a single row if you intend to specify the same RGB or RGBA value for all points.\n",
            "*c* argument looks like a single numeric RGB or RGBA sequence, which should be avoided as value-mapping will have precedence in case its length matches with *x* & *y*.  Please use the *color* keyword-argument or provide a 2-D array with a single row if you intend to specify the same RGB or RGBA value for all points.\n"
          ],
          "name": "stderr"
        },
        {
          "output_type": "display_data",
          "data": {
            "image/png": "[encoded data removed]",
            "text/plain": [
              "<Figure size 432x288 with 1 Axes>"
            ]
          },
          "metadata": {
            "tags": [],
            "needs_background": "light"
          }
        }
      ]
    },
    {
      "cell_type": "code",
      "metadata": {
        "id": "jHGq68ytcKGu",
        "outputId": "003f2983-236b-4c92-ca24-50020efb7324",
        "colab": {
          "base_uri": "https://localhost:8080/",
          "height": 351
        }
      },
      "source": [
        "#Visualizing the Test Set Results\n",
        "from matplotlib.colors import ListedColormap\n",
        "x_set , y_set = x_test ,y_test\n",
        "x1, x2 = np.meshgrid(np.arange(start = x_set[:,0].min()-1,stop =x_set[:,0].max()+1,step=0.01),\n",
        "                    np.arange(start = x_set[:,1].min()-1,stop =x_set[:,1].max()+1,step=0.01))\n",
        "plt.contour(x1,x2,classifier.predict(np.array([x1.ravel(),x2.ravel()]).T).reshape(x1.shape),\n",
        "            alpha= 0.75 ,cmap = ListedColormap(('red','green')))\n",
        "plt.xlim(x1.min() ,x1.max())\n",
        "plt.ylim(x2.min() ,x2.max())\n",
        "for i,j in enumerate(np.unique(y_set)):\n",
        "    plt.scatter(x_set[y_set == j ,0], x_set[y_set == j,1],\n",
        "                c= ListedColormap(('red' , 'green'))(i) , label = j)\n",
        "plt.title('Test Set')\n",
        " \n",
        "plt.legend()"
      ],
      "execution_count": 71,
      "outputs": [
        {
          "output_type": "stream",
          "text": [
            "*c* argument looks like a single numeric RGB or RGBA sequence, which should be avoided as value-mapping will have precedence in case its length matches with *x* & *y*.  Please use the *color* keyword-argument or provide a 2-D array with a single row if you intend to specify the same RGB or RGBA value for all points.\n",
            "*c* argument looks like a single numeric RGB or RGBA sequence, which should be avoided as value-mapping will have precedence in case its length matches with *x* & *y*.  Please use the *color* keyword-argument or provide a 2-D array with a single row if you intend to specify the same RGB or RGBA value for all points.\n"
          ],
          "name": "stderr"
        },
        {
          "output_type": "execute_result",
          "data": {
            "text/plain": [
              "<matplotlib.legend.Legend at 0x7fe5c341b828>"
            ]
          },
          "metadata": {
            "tags": []
          },
          "execution_count": 71
        },
        {
          "output_type": "display_data",
          "data": {
            "image/png": "[encoded data removed]",
            "text/plain": [
              "<Figure size 432x288 with 1 Axes>"
            ]
          },
          "metadata": {
            "tags": [],
            "needs_background": "light"
          }
        }
      ]
    },
    {
      "cell_type": "markdown",
      "metadata": {
        "id": "ycgRwk7Ic971"
      },
      "source": [
        "##example-4"
      ]
    },
    {
      "cell_type": "code",
      "metadata": {
        "id": "672qUAfyacB7"
      },
      "source": [
        "#example-4\n",
        "# Importing the libraries\n",
        "import numpy as np\n",
        "import matplotlib.pyplot as plt\n",
        "import pandas as pd"
      ],
      "execution_count": 72,
      "outputs": []
    },
    {
      "cell_type": "code",
      "metadata": {
        "id": "21LKjZb_XrkS"
      },
      "source": [
        "# Importing the dataset\n",
        "df = pd.read_csv('Ads.csv')\n",
        "x = df.iloc[:, [2, 3]].values\n",
        "y = df.iloc[:, 4].values"
      ],
      "execution_count": 73,
      "outputs": []
    },
    {
      "cell_type": "code",
      "metadata": {
        "id": "L-mNOZGTdIsz",
        "outputId": "49ba2593-bd7a-4884-9f22-9e0d0f6e7bcd",
        "colab": {
          "base_uri": "https://localhost:8080/",
          "height": 1000
        }
      },
      "source": [
        "x, y"
      ],
      "execution_count": 74,
      "outputs": [
        {
          "output_type": "execute_result",
          "data": {
            "text/plain": [
              "(array([[1.90e+01, 1.90e+04],\n",
              "        [3.50e+01, 2.00e+04],\n",
              "        [2.60e+01, 4.30e+04],\n",
              "        [2.70e+01, 5.70e+04],\n",
              "        [1.90e+01, 7.60e+04],\n",
              "        [2.70e+01, 5.80e+04],\n",
              "        [2.70e+01, 8.40e+04],\n",
              "        [3.20e+01, 1.50e+05],\n",
              "        [2.50e+01, 3.30e+04],\n",
              "        [3.50e+01, 6.50e+04],\n",
              "        [2.60e+01, 8.00e+04],\n",
              "        [2.60e+01, 5.20e+04],\n",
              "        [2.00e+01, 8.60e+04],\n",
              "        [3.20e+01, 1.80e+04],\n",
              "        [1.80e+01, 8.20e+04],\n",
              "        [2.90e+01, 8.00e+04],\n",
              "        [4.70e+01, 2.50e+04],\n",
              "        [4.50e+01, 2.60e+04],\n",
              "        [4.60e+01, 2.80e+04],\n",
              "        [4.80e+01, 2.90e+04],\n",
              "        [4.50e+01, 2.20e+04],\n",
              "        [4.70e+01, 4.90e+04],\n",
              "        [4.80e+01, 4.10e+04],\n",
              "        [4.50e+01, 2.20e+04],\n",
              "        [4.60e+01, 2.30e+04],\n",
              "        [4.70e+01, 2.00e+04],\n",
              "        [4.90e+01, 2.80e+04],\n",
              "        [4.70e+01, 3.00e+04],\n",
              "        [2.90e+01, 4.30e+04],\n",
              "        [3.10e+01, 1.80e+04],\n",
              "        [3.10e+01, 7.40e+04],\n",
              "        [2.70e+01, 1.37e+05],\n",
              "        [2.10e+01, 1.60e+04],\n",
              "        [2.80e+01, 4.40e+04],\n",
              "        [2.70e+01, 9.00e+04],\n",
              "        [3.50e+01, 2.70e+04],\n",
              "        [3.30e+01, 2.80e+04],\n",
              "        [3.00e+01, 4.90e+04],\n",
              "        [2.60e+01, 7.20e+04],\n",
              "        [2.70e+01, 3.10e+04],\n",
              "        [2.70e+01, 1.70e+04],\n",
              "        [3.30e+01, 5.10e+04],\n",
              "        [3.50e+01, 1.08e+05],\n",
              "        [3.00e+01, 1.50e+04],\n",
              "        [2.80e+01, 8.40e+04],\n",
              "        [2.30e+01, 2.00e+04],\n",
              "        [2.50e+01, 7.90e+04],\n",
              "        [2.70e+01, 5.40e+04],\n",
              "        [3.00e+01, 1.35e+05],\n",
              "        [3.10e+01, 8.90e+04],\n",
              "        [2.40e+01, 3.20e+04],\n",
              "        [1.80e+01, 4.40e+04],\n",
              "        [2.90e+01, 8.30e+04],\n",
              "        [3.50e+01, 2.30e+04],\n",
              "        [2.70e+01, 5.80e+04],\n",
              "        [2.40e+01, 5.50e+04],\n",
              "        [2.30e+01, 4.80e+04],\n",
              "        [2.80e+01, 7.90e+04],\n",
              "        [2.20e+01, 1.80e+04],\n",
              "        [3.20e+01, 1.17e+05],\n",
              "        [2.70e+01, 2.00e+04],\n",
              "        [2.50e+01, 8.70e+04],\n",
              "        [2.30e+01, 6.60e+04],\n",
              "        [3.20e+01, 1.20e+05],\n",
              "        [5.90e+01, 8.30e+04],\n",
              "        [2.40e+01, 5.80e+04],\n",
              "        [2.40e+01, 1.90e+04],\n",
              "        [2.30e+01, 8.20e+04],\n",
              "        [2.20e+01, 6.30e+04],\n",
              "        [3.10e+01, 6.80e+04],\n",
              "        [2.50e+01, 8.00e+04],\n",
              "        [2.40e+01, 2.70e+04],\n",
              "        [2.00e+01, 2.30e+04],\n",
              "        [3.30e+01, 1.13e+05],\n",
              "        [3.20e+01, 1.80e+04],\n",
              "        [3.40e+01, 1.12e+05],\n",
              "        [1.80e+01, 5.20e+04],\n",
              "        [2.20e+01, 2.70e+04],\n",
              "        [2.80e+01, 8.70e+04],\n",
              "        [2.60e+01, 1.70e+04],\n",
              "        [3.00e+01, 8.00e+04],\n",
              "        [3.90e+01, 4.20e+04],\n",
              "        [2.00e+01, 4.90e+04],\n",
              "        [3.50e+01, 8.80e+04],\n",
              "        [3.00e+01, 6.20e+04],\n",
              "        [3.10e+01, 1.18e+05],\n",
              "        [2.40e+01, 5.50e+04],\n",
              "        [2.80e+01, 8.50e+04],\n",
              "        [2.60e+01, 8.10e+04],\n",
              "        [3.50e+01, 5.00e+04],\n",
              "        [2.20e+01, 8.10e+04],\n",
              "        [3.00e+01, 1.16e+05],\n",
              "        [2.60e+01, 1.50e+04],\n",
              "        [2.90e+01, 2.80e+04],\n",
              "        [2.90e+01, 8.30e+04],\n",
              "        [3.50e+01, 4.40e+04],\n",
              "        [3.50e+01, 2.50e+04],\n",
              "        [2.80e+01, 1.23e+05],\n",
              "        [3.50e+01, 7.30e+04],\n",
              "        [2.80e+01, 3.70e+04],\n",
              "        [2.70e+01, 8.80e+04],\n",
              "        [2.80e+01, 5.90e+04],\n",
              "        [3.20e+01, 8.60e+04],\n",
              "        [3.30e+01, 1.49e+05],\n",
              "        [1.90e+01, 2.10e+04],\n",
              "        [2.10e+01, 7.20e+04],\n",
              "        [2.60e+01, 3.50e+04],\n",
              "        [2.70e+01, 8.90e+04],\n",
              "        [2.60e+01, 8.60e+04],\n",
              "        [3.80e+01, 8.00e+04],\n",
              "        [3.90e+01, 7.10e+04],\n",
              "        [3.70e+01, 7.10e+04],\n",
              "        [3.80e+01, 6.10e+04],\n",
              "        [3.70e+01, 5.50e+04],\n",
              "        [4.20e+01, 8.00e+04],\n",
              "        [4.00e+01, 5.70e+04],\n",
              "        [3.50e+01, 7.50e+04],\n",
              "        [3.60e+01, 5.20e+04],\n",
              "        [4.00e+01, 5.90e+04],\n",
              "        [4.10e+01, 5.90e+04],\n",
              "        [3.60e+01, 7.50e+04],\n",
              "        [3.70e+01, 7.20e+04],\n",
              "        [4.00e+01, 7.50e+04],\n",
              "        [3.50e+01, 5.30e+04],\n",
              "        [4.10e+01, 5.10e+04],\n",
              "        [3.90e+01, 6.10e+04],\n",
              "        [4.20e+01, 6.50e+04],\n",
              "        [2.60e+01, 3.20e+04],\n",
              "        [3.00e+01, 1.70e+04],\n",
              "        [2.60e+01, 8.40e+04],\n",
              "        [3.10e+01, 5.80e+04],\n",
              "        [3.30e+01, 3.10e+04],\n",
              "        [3.00e+01, 8.70e+04],\n",
              "        [2.10e+01, 6.80e+04],\n",
              "        [2.80e+01, 5.50e+04],\n",
              "        [2.30e+01, 6.30e+04],\n",
              "        [2.00e+01, 8.20e+04],\n",
              "        [3.00e+01, 1.07e+05],\n",
              "        [2.80e+01, 5.90e+04],\n",
              "        [1.90e+01, 2.50e+04],\n",
              "        [1.90e+01, 8.50e+04],\n",
              "        [1.80e+01, 6.80e+04],\n",
              "        [3.50e+01, 5.90e+04],\n",
              "        [3.00e+01, 8.90e+04],\n",
              "        [3.40e+01, 2.50e+04],\n",
              "        [2.40e+01, 8.90e+04],\n",
              "        [2.70e+01, 9.60e+04],\n",
              "        [4.10e+01, 3.00e+04],\n",
              "        [2.90e+01, 6.10e+04],\n",
              "        [2.00e+01, 7.40e+04],\n",
              "        [2.60e+01, 1.50e+04],\n",
              "        [4.10e+01, 4.50e+04],\n",
              "        [3.10e+01, 7.60e+04],\n",
              "        [3.60e+01, 5.00e+04],\n",
              "        [4.00e+01, 4.70e+04],\n",
              "        [3.10e+01, 1.50e+04],\n",
              "        [4.60e+01, 5.90e+04],\n",
              "        [2.90e+01, 7.50e+04],\n",
              "        [2.60e+01, 3.00e+04],\n",
              "        [3.20e+01, 1.35e+05],\n",
              "        [3.20e+01, 1.00e+05],\n",
              "        [2.50e+01, 9.00e+04],\n",
              "        [3.70e+01, 3.30e+04],\n",
              "        [3.50e+01, 3.80e+04],\n",
              "        [3.30e+01, 6.90e+04],\n",
              "        [1.80e+01, 8.60e+04],\n",
              "        [2.20e+01, 5.50e+04],\n",
              "        [3.50e+01, 7.10e+04],\n",
              "        [2.90e+01, 1.48e+05],\n",
              "        [2.90e+01, 4.70e+04],\n",
              "        [2.10e+01, 8.80e+04],\n",
              "        [3.40e+01, 1.15e+05],\n",
              "        [2.60e+01, 1.18e+05],\n",
              "        [3.40e+01, 4.30e+04],\n",
              "        [3.40e+01, 7.20e+04],\n",
              "        [2.30e+01, 2.80e+04],\n",
              "        [3.50e+01, 4.70e+04],\n",
              "        [2.50e+01, 2.20e+04],\n",
              "        [2.40e+01, 2.30e+04],\n",
              "        [3.10e+01, 3.40e+04],\n",
              "        [2.60e+01, 1.60e+04],\n",
              "        [3.10e+01, 7.10e+04],\n",
              "        [3.20e+01, 1.17e+05],\n",
              "        [3.30e+01, 4.30e+04],\n",
              "        [3.30e+01, 6.00e+04],\n",
              "        [3.10e+01, 6.60e+04],\n",
              "        [2.00e+01, 8.20e+04],\n",
              "        [3.30e+01, 4.10e+04],\n",
              "        [3.50e+01, 7.20e+04],\n",
              "        [2.80e+01, 3.20e+04],\n",
              "        [2.40e+01, 8.40e+04],\n",
              "        [1.90e+01, 2.60e+04],\n",
              "        [2.90e+01, 4.30e+04],\n",
              "        [1.90e+01, 7.00e+04],\n",
              "        [2.80e+01, 8.90e+04],\n",
              "        [3.40e+01, 4.30e+04],\n",
              "        [3.00e+01, 7.90e+04],\n",
              "        [2.00e+01, 3.60e+04],\n",
              "        [2.60e+01, 8.00e+04],\n",
              "        [3.50e+01, 2.20e+04],\n",
              "        [3.50e+01, 3.90e+04],\n",
              "        [4.90e+01, 7.40e+04],\n",
              "        [3.90e+01, 1.34e+05],\n",
              "        [4.10e+01, 7.10e+04],\n",
              "        [5.80e+01, 1.01e+05],\n",
              "        [4.70e+01, 4.70e+04],\n",
              "        [5.50e+01, 1.30e+05],\n",
              "        [5.20e+01, 1.14e+05],\n",
              "        [4.00e+01, 1.42e+05],\n",
              "        [4.60e+01, 2.20e+04],\n",
              "        [4.80e+01, 9.60e+04],\n",
              "        [5.20e+01, 1.50e+05],\n",
              "        [5.90e+01, 4.20e+04],\n",
              "        [3.50e+01, 5.80e+04],\n",
              "        [4.70e+01, 4.30e+04],\n",
              "        [6.00e+01, 1.08e+05],\n",
              "        [4.90e+01, 6.50e+04],\n",
              "        [4.00e+01, 7.80e+04],\n",
              "        [4.60e+01, 9.60e+04],\n",
              "        [5.90e+01, 1.43e+05],\n",
              "        [4.10e+01, 8.00e+04],\n",
              "        [3.50e+01, 9.10e+04],\n",
              "        [3.70e+01, 1.44e+05],\n",
              "        [6.00e+01, 1.02e+05],\n",
              "        [3.50e+01, 6.00e+04],\n",
              "        [3.70e+01, 5.30e+04],\n",
              "        [3.60e+01, 1.26e+05],\n",
              "        [5.60e+01, 1.33e+05],\n",
              "        [4.00e+01, 7.20e+04],\n",
              "        [4.20e+01, 8.00e+04],\n",
              "        [3.50e+01, 1.47e+05],\n",
              "        [3.90e+01, 4.20e+04],\n",
              "        [4.00e+01, 1.07e+05],\n",
              "        [4.90e+01, 8.60e+04],\n",
              "        [3.80e+01, 1.12e+05],\n",
              "        [4.60e+01, 7.90e+04],\n",
              "        [4.00e+01, 5.70e+04],\n",
              "        [3.70e+01, 8.00e+04],\n",
              "        [4.60e+01, 8.20e+04],\n",
              "        [5.30e+01, 1.43e+05],\n",
              "        [4.20e+01, 1.49e+05],\n",
              "        [3.80e+01, 5.90e+04],\n",
              "        [5.00e+01, 8.80e+04],\n",
              "        [5.60e+01, 1.04e+05],\n",
              "        [4.10e+01, 7.20e+04],\n",
              "        [5.10e+01, 1.46e+05],\n",
              "        [3.50e+01, 5.00e+04],\n",
              "        [5.70e+01, 1.22e+05],\n",
              "        [4.10e+01, 5.20e+04],\n",
              "        [3.50e+01, 9.70e+04],\n",
              "        [4.40e+01, 3.90e+04],\n",
              "        [3.70e+01, 5.20e+04],\n",
              "        [4.80e+01, 1.34e+05],\n",
              "        [3.70e+01, 1.46e+05],\n",
              "        [5.00e+01, 4.40e+04],\n",
              "        [5.20e+01, 9.00e+04],\n",
              "        [4.10e+01, 7.20e+04],\n",
              "        [4.00e+01, 5.70e+04],\n",
              "        [5.80e+01, 9.50e+04],\n",
              "        [4.50e+01, 1.31e+05],\n",
              "        [3.50e+01, 7.70e+04],\n",
              "        [3.60e+01, 1.44e+05],\n",
              "        [5.50e+01, 1.25e+05],\n",
              "        [3.50e+01, 7.20e+04],\n",
              "        [4.80e+01, 9.00e+04],\n",
              "        [4.20e+01, 1.08e+05],\n",
              "        [4.00e+01, 7.50e+04],\n",
              "        [3.70e+01, 7.40e+04],\n",
              "        [4.70e+01, 1.44e+05],\n",
              "        [4.00e+01, 6.10e+04],\n",
              "        [4.30e+01, 1.33e+05],\n",
              "        [5.90e+01, 7.60e+04],\n",
              "        [6.00e+01, 4.20e+04],\n",
              "        [3.90e+01, 1.06e+05],\n",
              "        [5.70e+01, 2.60e+04],\n",
              "        [5.70e+01, 7.40e+04],\n",
              "        [3.80e+01, 7.10e+04],\n",
              "        [4.90e+01, 8.80e+04],\n",
              "        [5.20e+01, 3.80e+04],\n",
              "        [5.00e+01, 3.60e+04],\n",
              "        [5.90e+01, 8.80e+04],\n",
              "        [3.50e+01, 6.10e+04],\n",
              "        [3.70e+01, 7.00e+04],\n",
              "        [5.20e+01, 2.10e+04],\n",
              "        [4.80e+01, 1.41e+05],\n",
              "        [3.70e+01, 9.30e+04],\n",
              "        [3.70e+01, 6.20e+04],\n",
              "        [4.80e+01, 1.38e+05],\n",
              "        [4.10e+01, 7.90e+04],\n",
              "        [3.70e+01, 7.80e+04],\n",
              "        [3.90e+01, 1.34e+05],\n",
              "        [4.90e+01, 8.90e+04],\n",
              "        [5.50e+01, 3.90e+04],\n",
              "        [3.70e+01, 7.70e+04],\n",
              "        [3.50e+01, 5.70e+04],\n",
              "        [3.60e+01, 6.30e+04],\n",
              "        [4.20e+01, 7.30e+04],\n",
              "        [4.30e+01, 1.12e+05],\n",
              "        [4.50e+01, 7.90e+04],\n",
              "        [4.60e+01, 1.17e+05],\n",
              "        [5.80e+01, 3.80e+04],\n",
              "        [4.80e+01, 7.40e+04],\n",
              "        [3.70e+01, 1.37e+05],\n",
              "        [3.70e+01, 7.90e+04],\n",
              "        [4.00e+01, 6.00e+04],\n",
              "        [4.20e+01, 5.40e+04],\n",
              "        [5.10e+01, 1.34e+05],\n",
              "        [4.70e+01, 1.13e+05],\n",
              "        [3.60e+01, 1.25e+05],\n",
              "        [3.80e+01, 5.00e+04],\n",
              "        [4.20e+01, 7.00e+04],\n",
              "        [3.90e+01, 9.60e+04],\n",
              "        [3.80e+01, 5.00e+04],\n",
              "        [4.90e+01, 1.41e+05],\n",
              "        [3.90e+01, 7.90e+04],\n",
              "        [3.90e+01, 7.50e+04],\n",
              "        [5.40e+01, 1.04e+05],\n",
              "        [3.50e+01, 5.50e+04],\n",
              "        [4.50e+01, 3.20e+04],\n",
              "        [3.60e+01, 6.00e+04],\n",
              "        [5.20e+01, 1.38e+05],\n",
              "        [5.30e+01, 8.20e+04],\n",
              "        [4.10e+01, 5.20e+04],\n",
              "        [4.80e+01, 3.00e+04],\n",
              "        [4.80e+01, 1.31e+05],\n",
              "        [4.10e+01, 6.00e+04],\n",
              "        [4.10e+01, 7.20e+04],\n",
              "        [4.20e+01, 7.50e+04],\n",
              "        [3.60e+01, 1.18e+05],\n",
              "        [4.70e+01, 1.07e+05],\n",
              "        [3.80e+01, 5.10e+04],\n",
              "        [4.80e+01, 1.19e+05],\n",
              "        [4.20e+01, 6.50e+04],\n",
              "        [4.00e+01, 6.50e+04],\n",
              "        [5.70e+01, 6.00e+04],\n",
              "        [3.60e+01, 5.40e+04],\n",
              "        [5.80e+01, 1.44e+05],\n",
              "        [3.50e+01, 7.90e+04],\n",
              "        [3.80e+01, 5.50e+04],\n",
              "        [3.90e+01, 1.22e+05],\n",
              "        [5.30e+01, 1.04e+05],\n",
              "        [3.50e+01, 7.50e+04],\n",
              "        [3.80e+01, 6.50e+04],\n",
              "        [4.70e+01, 5.10e+04],\n",
              "        [4.70e+01, 1.05e+05],\n",
              "        [4.10e+01, 6.30e+04],\n",
              "        [5.30e+01, 7.20e+04],\n",
              "        [5.40e+01, 1.08e+05],\n",
              "        [3.90e+01, 7.70e+04],\n",
              "        [3.80e+01, 6.10e+04],\n",
              "        [3.80e+01, 1.13e+05],\n",
              "        [3.70e+01, 7.50e+04],\n",
              "        [4.20e+01, 9.00e+04],\n",
              "        [3.70e+01, 5.70e+04],\n",
              "        [3.60e+01, 9.90e+04],\n",
              "        [6.00e+01, 3.40e+04],\n",
              "        [5.40e+01, 7.00e+04],\n",
              "        [4.10e+01, 7.20e+04],\n",
              "        [4.00e+01, 7.10e+04],\n",
              "        [4.20e+01, 5.40e+04],\n",
              "        [4.30e+01, 1.29e+05],\n",
              "        [5.30e+01, 3.40e+04],\n",
              "        [4.70e+01, 5.00e+04],\n",
              "        [4.20e+01, 7.90e+04],\n",
              "        [4.20e+01, 1.04e+05],\n",
              "        [5.90e+01, 2.90e+04],\n",
              "        [5.80e+01, 4.70e+04],\n",
              "        [4.60e+01, 8.80e+04],\n",
              "        [3.80e+01, 7.10e+04],\n",
              "        [5.40e+01, 2.60e+04],\n",
              "        [6.00e+01, 4.60e+04],\n",
              "        [6.00e+01, 8.30e+04],\n",
              "        [3.90e+01, 7.30e+04],\n",
              "        [5.90e+01, 1.30e+05],\n",
              "        [3.70e+01, 8.00e+04],\n",
              "        [4.60e+01, 3.20e+04],\n",
              "        [4.60e+01, 7.40e+04],\n",
              "        [4.20e+01, 5.30e+04],\n",
              "        [4.10e+01, 8.70e+04],\n",
              "        [5.80e+01, 2.30e+04],\n",
              "        [4.20e+01, 6.40e+04],\n",
              "        [4.80e+01, 3.30e+04],\n",
              "        [4.40e+01, 1.39e+05],\n",
              "        [4.90e+01, 2.80e+04],\n",
              "        [5.70e+01, 3.30e+04],\n",
              "        [5.60e+01, 6.00e+04],\n",
              "        [4.90e+01, 3.90e+04],\n",
              "        [3.90e+01, 7.10e+04],\n",
              "        [4.70e+01, 3.40e+04],\n",
              "        [4.80e+01, 3.50e+04],\n",
              "        [4.80e+01, 3.30e+04],\n",
              "        [4.70e+01, 2.30e+04],\n",
              "        [4.50e+01, 4.50e+04],\n",
              "        [6.00e+01, 4.20e+04],\n",
              "        [3.90e+01, 5.90e+04],\n",
              "        [4.60e+01, 4.10e+04],\n",
              "        [5.10e+01, 2.30e+04],\n",
              "        [5.00e+01, 2.00e+04],\n",
              "        [3.60e+01, 3.30e+04],\n",
              "        [4.90e+01, 3.60e+04]]),\n",
              " array([0, 0, 0, 0, 0, 0, 0, 1, 0, 0, 0, 0, 0, 0, 0, 0, 1, 1, 1, 1, 1, 1,\n",
              "        1, 1, 1, 1, 1, 1, 0, 0, 0, 1, 0, 0, 0, 0, 0, 0, 0, 0, 0, 0, 0, 0,\n",
              "        0, 0, 0, 0, 1, 0, 0, 0, 0, 0, 0, 0, 0, 0, 0, 0, 0, 0, 0, 1, 0, 0,\n",
              "        0, 0, 0, 0, 0, 0, 0, 0, 0, 1, 0, 0, 0, 0, 0, 0, 0, 0, 0, 1, 0, 0,\n",
              "        0, 0, 0, 0, 0, 0, 0, 0, 0, 1, 0, 0, 0, 0, 0, 1, 0, 0, 0, 0, 0, 0,\n",
              "        0, 0, 0, 0, 0, 0, 0, 0, 0, 0, 0, 0, 0, 0, 0, 0, 0, 0, 0, 0, 0, 0,\n",
              "        0, 0, 0, 0, 0, 1, 0, 0, 0, 0, 0, 0, 0, 0, 1, 0, 0, 0, 0, 0, 0, 0,\n",
              "        0, 0, 0, 0, 0, 1, 1, 0, 0, 0, 0, 0, 0, 0, 1, 0, 0, 0, 0, 0, 0, 0,\n",
              "        0, 0, 0, 0, 0, 0, 1, 0, 0, 0, 0, 0, 0, 0, 0, 0, 0, 0, 0, 0, 0, 0,\n",
              "        0, 0, 0, 0, 1, 0, 1, 0, 1, 0, 1, 0, 1, 1, 0, 0, 0, 1, 0, 0, 0, 1,\n",
              "        0, 1, 1, 1, 0, 0, 1, 1, 0, 1, 1, 0, 1, 1, 0, 1, 0, 0, 0, 1, 1, 0,\n",
              "        1, 1, 0, 1, 0, 1, 0, 1, 0, 0, 1, 1, 0, 1, 0, 0, 1, 1, 0, 1, 1, 0,\n",
              "        1, 1, 0, 0, 1, 0, 0, 1, 1, 1, 1, 1, 0, 1, 1, 1, 1, 0, 1, 1, 0, 1,\n",
              "        0, 1, 0, 1, 1, 1, 1, 0, 0, 0, 1, 1, 0, 1, 1, 1, 1, 1, 0, 0, 0, 1,\n",
              "        1, 0, 0, 1, 0, 1, 0, 1, 1, 0, 1, 0, 1, 1, 0, 1, 1, 0, 0, 0, 1, 1,\n",
              "        0, 1, 0, 0, 1, 0, 1, 0, 0, 1, 1, 0, 0, 1, 1, 0, 1, 1, 0, 0, 1, 0,\n",
              "        1, 0, 1, 1, 1, 0, 1, 0, 1, 1, 1, 0, 1, 1, 1, 1, 0, 1, 1, 1, 0, 1,\n",
              "        0, 1, 0, 0, 1, 1, 0, 1, 1, 1, 1, 1, 1, 0, 1, 1, 1, 1, 1, 1, 0, 1,\n",
              "        1, 1, 0, 1]))"
            ]
          },
          "metadata": {
            "tags": []
          },
          "execution_count": 74
        }
      ]
    },
    {
      "cell_type": "code",
      "metadata": {
        "id": "m_bNPz6bdI2Q",
        "outputId": "aa8b5e97-7dfd-4111-8a79-a0112dc52cd9",
        "colab": {
          "base_uri": "https://localhost:8080/",
          "height": 34
        }
      },
      "source": [
        "df.shape"
      ],
      "execution_count": 75,
      "outputs": [
        {
          "output_type": "execute_result",
          "data": {
            "text/plain": [
              "(400, 5)"
            ]
          },
          "metadata": {
            "tags": []
          },
          "execution_count": 75
        }
      ]
    },
    {
      "cell_type": "code",
      "metadata": {
        "id": "yByY7C-KdI4_"
      },
      "source": [
        "# Splitting the dataset into the Training set and Test set\n",
        "from sklearn.model_selection import train_test_split\n",
        "x_train, x_test, y_train, y_test = train_test_split(x, y, test_size = 0.20) "
      ],
      "execution_count": 76,
      "outputs": []
    },
    {
      "cell_type": "code",
      "metadata": {
        "id": "xwMTJd2WdI-3"
      },
      "source": [
        "from sklearn.preprocessing import StandardScaler\n",
        "sc_x = StandardScaler()\n",
        "x_train = sc_x.fit_transform(x_train)\n",
        "x_test = sc_x.transform(x_test)"
      ],
      "execution_count": 77,
      "outputs": []
    },
    {
      "cell_type": "code",
      "metadata": {
        "id": "gSmwLV5ZdJD3"
      },
      "source": [
        "#Fitting RF classifier to Training Set\n",
        "from sklearn.ensemble import RandomForestClassifier\n",
        "model = RandomForestClassifier()"
      ],
      "execution_count": 78,
      "outputs": []
    },
    {
      "cell_type": "code",
      "metadata": {
        "id": "7o7YBo0ndJH7",
        "outputId": "554ecbcd-297c-45a1-b48d-7b5689f9d8b0",
        "colab": {
          "base_uri": "https://localhost:8080/",
          "height": 151
        }
      },
      "source": [
        "model.fit(x_train, y_train)"
      ],
      "execution_count": 79,
      "outputs": [
        {
          "output_type": "execute_result",
          "data": {
            "text/plain": [
              "RandomForestClassifier(bootstrap=True, ccp_alpha=0.0, class_weight=None,\n",
              "                       criterion='gini', max_depth=None, max_features='auto',\n",
              "                       max_leaf_nodes=None, max_samples=None,\n",
              "                       min_impurity_decrease=0.0, min_impurity_split=None,\n",
              "                       min_samples_leaf=1, min_samples_split=2,\n",
              "                       min_weight_fraction_leaf=0.0, n_estimators=100,\n",
              "                       n_jobs=None, oob_score=False, random_state=None,\n",
              "                       verbose=0, warm_start=False)"
            ]
          },
          "metadata": {
            "tags": []
          },
          "execution_count": 79
        }
      ]
    },
    {
      "cell_type": "code",
      "metadata": {
        "id": "HZ6md_h5dJCC",
        "outputId": "9983135c-8953-4635-aaca-84ebb85f9b8a",
        "colab": {
          "base_uri": "https://localhost:8080/",
          "height": 84
        }
      },
      "source": [
        "#Predicting the Test Set Results\n",
        "y_pred = model.predict(x_test)\n",
        "y_pred"
      ],
      "execution_count": 80,
      "outputs": [
        {
          "output_type": "execute_result",
          "data": {
            "text/plain": [
              "array([1, 0, 0, 0, 0, 1, 1, 0, 1, 1, 0, 0, 0, 1, 0, 0, 0, 1, 1, 1, 1, 0,\n",
              "       0, 0, 1, 1, 1, 0, 0, 1, 0, 0, 0, 0, 0, 0, 1, 0, 1, 0, 1, 1, 0, 0,\n",
              "       0, 0, 0, 0, 1, 0, 1, 1, 1, 1, 0, 1, 0, 0, 1, 0, 1, 1, 0, 0, 0, 0,\n",
              "       0, 1, 1, 1, 1, 0, 0, 1, 0, 1, 0, 0, 0, 1])"
            ]
          },
          "metadata": {
            "tags": []
          },
          "execution_count": 80
        }
      ]
    },
    {
      "cell_type": "code",
      "metadata": {
        "id": "dU5ucZkxdIz0",
        "outputId": "b1678fea-5c87-43e2-cc82-1a15f3849abd",
        "colab": {
          "base_uri": "https://localhost:8080/",
          "height": 50
        }
      },
      "source": [
        "#Making the Confusion Matrix\n",
        "from sklearn.metrics import confusion_matrix\n",
        "cm = confusion_matrix(y_test,y_pred)\n",
        "cm"
      ],
      "execution_count": 81,
      "outputs": [
        {
          "output_type": "execute_result",
          "data": {
            "text/plain": [
              "array([[42,  5],\n",
              "       [ 4, 29]])"
            ]
          },
          "metadata": {
            "tags": []
          },
          "execution_count": 81
        }
      ]
    },
    {
      "cell_type": "code",
      "metadata": {
        "id": "B-jYuG1idIx2",
        "outputId": "0645fc03-8291-498c-ee3e-0fd4f6462258",
        "colab": {
          "base_uri": "https://localhost:8080/",
          "height": 334
        }
      },
      "source": [
        "#Visualizing the Training Set Results\n",
        "from matplotlib.colors import ListedColormap\n",
        "x_set , y_set = x_train ,y_train\n",
        "x1, x2 = np.meshgrid(np.arange(start = x_set[:,0].min()-1,stop =x_set[:,0].max()+1,step=0.01),\n",
        "                    np.arange(start = x_set[:,1].min()-1,stop =x_set[:,1].max()+1,step=0.01))\n",
        "plt.contour(x1,x2,model.predict(np.array([x1.ravel(),x2.ravel()]).T).reshape(x1.shape),\n",
        "            alpha= 0.75 ,cmap = ListedColormap(('red','green')))\n",
        "plt.xlim(x1.min() ,x1.max())\n",
        "plt.ylim(x2.min() ,x2.max())\n",
        "for i,j in enumerate(np.unique(y_set)):\n",
        "    plt.scatter(x_set[y_set == j ,0], x_set[y_set == j,1],\n",
        "                c= ListedColormap(('red' , 'green'))(i) , label = j)\n",
        "plt.title(' (Training Set)')\n",
        " \n",
        "plt.legend()\n",
        "plt.show()"
      ],
      "execution_count": 82,
      "outputs": [
        {
          "output_type": "stream",
          "text": [
            "*c* argument looks like a single numeric RGB or RGBA sequence, which should be avoided as value-mapping will have precedence in case its length matches with *x* & *y*.  Please use the *color* keyword-argument or provide a 2-D array with a single row if you intend to specify the same RGB or RGBA value for all points.\n",
            "*c* argument looks like a single numeric RGB or RGBA sequence, which should be avoided as value-mapping will have precedence in case its length matches with *x* & *y*.  Please use the *color* keyword-argument or provide a 2-D array with a single row if you intend to specify the same RGB or RGBA value for all points.\n"
          ],
          "name": "stderr"
        },
        {
          "output_type": "display_data",
          "data": {
            "image/png": "[encoded data removed]",
            "text/plain": [
              "<Figure size 432x288 with 1 Axes>"
            ]
          },
          "metadata": {
            "tags": [],
            "needs_background": "light"
          }
        }
      ]
    },
    {
      "cell_type": "code",
      "metadata": {
        "id": "pUdjoqddd6S6",
        "outputId": "b4a9d21c-b0c0-496d-e5ef-d6cf69cbf4fe",
        "colab": {
          "base_uri": "https://localhost:8080/",
          "height": 351
        }
      },
      "source": [
        "#Visualizing the Test Set Results\n",
        "from matplotlib.colors import ListedColormap\n",
        "x_set , y_set = x_test ,y_test\n",
        "x1, x2 = np.meshgrid(np.arange(start = x_set[:,0].min()-1,stop =x_set[:,0].max()+1,step=0.01),\n",
        "                    np.arange(start = x_set[:,1].min()-1,stop =x_set[:,1].max()+1,step=0.01))\n",
        "plt.contour(x1,x2,model.predict(np.array([x1.ravel(),x2.ravel()]).T).reshape(x1.shape),\n",
        "            alpha= 0.75 ,cmap = ListedColormap(('red','green')))\n",
        "plt.xlim(x1.min() ,x1.max())\n",
        "plt.ylim(x2.min() ,x2.max())\n",
        "for i,j in enumerate(np.unique(y_set)):\n",
        "    plt.scatter(x_set[y_set == j ,0], x_set[y_set == j,1],\n",
        "                c= ListedColormap(('red' , 'green'))(i) , label = j)\n",
        "plt.title('Test Set')\n",
        " \n",
        "plt.legend()"
      ],
      "execution_count": 83,
      "outputs": [
        {
          "output_type": "stream",
          "text": [
            "*c* argument looks like a single numeric RGB or RGBA sequence, which should be avoided as value-mapping will have precedence in case its length matches with *x* & *y*.  Please use the *color* keyword-argument or provide a 2-D array with a single row if you intend to specify the same RGB or RGBA value for all points.\n",
            "*c* argument looks like a single numeric RGB or RGBA sequence, which should be avoided as value-mapping will have precedence in case its length matches with *x* & *y*.  Please use the *color* keyword-argument or provide a 2-D array with a single row if you intend to specify the same RGB or RGBA value for all points.\n"
          ],
          "name": "stderr"
        },
        {
          "output_type": "execute_result",
          "data": {
            "text/plain": [
              "<matplotlib.legend.Legend at 0x7fe5c3ae61d0>"
            ]
          },
          "metadata": {
            "tags": []
          },
          "execution_count": 83
        },
        {
          "output_type": "display_data",
          "data": {
            "image/png": "[encoded data removed]",
            "text/plain": [
              "<Figure size 432x288 with 1 Axes>"
            ]
          },
          "metadata": {
            "tags": [],
            "needs_background": "light"
          }
        }
      ]
    }
  ]
}
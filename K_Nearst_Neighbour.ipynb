{
  "nbformat": 4,
  "nbformat_minor": 0,
  "metadata": {
    "colab": {
      "name": "K Nearst Neighbour.ipynb",
      "provenance": [],
      "collapsed_sections": [],
      "authorship_tag": "ABX9TyMgmBAG5sZqoXR2MWQc0V3S",
      "include_colab_link": true
    },
    "kernelspec": {
      "name": "python3",
      "display_name": "Python 3"
    }
  },
  "cells": [
    {
      "cell_type": "markdown",
      "metadata": {
        "id": "view-in-github",
        "colab_type": "text"
      },
      "source": [
        "<a href=\"https://colab.research.google.com/github/MohammedNayaz/Machine-learning-Internship-2/blob/master/K_Nearst_Neighbour.ipynb\" target=\"_parent\"><img src=\"https://colab.research.google.com/assets/colab-badge.svg\" alt=\"Open In Colab\"/></a>"
      ]
    },
    {
      "cell_type": "markdown",
      "metadata": {
        "id": "2o2LsHCzrf5Q"
      },
      "source": [
        "#K N N\n"
      ]
    },
    {
      "cell_type": "markdown",
      "metadata": {
        "id": "vqOPsOM0rjLe"
      },
      "source": [
        "##KNN Classifier"
      ]
    },
    {
      "cell_type": "markdown",
      "metadata": {
        "id": "1BNN9I6-sstA"
      },
      "source": [
        "###Example-1"
      ]
    },
    {
      "cell_type": "code",
      "metadata": {
        "id": "N1Ea5uoFrmlq"
      },
      "source": [
        "#import the Libraries\n",
        "import numpy as np                    # used for multdimensional array\n",
        "import pandas as pd                   # used for import the dataset\n",
        "import matplotlib.pyplot as plt       # used for plot the graph"
      ],
      "execution_count": 1,
      "outputs": []
    },
    {
      "cell_type": "code",
      "metadata": {
        "id": "p2uoLA8krmtO"
      },
      "source": [
        "#import the dataset\n",
        "dataset=pd.read_csv('https://archive.ics.uci.edu/ml/machine-learning-databases/iris/iris.data')\n",
        "X=dataset.iloc[:,:-1].values    # predictor attributes\n",
        "y=dataset.iloc[:,-1].values     # target attributes"
      ],
      "execution_count": 2,
      "outputs": []
    },
    {
      "cell_type": "code",
      "metadata": {
        "id": "dbycyMcGrmvq",
        "outputId": "6eec9b36-0c57-4ea8-909e-15cf42009aac",
        "colab": {
          "base_uri": "https://localhost:8080/",
          "height": 343
        }
      },
      "source": [
        "dataset.head(10)"
      ],
      "execution_count": 3,
      "outputs": [
        {
          "output_type": "execute_result",
          "data": {
            "text/html": [
              "<div>\n",
              "<style scoped>\n",
              "    .dataframe tbody tr th:only-of-type {\n",
              "        vertical-align: middle;\n",
              "    }\n",
              "\n",
              "    .dataframe tbody tr th {\n",
              "        vertical-align: top;\n",
              "    }\n",
              "\n",
              "    .dataframe thead th {\n",
              "        text-align: right;\n",
              "    }\n",
              "</style>\n",
              "<table border=\"1\" class=\"dataframe\">\n",
              "  <thead>\n",
              "    <tr style=\"text-align: right;\">\n",
              "      <th></th>\n",
              "      <th>5.1</th>\n",
              "      <th>3.5</th>\n",
              "      <th>1.4</th>\n",
              "      <th>0.2</th>\n",
              "      <th>Iris-setosa</th>\n",
              "    </tr>\n",
              "  </thead>\n",
              "  <tbody>\n",
              "    <tr>\n",
              "      <th>0</th>\n",
              "      <td>4.9</td>\n",
              "      <td>3.0</td>\n",
              "      <td>1.4</td>\n",
              "      <td>0.2</td>\n",
              "      <td>Iris-setosa</td>\n",
              "    </tr>\n",
              "    <tr>\n",
              "      <th>1</th>\n",
              "      <td>4.7</td>\n",
              "      <td>3.2</td>\n",
              "      <td>1.3</td>\n",
              "      <td>0.2</td>\n",
              "      <td>Iris-setosa</td>\n",
              "    </tr>\n",
              "    <tr>\n",
              "      <th>2</th>\n",
              "      <td>4.6</td>\n",
              "      <td>3.1</td>\n",
              "      <td>1.5</td>\n",
              "      <td>0.2</td>\n",
              "      <td>Iris-setosa</td>\n",
              "    </tr>\n",
              "    <tr>\n",
              "      <th>3</th>\n",
              "      <td>5.0</td>\n",
              "      <td>3.6</td>\n",
              "      <td>1.4</td>\n",
              "      <td>0.2</td>\n",
              "      <td>Iris-setosa</td>\n",
              "    </tr>\n",
              "    <tr>\n",
              "      <th>4</th>\n",
              "      <td>5.4</td>\n",
              "      <td>3.9</td>\n",
              "      <td>1.7</td>\n",
              "      <td>0.4</td>\n",
              "      <td>Iris-setosa</td>\n",
              "    </tr>\n",
              "    <tr>\n",
              "      <th>5</th>\n",
              "      <td>4.6</td>\n",
              "      <td>3.4</td>\n",
              "      <td>1.4</td>\n",
              "      <td>0.3</td>\n",
              "      <td>Iris-setosa</td>\n",
              "    </tr>\n",
              "    <tr>\n",
              "      <th>6</th>\n",
              "      <td>5.0</td>\n",
              "      <td>3.4</td>\n",
              "      <td>1.5</td>\n",
              "      <td>0.2</td>\n",
              "      <td>Iris-setosa</td>\n",
              "    </tr>\n",
              "    <tr>\n",
              "      <th>7</th>\n",
              "      <td>4.4</td>\n",
              "      <td>2.9</td>\n",
              "      <td>1.4</td>\n",
              "      <td>0.2</td>\n",
              "      <td>Iris-setosa</td>\n",
              "    </tr>\n",
              "    <tr>\n",
              "      <th>8</th>\n",
              "      <td>4.9</td>\n",
              "      <td>3.1</td>\n",
              "      <td>1.5</td>\n",
              "      <td>0.1</td>\n",
              "      <td>Iris-setosa</td>\n",
              "    </tr>\n",
              "    <tr>\n",
              "      <th>9</th>\n",
              "      <td>5.4</td>\n",
              "      <td>3.7</td>\n",
              "      <td>1.5</td>\n",
              "      <td>0.2</td>\n",
              "      <td>Iris-setosa</td>\n",
              "    </tr>\n",
              "  </tbody>\n",
              "</table>\n",
              "</div>"
            ],
            "text/plain": [
              "   5.1  3.5  1.4  0.2  Iris-setosa\n",
              "0  4.9  3.0  1.4  0.2  Iris-setosa\n",
              "1  4.7  3.2  1.3  0.2  Iris-setosa\n",
              "2  4.6  3.1  1.5  0.2  Iris-setosa\n",
              "3  5.0  3.6  1.4  0.2  Iris-setosa\n",
              "4  5.4  3.9  1.7  0.4  Iris-setosa\n",
              "5  4.6  3.4  1.4  0.3  Iris-setosa\n",
              "6  5.0  3.4  1.5  0.2  Iris-setosa\n",
              "7  4.4  2.9  1.4  0.2  Iris-setosa\n",
              "8  4.9  3.1  1.5  0.1  Iris-setosa\n",
              "9  5.4  3.7  1.5  0.2  Iris-setosa"
            ]
          },
          "metadata": {
            "tags": []
          },
          "execution_count": 3
        }
      ]
    },
    {
      "cell_type": "code",
      "metadata": {
        "id": "IjcJyeZ0rmyA",
        "outputId": "bed43c50-643a-4b29-cbae-1ae70f067ead",
        "colab": {
          "base_uri": "https://localhost:8080/"
        }
      },
      "source": [
        "X, y"
      ],
      "execution_count": 4,
      "outputs": [
        {
          "output_type": "execute_result",
          "data": {
            "text/plain": [
              "(array([[4.9, 3. , 1.4, 0.2],\n",
              "        [4.7, 3.2, 1.3, 0.2],\n",
              "        [4.6, 3.1, 1.5, 0.2],\n",
              "        [5. , 3.6, 1.4, 0.2],\n",
              "        [5.4, 3.9, 1.7, 0.4],\n",
              "        [4.6, 3.4, 1.4, 0.3],\n",
              "        [5. , 3.4, 1.5, 0.2],\n",
              "        [4.4, 2.9, 1.4, 0.2],\n",
              "        [4.9, 3.1, 1.5, 0.1],\n",
              "        [5.4, 3.7, 1.5, 0.2],\n",
              "        [4.8, 3.4, 1.6, 0.2],\n",
              "        [4.8, 3. , 1.4, 0.1],\n",
              "        [4.3, 3. , 1.1, 0.1],\n",
              "        [5.8, 4. , 1.2, 0.2],\n",
              "        [5.7, 4.4, 1.5, 0.4],\n",
              "        [5.4, 3.9, 1.3, 0.4],\n",
              "        [5.1, 3.5, 1.4, 0.3],\n",
              "        [5.7, 3.8, 1.7, 0.3],\n",
              "        [5.1, 3.8, 1.5, 0.3],\n",
              "        [5.4, 3.4, 1.7, 0.2],\n",
              "        [5.1, 3.7, 1.5, 0.4],\n",
              "        [4.6, 3.6, 1. , 0.2],\n",
              "        [5.1, 3.3, 1.7, 0.5],\n",
              "        [4.8, 3.4, 1.9, 0.2],\n",
              "        [5. , 3. , 1.6, 0.2],\n",
              "        [5. , 3.4, 1.6, 0.4],\n",
              "        [5.2, 3.5, 1.5, 0.2],\n",
              "        [5.2, 3.4, 1.4, 0.2],\n",
              "        [4.7, 3.2, 1.6, 0.2],\n",
              "        [4.8, 3.1, 1.6, 0.2],\n",
              "        [5.4, 3.4, 1.5, 0.4],\n",
              "        [5.2, 4.1, 1.5, 0.1],\n",
              "        [5.5, 4.2, 1.4, 0.2],\n",
              "        [4.9, 3.1, 1.5, 0.1],\n",
              "        [5. , 3.2, 1.2, 0.2],\n",
              "        [5.5, 3.5, 1.3, 0.2],\n",
              "        [4.9, 3.1, 1.5, 0.1],\n",
              "        [4.4, 3. , 1.3, 0.2],\n",
              "        [5.1, 3.4, 1.5, 0.2],\n",
              "        [5. , 3.5, 1.3, 0.3],\n",
              "        [4.5, 2.3, 1.3, 0.3],\n",
              "        [4.4, 3.2, 1.3, 0.2],\n",
              "        [5. , 3.5, 1.6, 0.6],\n",
              "        [5.1, 3.8, 1.9, 0.4],\n",
              "        [4.8, 3. , 1.4, 0.3],\n",
              "        [5.1, 3.8, 1.6, 0.2],\n",
              "        [4.6, 3.2, 1.4, 0.2],\n",
              "        [5.3, 3.7, 1.5, 0.2],\n",
              "        [5. , 3.3, 1.4, 0.2],\n",
              "        [7. , 3.2, 4.7, 1.4],\n",
              "        [6.4, 3.2, 4.5, 1.5],\n",
              "        [6.9, 3.1, 4.9, 1.5],\n",
              "        [5.5, 2.3, 4. , 1.3],\n",
              "        [6.5, 2.8, 4.6, 1.5],\n",
              "        [5.7, 2.8, 4.5, 1.3],\n",
              "        [6.3, 3.3, 4.7, 1.6],\n",
              "        [4.9, 2.4, 3.3, 1. ],\n",
              "        [6.6, 2.9, 4.6, 1.3],\n",
              "        [5.2, 2.7, 3.9, 1.4],\n",
              "        [5. , 2. , 3.5, 1. ],\n",
              "        [5.9, 3. , 4.2, 1.5],\n",
              "        [6. , 2.2, 4. , 1. ],\n",
              "        [6.1, 2.9, 4.7, 1.4],\n",
              "        [5.6, 2.9, 3.6, 1.3],\n",
              "        [6.7, 3.1, 4.4, 1.4],\n",
              "        [5.6, 3. , 4.5, 1.5],\n",
              "        [5.8, 2.7, 4.1, 1. ],\n",
              "        [6.2, 2.2, 4.5, 1.5],\n",
              "        [5.6, 2.5, 3.9, 1.1],\n",
              "        [5.9, 3.2, 4.8, 1.8],\n",
              "        [6.1, 2.8, 4. , 1.3],\n",
              "        [6.3, 2.5, 4.9, 1.5],\n",
              "        [6.1, 2.8, 4.7, 1.2],\n",
              "        [6.4, 2.9, 4.3, 1.3],\n",
              "        [6.6, 3. , 4.4, 1.4],\n",
              "        [6.8, 2.8, 4.8, 1.4],\n",
              "        [6.7, 3. , 5. , 1.7],\n",
              "        [6. , 2.9, 4.5, 1.5],\n",
              "        [5.7, 2.6, 3.5, 1. ],\n",
              "        [5.5, 2.4, 3.8, 1.1],\n",
              "        [5.5, 2.4, 3.7, 1. ],\n",
              "        [5.8, 2.7, 3.9, 1.2],\n",
              "        [6. , 2.7, 5.1, 1.6],\n",
              "        [5.4, 3. , 4.5, 1.5],\n",
              "        [6. , 3.4, 4.5, 1.6],\n",
              "        [6.7, 3.1, 4.7, 1.5],\n",
              "        [6.3, 2.3, 4.4, 1.3],\n",
              "        [5.6, 3. , 4.1, 1.3],\n",
              "        [5.5, 2.5, 4. , 1.3],\n",
              "        [5.5, 2.6, 4.4, 1.2],\n",
              "        [6.1, 3. , 4.6, 1.4],\n",
              "        [5.8, 2.6, 4. , 1.2],\n",
              "        [5. , 2.3, 3.3, 1. ],\n",
              "        [5.6, 2.7, 4.2, 1.3],\n",
              "        [5.7, 3. , 4.2, 1.2],\n",
              "        [5.7, 2.9, 4.2, 1.3],\n",
              "        [6.2, 2.9, 4.3, 1.3],\n",
              "        [5.1, 2.5, 3. , 1.1],\n",
              "        [5.7, 2.8, 4.1, 1.3],\n",
              "        [6.3, 3.3, 6. , 2.5],\n",
              "        [5.8, 2.7, 5.1, 1.9],\n",
              "        [7.1, 3. , 5.9, 2.1],\n",
              "        [6.3, 2.9, 5.6, 1.8],\n",
              "        [6.5, 3. , 5.8, 2.2],\n",
              "        [7.6, 3. , 6.6, 2.1],\n",
              "        [4.9, 2.5, 4.5, 1.7],\n",
              "        [7.3, 2.9, 6.3, 1.8],\n",
              "        [6.7, 2.5, 5.8, 1.8],\n",
              "        [7.2, 3.6, 6.1, 2.5],\n",
              "        [6.5, 3.2, 5.1, 2. ],\n",
              "        [6.4, 2.7, 5.3, 1.9],\n",
              "        [6.8, 3. , 5.5, 2.1],\n",
              "        [5.7, 2.5, 5. , 2. ],\n",
              "        [5.8, 2.8, 5.1, 2.4],\n",
              "        [6.4, 3.2, 5.3, 2.3],\n",
              "        [6.5, 3. , 5.5, 1.8],\n",
              "        [7.7, 3.8, 6.7, 2.2],\n",
              "        [7.7, 2.6, 6.9, 2.3],\n",
              "        [6. , 2.2, 5. , 1.5],\n",
              "        [6.9, 3.2, 5.7, 2.3],\n",
              "        [5.6, 2.8, 4.9, 2. ],\n",
              "        [7.7, 2.8, 6.7, 2. ],\n",
              "        [6.3, 2.7, 4.9, 1.8],\n",
              "        [6.7, 3.3, 5.7, 2.1],\n",
              "        [7.2, 3.2, 6. , 1.8],\n",
              "        [6.2, 2.8, 4.8, 1.8],\n",
              "        [6.1, 3. , 4.9, 1.8],\n",
              "        [6.4, 2.8, 5.6, 2.1],\n",
              "        [7.2, 3. , 5.8, 1.6],\n",
              "        [7.4, 2.8, 6.1, 1.9],\n",
              "        [7.9, 3.8, 6.4, 2. ],\n",
              "        [6.4, 2.8, 5.6, 2.2],\n",
              "        [6.3, 2.8, 5.1, 1.5],\n",
              "        [6.1, 2.6, 5.6, 1.4],\n",
              "        [7.7, 3. , 6.1, 2.3],\n",
              "        [6.3, 3.4, 5.6, 2.4],\n",
              "        [6.4, 3.1, 5.5, 1.8],\n",
              "        [6. , 3. , 4.8, 1.8],\n",
              "        [6.9, 3.1, 5.4, 2.1],\n",
              "        [6.7, 3.1, 5.6, 2.4],\n",
              "        [6.9, 3.1, 5.1, 2.3],\n",
              "        [5.8, 2.7, 5.1, 1.9],\n",
              "        [6.8, 3.2, 5.9, 2.3],\n",
              "        [6.7, 3.3, 5.7, 2.5],\n",
              "        [6.7, 3. , 5.2, 2.3],\n",
              "        [6.3, 2.5, 5. , 1.9],\n",
              "        [6.5, 3. , 5.2, 2. ],\n",
              "        [6.2, 3.4, 5.4, 2.3],\n",
              "        [5.9, 3. , 5.1, 1.8]]),\n",
              " array(['Iris-setosa', 'Iris-setosa', 'Iris-setosa', 'Iris-setosa',\n",
              "        'Iris-setosa', 'Iris-setosa', 'Iris-setosa', 'Iris-setosa',\n",
              "        'Iris-setosa', 'Iris-setosa', 'Iris-setosa', 'Iris-setosa',\n",
              "        'Iris-setosa', 'Iris-setosa', 'Iris-setosa', 'Iris-setosa',\n",
              "        'Iris-setosa', 'Iris-setosa', 'Iris-setosa', 'Iris-setosa',\n",
              "        'Iris-setosa', 'Iris-setosa', 'Iris-setosa', 'Iris-setosa',\n",
              "        'Iris-setosa', 'Iris-setosa', 'Iris-setosa', 'Iris-setosa',\n",
              "        'Iris-setosa', 'Iris-setosa', 'Iris-setosa', 'Iris-setosa',\n",
              "        'Iris-setosa', 'Iris-setosa', 'Iris-setosa', 'Iris-setosa',\n",
              "        'Iris-setosa', 'Iris-setosa', 'Iris-setosa', 'Iris-setosa',\n",
              "        'Iris-setosa', 'Iris-setosa', 'Iris-setosa', 'Iris-setosa',\n",
              "        'Iris-setosa', 'Iris-setosa', 'Iris-setosa', 'Iris-setosa',\n",
              "        'Iris-setosa', 'Iris-versicolor', 'Iris-versicolor',\n",
              "        'Iris-versicolor', 'Iris-versicolor', 'Iris-versicolor',\n",
              "        'Iris-versicolor', 'Iris-versicolor', 'Iris-versicolor',\n",
              "        'Iris-versicolor', 'Iris-versicolor', 'Iris-versicolor',\n",
              "        'Iris-versicolor', 'Iris-versicolor', 'Iris-versicolor',\n",
              "        'Iris-versicolor', 'Iris-versicolor', 'Iris-versicolor',\n",
              "        'Iris-versicolor', 'Iris-versicolor', 'Iris-versicolor',\n",
              "        'Iris-versicolor', 'Iris-versicolor', 'Iris-versicolor',\n",
              "        'Iris-versicolor', 'Iris-versicolor', 'Iris-versicolor',\n",
              "        'Iris-versicolor', 'Iris-versicolor', 'Iris-versicolor',\n",
              "        'Iris-versicolor', 'Iris-versicolor', 'Iris-versicolor',\n",
              "        'Iris-versicolor', 'Iris-versicolor', 'Iris-versicolor',\n",
              "        'Iris-versicolor', 'Iris-versicolor', 'Iris-versicolor',\n",
              "        'Iris-versicolor', 'Iris-versicolor', 'Iris-versicolor',\n",
              "        'Iris-versicolor', 'Iris-versicolor', 'Iris-versicolor',\n",
              "        'Iris-versicolor', 'Iris-versicolor', 'Iris-versicolor',\n",
              "        'Iris-versicolor', 'Iris-versicolor', 'Iris-versicolor',\n",
              "        'Iris-virginica', 'Iris-virginica', 'Iris-virginica',\n",
              "        'Iris-virginica', 'Iris-virginica', 'Iris-virginica',\n",
              "        'Iris-virginica', 'Iris-virginica', 'Iris-virginica',\n",
              "        'Iris-virginica', 'Iris-virginica', 'Iris-virginica',\n",
              "        'Iris-virginica', 'Iris-virginica', 'Iris-virginica',\n",
              "        'Iris-virginica', 'Iris-virginica', 'Iris-virginica',\n",
              "        'Iris-virginica', 'Iris-virginica', 'Iris-virginica',\n",
              "        'Iris-virginica', 'Iris-virginica', 'Iris-virginica',\n",
              "        'Iris-virginica', 'Iris-virginica', 'Iris-virginica',\n",
              "        'Iris-virginica', 'Iris-virginica', 'Iris-virginica',\n",
              "        'Iris-virginica', 'Iris-virginica', 'Iris-virginica',\n",
              "        'Iris-virginica', 'Iris-virginica', 'Iris-virginica',\n",
              "        'Iris-virginica', 'Iris-virginica', 'Iris-virginica',\n",
              "        'Iris-virginica', 'Iris-virginica', 'Iris-virginica',\n",
              "        'Iris-virginica', 'Iris-virginica', 'Iris-virginica',\n",
              "        'Iris-virginica', 'Iris-virginica', 'Iris-virginica',\n",
              "        'Iris-virginica', 'Iris-virginica'], dtype=object))"
            ]
          },
          "metadata": {
            "tags": []
          },
          "execution_count": 4
        }
      ]
    },
    {
      "cell_type": "code",
      "metadata": {
        "id": "qdOZ00onrm0W"
      },
      "source": [
        "# Encoding the categorical data\n",
        "from sklearn.preprocessing import LabelEncoder\n",
        "Labelencoder_y= LabelEncoder()\n",
        "y= Labelencoder_y.fit_transform(y)"
      ],
      "execution_count": 5,
      "outputs": []
    },
    {
      "cell_type": "code",
      "metadata": {
        "id": "dkvzyW4Erm2s"
      },
      "source": [
        "# split the dataset into test set and train set\n",
        "from sklearn.model_selection import train_test_split\n",
        "X_train, X_test, y_train, y_test = train_test_split(X,y, test_size=0.2, random_state=0)"
      ],
      "execution_count": 6,
      "outputs": []
    },
    {
      "cell_type": "code",
      "metadata": {
        "id": "DVY6lFhirm5V"
      },
      "source": [
        "# Feature Scaling\n",
        "from sklearn.preprocessing import StandardScaler\n",
        "sc_X= StandardScaler()\n",
        "X_train=sc_X.fit_transform(X_train)\n",
        "X_test=sc_X.transform(X_test)"
      ],
      "execution_count": 7,
      "outputs": []
    },
    {
      "cell_type": "code",
      "metadata": {
        "id": "VDw5slu_rm7z"
      },
      "source": [
        "# import the kNN model from scikit learn\n",
        "from sklearn.neighbors import KNeighborsClassifier"
      ],
      "execution_count": 8,
      "outputs": []
    },
    {
      "cell_type": "code",
      "metadata": {
        "id": "Cx7Re1RWrm-N"
      },
      "source": [
        "# init the model\n",
        "#minkowski= distance formul and p=2 power 2 of distformula\n",
        "knn= KNeighborsClassifier(n_neighbors=5)  "
      ],
      "execution_count": 9,
      "outputs": []
    },
    {
      "cell_type": "code",
      "metadata": {
        "id": "q5Bis_2ArnA1",
        "outputId": "9dbac9cd-7e68-4541-e2b1-b10f595bde70",
        "colab": {
          "base_uri": "https://localhost:8080/"
        }
      },
      "source": [
        "#fit the kNN model\n",
        "knn.fit(X_train,y_train)"
      ],
      "execution_count": 10,
      "outputs": [
        {
          "output_type": "execute_result",
          "data": {
            "text/plain": [
              "KNeighborsClassifier(algorithm='auto', leaf_size=30, metric='minkowski',\n",
              "                     metric_params=None, n_jobs=None, n_neighbors=5, p=2,\n",
              "                     weights='uniform')"
            ]
          },
          "metadata": {
            "tags": []
          },
          "execution_count": 10
        }
      ]
    },
    {
      "cell_type": "code",
      "metadata": {
        "id": "lZVGLJGhrnDP",
        "outputId": "6fbb61cf-ce09-43d1-9259-18b03e0408ac",
        "colab": {
          "base_uri": "https://localhost:8080/"
        }
      },
      "source": [
        "# Making the Prediction\n",
        "y_pred = knn.predict(X_test)\n",
        "y_pred"
      ],
      "execution_count": 11,
      "outputs": [
        {
          "output_type": "execute_result",
          "data": {
            "text/plain": [
              "array([1, 2, 1, 1, 0, 2, 2, 1, 1, 1, 0, 0, 1, 0, 0, 1, 2, 1, 0, 0, 1, 0,\n",
              "       1, 0, 1, 1, 1, 0, 0, 2])"
            ]
          },
          "metadata": {
            "tags": []
          },
          "execution_count": 11
        }
      ]
    },
    {
      "cell_type": "code",
      "metadata": {
        "id": "OpUchrNurnFi",
        "outputId": "d194f97b-6234-4977-c214-9dbdbc392bc7",
        "colab": {
          "base_uri": "https://localhost:8080/"
        }
      },
      "source": [
        "# Confusion metrics\n",
        "from sklearn.metrics import confusion_matrix\n",
        "cm = confusion_matrix(y_test, y_pred)\n",
        "cm"
      ],
      "execution_count": 12,
      "outputs": [
        {
          "output_type": "execute_result",
          "data": {
            "text/plain": [
              "array([[11,  1,  0],\n",
              "       [ 0, 10,  0],\n",
              "       [ 0,  3,  5]])"
            ]
          },
          "metadata": {
            "tags": []
          },
          "execution_count": 12
        }
      ]
    },
    {
      "cell_type": "code",
      "metadata": {
        "id": "nFB2LBmJrnIG",
        "outputId": "d0637c10-7118-4cf8-9478-1624d95badf6",
        "colab": {
          "base_uri": "https://localhost:8080/"
        }
      },
      "source": [
        "# accuracy score\n",
        "from sklearn.metrics import accuracy_score\n",
        "ac= accuracy_score(y_test, y_pred)\n",
        "ac"
      ],
      "execution_count": 13,
      "outputs": [
        {
          "output_type": "execute_result",
          "data": {
            "text/plain": [
              "0.8666666666666667"
            ]
          },
          "metadata": {
            "tags": []
          },
          "execution_count": 13
        }
      ]
    },
    {
      "cell_type": "markdown",
      "metadata": {
        "id": "2sZN0hEksqee"
      },
      "source": [
        "###Example-2"
      ]
    },
    {
      "cell_type": "code",
      "metadata": {
        "id": "naKsZv_HrnKi"
      },
      "source": [
        "# Assigning features and label variables\n",
        "# First Feature\n",
        "weather=['Sunny','Sunny','Overcast','Rainy','Rainy','Rainy','Overcast','Sunny','Sunny',\n",
        "'Rainy','Sunny','Overcast','Overcast','Rainy']\n",
        "# Second Feature\n",
        "temp=['Hot','Hot','Hot','Mild','Cool','Cool','Cool','Mild','Cool','Mild','Mild','Mild','Hot','Mild']\n",
        "\n",
        "# Label or target varible\n",
        "play=['No','No','Yes','Yes','Yes','No','Yes','No','Yes','Yes','Yes','Yes','Yes','No']"
      ],
      "execution_count": 14,
      "outputs": []
    },
    {
      "cell_type": "code",
      "metadata": {
        "id": "iMVC7E_LrnNF"
      },
      "source": [
        "# Import LabelEncoder\n",
        "from sklearn import preprocessing\n",
        "#creating labelEncoder\n",
        "le = preprocessing.LabelEncoder()"
      ],
      "execution_count": 15,
      "outputs": []
    },
    {
      "cell_type": "code",
      "metadata": {
        "id": "Nosem4IQrnPu",
        "outputId": "a0f24a23-f7bd-4694-cd45-47e01ee96de2",
        "colab": {
          "base_uri": "https://localhost:8080/"
        }
      },
      "source": [
        "# Converting string labels into numbers.\n",
        "weather_encoded=le.fit_transform(weather)\n",
        "weather_encoded"
      ],
      "execution_count": 16,
      "outputs": [
        {
          "output_type": "execute_result",
          "data": {
            "text/plain": [
              "array([2, 2, 0, 1, 1, 1, 0, 2, 2, 1, 2, 0, 0, 1])"
            ]
          },
          "metadata": {
            "tags": []
          },
          "execution_count": 16
        }
      ]
    },
    {
      "cell_type": "code",
      "metadata": {
        "id": "t3Qz4LmlrnSE",
        "outputId": "77d34335-0fc4-474e-810d-d67b07b06151",
        "colab": {
          "base_uri": "https://localhost:8080/"
        }
      },
      "source": [
        "# converting string labels into numbers\n",
        "temp_encoded=le.fit_transform(temp)\n",
        "label=le.fit_transform(play)\n",
        "label"
      ],
      "execution_count": 17,
      "outputs": [
        {
          "output_type": "execute_result",
          "data": {
            "text/plain": [
              "array([0, 0, 1, 1, 1, 0, 1, 0, 1, 1, 1, 1, 1, 0])"
            ]
          },
          "metadata": {
            "tags": []
          },
          "execution_count": 17
        }
      ]
    },
    {
      "cell_type": "code",
      "metadata": {
        "id": "WrCLp8n4rnUz"
      },
      "source": [
        "#combinig weather and temp into single listof tuples\n",
        "features=list(zip(weather_encoded,temp_encoded))"
      ],
      "execution_count": 18,
      "outputs": []
    },
    {
      "cell_type": "markdown",
      "metadata": {
        "id": "eqXJtfJgtIiE"
      },
      "source": [
        "In this example, you have given input [0,2], where 0 means Overcast weather and 2 means Mild temperature. Model predicts [1], which means play."
      ]
    },
    {
      "cell_type": "code",
      "metadata": {
        "id": "pZ5Lkwf3tBvv",
        "outputId": "696dc2a3-24cd-40f5-cdae-fdced0c99c22",
        "colab": {
          "base_uri": "https://localhost:8080/"
        }
      },
      "source": [
        "from sklearn.neighbors import KNeighborsClassifier\n",
        "\n",
        "model = KNeighborsClassifier(n_neighbors=3)\n",
        "\n",
        "# Train the model using the training sets\n",
        "model.fit(features,label)\n",
        "\n",
        "#Predict Output\n",
        "predicted= model.predict([[2,2]]) # 0:Overcast, 2:Mild\n",
        "print(predicted)"
      ],
      "execution_count": 19,
      "outputs": [
        {
          "output_type": "stream",
          "text": [
            "[0]\n"
          ],
          "name": "stdout"
        }
      ]
    },
    {
      "cell_type": "markdown",
      "metadata": {
        "id": "gmCXyhMPtyyL"
      },
      "source": [
        "###Example-3"
      ]
    },
    {
      "cell_type": "code",
      "metadata": {
        "id": "3guTtdXGtByQ"
      },
      "source": [
        "#importing datasets  \n",
        "data_set= pd.read_csv('car.csv')  \n",
        "  \n",
        "#Extracting Independent and dependent Variable  \n",
        "x= data_set.iloc[:, [2,3]].values  \n",
        "y= data_set.iloc[:, 4].values  "
      ],
      "execution_count": 20,
      "outputs": []
    },
    {
      "cell_type": "code",
      "metadata": {
        "id": "yldVzJ3GtB0Y",
        "outputId": "3196e11b-a769-4b01-ff9f-aa85167050b4",
        "colab": {
          "base_uri": "https://localhost:8080/"
        }
      },
      "source": [
        "x, y"
      ],
      "execution_count": 21,
      "outputs": [
        {
          "output_type": "execute_result",
          "data": {
            "text/plain": [
              "(array([[    19,  19000],\n",
              "        [    35,  20000],\n",
              "        [    26,  43000],\n",
              "        [    27,  57000],\n",
              "        [    19,  76000],\n",
              "        [    27,  58000],\n",
              "        [    27,  84000],\n",
              "        [    32, 150000],\n",
              "        [    25,  33000],\n",
              "        [    35,  65000],\n",
              "        [    26,  80000],\n",
              "        [    26,  52000],\n",
              "        [    20,  86000],\n",
              "        [    32,  18000],\n",
              "        [    18,  82000],\n",
              "        [    29,  80000],\n",
              "        [    47,  25000],\n",
              "        [    45,  26000],\n",
              "        [    46,  28000],\n",
              "        [    48,  29000],\n",
              "        [    45,  22000],\n",
              "        [    47,  49000],\n",
              "        [    48,  41000],\n",
              "        [    45,  22000],\n",
              "        [    46,  23000],\n",
              "        [    47,  20000],\n",
              "        [    49,  28000],\n",
              "        [    47,  30000],\n",
              "        [    29,  43000],\n",
              "        [    31,  18000],\n",
              "        [    31,  74000],\n",
              "        [    27, 137000],\n",
              "        [    21,  16000],\n",
              "        [    28,  44000],\n",
              "        [    27,  90000],\n",
              "        [    35,  27000],\n",
              "        [    33,  28000],\n",
              "        [    30,  49000],\n",
              "        [    26,  72000],\n",
              "        [    27,  31000],\n",
              "        [    27,  17000],\n",
              "        [    33,  51000],\n",
              "        [    35, 108000],\n",
              "        [    30,  15000],\n",
              "        [    28,  84000],\n",
              "        [    23,  20000],\n",
              "        [    25,  79000],\n",
              "        [    27,  54000],\n",
              "        [    30, 135000],\n",
              "        [    31,  89000],\n",
              "        [    24,  32000],\n",
              "        [    18,  44000],\n",
              "        [    29,  83000],\n",
              "        [    35,  23000],\n",
              "        [    27,  58000],\n",
              "        [    24,  55000],\n",
              "        [    23,  48000],\n",
              "        [    28,  79000],\n",
              "        [    22,  18000],\n",
              "        [    32, 117000],\n",
              "        [    27,  20000],\n",
              "        [    25,  87000],\n",
              "        [    23,  66000],\n",
              "        [    32, 120000],\n",
              "        [    59,  83000],\n",
              "        [    24,  58000],\n",
              "        [    24,  19000],\n",
              "        [    23,  82000],\n",
              "        [    22,  63000],\n",
              "        [    31,  68000],\n",
              "        [    25,  80000],\n",
              "        [    24,  27000],\n",
              "        [    20,  23000],\n",
              "        [    33, 113000],\n",
              "        [    32,  18000],\n",
              "        [    34, 112000],\n",
              "        [    18,  52000],\n",
              "        [    22,  27000],\n",
              "        [    28,  87000],\n",
              "        [    26,  17000],\n",
              "        [    30,  80000],\n",
              "        [    39,  42000],\n",
              "        [    20,  49000],\n",
              "        [    35,  88000],\n",
              "        [    30,  62000],\n",
              "        [    31, 118000],\n",
              "        [    24,  55000],\n",
              "        [    28,  85000],\n",
              "        [    26,  81000],\n",
              "        [    35,  50000],\n",
              "        [    22,  81000],\n",
              "        [    30, 116000],\n",
              "        [    26,  15000],\n",
              "        [    29,  28000],\n",
              "        [    29,  83000],\n",
              "        [    35,  44000],\n",
              "        [    35,  25000],\n",
              "        [    28, 123000],\n",
              "        [    35,  73000],\n",
              "        [    28,  37000],\n",
              "        [    27,  88000],\n",
              "        [    28,  59000],\n",
              "        [    32,  86000],\n",
              "        [    33, 149000],\n",
              "        [    19,  21000],\n",
              "        [    21,  72000],\n",
              "        [    26,  35000],\n",
              "        [    27,  89000],\n",
              "        [    26,  86000],\n",
              "        [    38,  80000],\n",
              "        [    39,  71000],\n",
              "        [    37,  71000],\n",
              "        [    38,  61000],\n",
              "        [    37,  55000],\n",
              "        [    42,  80000],\n",
              "        [    40,  57000],\n",
              "        [    35,  75000],\n",
              "        [    36,  52000],\n",
              "        [    40,  59000],\n",
              "        [    41,  59000],\n",
              "        [    36,  75000],\n",
              "        [    37,  72000],\n",
              "        [    40,  75000],\n",
              "        [    35,  53000],\n",
              "        [    41,  51000],\n",
              "        [    39,  61000],\n",
              "        [    42,  65000],\n",
              "        [    26,  32000],\n",
              "        [    30,  17000],\n",
              "        [    26,  84000],\n",
              "        [    31,  58000],\n",
              "        [    33,  31000],\n",
              "        [    30,  87000],\n",
              "        [    21,  68000],\n",
              "        [    28,  55000],\n",
              "        [    23,  63000],\n",
              "        [    20,  82000],\n",
              "        [    30, 107000],\n",
              "        [    28,  59000],\n",
              "        [    19,  25000],\n",
              "        [    19,  85000],\n",
              "        [    18,  68000],\n",
              "        [    35,  59000],\n",
              "        [    30,  89000],\n",
              "        [    34,  25000],\n",
              "        [    24,  89000],\n",
              "        [    27,  96000],\n",
              "        [    41,  30000],\n",
              "        [    29,  61000],\n",
              "        [    20,  74000],\n",
              "        [    26,  15000],\n",
              "        [    41,  45000],\n",
              "        [    31,  76000],\n",
              "        [    36,  50000],\n",
              "        [    40,  47000],\n",
              "        [    31,  15000],\n",
              "        [    46,  59000],\n",
              "        [    29,  75000],\n",
              "        [    26,  30000],\n",
              "        [    32, 135000],\n",
              "        [    32, 100000],\n",
              "        [    25,  90000],\n",
              "        [    37,  33000],\n",
              "        [    35,  38000],\n",
              "        [    33,  69000],\n",
              "        [    18,  86000],\n",
              "        [    22,  55000],\n",
              "        [    35,  71000],\n",
              "        [    29, 148000],\n",
              "        [    29,  47000],\n",
              "        [    21,  88000],\n",
              "        [    34, 115000],\n",
              "        [    26, 118000],\n",
              "        [    34,  43000],\n",
              "        [    34,  72000],\n",
              "        [    23,  28000],\n",
              "        [    35,  47000],\n",
              "        [    25,  22000],\n",
              "        [    24,  23000],\n",
              "        [    31,  34000],\n",
              "        [    26,  16000],\n",
              "        [    31,  71000],\n",
              "        [    32, 117000],\n",
              "        [    33,  43000],\n",
              "        [    33,  60000],\n",
              "        [    31,  66000],\n",
              "        [    20,  82000],\n",
              "        [    33,  41000],\n",
              "        [    35,  72000],\n",
              "        [    28,  32000],\n",
              "        [    24,  84000],\n",
              "        [    19,  26000],\n",
              "        [    29,  43000],\n",
              "        [    19,  70000],\n",
              "        [    28,  89000],\n",
              "        [    34,  43000],\n",
              "        [    30,  79000],\n",
              "        [    20,  36000],\n",
              "        [    26,  80000],\n",
              "        [    35,  22000],\n",
              "        [    35,  39000],\n",
              "        [    49,  74000],\n",
              "        [    39, 134000],\n",
              "        [    41,  71000],\n",
              "        [    58, 101000],\n",
              "        [    47,  47000],\n",
              "        [    55, 130000],\n",
              "        [    52, 114000],\n",
              "        [    40, 142000],\n",
              "        [    46,  22000],\n",
              "        [    48,  96000],\n",
              "        [    52, 150000],\n",
              "        [    59,  42000],\n",
              "        [    35,  58000],\n",
              "        [    47,  43000],\n",
              "        [    60, 108000],\n",
              "        [    49,  65000],\n",
              "        [    40,  78000],\n",
              "        [    46,  96000],\n",
              "        [    59, 143000],\n",
              "        [    41,  80000],\n",
              "        [    35,  91000],\n",
              "        [    37, 144000],\n",
              "        [    60, 102000],\n",
              "        [    35,  60000],\n",
              "        [    37,  53000],\n",
              "        [    36, 126000],\n",
              "        [    56, 133000],\n",
              "        [    40,  72000],\n",
              "        [    42,  80000],\n",
              "        [    35, 147000],\n",
              "        [    39,  42000],\n",
              "        [    40, 107000],\n",
              "        [    49,  86000],\n",
              "        [    38, 112000],\n",
              "        [    46,  79000],\n",
              "        [    40,  57000],\n",
              "        [    37,  80000],\n",
              "        [    46,  82000],\n",
              "        [    53, 143000],\n",
              "        [    42, 149000],\n",
              "        [    38,  59000],\n",
              "        [    50,  88000],\n",
              "        [    56, 104000],\n",
              "        [    41,  72000],\n",
              "        [    51, 146000],\n",
              "        [    35,  50000],\n",
              "        [    57, 122000],\n",
              "        [    41,  52000],\n",
              "        [    35,  97000],\n",
              "        [    44,  39000],\n",
              "        [    37,  52000],\n",
              "        [    48, 134000],\n",
              "        [    37, 146000],\n",
              "        [    50,  44000],\n",
              "        [    52,  90000],\n",
              "        [    41,  72000],\n",
              "        [    40,  57000],\n",
              "        [    58,  95000],\n",
              "        [    45, 131000],\n",
              "        [    35,  77000],\n",
              "        [    36, 144000],\n",
              "        [    55, 125000],\n",
              "        [    35,  72000],\n",
              "        [    48,  90000],\n",
              "        [    42, 108000],\n",
              "        [    40,  75000],\n",
              "        [    37,  74000],\n",
              "        [    47, 144000],\n",
              "        [    40,  61000],\n",
              "        [    43, 133000],\n",
              "        [    59,  76000],\n",
              "        [    60,  42000],\n",
              "        [    39, 106000],\n",
              "        [    57,  26000],\n",
              "        [    57,  74000],\n",
              "        [    38,  71000],\n",
              "        [    49,  88000],\n",
              "        [    52,  38000],\n",
              "        [    50,  36000],\n",
              "        [    59,  88000],\n",
              "        [    35,  61000],\n",
              "        [    37,  70000],\n",
              "        [    52,  21000],\n",
              "        [    48, 141000],\n",
              "        [    37,  93000],\n",
              "        [    37,  62000],\n",
              "        [    48, 138000],\n",
              "        [    41,  79000],\n",
              "        [    37,  78000],\n",
              "        [    39, 134000],\n",
              "        [    49,  89000],\n",
              "        [    55,  39000],\n",
              "        [    37,  77000],\n",
              "        [    35,  57000],\n",
              "        [    36,  63000],\n",
              "        [    42,  73000],\n",
              "        [    43, 112000],\n",
              "        [    45,  79000],\n",
              "        [    46, 117000],\n",
              "        [    58,  38000],\n",
              "        [    48,  74000],\n",
              "        [    37, 137000],\n",
              "        [    37,  79000],\n",
              "        [    40,  60000],\n",
              "        [    42,  54000],\n",
              "        [    51, 134000],\n",
              "        [    47, 113000],\n",
              "        [    36, 125000],\n",
              "        [    38,  50000],\n",
              "        [    42,  70000],\n",
              "        [    39,  96000],\n",
              "        [    38,  50000],\n",
              "        [    49, 141000],\n",
              "        [    39,  79000],\n",
              "        [    39,  75000],\n",
              "        [    54, 104000],\n",
              "        [    35,  55000],\n",
              "        [    45,  32000],\n",
              "        [    36,  60000],\n",
              "        [    52, 138000],\n",
              "        [    53,  82000],\n",
              "        [    41,  52000],\n",
              "        [    48,  30000],\n",
              "        [    48, 131000],\n",
              "        [    41,  60000],\n",
              "        [    41,  72000],\n",
              "        [    42,  75000],\n",
              "        [    36, 118000],\n",
              "        [    47, 107000],\n",
              "        [    38,  51000],\n",
              "        [    48, 119000],\n",
              "        [    42,  65000],\n",
              "        [    40,  65000],\n",
              "        [    57,  60000],\n",
              "        [    36,  54000],\n",
              "        [    58, 144000],\n",
              "        [    35,  79000],\n",
              "        [    38,  55000],\n",
              "        [    39, 122000],\n",
              "        [    53, 104000],\n",
              "        [    35,  75000],\n",
              "        [    38,  65000],\n",
              "        [    47,  51000],\n",
              "        [    47, 105000],\n",
              "        [    41,  63000],\n",
              "        [    53,  72000],\n",
              "        [    54, 108000],\n",
              "        [    39,  77000],\n",
              "        [    38,  61000],\n",
              "        [    38, 113000],\n",
              "        [    37,  75000],\n",
              "        [    42,  90000],\n",
              "        [    37,  57000],\n",
              "        [    36,  99000],\n",
              "        [    60,  34000],\n",
              "        [    54,  70000],\n",
              "        [    41,  72000],\n",
              "        [    40,  71000],\n",
              "        [    42,  54000],\n",
              "        [    43, 129000],\n",
              "        [    53,  34000],\n",
              "        [    47,  50000],\n",
              "        [    42,  79000],\n",
              "        [    42, 104000],\n",
              "        [    59,  29000],\n",
              "        [    58,  47000],\n",
              "        [    46,  88000],\n",
              "        [    38,  71000],\n",
              "        [    54,  26000],\n",
              "        [    60,  46000],\n",
              "        [    60,  83000],\n",
              "        [    39,  73000],\n",
              "        [    59, 130000],\n",
              "        [    37,  80000],\n",
              "        [    46,  32000],\n",
              "        [    46,  74000],\n",
              "        [    42,  53000],\n",
              "        [    41,  87000],\n",
              "        [    58,  23000],\n",
              "        [    42,  64000],\n",
              "        [    48,  33000],\n",
              "        [    44, 139000],\n",
              "        [    49,  28000],\n",
              "        [    57,  33000],\n",
              "        [    56,  60000],\n",
              "        [    49,  39000],\n",
              "        [    39,  71000],\n",
              "        [    47,  34000],\n",
              "        [    48,  35000],\n",
              "        [    48,  33000],\n",
              "        [    47,  23000],\n",
              "        [    45,  45000],\n",
              "        [    60,  42000],\n",
              "        [    39,  59000],\n",
              "        [    46,  41000],\n",
              "        [    51,  23000],\n",
              "        [    50,  20000],\n",
              "        [    36,  33000],\n",
              "        [    49,  36000]]),\n",
              " array([0, 0, 0, 0, 0, 0, 0, 1, 0, 0, 0, 0, 0, 0, 0, 0, 1, 1, 1, 1, 1, 1,\n",
              "        1, 1, 1, 1, 1, 1, 0, 0, 0, 1, 0, 0, 0, 0, 0, 0, 0, 0, 0, 0, 0, 0,\n",
              "        0, 0, 0, 0, 1, 0, 0, 0, 0, 0, 0, 0, 0, 0, 0, 0, 0, 0, 0, 1, 0, 0,\n",
              "        0, 0, 0, 0, 0, 0, 0, 0, 0, 1, 0, 0, 0, 0, 0, 0, 0, 0, 0, 1, 0, 0,\n",
              "        0, 0, 0, 0, 0, 0, 0, 0, 0, 1, 0, 0, 0, 0, 0, 1, 0, 0, 0, 0, 0, 0,\n",
              "        0, 0, 0, 0, 0, 0, 0, 0, 0, 0, 0, 0, 0, 0, 0, 0, 0, 0, 0, 0, 0, 0,\n",
              "        0, 0, 0, 0, 0, 1, 0, 0, 0, 0, 0, 0, 0, 0, 1, 0, 0, 0, 0, 0, 0, 0,\n",
              "        0, 0, 0, 0, 0, 1, 1, 0, 0, 0, 0, 0, 0, 0, 1, 0, 0, 0, 0, 0, 0, 0,\n",
              "        0, 0, 0, 0, 0, 0, 1, 0, 0, 0, 0, 0, 0, 0, 0, 0, 0, 0, 0, 0, 0, 0,\n",
              "        0, 0, 0, 0, 1, 0, 1, 0, 1, 0, 1, 0, 1, 1, 0, 0, 0, 1, 0, 0, 0, 1,\n",
              "        0, 1, 1, 1, 0, 0, 1, 1, 0, 1, 1, 0, 1, 1, 0, 1, 0, 0, 0, 1, 1, 0,\n",
              "        1, 1, 0, 1, 0, 1, 0, 1, 0, 0, 1, 1, 0, 1, 0, 0, 1, 1, 0, 1, 1, 0,\n",
              "        1, 1, 0, 0, 1, 0, 0, 1, 1, 1, 1, 1, 0, 1, 1, 1, 1, 0, 1, 1, 0, 1,\n",
              "        0, 1, 0, 1, 1, 1, 1, 0, 0, 0, 1, 1, 0, 1, 1, 1, 1, 1, 0, 0, 0, 1,\n",
              "        1, 0, 0, 1, 0, 1, 0, 1, 1, 0, 1, 0, 1, 1, 0, 1, 1, 0, 0, 0, 1, 1,\n",
              "        0, 1, 0, 0, 1, 0, 1, 0, 0, 1, 1, 0, 0, 1, 1, 0, 1, 1, 0, 0, 1, 0,\n",
              "        1, 0, 1, 1, 1, 0, 1, 0, 1, 1, 1, 0, 1, 1, 1, 1, 0, 1, 1, 1, 0, 1,\n",
              "        0, 1, 0, 0, 1, 1, 0, 1, 1, 1, 1, 1, 1, 0, 1, 1, 1, 1, 1, 1, 0, 1,\n",
              "        1, 1, 0, 1]))"
            ]
          },
          "metadata": {
            "tags": []
          },
          "execution_count": 21
        }
      ]
    },
    {
      "cell_type": "code",
      "metadata": {
        "id": "g04IHT8wtB2w"
      },
      "source": [
        "# Splitting the dataset into training and test set.  \n",
        "from sklearn.model_selection import train_test_split  \n",
        "x_train, x_test, y_train, y_test= train_test_split(x, y, test_size= 0.25, random_state=0)  "
      ],
      "execution_count": 22,
      "outputs": []
    },
    {
      "cell_type": "code",
      "metadata": {
        "id": "7mtZL_g3tB5s"
      },
      "source": [
        "#feature Scaling  \n",
        "from sklearn.preprocessing import StandardScaler    \n",
        "st_x= StandardScaler()    \n",
        "x_train= st_x.fit_transform(x_train)    \n",
        "x_test= st_x.transform(x_test)  "
      ],
      "execution_count": 23,
      "outputs": []
    },
    {
      "cell_type": "code",
      "metadata": {
        "id": "ysVCNrvrtB8F",
        "outputId": "9560594f-076b-4cd4-fdd3-3adf88d56bdf",
        "colab": {
          "base_uri": "https://localhost:8080/"
        }
      },
      "source": [
        "#Fitting K-NN classifier to the training set  \n",
        "from sklearn.neighbors import KNeighborsClassifier  \n",
        "classifier= KNeighborsClassifier(n_neighbors=5 )  \n",
        "classifier.fit(x_train, y_train)  "
      ],
      "execution_count": 24,
      "outputs": [
        {
          "output_type": "execute_result",
          "data": {
            "text/plain": [
              "KNeighborsClassifier(algorithm='auto', leaf_size=30, metric='minkowski',\n",
              "                     metric_params=None, n_jobs=None, n_neighbors=5, p=2,\n",
              "                     weights='uniform')"
            ]
          },
          "metadata": {
            "tags": []
          },
          "execution_count": 24
        }
      ]
    },
    {
      "cell_type": "code",
      "metadata": {
        "id": "h84qIdZytB-B"
      },
      "source": [
        "#Predicting the test set result  \n",
        "y_pred= classifier.predict(x_test)  "
      ],
      "execution_count": 25,
      "outputs": []
    },
    {
      "cell_type": "code",
      "metadata": {
        "id": "BzHSJk39tCAR",
        "outputId": "3487a8b2-81be-490c-df11-8ccb9b25a567",
        "colab": {
          "base_uri": "https://localhost:8080/"
        }
      },
      "source": [
        "#Creating the Confusion matrix  \n",
        "from sklearn.metrics import confusion_matrix  \n",
        "cm= confusion_matrix(y_test, y_pred)\n",
        "cm"
      ],
      "execution_count": 26,
      "outputs": [
        {
          "output_type": "execute_result",
          "data": {
            "text/plain": [
              "array([[64,  4],\n",
              "       [ 3, 29]])"
            ]
          },
          "metadata": {
            "tags": []
          },
          "execution_count": 26
        }
      ]
    },
    {
      "cell_type": "code",
      "metadata": {
        "id": "i8sC7ToyuL5O",
        "outputId": "5d678a98-2e30-4918-a3ec-be7da3bbba06",
        "colab": {
          "base_uri": "https://localhost:8080/"
        }
      },
      "source": [
        "# accuracy score\n",
        "from sklearn.metrics import accuracy_score\n",
        "ac= accuracy_score(y_test, y_pred)\n",
        "ac"
      ],
      "execution_count": 27,
      "outputs": [
        {
          "output_type": "execute_result",
          "data": {
            "text/plain": [
              "0.93"
            ]
          },
          "metadata": {
            "tags": []
          },
          "execution_count": 27
        }
      ]
    },
    {
      "cell_type": "code",
      "metadata": {
        "id": "Nf8YqyZvuL7o",
        "outputId": "18220c1a-23de-427f-8e19-d0899ba21844",
        "colab": {
          "base_uri": "https://localhost:8080/",
          "height": 349
        }
      },
      "source": [
        "#Visulaizing the trianing set result  \n",
        "from matplotlib.colors import ListedColormap  \n",
        "x_set, y_set = x_train, y_train  \n",
        "x1, x2 = np.meshgrid(np.arange(start = x_set[:, 0].min() - 1, stop = x_set[:, 0].max() + 1, step  =0.01),  \n",
        "np.arange(start = x_set[:, 1].min() - 1, stop = x_set[:, 1].max() + 1, step = 0.01))  \n",
        "plt.contourf(x1, x2, classifier.predict(np.array([x1.ravel(), x2.ravel()]).T).reshape(x1.shape),  \n",
        "alpha = 0.75, cmap = ListedColormap(('red','green' )))  \n",
        "plt.xlim(x1.min(), x1.max())  \n",
        "plt.ylim(x2.min(), x2.max())  \n",
        "for i, j in enumerate(np.unique(y_set)):  \n",
        "    plt.scatter(x_set[y_set == j, 0], x_set[y_set == j, 1],  \n",
        "        c = ListedColormap(('red', 'green'))(i), label = j)  \n",
        "plt.title('K-NN Algorithm (Training set)')  \n",
        "plt.xlabel('Age')  \n",
        "plt.ylabel('Estimated Salary')  \n",
        "plt.legend()  \n",
        "plt.show()  "
      ],
      "execution_count": 28,
      "outputs": [
        {
          "output_type": "stream",
          "text": [
            "*c* argument looks like a single numeric RGB or RGBA sequence, which should be avoided as value-mapping will have precedence in case its length matches with *x* & *y*.  Please use the *color* keyword-argument or provide a 2-D array with a single row if you intend to specify the same RGB or RGBA value for all points.\n",
            "*c* argument looks like a single numeric RGB or RGBA sequence, which should be avoided as value-mapping will have precedence in case its length matches with *x* & *y*.  Please use the *color* keyword-argument or provide a 2-D array with a single row if you intend to specify the same RGB or RGBA value for all points.\n"
          ],
          "name": "stderr"
        },
        {
          "output_type": "display_data",
          "data": {
            "image/png": "[encoded data removed]",
            "text/plain": [
              "<Figure size 432x288 with 1 Axes>"
            ]
          },
          "metadata": {
            "tags": [],
            "needs_background": "light"
          }
        }
      ]
    },
    {
      "cell_type": "markdown",
      "metadata": {
        "id": "ibZNKDJVuTr6"
      },
      "source": [
        "##KNN as Regressor"
      ]
    },
    {
      "cell_type": "code",
      "metadata": {
        "id": "0nQ53sUkuL9-"
      },
      "source": [
        "#import the dataset\n",
        "dataset=pd.read_csv('https://archive.ics.uci.edu/ml/machine-learning-databases/iris/iris.data')\n",
        "X=dataset.iloc[:,:-1].values    # predictor attributes\n",
        "y=dataset.iloc[:,-1].values     # target attributes"
      ],
      "execution_count": 29,
      "outputs": []
    },
    {
      "cell_type": "code",
      "metadata": {
        "id": "yScnSdOduMAX",
        "outputId": "e86f676d-84e1-4a79-f19d-3caa5f84ef3b",
        "colab": {
          "base_uri": "https://localhost:8080/",
          "height": 195
        }
      },
      "source": [
        "dataset.head()"
      ],
      "execution_count": 30,
      "outputs": [
        {
          "output_type": "execute_result",
          "data": {
            "text/html": [
              "<div>\n",
              "<style scoped>\n",
              "    .dataframe tbody tr th:only-of-type {\n",
              "        vertical-align: middle;\n",
              "    }\n",
              "\n",
              "    .dataframe tbody tr th {\n",
              "        vertical-align: top;\n",
              "    }\n",
              "\n",
              "    .dataframe thead th {\n",
              "        text-align: right;\n",
              "    }\n",
              "</style>\n",
              "<table border=\"1\" class=\"dataframe\">\n",
              "  <thead>\n",
              "    <tr style=\"text-align: right;\">\n",
              "      <th></th>\n",
              "      <th>5.1</th>\n",
              "      <th>3.5</th>\n",
              "      <th>1.4</th>\n",
              "      <th>0.2</th>\n",
              "      <th>Iris-setosa</th>\n",
              "    </tr>\n",
              "  </thead>\n",
              "  <tbody>\n",
              "    <tr>\n",
              "      <th>0</th>\n",
              "      <td>4.9</td>\n",
              "      <td>3.0</td>\n",
              "      <td>1.4</td>\n",
              "      <td>0.2</td>\n",
              "      <td>Iris-setosa</td>\n",
              "    </tr>\n",
              "    <tr>\n",
              "      <th>1</th>\n",
              "      <td>4.7</td>\n",
              "      <td>3.2</td>\n",
              "      <td>1.3</td>\n",
              "      <td>0.2</td>\n",
              "      <td>Iris-setosa</td>\n",
              "    </tr>\n",
              "    <tr>\n",
              "      <th>2</th>\n",
              "      <td>4.6</td>\n",
              "      <td>3.1</td>\n",
              "      <td>1.5</td>\n",
              "      <td>0.2</td>\n",
              "      <td>Iris-setosa</td>\n",
              "    </tr>\n",
              "    <tr>\n",
              "      <th>3</th>\n",
              "      <td>5.0</td>\n",
              "      <td>3.6</td>\n",
              "      <td>1.4</td>\n",
              "      <td>0.2</td>\n",
              "      <td>Iris-setosa</td>\n",
              "    </tr>\n",
              "    <tr>\n",
              "      <th>4</th>\n",
              "      <td>5.4</td>\n",
              "      <td>3.9</td>\n",
              "      <td>1.7</td>\n",
              "      <td>0.4</td>\n",
              "      <td>Iris-setosa</td>\n",
              "    </tr>\n",
              "  </tbody>\n",
              "</table>\n",
              "</div>"
            ],
            "text/plain": [
              "   5.1  3.5  1.4  0.2  Iris-setosa\n",
              "0  4.9  3.0  1.4  0.2  Iris-setosa\n",
              "1  4.7  3.2  1.3  0.2  Iris-setosa\n",
              "2  4.6  3.1  1.5  0.2  Iris-setosa\n",
              "3  5.0  3.6  1.4  0.2  Iris-setosa\n",
              "4  5.4  3.9  1.7  0.4  Iris-setosa"
            ]
          },
          "metadata": {
            "tags": []
          },
          "execution_count": 30
        }
      ]
    },
    {
      "cell_type": "code",
      "metadata": {
        "id": "oEcYKkw9uMC1",
        "outputId": "eccfec12-0402-4011-adad-6d0462b82289",
        "colab": {
          "base_uri": "https://localhost:8080/"
        }
      },
      "source": [
        "from sklearn.neighbors import KNeighborsRegressor\n",
        "knnr = KNeighborsRegressor(n_neighbors = 10)\n",
        "knnr.fit(X, y)"
      ],
      "execution_count": 31,
      "outputs": [
        {
          "output_type": "execute_result",
          "data": {
            "text/plain": [
              "KNeighborsRegressor(algorithm='auto', leaf_size=30, metric='minkowski',\n",
              "                    metric_params=None, n_jobs=None, n_neighbors=10, p=2,\n",
              "                    weights='uniform')"
            ]
          },
          "metadata": {
            "tags": []
          },
          "execution_count": 31
        }
      ]
    },
    {
      "cell_type": "code",
      "metadata": {
        "id": "EHFqx2dmuMFa",
        "outputId": "fa177eb5-5a30-4e47-8397-ae1b84a14a34",
        "colab": {
          "base_uri": "https://localhost:8080/"
        }
      },
      "source": [
        "from sklearn.metrics import accuracy_score\n",
        "result2 = accuracy_score(y_test,y_pred)\n",
        "print(\"Accuracy:\",result2)"
      ],
      "execution_count": 32,
      "outputs": [
        {
          "output_type": "stream",
          "text": [
            "Accuracy: 0.93\n"
          ],
          "name": "stdout"
        }
      ]
    },
    {
      "cell_type": "markdown",
      "metadata": {
        "id": "KtFaMwWfuilu"
      },
      "source": [
        "##PCA"
      ]
    },
    {
      "cell_type": "code",
      "metadata": {
        "id": "nlaqXIEGuMHf"
      },
      "source": [
        "import pandas as pd\n",
        "url = \"https://archive.ics.uci.edu/ml/machine-learning-databases/iris/iris.data\"\n",
        "# load dataset into Pandas DataFrame\n",
        "df = pd.read_csv(url, names=['sepal length','sepal width','petal length','petal width','target'])"
      ],
      "execution_count": 33,
      "outputs": []
    },
    {
      "cell_type": "code",
      "metadata": {
        "id": "lrZTNlP4uMJ2",
        "outputId": "9e515274-374b-440c-e427-e630b689f2b0",
        "colab": {
          "base_uri": "https://localhost:8080/",
          "height": 195
        }
      },
      "source": [
        "df.head()"
      ],
      "execution_count": 34,
      "outputs": [
        {
          "output_type": "execute_result",
          "data": {
            "text/html": [
              "<div>\n",
              "<style scoped>\n",
              "    .dataframe tbody tr th:only-of-type {\n",
              "        vertical-align: middle;\n",
              "    }\n",
              "\n",
              "    .dataframe tbody tr th {\n",
              "        vertical-align: top;\n",
              "    }\n",
              "\n",
              "    .dataframe thead th {\n",
              "        text-align: right;\n",
              "    }\n",
              "</style>\n",
              "<table border=\"1\" class=\"dataframe\">\n",
              "  <thead>\n",
              "    <tr style=\"text-align: right;\">\n",
              "      <th></th>\n",
              "      <th>sepal length</th>\n",
              "      <th>sepal width</th>\n",
              "      <th>petal length</th>\n",
              "      <th>petal width</th>\n",
              "      <th>target</th>\n",
              "    </tr>\n",
              "  </thead>\n",
              "  <tbody>\n",
              "    <tr>\n",
              "      <th>0</th>\n",
              "      <td>5.1</td>\n",
              "      <td>3.5</td>\n",
              "      <td>1.4</td>\n",
              "      <td>0.2</td>\n",
              "      <td>Iris-setosa</td>\n",
              "    </tr>\n",
              "    <tr>\n",
              "      <th>1</th>\n",
              "      <td>4.9</td>\n",
              "      <td>3.0</td>\n",
              "      <td>1.4</td>\n",
              "      <td>0.2</td>\n",
              "      <td>Iris-setosa</td>\n",
              "    </tr>\n",
              "    <tr>\n",
              "      <th>2</th>\n",
              "      <td>4.7</td>\n",
              "      <td>3.2</td>\n",
              "      <td>1.3</td>\n",
              "      <td>0.2</td>\n",
              "      <td>Iris-setosa</td>\n",
              "    </tr>\n",
              "    <tr>\n",
              "      <th>3</th>\n",
              "      <td>4.6</td>\n",
              "      <td>3.1</td>\n",
              "      <td>1.5</td>\n",
              "      <td>0.2</td>\n",
              "      <td>Iris-setosa</td>\n",
              "    </tr>\n",
              "    <tr>\n",
              "      <th>4</th>\n",
              "      <td>5.0</td>\n",
              "      <td>3.6</td>\n",
              "      <td>1.4</td>\n",
              "      <td>0.2</td>\n",
              "      <td>Iris-setosa</td>\n",
              "    </tr>\n",
              "  </tbody>\n",
              "</table>\n",
              "</div>"
            ],
            "text/plain": [
              "   sepal length  sepal width  petal length  petal width       target\n",
              "0           5.1          3.5           1.4          0.2  Iris-setosa\n",
              "1           4.9          3.0           1.4          0.2  Iris-setosa\n",
              "2           4.7          3.2           1.3          0.2  Iris-setosa\n",
              "3           4.6          3.1           1.5          0.2  Iris-setosa\n",
              "4           5.0          3.6           1.4          0.2  Iris-setosa"
            ]
          },
          "metadata": {
            "tags": []
          },
          "execution_count": 34
        }
      ]
    },
    {
      "cell_type": "code",
      "metadata": {
        "id": "lGWkzT_SuMMV",
        "outputId": "ceb13077-8044-4627-a30a-be8314ad564a",
        "colab": {
          "base_uri": "https://localhost:8080/",
          "height": 254
        }
      },
      "source": [
        "df.head(7)"
      ],
      "execution_count": 35,
      "outputs": [
        {
          "output_type": "execute_result",
          "data": {
            "text/html": [
              "<div>\n",
              "<style scoped>\n",
              "    .dataframe tbody tr th:only-of-type {\n",
              "        vertical-align: middle;\n",
              "    }\n",
              "\n",
              "    .dataframe tbody tr th {\n",
              "        vertical-align: top;\n",
              "    }\n",
              "\n",
              "    .dataframe thead th {\n",
              "        text-align: right;\n",
              "    }\n",
              "</style>\n",
              "<table border=\"1\" class=\"dataframe\">\n",
              "  <thead>\n",
              "    <tr style=\"text-align: right;\">\n",
              "      <th></th>\n",
              "      <th>sepal length</th>\n",
              "      <th>sepal width</th>\n",
              "      <th>petal length</th>\n",
              "      <th>petal width</th>\n",
              "      <th>target</th>\n",
              "    </tr>\n",
              "  </thead>\n",
              "  <tbody>\n",
              "    <tr>\n",
              "      <th>0</th>\n",
              "      <td>5.1</td>\n",
              "      <td>3.5</td>\n",
              "      <td>1.4</td>\n",
              "      <td>0.2</td>\n",
              "      <td>Iris-setosa</td>\n",
              "    </tr>\n",
              "    <tr>\n",
              "      <th>1</th>\n",
              "      <td>4.9</td>\n",
              "      <td>3.0</td>\n",
              "      <td>1.4</td>\n",
              "      <td>0.2</td>\n",
              "      <td>Iris-setosa</td>\n",
              "    </tr>\n",
              "    <tr>\n",
              "      <th>2</th>\n",
              "      <td>4.7</td>\n",
              "      <td>3.2</td>\n",
              "      <td>1.3</td>\n",
              "      <td>0.2</td>\n",
              "      <td>Iris-setosa</td>\n",
              "    </tr>\n",
              "    <tr>\n",
              "      <th>3</th>\n",
              "      <td>4.6</td>\n",
              "      <td>3.1</td>\n",
              "      <td>1.5</td>\n",
              "      <td>0.2</td>\n",
              "      <td>Iris-setosa</td>\n",
              "    </tr>\n",
              "    <tr>\n",
              "      <th>4</th>\n",
              "      <td>5.0</td>\n",
              "      <td>3.6</td>\n",
              "      <td>1.4</td>\n",
              "      <td>0.2</td>\n",
              "      <td>Iris-setosa</td>\n",
              "    </tr>\n",
              "    <tr>\n",
              "      <th>5</th>\n",
              "      <td>5.4</td>\n",
              "      <td>3.9</td>\n",
              "      <td>1.7</td>\n",
              "      <td>0.4</td>\n",
              "      <td>Iris-setosa</td>\n",
              "    </tr>\n",
              "    <tr>\n",
              "      <th>6</th>\n",
              "      <td>4.6</td>\n",
              "      <td>3.4</td>\n",
              "      <td>1.4</td>\n",
              "      <td>0.3</td>\n",
              "      <td>Iris-setosa</td>\n",
              "    </tr>\n",
              "  </tbody>\n",
              "</table>\n",
              "</div>"
            ],
            "text/plain": [
              "   sepal length  sepal width  petal length  petal width       target\n",
              "0           5.1          3.5           1.4          0.2  Iris-setosa\n",
              "1           4.9          3.0           1.4          0.2  Iris-setosa\n",
              "2           4.7          3.2           1.3          0.2  Iris-setosa\n",
              "3           4.6          3.1           1.5          0.2  Iris-setosa\n",
              "4           5.0          3.6           1.4          0.2  Iris-setosa\n",
              "5           5.4          3.9           1.7          0.4  Iris-setosa\n",
              "6           4.6          3.4           1.4          0.3  Iris-setosa"
            ]
          },
          "metadata": {
            "tags": []
          },
          "execution_count": 35
        }
      ]
    },
    {
      "cell_type": "code",
      "metadata": {
        "id": "CsF0HTl_utko",
        "outputId": "907208e6-30d2-4d13-eae0-ae9223f85621",
        "colab": {
          "base_uri": "https://localhost:8080/"
        }
      },
      "source": [
        "from sklearn.preprocessing import StandardScaler\n",
        "features = ['sepal length', 'sepal width', 'petal length', 'petal width']\n",
        "# Separating out the features\n",
        "x = df.loc[:, features].values\n",
        "# Separating out the target\n",
        "y = df.loc[:,['target']].values\n",
        "x, y"
      ],
      "execution_count": 36,
      "outputs": [
        {
          "output_type": "execute_result",
          "data": {
            "text/plain": [
              "(array([[5.1, 3.5, 1.4, 0.2],\n",
              "        [4.9, 3. , 1.4, 0.2],\n",
              "        [4.7, 3.2, 1.3, 0.2],\n",
              "        [4.6, 3.1, 1.5, 0.2],\n",
              "        [5. , 3.6, 1.4, 0.2],\n",
              "        [5.4, 3.9, 1.7, 0.4],\n",
              "        [4.6, 3.4, 1.4, 0.3],\n",
              "        [5. , 3.4, 1.5, 0.2],\n",
              "        [4.4, 2.9, 1.4, 0.2],\n",
              "        [4.9, 3.1, 1.5, 0.1],\n",
              "        [5.4, 3.7, 1.5, 0.2],\n",
              "        [4.8, 3.4, 1.6, 0.2],\n",
              "        [4.8, 3. , 1.4, 0.1],\n",
              "        [4.3, 3. , 1.1, 0.1],\n",
              "        [5.8, 4. , 1.2, 0.2],\n",
              "        [5.7, 4.4, 1.5, 0.4],\n",
              "        [5.4, 3.9, 1.3, 0.4],\n",
              "        [5.1, 3.5, 1.4, 0.3],\n",
              "        [5.7, 3.8, 1.7, 0.3],\n",
              "        [5.1, 3.8, 1.5, 0.3],\n",
              "        [5.4, 3.4, 1.7, 0.2],\n",
              "        [5.1, 3.7, 1.5, 0.4],\n",
              "        [4.6, 3.6, 1. , 0.2],\n",
              "        [5.1, 3.3, 1.7, 0.5],\n",
              "        [4.8, 3.4, 1.9, 0.2],\n",
              "        [5. , 3. , 1.6, 0.2],\n",
              "        [5. , 3.4, 1.6, 0.4],\n",
              "        [5.2, 3.5, 1.5, 0.2],\n",
              "        [5.2, 3.4, 1.4, 0.2],\n",
              "        [4.7, 3.2, 1.6, 0.2],\n",
              "        [4.8, 3.1, 1.6, 0.2],\n",
              "        [5.4, 3.4, 1.5, 0.4],\n",
              "        [5.2, 4.1, 1.5, 0.1],\n",
              "        [5.5, 4.2, 1.4, 0.2],\n",
              "        [4.9, 3.1, 1.5, 0.1],\n",
              "        [5. , 3.2, 1.2, 0.2],\n",
              "        [5.5, 3.5, 1.3, 0.2],\n",
              "        [4.9, 3.1, 1.5, 0.1],\n",
              "        [4.4, 3. , 1.3, 0.2],\n",
              "        [5.1, 3.4, 1.5, 0.2],\n",
              "        [5. , 3.5, 1.3, 0.3],\n",
              "        [4.5, 2.3, 1.3, 0.3],\n",
              "        [4.4, 3.2, 1.3, 0.2],\n",
              "        [5. , 3.5, 1.6, 0.6],\n",
              "        [5.1, 3.8, 1.9, 0.4],\n",
              "        [4.8, 3. , 1.4, 0.3],\n",
              "        [5.1, 3.8, 1.6, 0.2],\n",
              "        [4.6, 3.2, 1.4, 0.2],\n",
              "        [5.3, 3.7, 1.5, 0.2],\n",
              "        [5. , 3.3, 1.4, 0.2],\n",
              "        [7. , 3.2, 4.7, 1.4],\n",
              "        [6.4, 3.2, 4.5, 1.5],\n",
              "        [6.9, 3.1, 4.9, 1.5],\n",
              "        [5.5, 2.3, 4. , 1.3],\n",
              "        [6.5, 2.8, 4.6, 1.5],\n",
              "        [5.7, 2.8, 4.5, 1.3],\n",
              "        [6.3, 3.3, 4.7, 1.6],\n",
              "        [4.9, 2.4, 3.3, 1. ],\n",
              "        [6.6, 2.9, 4.6, 1.3],\n",
              "        [5.2, 2.7, 3.9, 1.4],\n",
              "        [5. , 2. , 3.5, 1. ],\n",
              "        [5.9, 3. , 4.2, 1.5],\n",
              "        [6. , 2.2, 4. , 1. ],\n",
              "        [6.1, 2.9, 4.7, 1.4],\n",
              "        [5.6, 2.9, 3.6, 1.3],\n",
              "        [6.7, 3.1, 4.4, 1.4],\n",
              "        [5.6, 3. , 4.5, 1.5],\n",
              "        [5.8, 2.7, 4.1, 1. ],\n",
              "        [6.2, 2.2, 4.5, 1.5],\n",
              "        [5.6, 2.5, 3.9, 1.1],\n",
              "        [5.9, 3.2, 4.8, 1.8],\n",
              "        [6.1, 2.8, 4. , 1.3],\n",
              "        [6.3, 2.5, 4.9, 1.5],\n",
              "        [6.1, 2.8, 4.7, 1.2],\n",
              "        [6.4, 2.9, 4.3, 1.3],\n",
              "        [6.6, 3. , 4.4, 1.4],\n",
              "        [6.8, 2.8, 4.8, 1.4],\n",
              "        [6.7, 3. , 5. , 1.7],\n",
              "        [6. , 2.9, 4.5, 1.5],\n",
              "        [5.7, 2.6, 3.5, 1. ],\n",
              "        [5.5, 2.4, 3.8, 1.1],\n",
              "        [5.5, 2.4, 3.7, 1. ],\n",
              "        [5.8, 2.7, 3.9, 1.2],\n",
              "        [6. , 2.7, 5.1, 1.6],\n",
              "        [5.4, 3. , 4.5, 1.5],\n",
              "        [6. , 3.4, 4.5, 1.6],\n",
              "        [6.7, 3.1, 4.7, 1.5],\n",
              "        [6.3, 2.3, 4.4, 1.3],\n",
              "        [5.6, 3. , 4.1, 1.3],\n",
              "        [5.5, 2.5, 4. , 1.3],\n",
              "        [5.5, 2.6, 4.4, 1.2],\n",
              "        [6.1, 3. , 4.6, 1.4],\n",
              "        [5.8, 2.6, 4. , 1.2],\n",
              "        [5. , 2.3, 3.3, 1. ],\n",
              "        [5.6, 2.7, 4.2, 1.3],\n",
              "        [5.7, 3. , 4.2, 1.2],\n",
              "        [5.7, 2.9, 4.2, 1.3],\n",
              "        [6.2, 2.9, 4.3, 1.3],\n",
              "        [5.1, 2.5, 3. , 1.1],\n",
              "        [5.7, 2.8, 4.1, 1.3],\n",
              "        [6.3, 3.3, 6. , 2.5],\n",
              "        [5.8, 2.7, 5.1, 1.9],\n",
              "        [7.1, 3. , 5.9, 2.1],\n",
              "        [6.3, 2.9, 5.6, 1.8],\n",
              "        [6.5, 3. , 5.8, 2.2],\n",
              "        [7.6, 3. , 6.6, 2.1],\n",
              "        [4.9, 2.5, 4.5, 1.7],\n",
              "        [7.3, 2.9, 6.3, 1.8],\n",
              "        [6.7, 2.5, 5.8, 1.8],\n",
              "        [7.2, 3.6, 6.1, 2.5],\n",
              "        [6.5, 3.2, 5.1, 2. ],\n",
              "        [6.4, 2.7, 5.3, 1.9],\n",
              "        [6.8, 3. , 5.5, 2.1],\n",
              "        [5.7, 2.5, 5. , 2. ],\n",
              "        [5.8, 2.8, 5.1, 2.4],\n",
              "        [6.4, 3.2, 5.3, 2.3],\n",
              "        [6.5, 3. , 5.5, 1.8],\n",
              "        [7.7, 3.8, 6.7, 2.2],\n",
              "        [7.7, 2.6, 6.9, 2.3],\n",
              "        [6. , 2.2, 5. , 1.5],\n",
              "        [6.9, 3.2, 5.7, 2.3],\n",
              "        [5.6, 2.8, 4.9, 2. ],\n",
              "        [7.7, 2.8, 6.7, 2. ],\n",
              "        [6.3, 2.7, 4.9, 1.8],\n",
              "        [6.7, 3.3, 5.7, 2.1],\n",
              "        [7.2, 3.2, 6. , 1.8],\n",
              "        [6.2, 2.8, 4.8, 1.8],\n",
              "        [6.1, 3. , 4.9, 1.8],\n",
              "        [6.4, 2.8, 5.6, 2.1],\n",
              "        [7.2, 3. , 5.8, 1.6],\n",
              "        [7.4, 2.8, 6.1, 1.9],\n",
              "        [7.9, 3.8, 6.4, 2. ],\n",
              "        [6.4, 2.8, 5.6, 2.2],\n",
              "        [6.3, 2.8, 5.1, 1.5],\n",
              "        [6.1, 2.6, 5.6, 1.4],\n",
              "        [7.7, 3. , 6.1, 2.3],\n",
              "        [6.3, 3.4, 5.6, 2.4],\n",
              "        [6.4, 3.1, 5.5, 1.8],\n",
              "        [6. , 3. , 4.8, 1.8],\n",
              "        [6.9, 3.1, 5.4, 2.1],\n",
              "        [6.7, 3.1, 5.6, 2.4],\n",
              "        [6.9, 3.1, 5.1, 2.3],\n",
              "        [5.8, 2.7, 5.1, 1.9],\n",
              "        [6.8, 3.2, 5.9, 2.3],\n",
              "        [6.7, 3.3, 5.7, 2.5],\n",
              "        [6.7, 3. , 5.2, 2.3],\n",
              "        [6.3, 2.5, 5. , 1.9],\n",
              "        [6.5, 3. , 5.2, 2. ],\n",
              "        [6.2, 3.4, 5.4, 2.3],\n",
              "        [5.9, 3. , 5.1, 1.8]]), array([['Iris-setosa'],\n",
              "        ['Iris-setosa'],\n",
              "        ['Iris-setosa'],\n",
              "        ['Iris-setosa'],\n",
              "        ['Iris-setosa'],\n",
              "        ['Iris-setosa'],\n",
              "        ['Iris-setosa'],\n",
              "        ['Iris-setosa'],\n",
              "        ['Iris-setosa'],\n",
              "        ['Iris-setosa'],\n",
              "        ['Iris-setosa'],\n",
              "        ['Iris-setosa'],\n",
              "        ['Iris-setosa'],\n",
              "        ['Iris-setosa'],\n",
              "        ['Iris-setosa'],\n",
              "        ['Iris-setosa'],\n",
              "        ['Iris-setosa'],\n",
              "        ['Iris-setosa'],\n",
              "        ['Iris-setosa'],\n",
              "        ['Iris-setosa'],\n",
              "        ['Iris-setosa'],\n",
              "        ['Iris-setosa'],\n",
              "        ['Iris-setosa'],\n",
              "        ['Iris-setosa'],\n",
              "        ['Iris-setosa'],\n",
              "        ['Iris-setosa'],\n",
              "        ['Iris-setosa'],\n",
              "        ['Iris-setosa'],\n",
              "        ['Iris-setosa'],\n",
              "        ['Iris-setosa'],\n",
              "        ['Iris-setosa'],\n",
              "        ['Iris-setosa'],\n",
              "        ['Iris-setosa'],\n",
              "        ['Iris-setosa'],\n",
              "        ['Iris-setosa'],\n",
              "        ['Iris-setosa'],\n",
              "        ['Iris-setosa'],\n",
              "        ['Iris-setosa'],\n",
              "        ['Iris-setosa'],\n",
              "        ['Iris-setosa'],\n",
              "        ['Iris-setosa'],\n",
              "        ['Iris-setosa'],\n",
              "        ['Iris-setosa'],\n",
              "        ['Iris-setosa'],\n",
              "        ['Iris-setosa'],\n",
              "        ['Iris-setosa'],\n",
              "        ['Iris-setosa'],\n",
              "        ['Iris-setosa'],\n",
              "        ['Iris-setosa'],\n",
              "        ['Iris-setosa'],\n",
              "        ['Iris-versicolor'],\n",
              "        ['Iris-versicolor'],\n",
              "        ['Iris-versicolor'],\n",
              "        ['Iris-versicolor'],\n",
              "        ['Iris-versicolor'],\n",
              "        ['Iris-versicolor'],\n",
              "        ['Iris-versicolor'],\n",
              "        ['Iris-versicolor'],\n",
              "        ['Iris-versicolor'],\n",
              "        ['Iris-versicolor'],\n",
              "        ['Iris-versicolor'],\n",
              "        ['Iris-versicolor'],\n",
              "        ['Iris-versicolor'],\n",
              "        ['Iris-versicolor'],\n",
              "        ['Iris-versicolor'],\n",
              "        ['Iris-versicolor'],\n",
              "        ['Iris-versicolor'],\n",
              "        ['Iris-versicolor'],\n",
              "        ['Iris-versicolor'],\n",
              "        ['Iris-versicolor'],\n",
              "        ['Iris-versicolor'],\n",
              "        ['Iris-versicolor'],\n",
              "        ['Iris-versicolor'],\n",
              "        ['Iris-versicolor'],\n",
              "        ['Iris-versicolor'],\n",
              "        ['Iris-versicolor'],\n",
              "        ['Iris-versicolor'],\n",
              "        ['Iris-versicolor'],\n",
              "        ['Iris-versicolor'],\n",
              "        ['Iris-versicolor'],\n",
              "        ['Iris-versicolor'],\n",
              "        ['Iris-versicolor'],\n",
              "        ['Iris-versicolor'],\n",
              "        ['Iris-versicolor'],\n",
              "        ['Iris-versicolor'],\n",
              "        ['Iris-versicolor'],\n",
              "        ['Iris-versicolor'],\n",
              "        ['Iris-versicolor'],\n",
              "        ['Iris-versicolor'],\n",
              "        ['Iris-versicolor'],\n",
              "        ['Iris-versicolor'],\n",
              "        ['Iris-versicolor'],\n",
              "        ['Iris-versicolor'],\n",
              "        ['Iris-versicolor'],\n",
              "        ['Iris-versicolor'],\n",
              "        ['Iris-versicolor'],\n",
              "        ['Iris-versicolor'],\n",
              "        ['Iris-versicolor'],\n",
              "        ['Iris-versicolor'],\n",
              "        ['Iris-versicolor'],\n",
              "        ['Iris-virginica'],\n",
              "        ['Iris-virginica'],\n",
              "        ['Iris-virginica'],\n",
              "        ['Iris-virginica'],\n",
              "        ['Iris-virginica'],\n",
              "        ['Iris-virginica'],\n",
              "        ['Iris-virginica'],\n",
              "        ['Iris-virginica'],\n",
              "        ['Iris-virginica'],\n",
              "        ['Iris-virginica'],\n",
              "        ['Iris-virginica'],\n",
              "        ['Iris-virginica'],\n",
              "        ['Iris-virginica'],\n",
              "        ['Iris-virginica'],\n",
              "        ['Iris-virginica'],\n",
              "        ['Iris-virginica'],\n",
              "        ['Iris-virginica'],\n",
              "        ['Iris-virginica'],\n",
              "        ['Iris-virginica'],\n",
              "        ['Iris-virginica'],\n",
              "        ['Iris-virginica'],\n",
              "        ['Iris-virginica'],\n",
              "        ['Iris-virginica'],\n",
              "        ['Iris-virginica'],\n",
              "        ['Iris-virginica'],\n",
              "        ['Iris-virginica'],\n",
              "        ['Iris-virginica'],\n",
              "        ['Iris-virginica'],\n",
              "        ['Iris-virginica'],\n",
              "        ['Iris-virginica'],\n",
              "        ['Iris-virginica'],\n",
              "        ['Iris-virginica'],\n",
              "        ['Iris-virginica'],\n",
              "        ['Iris-virginica'],\n",
              "        ['Iris-virginica'],\n",
              "        ['Iris-virginica'],\n",
              "        ['Iris-virginica'],\n",
              "        ['Iris-virginica'],\n",
              "        ['Iris-virginica'],\n",
              "        ['Iris-virginica'],\n",
              "        ['Iris-virginica'],\n",
              "        ['Iris-virginica'],\n",
              "        ['Iris-virginica'],\n",
              "        ['Iris-virginica'],\n",
              "        ['Iris-virginica'],\n",
              "        ['Iris-virginica'],\n",
              "        ['Iris-virginica'],\n",
              "        ['Iris-virginica'],\n",
              "        ['Iris-virginica'],\n",
              "        ['Iris-virginica']], dtype=object))"
            ]
          },
          "metadata": {
            "tags": []
          },
          "execution_count": 36
        }
      ]
    },
    {
      "cell_type": "code",
      "metadata": {
        "id": "sGIvowwyutm4"
      },
      "source": [
        "# Standardizing the features\n",
        "x = StandardScaler().fit_transform(x)"
      ],
      "execution_count": 37,
      "outputs": []
    },
    {
      "cell_type": "markdown",
      "metadata": {
        "id": "2sOPzHtd5lFt"
      },
      "source": [
        "![image.png](data:image/png;base64,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)"
      ]
    },
    {
      "cell_type": "code",
      "metadata": {
        "id": "iAPofHoWutpy",
        "outputId": "f04b0f7e-d4eb-4535-f695-3e6785558d83",
        "colab": {
          "base_uri": "https://localhost:8080/"
        }
      },
      "source": [
        "x"
      ],
      "execution_count": 38,
      "outputs": [
        {
          "output_type": "execute_result",
          "data": {
            "text/plain": [
              "array([[-9.00681170e-01,  1.03205722e+00, -1.34127240e+00,\n",
              "        -1.31297673e+00],\n",
              "       [-1.14301691e+00, -1.24957601e-01, -1.34127240e+00,\n",
              "        -1.31297673e+00],\n",
              "       [-1.38535265e+00,  3.37848329e-01, -1.39813811e+00,\n",
              "        -1.31297673e+00],\n",
              "       [-1.50652052e+00,  1.06445364e-01, -1.28440670e+00,\n",
              "        -1.31297673e+00],\n",
              "       [-1.02184904e+00,  1.26346019e+00, -1.34127240e+00,\n",
              "        -1.31297673e+00],\n",
              "       [-5.37177559e-01,  1.95766909e+00, -1.17067529e+00,\n",
              "        -1.05003079e+00],\n",
              "       [-1.50652052e+00,  8.00654259e-01, -1.34127240e+00,\n",
              "        -1.18150376e+00],\n",
              "       [-1.02184904e+00,  8.00654259e-01, -1.28440670e+00,\n",
              "        -1.31297673e+00],\n",
              "       [-1.74885626e+00, -3.56360566e-01, -1.34127240e+00,\n",
              "        -1.31297673e+00],\n",
              "       [-1.14301691e+00,  1.06445364e-01, -1.28440670e+00,\n",
              "        -1.44444970e+00],\n",
              "       [-5.37177559e-01,  1.49486315e+00, -1.28440670e+00,\n",
              "        -1.31297673e+00],\n",
              "       [-1.26418478e+00,  8.00654259e-01, -1.22754100e+00,\n",
              "        -1.31297673e+00],\n",
              "       [-1.26418478e+00, -1.24957601e-01, -1.34127240e+00,\n",
              "        -1.44444970e+00],\n",
              "       [-1.87002413e+00, -1.24957601e-01, -1.51186952e+00,\n",
              "        -1.44444970e+00],\n",
              "       [-5.25060772e-02,  2.18907205e+00, -1.45500381e+00,\n",
              "        -1.31297673e+00],\n",
              "       [-1.73673948e-01,  3.11468391e+00, -1.28440670e+00,\n",
              "        -1.05003079e+00],\n",
              "       [-5.37177559e-01,  1.95766909e+00, -1.39813811e+00,\n",
              "        -1.05003079e+00],\n",
              "       [-9.00681170e-01,  1.03205722e+00, -1.34127240e+00,\n",
              "        -1.18150376e+00],\n",
              "       [-1.73673948e-01,  1.72626612e+00, -1.17067529e+00,\n",
              "        -1.18150376e+00],\n",
              "       [-9.00681170e-01,  1.72626612e+00, -1.28440670e+00,\n",
              "        -1.18150376e+00],\n",
              "       [-5.37177559e-01,  8.00654259e-01, -1.17067529e+00,\n",
              "        -1.31297673e+00],\n",
              "       [-9.00681170e-01,  1.49486315e+00, -1.28440670e+00,\n",
              "        -1.05003079e+00],\n",
              "       [-1.50652052e+00,  1.26346019e+00, -1.56873522e+00,\n",
              "        -1.31297673e+00],\n",
              "       [-9.00681170e-01,  5.69251294e-01, -1.17067529e+00,\n",
              "        -9.18557817e-01],\n",
              "       [-1.26418478e+00,  8.00654259e-01, -1.05694388e+00,\n",
              "        -1.31297673e+00],\n",
              "       [-1.02184904e+00, -1.24957601e-01, -1.22754100e+00,\n",
              "        -1.31297673e+00],\n",
              "       [-1.02184904e+00,  8.00654259e-01, -1.22754100e+00,\n",
              "        -1.05003079e+00],\n",
              "       [-7.79513300e-01,  1.03205722e+00, -1.28440670e+00,\n",
              "        -1.31297673e+00],\n",
              "       [-7.79513300e-01,  8.00654259e-01, -1.34127240e+00,\n",
              "        -1.31297673e+00],\n",
              "       [-1.38535265e+00,  3.37848329e-01, -1.22754100e+00,\n",
              "        -1.31297673e+00],\n",
              "       [-1.26418478e+00,  1.06445364e-01, -1.22754100e+00,\n",
              "        -1.31297673e+00],\n",
              "       [-5.37177559e-01,  8.00654259e-01, -1.28440670e+00,\n",
              "        -1.05003079e+00],\n",
              "       [-7.79513300e-01,  2.42047502e+00, -1.28440670e+00,\n",
              "        -1.44444970e+00],\n",
              "       [-4.16009689e-01,  2.65187798e+00, -1.34127240e+00,\n",
              "        -1.31297673e+00],\n",
              "       [-1.14301691e+00,  1.06445364e-01, -1.28440670e+00,\n",
              "        -1.44444970e+00],\n",
              "       [-1.02184904e+00,  3.37848329e-01, -1.45500381e+00,\n",
              "        -1.31297673e+00],\n",
              "       [-4.16009689e-01,  1.03205722e+00, -1.39813811e+00,\n",
              "        -1.31297673e+00],\n",
              "       [-1.14301691e+00,  1.06445364e-01, -1.28440670e+00,\n",
              "        -1.44444970e+00],\n",
              "       [-1.74885626e+00, -1.24957601e-01, -1.39813811e+00,\n",
              "        -1.31297673e+00],\n",
              "       [-9.00681170e-01,  8.00654259e-01, -1.28440670e+00,\n",
              "        -1.31297673e+00],\n",
              "       [-1.02184904e+00,  1.03205722e+00, -1.39813811e+00,\n",
              "        -1.18150376e+00],\n",
              "       [-1.62768839e+00, -1.74477836e+00, -1.39813811e+00,\n",
              "        -1.18150376e+00],\n",
              "       [-1.74885626e+00,  3.37848329e-01, -1.39813811e+00,\n",
              "        -1.31297673e+00],\n",
              "       [-1.02184904e+00,  1.03205722e+00, -1.22754100e+00,\n",
              "        -7.87084847e-01],\n",
              "       [-9.00681170e-01,  1.72626612e+00, -1.05694388e+00,\n",
              "        -1.05003079e+00],\n",
              "       [-1.26418478e+00, -1.24957601e-01, -1.34127240e+00,\n",
              "        -1.18150376e+00],\n",
              "       [-9.00681170e-01,  1.72626612e+00, -1.22754100e+00,\n",
              "        -1.31297673e+00],\n",
              "       [-1.50652052e+00,  3.37848329e-01, -1.34127240e+00,\n",
              "        -1.31297673e+00],\n",
              "       [-6.58345429e-01,  1.49486315e+00, -1.28440670e+00,\n",
              "        -1.31297673e+00],\n",
              "       [-1.02184904e+00,  5.69251294e-01, -1.34127240e+00,\n",
              "        -1.31297673e+00],\n",
              "       [ 1.40150837e+00,  3.37848329e-01,  5.35295827e-01,\n",
              "         2.64698913e-01],\n",
              "       [ 6.74501145e-01,  3.37848329e-01,  4.21564419e-01,\n",
              "         3.96171883e-01],\n",
              "       [ 1.28034050e+00,  1.06445364e-01,  6.49027235e-01,\n",
              "         3.96171883e-01],\n",
              "       [-4.16009689e-01, -1.74477836e+00,  1.37235899e-01,\n",
              "         1.33225943e-01],\n",
              "       [ 7.95669016e-01, -5.87763531e-01,  4.78430123e-01,\n",
              "         3.96171883e-01],\n",
              "       [-1.73673948e-01, -5.87763531e-01,  4.21564419e-01,\n",
              "         1.33225943e-01],\n",
              "       [ 5.53333275e-01,  5.69251294e-01,  5.35295827e-01,\n",
              "         5.27644853e-01],\n",
              "       [-1.14301691e+00, -1.51337539e+00, -2.60824029e-01,\n",
              "        -2.61192967e-01],\n",
              "       [ 9.16836886e-01, -3.56360566e-01,  4.78430123e-01,\n",
              "         1.33225943e-01],\n",
              "       [-7.79513300e-01, -8.19166497e-01,  8.03701950e-02,\n",
              "         2.64698913e-01],\n",
              "       [-1.02184904e+00, -2.43898725e+00, -1.47092621e-01,\n",
              "        -2.61192967e-01],\n",
              "       [ 6.86617933e-02, -1.24957601e-01,  2.50967307e-01,\n",
              "         3.96171883e-01],\n",
              "       [ 1.89829664e-01, -1.97618132e+00,  1.37235899e-01,\n",
              "        -2.61192967e-01],\n",
              "       [ 3.10997534e-01, -3.56360566e-01,  5.35295827e-01,\n",
              "         2.64698913e-01],\n",
              "       [-2.94841818e-01, -3.56360566e-01, -9.02269170e-02,\n",
              "         1.33225943e-01],\n",
              "       [ 1.03800476e+00,  1.06445364e-01,  3.64698715e-01,\n",
              "         2.64698913e-01],\n",
              "       [-2.94841818e-01, -1.24957601e-01,  4.21564419e-01,\n",
              "         3.96171883e-01],\n",
              "       [-5.25060772e-02, -8.19166497e-01,  1.94101603e-01,\n",
              "        -2.61192967e-01],\n",
              "       [ 4.32165405e-01, -1.97618132e+00,  4.21564419e-01,\n",
              "         3.96171883e-01],\n",
              "       [-2.94841818e-01, -1.28197243e+00,  8.03701950e-02,\n",
              "        -1.29719997e-01],\n",
              "       [ 6.86617933e-02,  3.37848329e-01,  5.92161531e-01,\n",
              "         7.90590793e-01],\n",
              "       [ 3.10997534e-01, -5.87763531e-01,  1.37235899e-01,\n",
              "         1.33225943e-01],\n",
              "       [ 5.53333275e-01, -1.28197243e+00,  6.49027235e-01,\n",
              "         3.96171883e-01],\n",
              "       [ 3.10997534e-01, -5.87763531e-01,  5.35295827e-01,\n",
              "         1.75297293e-03],\n",
              "       [ 6.74501145e-01, -3.56360566e-01,  3.07833011e-01,\n",
              "         1.33225943e-01],\n",
              "       [ 9.16836886e-01, -1.24957601e-01,  3.64698715e-01,\n",
              "         2.64698913e-01],\n",
              "       [ 1.15917263e+00, -5.87763531e-01,  5.92161531e-01,\n",
              "         2.64698913e-01],\n",
              "       [ 1.03800476e+00, -1.24957601e-01,  7.05892939e-01,\n",
              "         6.59117823e-01],\n",
              "       [ 1.89829664e-01, -3.56360566e-01,  4.21564419e-01,\n",
              "         3.96171883e-01],\n",
              "       [-1.73673948e-01, -1.05056946e+00, -1.47092621e-01,\n",
              "        -2.61192967e-01],\n",
              "       [-4.16009689e-01, -1.51337539e+00,  2.35044910e-02,\n",
              "        -1.29719997e-01],\n",
              "       [-4.16009689e-01, -1.51337539e+00, -3.33612130e-02,\n",
              "        -2.61192967e-01],\n",
              "       [-5.25060772e-02, -8.19166497e-01,  8.03701950e-02,\n",
              "         1.75297293e-03],\n",
              "       [ 1.89829664e-01, -8.19166497e-01,  7.62758643e-01,\n",
              "         5.27644853e-01],\n",
              "       [-5.37177559e-01, -1.24957601e-01,  4.21564419e-01,\n",
              "         3.96171883e-01],\n",
              "       [ 1.89829664e-01,  8.00654259e-01,  4.21564419e-01,\n",
              "         5.27644853e-01],\n",
              "       [ 1.03800476e+00,  1.06445364e-01,  5.35295827e-01,\n",
              "         3.96171883e-01],\n",
              "       [ 5.53333275e-01, -1.74477836e+00,  3.64698715e-01,\n",
              "         1.33225943e-01],\n",
              "       [-2.94841818e-01, -1.24957601e-01,  1.94101603e-01,\n",
              "         1.33225943e-01],\n",
              "       [-4.16009689e-01, -1.28197243e+00,  1.37235899e-01,\n",
              "         1.33225943e-01],\n",
              "       [-4.16009689e-01, -1.05056946e+00,  3.64698715e-01,\n",
              "         1.75297293e-03],\n",
              "       [ 3.10997534e-01, -1.24957601e-01,  4.78430123e-01,\n",
              "         2.64698913e-01],\n",
              "       [-5.25060772e-02, -1.05056946e+00,  1.37235899e-01,\n",
              "         1.75297293e-03],\n",
              "       [-1.02184904e+00, -1.74477836e+00, -2.60824029e-01,\n",
              "        -2.61192967e-01],\n",
              "       [-2.94841818e-01, -8.19166497e-01,  2.50967307e-01,\n",
              "         1.33225943e-01],\n",
              "       [-1.73673948e-01, -1.24957601e-01,  2.50967307e-01,\n",
              "         1.75297293e-03],\n",
              "       [-1.73673948e-01, -3.56360566e-01,  2.50967307e-01,\n",
              "         1.33225943e-01],\n",
              "       [ 4.32165405e-01, -3.56360566e-01,  3.07833011e-01,\n",
              "         1.33225943e-01],\n",
              "       [-9.00681170e-01, -1.28197243e+00, -4.31421141e-01,\n",
              "        -1.29719997e-01],\n",
              "       [-1.73673948e-01, -5.87763531e-01,  1.94101603e-01,\n",
              "         1.33225943e-01],\n",
              "       [ 5.53333275e-01,  5.69251294e-01,  1.27454998e+00,\n",
              "         1.71090158e+00],\n",
              "       [-5.25060772e-02, -8.19166497e-01,  7.62758643e-01,\n",
              "         9.22063763e-01],\n",
              "       [ 1.52267624e+00, -1.24957601e-01,  1.21768427e+00,\n",
              "         1.18500970e+00],\n",
              "       [ 5.53333275e-01, -3.56360566e-01,  1.04708716e+00,\n",
              "         7.90590793e-01],\n",
              "       [ 7.95669016e-01, -1.24957601e-01,  1.16081857e+00,\n",
              "         1.31648267e+00],\n",
              "       [ 2.12851559e+00, -1.24957601e-01,  1.61574420e+00,\n",
              "         1.18500970e+00],\n",
              "       [-1.14301691e+00, -1.28197243e+00,  4.21564419e-01,\n",
              "         6.59117823e-01],\n",
              "       [ 1.76501198e+00, -3.56360566e-01,  1.44514709e+00,\n",
              "         7.90590793e-01],\n",
              "       [ 1.03800476e+00, -1.28197243e+00,  1.16081857e+00,\n",
              "         7.90590793e-01],\n",
              "       [ 1.64384411e+00,  1.26346019e+00,  1.33141568e+00,\n",
              "         1.71090158e+00],\n",
              "       [ 7.95669016e-01,  3.37848329e-01,  7.62758643e-01,\n",
              "         1.05353673e+00],\n",
              "       [ 6.74501145e-01, -8.19166497e-01,  8.76490051e-01,\n",
              "         9.22063763e-01],\n",
              "       [ 1.15917263e+00, -1.24957601e-01,  9.90221459e-01,\n",
              "         1.18500970e+00],\n",
              "       [-1.73673948e-01, -1.28197243e+00,  7.05892939e-01,\n",
              "         1.05353673e+00],\n",
              "       [-5.25060772e-02, -5.87763531e-01,  7.62758643e-01,\n",
              "         1.57942861e+00],\n",
              "       [ 6.74501145e-01,  3.37848329e-01,  8.76490051e-01,\n",
              "         1.44795564e+00],\n",
              "       [ 7.95669016e-01, -1.24957601e-01,  9.90221459e-01,\n",
              "         7.90590793e-01],\n",
              "       [ 2.24968346e+00,  1.72626612e+00,  1.67260991e+00,\n",
              "         1.31648267e+00],\n",
              "       [ 2.24968346e+00, -1.05056946e+00,  1.78634131e+00,\n",
              "         1.44795564e+00],\n",
              "       [ 1.89829664e-01, -1.97618132e+00,  7.05892939e-01,\n",
              "         3.96171883e-01],\n",
              "       [ 1.28034050e+00,  3.37848329e-01,  1.10395287e+00,\n",
              "         1.44795564e+00],\n",
              "       [-2.94841818e-01, -5.87763531e-01,  6.49027235e-01,\n",
              "         1.05353673e+00],\n",
              "       [ 2.24968346e+00, -5.87763531e-01,  1.67260991e+00,\n",
              "         1.05353673e+00],\n",
              "       [ 5.53333275e-01, -8.19166497e-01,  6.49027235e-01,\n",
              "         7.90590793e-01],\n",
              "       [ 1.03800476e+00,  5.69251294e-01,  1.10395287e+00,\n",
              "         1.18500970e+00],\n",
              "       [ 1.64384411e+00,  3.37848329e-01,  1.27454998e+00,\n",
              "         7.90590793e-01],\n",
              "       [ 4.32165405e-01, -5.87763531e-01,  5.92161531e-01,\n",
              "         7.90590793e-01],\n",
              "       [ 3.10997534e-01, -1.24957601e-01,  6.49027235e-01,\n",
              "         7.90590793e-01],\n",
              "       [ 6.74501145e-01, -5.87763531e-01,  1.04708716e+00,\n",
              "         1.18500970e+00],\n",
              "       [ 1.64384411e+00, -1.24957601e-01,  1.16081857e+00,\n",
              "         5.27644853e-01],\n",
              "       [ 1.88617985e+00, -5.87763531e-01,  1.33141568e+00,\n",
              "         9.22063763e-01],\n",
              "       [ 2.49201920e+00,  1.72626612e+00,  1.50201279e+00,\n",
              "         1.05353673e+00],\n",
              "       [ 6.74501145e-01, -5.87763531e-01,  1.04708716e+00,\n",
              "         1.31648267e+00],\n",
              "       [ 5.53333275e-01, -5.87763531e-01,  7.62758643e-01,\n",
              "         3.96171883e-01],\n",
              "       [ 3.10997534e-01, -1.05056946e+00,  1.04708716e+00,\n",
              "         2.64698913e-01],\n",
              "       [ 2.24968346e+00, -1.24957601e-01,  1.33141568e+00,\n",
              "         1.44795564e+00],\n",
              "       [ 5.53333275e-01,  8.00654259e-01,  1.04708716e+00,\n",
              "         1.57942861e+00],\n",
              "       [ 6.74501145e-01,  1.06445364e-01,  9.90221459e-01,\n",
              "         7.90590793e-01],\n",
              "       [ 1.89829664e-01, -1.24957601e-01,  5.92161531e-01,\n",
              "         7.90590793e-01],\n",
              "       [ 1.28034050e+00,  1.06445364e-01,  9.33355755e-01,\n",
              "         1.18500970e+00],\n",
              "       [ 1.03800476e+00,  1.06445364e-01,  1.04708716e+00,\n",
              "         1.57942861e+00],\n",
              "       [ 1.28034050e+00,  1.06445364e-01,  7.62758643e-01,\n",
              "         1.44795564e+00],\n",
              "       [-5.25060772e-02, -8.19166497e-01,  7.62758643e-01,\n",
              "         9.22063763e-01],\n",
              "       [ 1.15917263e+00,  3.37848329e-01,  1.21768427e+00,\n",
              "         1.44795564e+00],\n",
              "       [ 1.03800476e+00,  5.69251294e-01,  1.10395287e+00,\n",
              "         1.71090158e+00],\n",
              "       [ 1.03800476e+00, -1.24957601e-01,  8.19624347e-01,\n",
              "         1.44795564e+00],\n",
              "       [ 5.53333275e-01, -1.28197243e+00,  7.05892939e-01,\n",
              "         9.22063763e-01],\n",
              "       [ 7.95669016e-01, -1.24957601e-01,  8.19624347e-01,\n",
              "         1.05353673e+00],\n",
              "       [ 4.32165405e-01,  8.00654259e-01,  9.33355755e-01,\n",
              "         1.44795564e+00],\n",
              "       [ 6.86617933e-02, -1.24957601e-01,  7.62758643e-01,\n",
              "         7.90590793e-01]])"
            ]
          },
          "metadata": {
            "tags": []
          },
          "execution_count": 38
        }
      ]
    },
    {
      "cell_type": "markdown",
      "metadata": {
        "id": "iK4TZ5XYvIG2"
      },
      "source": [
        "![image.png](data:image/png;base64,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)"
      ]
    },
    {
      "cell_type": "markdown",
      "metadata": {
        "id": "3Qit27bnu_DF"
      },
      "source": [
        "PCA Projection to 2D The original data has 4 columns (sepal length, sepal width, petal length, and petal width). In this section, the code projects the original data which is 4 dimensional into 2 dimensions"
      ]
    },
    {
      "cell_type": "code",
      "metadata": {
        "id": "sSOwjn6IuMOs",
        "outputId": "5a39ad50-8129-4078-e377-0c3e8c7c6192",
        "colab": {
          "base_uri": "https://localhost:8080/"
        }
      },
      "source": [
        "x"
      ],
      "execution_count": 39,
      "outputs": [
        {
          "output_type": "execute_result",
          "data": {
            "text/plain": [
              "array([[-9.00681170e-01,  1.03205722e+00, -1.34127240e+00,\n",
              "        -1.31297673e+00],\n",
              "       [-1.14301691e+00, -1.24957601e-01, -1.34127240e+00,\n",
              "        -1.31297673e+00],\n",
              "       [-1.38535265e+00,  3.37848329e-01, -1.39813811e+00,\n",
              "        -1.31297673e+00],\n",
              "       [-1.50652052e+00,  1.06445364e-01, -1.28440670e+00,\n",
              "        -1.31297673e+00],\n",
              "       [-1.02184904e+00,  1.26346019e+00, -1.34127240e+00,\n",
              "        -1.31297673e+00],\n",
              "       [-5.37177559e-01,  1.95766909e+00, -1.17067529e+00,\n",
              "        -1.05003079e+00],\n",
              "       [-1.50652052e+00,  8.00654259e-01, -1.34127240e+00,\n",
              "        -1.18150376e+00],\n",
              "       [-1.02184904e+00,  8.00654259e-01, -1.28440670e+00,\n",
              "        -1.31297673e+00],\n",
              "       [-1.74885626e+00, -3.56360566e-01, -1.34127240e+00,\n",
              "        -1.31297673e+00],\n",
              "       [-1.14301691e+00,  1.06445364e-01, -1.28440670e+00,\n",
              "        -1.44444970e+00],\n",
              "       [-5.37177559e-01,  1.49486315e+00, -1.28440670e+00,\n",
              "        -1.31297673e+00],\n",
              "       [-1.26418478e+00,  8.00654259e-01, -1.22754100e+00,\n",
              "        -1.31297673e+00],\n",
              "       [-1.26418478e+00, -1.24957601e-01, -1.34127240e+00,\n",
              "        -1.44444970e+00],\n",
              "       [-1.87002413e+00, -1.24957601e-01, -1.51186952e+00,\n",
              "        -1.44444970e+00],\n",
              "       [-5.25060772e-02,  2.18907205e+00, -1.45500381e+00,\n",
              "        -1.31297673e+00],\n",
              "       [-1.73673948e-01,  3.11468391e+00, -1.28440670e+00,\n",
              "        -1.05003079e+00],\n",
              "       [-5.37177559e-01,  1.95766909e+00, -1.39813811e+00,\n",
              "        -1.05003079e+00],\n",
              "       [-9.00681170e-01,  1.03205722e+00, -1.34127240e+00,\n",
              "        -1.18150376e+00],\n",
              "       [-1.73673948e-01,  1.72626612e+00, -1.17067529e+00,\n",
              "        -1.18150376e+00],\n",
              "       [-9.00681170e-01,  1.72626612e+00, -1.28440670e+00,\n",
              "        -1.18150376e+00],\n",
              "       [-5.37177559e-01,  8.00654259e-01, -1.17067529e+00,\n",
              "        -1.31297673e+00],\n",
              "       [-9.00681170e-01,  1.49486315e+00, -1.28440670e+00,\n",
              "        -1.05003079e+00],\n",
              "       [-1.50652052e+00,  1.26346019e+00, -1.56873522e+00,\n",
              "        -1.31297673e+00],\n",
              "       [-9.00681170e-01,  5.69251294e-01, -1.17067529e+00,\n",
              "        -9.18557817e-01],\n",
              "       [-1.26418478e+00,  8.00654259e-01, -1.05694388e+00,\n",
              "        -1.31297673e+00],\n",
              "       [-1.02184904e+00, -1.24957601e-01, -1.22754100e+00,\n",
              "        -1.31297673e+00],\n",
              "       [-1.02184904e+00,  8.00654259e-01, -1.22754100e+00,\n",
              "        -1.05003079e+00],\n",
              "       [-7.79513300e-01,  1.03205722e+00, -1.28440670e+00,\n",
              "        -1.31297673e+00],\n",
              "       [-7.79513300e-01,  8.00654259e-01, -1.34127240e+00,\n",
              "        -1.31297673e+00],\n",
              "       [-1.38535265e+00,  3.37848329e-01, -1.22754100e+00,\n",
              "        -1.31297673e+00],\n",
              "       [-1.26418478e+00,  1.06445364e-01, -1.22754100e+00,\n",
              "        -1.31297673e+00],\n",
              "       [-5.37177559e-01,  8.00654259e-01, -1.28440670e+00,\n",
              "        -1.05003079e+00],\n",
              "       [-7.79513300e-01,  2.42047502e+00, -1.28440670e+00,\n",
              "        -1.44444970e+00],\n",
              "       [-4.16009689e-01,  2.65187798e+00, -1.34127240e+00,\n",
              "        -1.31297673e+00],\n",
              "       [-1.14301691e+00,  1.06445364e-01, -1.28440670e+00,\n",
              "        -1.44444970e+00],\n",
              "       [-1.02184904e+00,  3.37848329e-01, -1.45500381e+00,\n",
              "        -1.31297673e+00],\n",
              "       [-4.16009689e-01,  1.03205722e+00, -1.39813811e+00,\n",
              "        -1.31297673e+00],\n",
              "       [-1.14301691e+00,  1.06445364e-01, -1.28440670e+00,\n",
              "        -1.44444970e+00],\n",
              "       [-1.74885626e+00, -1.24957601e-01, -1.39813811e+00,\n",
              "        -1.31297673e+00],\n",
              "       [-9.00681170e-01,  8.00654259e-01, -1.28440670e+00,\n",
              "        -1.31297673e+00],\n",
              "       [-1.02184904e+00,  1.03205722e+00, -1.39813811e+00,\n",
              "        -1.18150376e+00],\n",
              "       [-1.62768839e+00, -1.74477836e+00, -1.39813811e+00,\n",
              "        -1.18150376e+00],\n",
              "       [-1.74885626e+00,  3.37848329e-01, -1.39813811e+00,\n",
              "        -1.31297673e+00],\n",
              "       [-1.02184904e+00,  1.03205722e+00, -1.22754100e+00,\n",
              "        -7.87084847e-01],\n",
              "       [-9.00681170e-01,  1.72626612e+00, -1.05694388e+00,\n",
              "        -1.05003079e+00],\n",
              "       [-1.26418478e+00, -1.24957601e-01, -1.34127240e+00,\n",
              "        -1.18150376e+00],\n",
              "       [-9.00681170e-01,  1.72626612e+00, -1.22754100e+00,\n",
              "        -1.31297673e+00],\n",
              "       [-1.50652052e+00,  3.37848329e-01, -1.34127240e+00,\n",
              "        -1.31297673e+00],\n",
              "       [-6.58345429e-01,  1.49486315e+00, -1.28440670e+00,\n",
              "        -1.31297673e+00],\n",
              "       [-1.02184904e+00,  5.69251294e-01, -1.34127240e+00,\n",
              "        -1.31297673e+00],\n",
              "       [ 1.40150837e+00,  3.37848329e-01,  5.35295827e-01,\n",
              "         2.64698913e-01],\n",
              "       [ 6.74501145e-01,  3.37848329e-01,  4.21564419e-01,\n",
              "         3.96171883e-01],\n",
              "       [ 1.28034050e+00,  1.06445364e-01,  6.49027235e-01,\n",
              "         3.96171883e-01],\n",
              "       [-4.16009689e-01, -1.74477836e+00,  1.37235899e-01,\n",
              "         1.33225943e-01],\n",
              "       [ 7.95669016e-01, -5.87763531e-01,  4.78430123e-01,\n",
              "         3.96171883e-01],\n",
              "       [-1.73673948e-01, -5.87763531e-01,  4.21564419e-01,\n",
              "         1.33225943e-01],\n",
              "       [ 5.53333275e-01,  5.69251294e-01,  5.35295827e-01,\n",
              "         5.27644853e-01],\n",
              "       [-1.14301691e+00, -1.51337539e+00, -2.60824029e-01,\n",
              "        -2.61192967e-01],\n",
              "       [ 9.16836886e-01, -3.56360566e-01,  4.78430123e-01,\n",
              "         1.33225943e-01],\n",
              "       [-7.79513300e-01, -8.19166497e-01,  8.03701950e-02,\n",
              "         2.64698913e-01],\n",
              "       [-1.02184904e+00, -2.43898725e+00, -1.47092621e-01,\n",
              "        -2.61192967e-01],\n",
              "       [ 6.86617933e-02, -1.24957601e-01,  2.50967307e-01,\n",
              "         3.96171883e-01],\n",
              "       [ 1.89829664e-01, -1.97618132e+00,  1.37235899e-01,\n",
              "        -2.61192967e-01],\n",
              "       [ 3.10997534e-01, -3.56360566e-01,  5.35295827e-01,\n",
              "         2.64698913e-01],\n",
              "       [-2.94841818e-01, -3.56360566e-01, -9.02269170e-02,\n",
              "         1.33225943e-01],\n",
              "       [ 1.03800476e+00,  1.06445364e-01,  3.64698715e-01,\n",
              "         2.64698913e-01],\n",
              "       [-2.94841818e-01, -1.24957601e-01,  4.21564419e-01,\n",
              "         3.96171883e-01],\n",
              "       [-5.25060772e-02, -8.19166497e-01,  1.94101603e-01,\n",
              "        -2.61192967e-01],\n",
              "       [ 4.32165405e-01, -1.97618132e+00,  4.21564419e-01,\n",
              "         3.96171883e-01],\n",
              "       [-2.94841818e-01, -1.28197243e+00,  8.03701950e-02,\n",
              "        -1.29719997e-01],\n",
              "       [ 6.86617933e-02,  3.37848329e-01,  5.92161531e-01,\n",
              "         7.90590793e-01],\n",
              "       [ 3.10997534e-01, -5.87763531e-01,  1.37235899e-01,\n",
              "         1.33225943e-01],\n",
              "       [ 5.53333275e-01, -1.28197243e+00,  6.49027235e-01,\n",
              "         3.96171883e-01],\n",
              "       [ 3.10997534e-01, -5.87763531e-01,  5.35295827e-01,\n",
              "         1.75297293e-03],\n",
              "       [ 6.74501145e-01, -3.56360566e-01,  3.07833011e-01,\n",
              "         1.33225943e-01],\n",
              "       [ 9.16836886e-01, -1.24957601e-01,  3.64698715e-01,\n",
              "         2.64698913e-01],\n",
              "       [ 1.15917263e+00, -5.87763531e-01,  5.92161531e-01,\n",
              "         2.64698913e-01],\n",
              "       [ 1.03800476e+00, -1.24957601e-01,  7.05892939e-01,\n",
              "         6.59117823e-01],\n",
              "       [ 1.89829664e-01, -3.56360566e-01,  4.21564419e-01,\n",
              "         3.96171883e-01],\n",
              "       [-1.73673948e-01, -1.05056946e+00, -1.47092621e-01,\n",
              "        -2.61192967e-01],\n",
              "       [-4.16009689e-01, -1.51337539e+00,  2.35044910e-02,\n",
              "        -1.29719997e-01],\n",
              "       [-4.16009689e-01, -1.51337539e+00, -3.33612130e-02,\n",
              "        -2.61192967e-01],\n",
              "       [-5.25060772e-02, -8.19166497e-01,  8.03701950e-02,\n",
              "         1.75297293e-03],\n",
              "       [ 1.89829664e-01, -8.19166497e-01,  7.62758643e-01,\n",
              "         5.27644853e-01],\n",
              "       [-5.37177559e-01, -1.24957601e-01,  4.21564419e-01,\n",
              "         3.96171883e-01],\n",
              "       [ 1.89829664e-01,  8.00654259e-01,  4.21564419e-01,\n",
              "         5.27644853e-01],\n",
              "       [ 1.03800476e+00,  1.06445364e-01,  5.35295827e-01,\n",
              "         3.96171883e-01],\n",
              "       [ 5.53333275e-01, -1.74477836e+00,  3.64698715e-01,\n",
              "         1.33225943e-01],\n",
              "       [-2.94841818e-01, -1.24957601e-01,  1.94101603e-01,\n",
              "         1.33225943e-01],\n",
              "       [-4.16009689e-01, -1.28197243e+00,  1.37235899e-01,\n",
              "         1.33225943e-01],\n",
              "       [-4.16009689e-01, -1.05056946e+00,  3.64698715e-01,\n",
              "         1.75297293e-03],\n",
              "       [ 3.10997534e-01, -1.24957601e-01,  4.78430123e-01,\n",
              "         2.64698913e-01],\n",
              "       [-5.25060772e-02, -1.05056946e+00,  1.37235899e-01,\n",
              "         1.75297293e-03],\n",
              "       [-1.02184904e+00, -1.74477836e+00, -2.60824029e-01,\n",
              "        -2.61192967e-01],\n",
              "       [-2.94841818e-01, -8.19166497e-01,  2.50967307e-01,\n",
              "         1.33225943e-01],\n",
              "       [-1.73673948e-01, -1.24957601e-01,  2.50967307e-01,\n",
              "         1.75297293e-03],\n",
              "       [-1.73673948e-01, -3.56360566e-01,  2.50967307e-01,\n",
              "         1.33225943e-01],\n",
              "       [ 4.32165405e-01, -3.56360566e-01,  3.07833011e-01,\n",
              "         1.33225943e-01],\n",
              "       [-9.00681170e-01, -1.28197243e+00, -4.31421141e-01,\n",
              "        -1.29719997e-01],\n",
              "       [-1.73673948e-01, -5.87763531e-01,  1.94101603e-01,\n",
              "         1.33225943e-01],\n",
              "       [ 5.53333275e-01,  5.69251294e-01,  1.27454998e+00,\n",
              "         1.71090158e+00],\n",
              "       [-5.25060772e-02, -8.19166497e-01,  7.62758643e-01,\n",
              "         9.22063763e-01],\n",
              "       [ 1.52267624e+00, -1.24957601e-01,  1.21768427e+00,\n",
              "         1.18500970e+00],\n",
              "       [ 5.53333275e-01, -3.56360566e-01,  1.04708716e+00,\n",
              "         7.90590793e-01],\n",
              "       [ 7.95669016e-01, -1.24957601e-01,  1.16081857e+00,\n",
              "         1.31648267e+00],\n",
              "       [ 2.12851559e+00, -1.24957601e-01,  1.61574420e+00,\n",
              "         1.18500970e+00],\n",
              "       [-1.14301691e+00, -1.28197243e+00,  4.21564419e-01,\n",
              "         6.59117823e-01],\n",
              "       [ 1.76501198e+00, -3.56360566e-01,  1.44514709e+00,\n",
              "         7.90590793e-01],\n",
              "       [ 1.03800476e+00, -1.28197243e+00,  1.16081857e+00,\n",
              "         7.90590793e-01],\n",
              "       [ 1.64384411e+00,  1.26346019e+00,  1.33141568e+00,\n",
              "         1.71090158e+00],\n",
              "       [ 7.95669016e-01,  3.37848329e-01,  7.62758643e-01,\n",
              "         1.05353673e+00],\n",
              "       [ 6.74501145e-01, -8.19166497e-01,  8.76490051e-01,\n",
              "         9.22063763e-01],\n",
              "       [ 1.15917263e+00, -1.24957601e-01,  9.90221459e-01,\n",
              "         1.18500970e+00],\n",
              "       [-1.73673948e-01, -1.28197243e+00,  7.05892939e-01,\n",
              "         1.05353673e+00],\n",
              "       [-5.25060772e-02, -5.87763531e-01,  7.62758643e-01,\n",
              "         1.57942861e+00],\n",
              "       [ 6.74501145e-01,  3.37848329e-01,  8.76490051e-01,\n",
              "         1.44795564e+00],\n",
              "       [ 7.95669016e-01, -1.24957601e-01,  9.90221459e-01,\n",
              "         7.90590793e-01],\n",
              "       [ 2.24968346e+00,  1.72626612e+00,  1.67260991e+00,\n",
              "         1.31648267e+00],\n",
              "       [ 2.24968346e+00, -1.05056946e+00,  1.78634131e+00,\n",
              "         1.44795564e+00],\n",
              "       [ 1.89829664e-01, -1.97618132e+00,  7.05892939e-01,\n",
              "         3.96171883e-01],\n",
              "       [ 1.28034050e+00,  3.37848329e-01,  1.10395287e+00,\n",
              "         1.44795564e+00],\n",
              "       [-2.94841818e-01, -5.87763531e-01,  6.49027235e-01,\n",
              "         1.05353673e+00],\n",
              "       [ 2.24968346e+00, -5.87763531e-01,  1.67260991e+00,\n",
              "         1.05353673e+00],\n",
              "       [ 5.53333275e-01, -8.19166497e-01,  6.49027235e-01,\n",
              "         7.90590793e-01],\n",
              "       [ 1.03800476e+00,  5.69251294e-01,  1.10395287e+00,\n",
              "         1.18500970e+00],\n",
              "       [ 1.64384411e+00,  3.37848329e-01,  1.27454998e+00,\n",
              "         7.90590793e-01],\n",
              "       [ 4.32165405e-01, -5.87763531e-01,  5.92161531e-01,\n",
              "         7.90590793e-01],\n",
              "       [ 3.10997534e-01, -1.24957601e-01,  6.49027235e-01,\n",
              "         7.90590793e-01],\n",
              "       [ 6.74501145e-01, -5.87763531e-01,  1.04708716e+00,\n",
              "         1.18500970e+00],\n",
              "       [ 1.64384411e+00, -1.24957601e-01,  1.16081857e+00,\n",
              "         5.27644853e-01],\n",
              "       [ 1.88617985e+00, -5.87763531e-01,  1.33141568e+00,\n",
              "         9.22063763e-01],\n",
              "       [ 2.49201920e+00,  1.72626612e+00,  1.50201279e+00,\n",
              "         1.05353673e+00],\n",
              "       [ 6.74501145e-01, -5.87763531e-01,  1.04708716e+00,\n",
              "         1.31648267e+00],\n",
              "       [ 5.53333275e-01, -5.87763531e-01,  7.62758643e-01,\n",
              "         3.96171883e-01],\n",
              "       [ 3.10997534e-01, -1.05056946e+00,  1.04708716e+00,\n",
              "         2.64698913e-01],\n",
              "       [ 2.24968346e+00, -1.24957601e-01,  1.33141568e+00,\n",
              "         1.44795564e+00],\n",
              "       [ 5.53333275e-01,  8.00654259e-01,  1.04708716e+00,\n",
              "         1.57942861e+00],\n",
              "       [ 6.74501145e-01,  1.06445364e-01,  9.90221459e-01,\n",
              "         7.90590793e-01],\n",
              "       [ 1.89829664e-01, -1.24957601e-01,  5.92161531e-01,\n",
              "         7.90590793e-01],\n",
              "       [ 1.28034050e+00,  1.06445364e-01,  9.33355755e-01,\n",
              "         1.18500970e+00],\n",
              "       [ 1.03800476e+00,  1.06445364e-01,  1.04708716e+00,\n",
              "         1.57942861e+00],\n",
              "       [ 1.28034050e+00,  1.06445364e-01,  7.62758643e-01,\n",
              "         1.44795564e+00],\n",
              "       [-5.25060772e-02, -8.19166497e-01,  7.62758643e-01,\n",
              "         9.22063763e-01],\n",
              "       [ 1.15917263e+00,  3.37848329e-01,  1.21768427e+00,\n",
              "         1.44795564e+00],\n",
              "       [ 1.03800476e+00,  5.69251294e-01,  1.10395287e+00,\n",
              "         1.71090158e+00],\n",
              "       [ 1.03800476e+00, -1.24957601e-01,  8.19624347e-01,\n",
              "         1.44795564e+00],\n",
              "       [ 5.53333275e-01, -1.28197243e+00,  7.05892939e-01,\n",
              "         9.22063763e-01],\n",
              "       [ 7.95669016e-01, -1.24957601e-01,  8.19624347e-01,\n",
              "         1.05353673e+00],\n",
              "       [ 4.32165405e-01,  8.00654259e-01,  9.33355755e-01,\n",
              "         1.44795564e+00],\n",
              "       [ 6.86617933e-02, -1.24957601e-01,  7.62758643e-01,\n",
              "         7.90590793e-01]])"
            ]
          },
          "metadata": {
            "tags": []
          },
          "execution_count": 39
        }
      ]
    },
    {
      "cell_type": "code",
      "metadata": {
        "id": "k--S3QQwvI0t"
      },
      "source": [
        "from sklearn.decomposition import PCA\n",
        "pca = PCA(n_components=2)\n",
        "principalComponents = pca.fit_transform(x)\n",
        "principalDf = pd.DataFrame(data = principalComponents\n",
        "             , columns = ['principal component 1', 'principal component 2'])"
      ],
      "execution_count": 40,
      "outputs": []
    },
    {
      "cell_type": "code",
      "metadata": {
        "id": "EjqqNHPtvPW9",
        "outputId": "b96124d5-c23a-455d-804e-4dc888b045df",
        "colab": {
          "base_uri": "https://localhost:8080/",
          "height": 195
        }
      },
      "source": [
        "principalDf.head()"
      ],
      "execution_count": 41,
      "outputs": [
        {
          "output_type": "execute_result",
          "data": {
            "text/html": [
              "<div>\n",
              "<style scoped>\n",
              "    .dataframe tbody tr th:only-of-type {\n",
              "        vertical-align: middle;\n",
              "    }\n",
              "\n",
              "    .dataframe tbody tr th {\n",
              "        vertical-align: top;\n",
              "    }\n",
              "\n",
              "    .dataframe thead th {\n",
              "        text-align: right;\n",
              "    }\n",
              "</style>\n",
              "<table border=\"1\" class=\"dataframe\">\n",
              "  <thead>\n",
              "    <tr style=\"text-align: right;\">\n",
              "      <th></th>\n",
              "      <th>principal component 1</th>\n",
              "      <th>principal component 2</th>\n",
              "    </tr>\n",
              "  </thead>\n",
              "  <tbody>\n",
              "    <tr>\n",
              "      <th>0</th>\n",
              "      <td>-2.264542</td>\n",
              "      <td>0.505704</td>\n",
              "    </tr>\n",
              "    <tr>\n",
              "      <th>1</th>\n",
              "      <td>-2.086426</td>\n",
              "      <td>-0.655405</td>\n",
              "    </tr>\n",
              "    <tr>\n",
              "      <th>2</th>\n",
              "      <td>-2.367950</td>\n",
              "      <td>-0.318477</td>\n",
              "    </tr>\n",
              "    <tr>\n",
              "      <th>3</th>\n",
              "      <td>-2.304197</td>\n",
              "      <td>-0.575368</td>\n",
              "    </tr>\n",
              "    <tr>\n",
              "      <th>4</th>\n",
              "      <td>-2.388777</td>\n",
              "      <td>0.674767</td>\n",
              "    </tr>\n",
              "  </tbody>\n",
              "</table>\n",
              "</div>"
            ],
            "text/plain": [
              "   principal component 1  principal component 2\n",
              "0              -2.264542               0.505704\n",
              "1              -2.086426              -0.655405\n",
              "2              -2.367950              -0.318477\n",
              "3              -2.304197              -0.575368\n",
              "4              -2.388777               0.674767"
            ]
          },
          "metadata": {
            "tags": []
          },
          "execution_count": 41
        }
      ]
    },
    {
      "cell_type": "code",
      "metadata": {
        "id": "j7I2-PIcvPZb"
      },
      "source": [
        "finalDf = pd.concat([principalDf, df[['target']]], axis = 1)"
      ],
      "execution_count": 42,
      "outputs": []
    },
    {
      "cell_type": "markdown",
      "metadata": {
        "id": "41gCsGuD7PcI"
      },
      "source": [
        "![image.png](data:image/png;base64,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)"
      ]
    },
    {
      "cell_type": "code",
      "metadata": {
        "id": "FaR9xYeCvPb3",
        "outputId": "8e660469-3f70-4a8e-e64c-2ae36962949d",
        "colab": {
          "base_uri": "https://localhost:8080/",
          "height": 402
        }
      },
      "source": [
        "finalDf"
      ],
      "execution_count": 43,
      "outputs": [
        {
          "output_type": "execute_result",
          "data": {
            "text/html": [
              "<div>\n",
              "<style scoped>\n",
              "    .dataframe tbody tr th:only-of-type {\n",
              "        vertical-align: middle;\n",
              "    }\n",
              "\n",
              "    .dataframe tbody tr th {\n",
              "        vertical-align: top;\n",
              "    }\n",
              "\n",
              "    .dataframe thead th {\n",
              "        text-align: right;\n",
              "    }\n",
              "</style>\n",
              "<table border=\"1\" class=\"dataframe\">\n",
              "  <thead>\n",
              "    <tr style=\"text-align: right;\">\n",
              "      <th></th>\n",
              "      <th>principal component 1</th>\n",
              "      <th>principal component 2</th>\n",
              "      <th>target</th>\n",
              "    </tr>\n",
              "  </thead>\n",
              "  <tbody>\n",
              "    <tr>\n",
              "      <th>0</th>\n",
              "      <td>-2.264542</td>\n",
              "      <td>0.505704</td>\n",
              "      <td>Iris-setosa</td>\n",
              "    </tr>\n",
              "    <tr>\n",
              "      <th>1</th>\n",
              "      <td>-2.086426</td>\n",
              "      <td>-0.655405</td>\n",
              "      <td>Iris-setosa</td>\n",
              "    </tr>\n",
              "    <tr>\n",
              "      <th>2</th>\n",
              "      <td>-2.367950</td>\n",
              "      <td>-0.318477</td>\n",
              "      <td>Iris-setosa</td>\n",
              "    </tr>\n",
              "    <tr>\n",
              "      <th>3</th>\n",
              "      <td>-2.304197</td>\n",
              "      <td>-0.575368</td>\n",
              "      <td>Iris-setosa</td>\n",
              "    </tr>\n",
              "    <tr>\n",
              "      <th>4</th>\n",
              "      <td>-2.388777</td>\n",
              "      <td>0.674767</td>\n",
              "      <td>Iris-setosa</td>\n",
              "    </tr>\n",
              "    <tr>\n",
              "      <th>...</th>\n",
              "      <td>...</td>\n",
              "      <td>...</td>\n",
              "      <td>...</td>\n",
              "    </tr>\n",
              "    <tr>\n",
              "      <th>145</th>\n",
              "      <td>1.870522</td>\n",
              "      <td>0.382822</td>\n",
              "      <td>Iris-virginica</td>\n",
              "    </tr>\n",
              "    <tr>\n",
              "      <th>146</th>\n",
              "      <td>1.558492</td>\n",
              "      <td>-0.905314</td>\n",
              "      <td>Iris-virginica</td>\n",
              "    </tr>\n",
              "    <tr>\n",
              "      <th>147</th>\n",
              "      <td>1.520845</td>\n",
              "      <td>0.266795</td>\n",
              "      <td>Iris-virginica</td>\n",
              "    </tr>\n",
              "    <tr>\n",
              "      <th>148</th>\n",
              "      <td>1.376391</td>\n",
              "      <td>1.016362</td>\n",
              "      <td>Iris-virginica</td>\n",
              "    </tr>\n",
              "    <tr>\n",
              "      <th>149</th>\n",
              "      <td>0.959299</td>\n",
              "      <td>-0.022284</td>\n",
              "      <td>Iris-virginica</td>\n",
              "    </tr>\n",
              "  </tbody>\n",
              "</table>\n",
              "<p>150 rows × 3 columns</p>\n",
              "</div>"
            ],
            "text/plain": [
              "     principal component 1  principal component 2          target\n",
              "0                -2.264542               0.505704     Iris-setosa\n",
              "1                -2.086426              -0.655405     Iris-setosa\n",
              "2                -2.367950              -0.318477     Iris-setosa\n",
              "3                -2.304197              -0.575368     Iris-setosa\n",
              "4                -2.388777               0.674767     Iris-setosa\n",
              "..                     ...                    ...             ...\n",
              "145               1.870522               0.382822  Iris-virginica\n",
              "146               1.558492              -0.905314  Iris-virginica\n",
              "147               1.520845               0.266795  Iris-virginica\n",
              "148               1.376391               1.016362  Iris-virginica\n",
              "149               0.959299              -0.022284  Iris-virginica\n",
              "\n",
              "[150 rows x 3 columns]"
            ]
          },
          "metadata": {
            "tags": []
          },
          "execution_count": 43
        }
      ]
    },
    {
      "cell_type": "code",
      "metadata": {
        "id": "4H_vMhAtvPeg",
        "outputId": "851dc481-5943-4c05-df68-124bd77d2029",
        "colab": {
          "base_uri": "https://localhost:8080/",
          "height": 523
        }
      },
      "source": [
        "fig = plt.figure(figsize = (8,8))\n",
        "ax = fig.add_subplot(1,1,1) \n",
        "ax.set_xlabel('Principal Component 1', fontsize = 15)\n",
        "ax.set_ylabel('Principal Component 2', fontsize = 15)\n",
        "ax.set_title('2 component PCA', fontsize = 20)\n",
        "targets = ['Iris-setosa', 'Iris-versicolor', 'Iris-virginica']\n",
        "colors = ['r', 'g', 'b']\n",
        "for target, color in zip(targets,colors):\n",
        "    indicesToKeep = finalDf['target'] == target\n",
        "    ax.scatter(finalDf.loc[indicesToKeep, 'principal component 1']\n",
        "               , finalDf.loc[indicesToKeep, 'principal component 2']\n",
        "               , c = color\n",
        "               , s = 50)\n",
        "ax.legend(targets)\n",
        "ax.grid()\n"
      ],
      "execution_count": 44,
      "outputs": [
        {
          "output_type": "display_data",
          "data": {
            "image/png": "[encoded data removed]",
            "text/plain": [
              "<Figure size 576x576 with 1 Axes>"
            ]
          },
          "metadata": {
            "tags": [],
            "needs_background": "light"
          }
        }
      ]
    },
    {
      "cell_type": "markdown",
      "metadata": {
        "id": "20I052XUveWH"
      },
      "source": [
        "Explained Variance The explained variance tells you how much information (variance) can be attributed to each of the principal components. This is important as while you can convert 4 dimensional space to 2 dimensional space, you lose some of the variance (information) when you do this. By using the attribute explained_variance_ratio_, you can see that the first principal component contains 72.77% of the variance and the second principal component contains 23.03% of the variance. Together, the two components contain 95.80% of the information."
      ]
    },
    {
      "cell_type": "code",
      "metadata": {
        "id": "mlHK7CM4vPgq",
        "outputId": "e80162ec-c163-4a0f-e118-54620b18a1c9",
        "colab": {
          "base_uri": "https://localhost:8080/"
        }
      },
      "source": [
        "pca.explained_variance_ratio_"
      ],
      "execution_count": 45,
      "outputs": [
        {
          "output_type": "execute_result",
          "data": {
            "text/plain": [
              "array([0.72770452, 0.23030523])"
            ]
          },
          "metadata": {
            "tags": []
          },
          "execution_count": 45
        }
      ]
    }
  ]
}
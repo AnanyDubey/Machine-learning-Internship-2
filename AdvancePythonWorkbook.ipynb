{
  "nbformat": 4,
  "nbformat_minor": 0,
  "metadata": {
    "colab": {
      "name": "InternsipStudioWorkbook.ipynb",
      "provenance": [],
      "collapsed_sections": [
        "pxQBwMCt39qn",
        "c3nKJzwC6m-1",
        "mIp5XDx2nFqH",
        "rdUTt6nunsGF",
        "Jxx87qCUu-vX"
      ],
      "toc_visible": true,
      "authorship_tag": "ABX9TyPKv9xFv61n+jCvLbblaU1r",
      "include_colab_link": true
    },
    "kernelspec": {
      "name": "python3",
      "display_name": "Python 3"
    }
  },
  "cells": [
    {
      "cell_type": "markdown",
      "metadata": {
        "id": "view-in-github",
        "colab_type": "text"
      },
      "source": [
        "<a href=\"https://colab.research.google.com/github/MohammedNayaz/Machine-learning-/blob/master/AdvancePythonWorkbook.ipynb\" target=\"_parent\"><img src=\"https://colab.research.google.com/assets/colab-badge.svg\" alt=\"Open In Colab\"/></a>"
      ]
    },
    {
      "cell_type": "markdown",
      "metadata": {
        "id": "pxQBwMCt39qn",
        "colab_type": "text"
      },
      "source": [
        "# While Loop"
      ]
    },
    {
      "cell_type": "code",
      "metadata": {
        "id": "8ZihT5o14Dcx",
        "colab_type": "code",
        "colab": {
          "base_uri": "https://localhost:8080/",
          "height": 101
        },
        "outputId": "6b2195a0-f575-4a50-d8bf-8687b921f3dc"
      },
      "source": [
        "# while statement is like if statement.  \n",
        "i = 0\n",
        "while i<5:\n",
        "  print (i)\n",
        "  i= i+1"
      ],
      "execution_count": null,
      "outputs": [
        {
          "output_type": "stream",
          "text": [
            "0\n",
            "1\n",
            "2\n",
            "3\n",
            "4\n"
          ],
          "name": "stdout"
        }
      ]
    },
    {
      "cell_type": "code",
      "metadata": {
        "id": "Vmle-Hc-5Suy",
        "colab_type": "code",
        "colab": {
          "base_uri": "https://localhost:8080/",
          "height": 218
        },
        "outputId": "2421c576-2040-46b3-b221-c14ec2019782"
      },
      "source": [
        "# A break statement is used to break from a loop\n",
        "i = 0\n",
        "while i<15:\n",
        "  if i==12:\n",
        "    break\n",
        "  print (i)\n",
        "  i= i+1"
      ],
      "execution_count": null,
      "outputs": [
        {
          "output_type": "stream",
          "text": [
            "0\n",
            "1\n",
            "2\n",
            "3\n",
            "4\n",
            "5\n",
            "6\n",
            "7\n",
            "8\n",
            "9\n",
            "10\n",
            "11\n"
          ],
          "name": "stdout"
        }
      ]
    },
    {
      "cell_type": "code",
      "metadata": {
        "id": "Z_9NSKtg5l0l",
        "colab_type": "code",
        "colab": {
          "base_uri": "https://localhost:8080/",
          "height": 185
        },
        "outputId": "96ba4152-b7bc-47b1-e647-88650571d643"
      },
      "source": [
        "# A continue statement stops the flow and goes back again to the starting point of block. \n",
        "# \n",
        "# continue - goes back to start of the block\n",
        "\n",
        "i = 0\n",
        "while i<20:\n",
        "  if (i % 2==0):\n",
        "    i=i+1\n",
        "    print (\"Inside continue\",i)\n",
        "    continue\n",
        "  i=i+2  \n",
        "  print (i)\n",
        "  i= i+1"
      ],
      "execution_count": null,
      "outputs": [
        {
          "output_type": "stream",
          "text": [
            "Inside continue 1\n",
            "3\n",
            "Inside continue 5\n",
            "7\n",
            "Inside continue 9\n",
            "11\n",
            "Inside continue 13\n",
            "15\n",
            "Inside continue 17\n",
            "19\n"
          ],
          "name": "stdout"
        }
      ]
    },
    {
      "cell_type": "code",
      "metadata": {
        "id": "CF5uh-3w6Wlc",
        "colab_type": "code",
        "colab": {
          "base_uri": "https://localhost:8080/",
          "height": 286
        },
        "outputId": "c402e5ba-7f70-4723-f31f-7dab5195ffa0"
      },
      "source": [
        "#Using else Statement with While Loop\n",
        "count = 0\n",
        "while count < 15:\n",
        "   print (count, \" is  less than 15\")\n",
        "   count = count + 1\n",
        "else:\n",
        "   print (count, \" is not less than 15\")"
      ],
      "execution_count": null,
      "outputs": [
        {
          "output_type": "stream",
          "text": [
            "0  is  less than 15\n",
            "1  is  less than 15\n",
            "2  is  less than 15\n",
            "3  is  less than 15\n",
            "4  is  less than 15\n",
            "5  is  less than 15\n",
            "6  is  less than 15\n",
            "7  is  less than 15\n",
            "8  is  less than 15\n",
            "9  is  less than 15\n",
            "10  is  less than 15\n",
            "11  is  less than 15\n",
            "12  is  less than 15\n",
            "13  is  less than 15\n",
            "14  is  less than 15\n",
            "15  is not less than 15\n"
          ],
          "name": "stdout"
        }
      ]
    },
    {
      "cell_type": "markdown",
      "metadata": {
        "id": "c3nKJzwC6m-1",
        "colab_type": "text"
      },
      "source": [
        "# for loop in Python Programming"
      ]
    },
    {
      "cell_type": "code",
      "metadata": {
        "id": "YWOtVQ3Q6ss5",
        "colab_type": "code",
        "colab": {
          "base_uri": "https://localhost:8080/",
          "height": 67
        },
        "outputId": "c68bba4d-43ef-4e3a-84a7-a821f162d4f2"
      },
      "source": [
        "#Print each fruit in a fruit list:\n",
        "fruits = [\"apple\", \"banana\", \"cherry\"]\n",
        "for x in fruits:\n",
        "  print(x)"
      ],
      "execution_count": null,
      "outputs": [
        {
          "output_type": "stream",
          "text": [
            "apple\n",
            "banana\n",
            "cherry\n"
          ],
          "name": "stdout"
        }
      ]
    },
    {
      "cell_type": "code",
      "metadata": {
        "id": "9_CUsDPb66jl",
        "colab_type": "code",
        "colab": {
          "base_uri": "https://localhost:8080/",
          "height": 34
        },
        "outputId": "1e8ec7ff-05bd-439f-919a-ae4563547bcf"
      },
      "source": [
        "# Program to find the sum of all numbers stored in a list\n",
        "\n",
        "# List of numbers\n",
        "numbers = [6, 5, 3, -8, 4, 2, 5, 4, 11]\n",
        "\n",
        "# variable to store the sum\n",
        "sum = 0\n",
        "\n",
        "# iterate over the list\n",
        "for val in numbers:\n",
        "\tsum = sum+val\n",
        "\n",
        "print(\"The sum is\", sum)"
      ],
      "execution_count": null,
      "outputs": [
        {
          "output_type": "stream",
          "text": [
            "The sum is 32\n"
          ],
          "name": "stdout"
        }
      ]
    },
    {
      "cell_type": "code",
      "metadata": {
        "id": "jj9CGZsp7d4m",
        "colab_type": "code",
        "colab": {
          "base_uri": "https://localhost:8080/"
        },
        "outputId": "95cab9a1-aad6-46ac-cb42-6f92fc6eeb29"
      },
      "source": [
        "#range function\n",
        "#We can generate a sequence of numbers using range() function.\n",
        "print(range(10))\n",
        "\n",
        "print(list(range(10)))\n",
        "\n",
        "print(list(range(2, 8)))\n",
        "\n",
        "print(list(range(2, 20, 3)))"
      ],
      "execution_count": null,
      "outputs": [
        {
          "output_type": "stream",
          "text": [
            "range(0, 10)\n",
            "[0, 1, 2, 3, 4, 5, 6, 7, 8, 9]\n",
            "[2, 3, 4, 5, 6, 7]\n",
            "[2, 5, 8, 11, 14, 17]\n"
          ],
          "name": "stdout"
        }
      ]
    },
    {
      "cell_type": "code",
      "metadata": {
        "id": "elaxlLWlmQw1",
        "colab_type": "code",
        "colab": {
          "base_uri": "https://localhost:8080/"
        },
        "outputId": "5863c780-81be-4c26-d70c-dacab8162ec8"
      },
      "source": [
        "#Loop through the letters in the word \"banana\":\n",
        "\n",
        "for x in \"banana\":\n",
        "  print(x)"
      ],
      "execution_count": null,
      "outputs": [
        {
          "output_type": "stream",
          "text": [
            "b\n",
            "a\n",
            "n\n",
            "a\n",
            "n\n",
            "a\n"
          ],
          "name": "stdout"
        }
      ]
    },
    {
      "cell_type": "code",
      "metadata": {
        "id": "vn6xGlyYmgEA",
        "colab_type": "code",
        "colab": {
          "base_uri": "https://localhost:8080/"
        },
        "outputId": "e86c2f3c-fcc5-4a85-9afa-40cf126ab087"
      },
      "source": [
        "#for loop with else\n",
        "#A for loop can have an optional else block as well. The else part is executed if the items in the sequence used in for loop exhausts.\n",
        "\n",
        "digits = [0, 1, 5, 32]\n",
        "\n",
        "for i in digits:\n",
        "    print(i)\n",
        "else:\n",
        "    print(\"No items left.\")"
      ],
      "execution_count": null,
      "outputs": [
        {
          "output_type": "stream",
          "text": [
            "0\n",
            "1\n",
            "5\n",
            "32\n",
            "No items left.\n"
          ],
          "name": "stdout"
        }
      ]
    },
    {
      "cell_type": "code",
      "metadata": {
        "id": "8Xbl4fgnmqJL",
        "colab_type": "code",
        "colab": {
          "base_uri": "https://localhost:8080/"
        },
        "outputId": "1ede0b7c-1a2a-4018-9f6c-55fe8cf687f8"
      },
      "source": [
        "#break statement in for loop\n",
        "#Exit the loop when x is \"banana\":\n",
        "\n",
        "fruits = [\"apple\", \"banana\", \"cherry\"]\n",
        "for x in fruits:\n",
        "  print(x)\n",
        "  if x == \"banana\":\n",
        "    break"
      ],
      "execution_count": null,
      "outputs": [
        {
          "output_type": "stream",
          "text": [
            "apple\n",
            "banana\n"
          ],
          "name": "stdout"
        }
      ]
    },
    {
      "cell_type": "code",
      "metadata": {
        "id": "LWRqaKxFmxTt",
        "colab_type": "code",
        "colab": {
          "base_uri": "https://localhost:8080/"
        },
        "outputId": "286112f6-c09c-4bfb-d35e-37fa6423a273"
      },
      "source": [
        "# program to display student's marks from record\n",
        "student_name = 'Sandeep'\n",
        "\n",
        "marks = {'Sandeep': 90, 'Divyam': 55, 'Sanjay': 77}\n",
        "\n",
        "for student in marks:\n",
        "    if student == student_name:\n",
        "        print(marks[student])\n",
        "        break\n",
        "else:\n",
        "    print('No entry with that name found.')"
      ],
      "execution_count": null,
      "outputs": [
        {
          "output_type": "stream",
          "text": [
            "90\n"
          ],
          "name": "stdout"
        }
      ]
    },
    {
      "cell_type": "code",
      "metadata": {
        "id": "q0hE5UE3nCM5",
        "colab_type": "code",
        "colab": {
          "base_uri": "https://localhost:8080/",
          "height": 34
        },
        "outputId": "8b310f95-538b-4785-d938-a54423745011"
      },
      "source": [
        "# program to display student's marks from record\n",
        "student_name = 'Sandeep'\n",
        "\n",
        "marks = {'Ankush': 90, 'Divyam': 55, 'Sanjay': 77}\n",
        "\n",
        "for student in marks:\n",
        "    if student == student_name:\n",
        "        print(marks[student])\n",
        "        break\n",
        "else:\n",
        "    print('No entry with that name found.')"
      ],
      "execution_count": null,
      "outputs": [
        {
          "output_type": "stream",
          "text": [
            "No entry with that name found.\n"
          ],
          "name": "stdout"
        }
      ]
    },
    {
      "cell_type": "markdown",
      "metadata": {
        "id": "mIp5XDx2nFqH",
        "colab_type": "text"
      },
      "source": [
        "# nested loops in Python programming"
      ]
    },
    {
      "cell_type": "code",
      "metadata": {
        "id": "8nSZU59unIU3",
        "colab_type": "code",
        "colab": {
          "base_uri": "https://localhost:8080/",
          "height": 454
        },
        "outputId": "223d0c2f-4403-4ab7-9ceb-7c5349839137"
      },
      "source": [
        "#The following program uses a nested for loop to find the prime numbers from 2 to 100 −\n",
        "i = 2\n",
        "while(i < 100):\n",
        "   j = 2\n",
        "   while(j <= (i/j)):\n",
        "      if not(i%j): break\n",
        "      j = j + 1\n",
        "   if (j > i/j) : print (i, \" is prime\")\n",
        "   i = i + 1\n",
        "\n",
        "print (\"Good bye!\")"
      ],
      "execution_count": null,
      "outputs": [
        {
          "output_type": "stream",
          "text": [
            "2  is prime\n",
            "3  is prime\n",
            "5  is prime\n",
            "7  is prime\n",
            "11  is prime\n",
            "13  is prime\n",
            "17  is prime\n",
            "19  is prime\n",
            "23  is prime\n",
            "29  is prime\n",
            "31  is prime\n",
            "37  is prime\n",
            "41  is prime\n",
            "43  is prime\n",
            "47  is prime\n",
            "53  is prime\n",
            "59  is prime\n",
            "61  is prime\n",
            "67  is prime\n",
            "71  is prime\n",
            "73  is prime\n",
            "79  is prime\n",
            "83  is prime\n",
            "89  is prime\n",
            "97  is prime\n",
            "Good bye!\n"
          ],
          "name": "stdout"
        }
      ]
    },
    {
      "cell_type": "code",
      "metadata": {
        "id": "AsJstm1znb_E",
        "colab_type": "code",
        "colab": {
          "base_uri": "https://localhost:8080/",
          "height": 168
        },
        "outputId": "5aea6e8c-3414-4d0b-f5da-83c778276c55"
      },
      "source": [
        "#nested loop\n",
        "for i in range(1, 10): \n",
        "    for j in range(i): \n",
        "         print(i, end=' ') \n",
        "    print() "
      ],
      "execution_count": null,
      "outputs": [
        {
          "output_type": "stream",
          "text": [
            "1 \n",
            "2 2 \n",
            "3 3 3 \n",
            "4 4 4 4 \n",
            "5 5 5 5 5 \n",
            "6 6 6 6 6 6 \n",
            "7 7 7 7 7 7 7 \n",
            "8 8 8 8 8 8 8 8 \n",
            "9 9 9 9 9 9 9 9 9 \n"
          ],
          "name": "stdout"
        }
      ]
    },
    {
      "cell_type": "markdown",
      "metadata": {
        "id": "rdUTt6nunsGF",
        "colab_type": "text"
      },
      "source": [
        "# Functions"
      ]
    },
    {
      "cell_type": "code",
      "metadata": {
        "id": "wfxDLqQpntXo",
        "colab_type": "code",
        "colab": {
          "base_uri": "https://localhost:8080/",
          "height": 34
        },
        "outputId": "8221dc97-1a25-42c5-fa8b-39c2cfa49963"
      },
      "source": [
        "# functions in python are created using def statement\n",
        "def name_philospher():\n",
        "  print ('Bertrand Russell')\n",
        "name_philospher() "
      ],
      "execution_count": null,
      "outputs": [
        {
          "output_type": "stream",
          "text": [
            "Bertrand Russell\n"
          ],
          "name": "stdout"
        }
      ]
    },
    {
      "cell_type": "code",
      "metadata": {
        "id": "_NMHbHxwnz8_",
        "colab_type": "code",
        "colab": {}
      },
      "source": [
        "# One can pass arguments to functions\n",
        "# name is an argument for the function name_of_philosphers\n",
        "\n",
        "def name_philospher(name, country):\n",
        "  print (name,country)"
      ],
      "execution_count": null,
      "outputs": []
    },
    {
      "cell_type": "code",
      "metadata": {
        "id": "4D69BCI9n-dQ",
        "colab_type": "code",
        "colab": {
          "base_uri": "https://localhost:8080/",
          "height": 50
        },
        "outputId": "1a4b2dbe-877b-4537-fa83-62d91f74e5d4"
      },
      "source": [
        "name_philospher('Bertrand Russell', '- United Kingdom') \n",
        "name_philospher('Carl Marx', '- Germany') "
      ],
      "execution_count": null,
      "outputs": [
        {
          "output_type": "stream",
          "text": [
            "Bertrand Russell - United Kingdom\n",
            "Carl Marx - Germany\n"
          ],
          "name": "stdout"
        }
      ]
    },
    {
      "cell_type": "code",
      "metadata": {
        "id": "lJ4UBdLCoijM",
        "colab_type": "code",
        "colab": {
          "base_uri": "https://localhost:8080/",
          "height": 34
        },
        "outputId": "756bd654-5600-47f6-c333-23887af59b10"
      },
      "source": [
        "#function can  return values\n",
        "\n",
        "def name_of_philospher(name,country):\n",
        "  str = \"The philosopher {} lived in  country {}\".format(name,country)\n",
        "  return str\n",
        "\n",
        "name = name_of_philospher('Bertrand Russell','United Kingdom')\n",
        "print (name)"
      ],
      "execution_count": null,
      "outputs": [
        {
          "output_type": "stream",
          "text": [
            "The philosopher Bertrand Russell lived in  country United Kingdom\n"
          ],
          "name": "stdout"
        }
      ]
    },
    {
      "cell_type": "code",
      "metadata": {
        "id": "cDHmqNSGo-Cm",
        "colab_type": "code",
        "colab": {
          "base_uri": "https://localhost:8080/",
          "height": 50
        },
        "outputId": "0fa8f424-05a3-4f6d-fd7f-4c0f9ef3b58b"
      },
      "source": [
        "# function can return multiple values\n",
        "# The function adds and subtsracts two numbers\n",
        "def add_and_substract(num1,num2):\n",
        "    add = num1+num2\n",
        "    diff = num1-num2\n",
        "    return add,diff\n",
        "  \n",
        "add,diff = add_and_substract(10,2) \n",
        "\n",
        "print (\"The sum is =\",add)\n",
        "print (\"The difference is =\",diff)"
      ],
      "execution_count": null,
      "outputs": [
        {
          "output_type": "stream",
          "text": [
            "The sum is = 12\n",
            "The difference is = 8\n"
          ],
          "name": "stdout"
        }
      ]
    },
    {
      "cell_type": "code",
      "metadata": {
        "id": "Cd9yfJ1PpUMG",
        "colab_type": "code",
        "colab": {
          "base_uri": "https://localhost:8080/",
          "height": 34
        },
        "outputId": "a5069d7d-bb88-4d9a-9423-7984928150a5"
      },
      "source": [
        "# Functions are just like normal variables. They can be assigned and reassigned to variables\n",
        "\n",
        "def add_and_substract(num1,num2):\n",
        "    \"\"\"\n",
        "     The function adds and subtsracts two numbers\n",
        "    \"\"\" \n",
        "    add = num1+num2\n",
        "    diff = num1-num2\n",
        "    return add,diff\n",
        "  \n",
        "operation = add_and_substract\n",
        "\n",
        "num1, num2 = operation(10,2)\n",
        "print (num1, num2)\n",
        "  "
      ],
      "execution_count": null,
      "outputs": [
        {
          "output_type": "stream",
          "text": [
            "12 8\n"
          ],
          "name": "stdout"
        }
      ]
    },
    {
      "cell_type": "code",
      "metadata": {
        "id": "7l9eHWi0pixH",
        "colab_type": "code",
        "colab": {
          "base_uri": "https://localhost:8080/",
          "height": 185
        },
        "outputId": "37ae990a-0c46-4d6b-f658-938f827e194b"
      },
      "source": [
        "# The special syntax, *args and **kwargs in function definitions is used to pass a variable number of arguments to a function.\n",
        "\n",
        "# The single asterisk form (*args) is used to pass a non-keyworded, variable-length argument list, \n",
        "# and the double asterisk form is used to pass a keyworded, variable-length argument list. \n",
        "\n",
        "\n",
        "def add_numbers(*args):\n",
        "  \n",
        "  for i in args:\n",
        "    print (i)\n",
        "\n",
        "add_numbers(1,2,3,4,5)    \n",
        "\n",
        "\n",
        "\n",
        "def add_numbers(**kwargs):\n",
        "    for key in kwargs:\n",
        "        print (\"another keyword arg: {}: {}\".format(key, kwargs[key]))\n",
        "   \n",
        "  \n",
        "add_numbers(num1=1,num2=2,num3=3,num4=4,num5=5)    "
      ],
      "execution_count": null,
      "outputs": [
        {
          "output_type": "stream",
          "text": [
            "1\n",
            "2\n",
            "3\n",
            "4\n",
            "5\n",
            "another keyword arg: num1: 1\n",
            "another keyword arg: num2: 2\n",
            "another keyword arg: num3: 3\n",
            "another keyword arg: num4: 4\n",
            "another keyword arg: num5: 5\n"
          ],
          "name": "stdout"
        }
      ]
    },
    {
      "cell_type": "markdown",
      "metadata": {
        "id": "fl2Yg_KLqQLN",
        "colab_type": "text"
      },
      "source": [
        "# Dictionary\n",
        "Python dictionary is an unordered collection of items. Each item of a dictionary has a key/value pair."
      ]
    },
    {
      "cell_type": "code",
      "metadata": {
        "id": "VM6PAyEvqNsr",
        "colab_type": "code",
        "colab": {
          "base_uri": "https://localhost:8080/",
          "height": 67
        },
        "outputId": "f9656730-d9f7-47f0-829b-7fd448b29a32"
      },
      "source": [
        "#Accessing Values in Dictionary\n",
        "dict = {'Name': 'Zara', 'Age': 7, 'Class': 'First'}\n",
        "print (\"dict['Name']: \", dict['Name'])\n",
        "print (\"dict['Age']: \", dict['Age'])\n",
        "print (\"dict['class']: \", dict['Class'])"
      ],
      "execution_count": null,
      "outputs": [
        {
          "output_type": "stream",
          "text": [
            "dict['Name']:  Zara\n",
            "dict['Age']:  7\n",
            "dict['class']:  First\n"
          ],
          "name": "stdout"
        }
      ]
    },
    {
      "cell_type": "code",
      "metadata": {
        "id": "ABH3lpz3rGTg",
        "colab_type": "code",
        "colab": {
          "base_uri": "https://localhost:8080/",
          "height": 50
        },
        "outputId": "6488e6c2-7f4d-44f1-93db-d54287836af0"
      },
      "source": [
        "# Dictionaries are data structures used to map key to values\n",
        "\n",
        "philosphers = {\"United Kingdom\":\"Bertrand Russell\", \"Germany\":\"Karl Marx\"}\n",
        "\n",
        "print (philosphers[\"United Kingdom\"])\n",
        "print (philosphers[\"Germany\"])"
      ],
      "execution_count": null,
      "outputs": [
        {
          "output_type": "stream",
          "text": [
            "Bertrand Russell\n",
            "Karl Marx\n"
          ],
          "name": "stdout"
        }
      ]
    },
    {
      "cell_type": "code",
      "metadata": {
        "id": "ajhUxW_ArMXI",
        "colab_type": "code",
        "colab": {}
      },
      "source": [
        "# Accessing a Index which is not part of dictionary results in a keyerror\n",
        "\n",
        "philosphers = {\"United Kingdom\":\"Bertrand Russell\", \"Germany\":\"Karl Marx\"}\n",
        "print (philosphers[\"Germany\"])\n",
        "print (philosphers[\"India\"])  # This will result in a KeyError"
      ],
      "execution_count": null,
      "outputs": []
    },
    {
      "cell_type": "code",
      "metadata": {
        "id": "bAzAKUajrTxi",
        "colab_type": "code",
        "colab": {
          "base_uri": "https://localhost:8080/",
          "height": 34
        },
        "outputId": "0b79a5fa-a5da-40e4-eb01-dfb4f521440b"
      },
      "source": [
        "philosphers = {\"UK\":\"Bertrand Russell\", \"Germany\":\"Karl Marx\", \"India\":None}\n",
        "\n",
        "philosphers[\"India\"] = \"AryaBhatt\"              #One can assign a existing key to new value\n",
        "philosphers[\"United Kingdom\"] = \"John Mill\" #One can assign a existing key to new value\n",
        "philosphers[\"United States\"] = \"John Dewey\" # One can create a new key and assign a value\n",
        "\n",
        "print (philosphers)"
      ],
      "execution_count": null,
      "outputs": [
        {
          "output_type": "stream",
          "text": [
            "{'UK': 'Bertrand Russell', 'Germany': 'Karl Marx', 'India': 'AryaBhatt', 'United Kingdom': 'John Mill', 'United States': 'John Dewey'}\n"
          ],
          "name": "stdout"
        }
      ]
    },
    {
      "cell_type": "code",
      "metadata": {
        "id": "47wL2mxbrkec",
        "colab_type": "code",
        "colab": {
          "base_uri": "https://localhost:8080/",
          "height": 84
        },
        "outputId": "fd88d47b-35af-4a6e-d04d-793f9430d3ff"
      },
      "source": [
        "# One can determine whether a key is present in dictionary or not (using \"in\" and \"not in\")\n",
        "\n",
        "philosphers = {\"UK\":\"Bertrand Russell\", \"Germany\":\"Karl Marx\", \"India\":\"Arya Bhatt\"}\n",
        "\n",
        "print (\"India\" in philosphers)\n",
        "print (\"Brazil\" in philosphers)\n",
        "print (\"Brazil\" not in philosphers)\n",
        "\n",
        "\n",
        "print(philosphers)"
      ],
      "execution_count": null,
      "outputs": [
        {
          "output_type": "stream",
          "text": [
            "True\n",
            "False\n",
            "True\n",
            "{'UK': 'Bertrand Russell', 'Germany': 'Karl Marx', 'India': 'Arya Bhatt'}\n"
          ],
          "name": "stdout"
        }
      ]
    },
    {
      "cell_type": "code",
      "metadata": {
        "id": "BUZ_muvSrq-m",
        "colab_type": "code",
        "colab": {
          "base_uri": "https://localhost:8080/",
          "height": 118
        },
        "outputId": "96d742a8-fa1b-414c-ad2e-db6433b36baa"
      },
      "source": [
        "# using keys, values and items in dictionary\n",
        "\n",
        "philosphers = {\"UK\":\"Bertrand Russell\", \"Germany\":\"Karl Marx\", \"India\":\"Arya Bhatt\"}\n",
        "\n",
        "print (philosphers.keys())\n",
        "\n",
        "print(type(philosphers.keys()))\n",
        "\n",
        "print (philosphers.values())\n",
        "print(type(philosphers.values()))\n",
        "\n",
        "print (philosphers.items())\n",
        "print(type(philosphers.items()))"
      ],
      "execution_count": null,
      "outputs": [
        {
          "output_type": "stream",
          "text": [
            "dict_keys(['UK', 'Germany', 'India'])\n",
            "<class 'dict_keys'>\n",
            "dict_values(['Bertrand Russell', 'Karl Marx', 'Arya Bhatt'])\n",
            "<class 'dict_values'>\n",
            "dict_items([('UK', 'Bertrand Russell'), ('Germany', 'Karl Marx'), ('India', 'Arya Bhatt')])\n",
            "<class 'dict_items'>\n"
          ],
          "name": "stdout"
        }
      ]
    },
    {
      "cell_type": "code",
      "metadata": {
        "id": "NAbYemqOr6N2",
        "colab_type": "code",
        "colab": {
          "base_uri": "https://localhost:8080/",
          "height": 229
        },
        "outputId": "c99ac155-7ce3-43ee-f4a8-3e3939317abc"
      },
      "source": [
        "# A get method is like an index with added advantage that one can specify a default value \n",
        "# if the index is not found This prevents keyerror\n",
        "\n",
        "philosphers = {\"UK\":\"Bertrand Russell\", \"Germany\":\"Karl Marx\", \"India\":\"Arya Bhatt\"}\n",
        "\n",
        "print (philosphers.get(\"Russia\",\"No philospher set for Russia\"))  # No keyerror\n",
        "print (philosphers.get(\"Russia\"))  # By default a None value will be returned\n",
        "print (philosphers[\"Russia\"])   # A keyerror occurs"
      ],
      "execution_count": null,
      "outputs": [
        {
          "output_type": "stream",
          "text": [
            "No philospher set for Russia\n",
            "None\n"
          ],
          "name": "stdout"
        },
        {
          "output_type": "error",
          "ename": "KeyError",
          "evalue": "ignored",
          "traceback": [
            "\u001b[0;31m---------------------------------------------------------------------------\u001b[0m",
            "\u001b[0;31mKeyError\u001b[0m                                  Traceback (most recent call last)",
            "\u001b[0;32m<ipython-input-37-d52e7351fdd7>\u001b[0m in \u001b[0;36m<module>\u001b[0;34m()\u001b[0m\n\u001b[1;32m      6\u001b[0m \u001b[0mprint\u001b[0m \u001b[0;34m(\u001b[0m\u001b[0mphilosphers\u001b[0m\u001b[0;34m.\u001b[0m\u001b[0mget\u001b[0m\u001b[0;34m(\u001b[0m\u001b[0;34m\"Russia\"\u001b[0m\u001b[0;34m,\u001b[0m\u001b[0;34m\"No philospher set for Russia\"\u001b[0m\u001b[0;34m)\u001b[0m\u001b[0;34m)\u001b[0m  \u001b[0;31m# No keyerror\u001b[0m\u001b[0;34m\u001b[0m\u001b[0;34m\u001b[0m\u001b[0m\n\u001b[1;32m      7\u001b[0m \u001b[0mprint\u001b[0m \u001b[0;34m(\u001b[0m\u001b[0mphilosphers\u001b[0m\u001b[0;34m.\u001b[0m\u001b[0mget\u001b[0m\u001b[0;34m(\u001b[0m\u001b[0;34m\"Russia\"\u001b[0m\u001b[0;34m)\u001b[0m\u001b[0;34m)\u001b[0m  \u001b[0;31m# By default a None value will be returned\u001b[0m\u001b[0;34m\u001b[0m\u001b[0;34m\u001b[0m\u001b[0m\n\u001b[0;32m----> 8\u001b[0;31m \u001b[0mprint\u001b[0m \u001b[0;34m(\u001b[0m\u001b[0mphilosphers\u001b[0m\u001b[0;34m[\u001b[0m\u001b[0;34m\"Russia\"\u001b[0m\u001b[0;34m]\u001b[0m\u001b[0;34m)\u001b[0m   \u001b[0;31m# A keyerror occurs\u001b[0m\u001b[0;34m\u001b[0m\u001b[0;34m\u001b[0m\u001b[0m\n\u001b[0m",
            "\u001b[0;31mKeyError\u001b[0m: 'Russia'"
          ]
        }
      ]
    },
    {
      "cell_type": "markdown",
      "metadata": {
        "id": "JYGOrRH8sBsE",
        "colab_type": "text"
      },
      "source": [
        "#List\n",
        " A list denotes a container object in python and it is used to store indexed list of items. A list can contain different types of items for e.g. string, integer or other list."
      ]
    },
    {
      "cell_type": "code",
      "metadata": {
        "id": "j-1wnsa5sFce",
        "colab_type": "code",
        "colab": {
          "base_uri": "https://localhost:8080/",
          "height": 84
        },
        "outputId": "96523a76-b74e-4eb9-ed2e-f01b8fb29992"
      },
      "source": [
        "word_list = ['This', 'is', 'good']  # A list of 3 items\n",
        "\n",
        "print (word_list[0]) # prints the first  item. Index starts at 0.\n",
        "print (word_list[1]) # prints the second item\n",
        "print (word_list[2]) # print the third item\n",
        "\n",
        "\n",
        "# An empty list is created with empty bracket\n",
        "empty = []\n",
        "print (empty)"
      ],
      "execution_count": null,
      "outputs": [
        {
          "output_type": "stream",
          "text": [
            "This\n",
            "is\n",
            "good\n",
            "[]\n"
          ],
          "name": "stdout"
        }
      ]
    },
    {
      "cell_type": "code",
      "metadata": {
        "id": "AB5nTUWcsT4g",
        "colab_type": "code",
        "colab": {
          "base_uri": "https://localhost:8080/",
          "height": 50
        },
        "outputId": "be1cdecf-af36-49f3-dc81-acdfb4210596"
      },
      "source": [
        "# Negative indexing in lists\n",
        "my_list = ['p','r','o','b','e']\n",
        "\n",
        "print(my_list[-1])\n",
        "\n",
        "print(my_list[-5])"
      ],
      "execution_count": null,
      "outputs": [
        {
          "output_type": "stream",
          "text": [
            "e\n",
            "p\n"
          ],
          "name": "stdout"
        }
      ]
    },
    {
      "cell_type": "code",
      "metadata": {
        "id": "59udDXa-sZkd",
        "colab_type": "code",
        "colab": {
          "base_uri": "https://localhost:8080/",
          "height": 84
        },
        "outputId": "ebcf5d78-d7b2-4b21-a028-7c5ce9444b55"
      },
      "source": [
        "# List slicing in Python\n",
        "\n",
        "my_list = ['N','A','Y','A','Z']\n",
        "\n",
        "# elements 3rd to 5th\n",
        "print(my_list[2:5])\n",
        "\n",
        "# elements beginning to 4th\n",
        "print(my_list[:-3])\n",
        "\n",
        "# elements 6th to end\n",
        "print(my_list[2:])\n",
        "\n",
        "# elements beginning to end\n",
        "print(my_list[:])"
      ],
      "execution_count": null,
      "outputs": [
        {
          "output_type": "stream",
          "text": [
            "['Y', 'A', 'Z']\n",
            "['N', 'A']\n",
            "['Y', 'A', 'Z']\n",
            "['N', 'A', 'Y', 'A', 'Z']\n"
          ],
          "name": "stdout"
        }
      ]
    },
    {
      "cell_type": "code",
      "metadata": {
        "id": "zrXDq64usn_t",
        "colab_type": "code",
        "colab": {
          "base_uri": "https://localhost:8080/",
          "height": 50
        },
        "outputId": "22b1cd6f-54cc-4db2-b8ad-3d75edfa0817"
      },
      "source": [
        "# Correcting mistake values in a list\n",
        "odd = [2, 4, 6, 8]\n",
        "\n",
        "# change the 1st item    \n",
        "odd[0] = 1            \n",
        "\n",
        "print(odd)\n",
        "\n",
        "# change 2nd to 4th items\n",
        "odd[1:4] = [3, 5, 7]  \n",
        "\n",
        "print(odd)    "
      ],
      "execution_count": null,
      "outputs": [
        {
          "output_type": "stream",
          "text": [
            "[1, 4, 6, 8]\n",
            "[1, 3, 5, 7]\n"
          ],
          "name": "stdout"
        }
      ]
    },
    {
      "cell_type": "code",
      "metadata": {
        "id": "xRyX2s9QsyRw",
        "colab_type": "code",
        "colab": {
          "base_uri": "https://localhost:8080/",
          "height": 50
        },
        "outputId": "62fccabf-62a1-4ad3-cc4f-523f618e4a32"
      },
      "source": [
        "# Appending and Extending lists in Python\n",
        "odd = [1, 3, 5]\n",
        "\n",
        "odd.append(7)\n",
        "\n",
        "print(odd)\n",
        "\n",
        "odd.extend([9, 11, 13])\n",
        "\n",
        "print(odd)"
      ],
      "execution_count": null,
      "outputs": [
        {
          "output_type": "stream",
          "text": [
            "[1, 3, 5, 7]\n",
            "[1, 3, 5, 7, 9, 11, 13]\n"
          ],
          "name": "stdout"
        }
      ]
    },
    {
      "cell_type": "code",
      "metadata": {
        "id": "_Lz7-Wsrs47F",
        "colab_type": "code",
        "colab": {
          "base_uri": "https://localhost:8080/",
          "height": 34
        },
        "outputId": "143fbd73-c5da-4f73-b686-74017616a4f0"
      },
      "source": [
        "# Concatenating \n",
        "odd = [1, 3, 5]\n",
        "\n",
        "print(odd + [9, 7, 5])\n"
      ],
      "execution_count": null,
      "outputs": [
        {
          "output_type": "stream",
          "text": [
            "[1, 3, 5, 9, 7, 5]\n"
          ],
          "name": "stdout"
        }
      ]
    },
    {
      "cell_type": "code",
      "metadata": {
        "id": "QSgFhh5QtASv",
        "colab_type": "code",
        "colab": {
          "base_uri": "https://localhost:8080/",
          "height": 50
        },
        "outputId": "b33b7f2a-dbe1-4745-caa2-5bc5721f8cc3"
      },
      "source": [
        "# Deleting list items\n",
        "my_list = ['p', 'r', 'o', 'b', 'l', 'e', 'm']\n",
        "\n",
        "# delete one item\n",
        "del my_list[2]\n",
        "\n",
        "print(my_list)\n",
        "\n",
        "# delete multiple items\n",
        "del my_list[1:5]\n",
        "\n",
        "print(my_list)\n",
        "# delete entire list\n",
        "\n"
      ],
      "execution_count": null,
      "outputs": [
        {
          "output_type": "stream",
          "text": [
            "['p', 'r', 'b', 'l', 'e', 'm']\n",
            "['p', 'm']\n"
          ],
          "name": "stdout"
        }
      ]
    },
    {
      "cell_type": "code",
      "metadata": {
        "id": "_zk1qBWwtFe_",
        "colab_type": "code",
        "colab": {
          "base_uri": "https://localhost:8080/",
          "height": 84
        },
        "outputId": "45dbd6df-f473-40c1-d43a-d45d462271cf"
      },
      "source": [
        "# Python list methods\n",
        "my_list = [3, 8, 1, 6, 0, 8, 4]\n",
        "\n",
        "# Output: 1\n",
        "print(my_list.index(6))\n",
        "\n",
        "# Output: 2\n",
        "print(my_list.count(8))\n",
        "\n",
        "my_list.sort()\n",
        "\n",
        "# Output: [0, 1, 3, 4, 6, 8, 8]\n",
        "print(my_list)\n",
        "\n",
        "my_list.reverse()\n",
        "\n",
        "# Output: [8, 8, 6, 4, 3, 1, 0]\n",
        "print(my_list)"
      ],
      "execution_count": null,
      "outputs": [
        {
          "output_type": "stream",
          "text": [
            "3\n",
            "2\n",
            "[0, 1, 3, 4, 6, 8, 8]\n",
            "[8, 8, 6, 4, 3, 1, 0]\n"
          ],
          "name": "stdout"
        }
      ]
    },
    {
      "cell_type": "code",
      "metadata": {
        "id": "5WIi3rykteEX",
        "colab_type": "code",
        "colab": {
          "base_uri": "https://localhost:8080/",
          "height": 101
        },
        "outputId": "6a42004c-9bb1-423b-c98d-005c484279fa"
      },
      "source": [
        "# A list can contain items of multiple types\n",
        "\n",
        "generic_list = [1,\"String\",[1,2,3], 5]\n",
        "\n",
        "print ('Value at {} is {} of type {}'.format(0,generic_list[0],type(generic_list[0])))\n",
        "print ('Value at {} is {} of type {}'.format(1,generic_list[1],type(generic_list[1])))\n",
        "print ('Value at {} is {} of type {}'.format(2,generic_list[2],type(generic_list[2])))\n",
        "print ('Value at {} is {} of type {}'.format(3,generic_list[3],type(generic_list[3])))\n",
        "\n",
        "\n",
        "# nested list access\n",
        "\n",
        "print ('Accessing {} value from nested list {} = {}'.format(1,generic_list[2] ,generic_list[2][1]))"
      ],
      "execution_count": null,
      "outputs": [
        {
          "output_type": "stream",
          "text": [
            "Value at 0 is 1 of type <class 'int'>\n",
            "Value at 1 is String of type <class 'str'>\n",
            "Value at 2 is [1, 2, 3] of type <class 'list'>\n",
            "Value at 3 is 5 of type <class 'int'>\n",
            "Accessing 1 value from nested list [1, 2, 3] = 2\n"
          ],
          "name": "stdout"
        }
      ]
    },
    {
      "cell_type": "markdown",
      "metadata": {
        "id": "xiHHjyRZtxPh",
        "colab_type": "text"
      },
      "source": [
        "#Tuples\n",
        "A tuple in Python is similar to a list. The difference between the two is that we cannot change the elements of a tuple once it is assigned whereas we can change the elements of a list"
      ]
    },
    {
      "cell_type": "code",
      "metadata": {
        "id": "W4UkOtmUtuQg",
        "colab_type": "code",
        "colab": {
          "base_uri": "https://localhost:8080/",
          "height": 84
        },
        "outputId": "de5c8620-abf6-49d2-a45d-78e11a606995"
      },
      "source": [
        "# Different types of tuples\n",
        "\n",
        "# Empty tuple\n",
        "my_tuple = ()\n",
        "print(my_tuple)\n",
        "\n",
        "# Tuple having integers\n",
        "my_tuple = (1, 2, 3)\n",
        "print(my_tuple)\n",
        "\n",
        "# tuple with mixed datatypes\n",
        "my_tuple = (1, \"Hello\", 3.4)\n",
        "print(my_tuple)\n",
        "\n",
        "# nested tuple\n",
        "my_tuple = (\"mouse\", [8, 4, 6], (1, 2, 3))\n",
        "print(my_tuple)"
      ],
      "execution_count": null,
      "outputs": [
        {
          "output_type": "stream",
          "text": [
            "()\n",
            "(1, 2, 3)\n",
            "(1, 'Hello', 3.4)\n",
            "('mouse', [8, 4, 6], (1, 2, 3))\n"
          ],
          "name": "stdout"
        }
      ]
    },
    {
      "cell_type": "code",
      "metadata": {
        "id": "EV-6nG3Ft4qi",
        "colab_type": "code",
        "colab": {
          "base_uri": "https://localhost:8080/",
          "height": 84
        },
        "outputId": "e5d4df2b-405c-49f3-cde8-b4e9539d113c"
      },
      "source": [
        "my_tuple = 3, 4.6, \"dog\"\n",
        "print(my_tuple)\n",
        "\n",
        "# tuple unpacking is also possible\n",
        "a, b, c = my_tuple\n",
        "\n",
        "print(a)      # 3\n",
        "print(b)      # 4.6\n",
        "print(c)      # dog"
      ],
      "execution_count": null,
      "outputs": [
        {
          "output_type": "stream",
          "text": [
            "(3, 4.6, 'dog')\n",
            "3\n",
            "4.6\n",
            "dog\n"
          ],
          "name": "stdout"
        }
      ]
    },
    {
      "cell_type": "code",
      "metadata": {
        "id": "QIil6ZMXt8K2",
        "colab_type": "code",
        "colab": {
          "base_uri": "https://localhost:8080/",
          "height": 67
        },
        "outputId": "5bc4eea2-c5f8-4837-81bc-1ac2ed4aeca0"
      },
      "source": [
        "my_tuple = (\"hello\")\n",
        "print(type(my_tuple))  # <class 'str'>\n",
        "\n",
        "# Creating a tuple having one element\n",
        "my_tuple = (\"hello\",\"hi\")\n",
        "print(type(my_tuple))  # <class 'tuple'>\n",
        "\n",
        "# Parentheses is optional\n",
        "my_tuple = \"hello\"\n",
        "print(type(my_tuple))  # <class 'tuple'>"
      ],
      "execution_count": null,
      "outputs": [
        {
          "output_type": "stream",
          "text": [
            "<class 'str'>\n",
            "<class 'tuple'>\n",
            "<class 'str'>\n"
          ],
          "name": "stdout"
        }
      ]
    },
    {
      "cell_type": "code",
      "metadata": {
        "id": "gGeNB22VuCmT",
        "colab_type": "code",
        "colab": {
          "base_uri": "https://localhost:8080/",
          "height": 50
        },
        "outputId": "21f3e14b-4859-4406-ca57-b992820cfcd2"
      },
      "source": [
        "# Accessing tuple elements using indexing\n",
        "my_tuple = ('p','e','r','m','i','t')\n",
        "\n",
        "print(my_tuple[0])   # 'p' \n",
        "print(my_tuple[5])   # 't'"
      ],
      "execution_count": null,
      "outputs": [
        {
          "output_type": "stream",
          "text": [
            "p\n",
            "t\n"
          ],
          "name": "stdout"
        }
      ]
    },
    {
      "cell_type": "code",
      "metadata": {
        "id": "x1R-MG3auGBn",
        "colab_type": "code",
        "colab": {
          "base_uri": "https://localhost:8080/",
          "height": 67
        },
        "outputId": "e5f7212b-2fbd-48cd-8fb9-5d45014e65fc"
      },
      "source": [
        "# nested tuple\n",
        "n_tuple = (\"mouse\", [8, 4, 6], (1, 2, 3))\n",
        "\n",
        "# nested index\n",
        "print(n_tuple[0][3])       # 's'\n",
        "print(n_tuple[1][2])       # 4\n",
        "print(n_tuple[2][2])"
      ],
      "execution_count": null,
      "outputs": [
        {
          "output_type": "stream",
          "text": [
            "s\n",
            "6\n",
            "3\n"
          ],
          "name": "stdout"
        }
      ]
    },
    {
      "cell_type": "code",
      "metadata": {
        "id": "vOlfMEuTub9O",
        "colab_type": "code",
        "colab": {
          "base_uri": "https://localhost:8080/",
          "height": 50
        },
        "outputId": "560a2e5b-c530-409c-caea-7dd41bddc7b6"
      },
      "source": [
        "# Negative indexing for accessing tuple elements\n",
        "my_tuple = ('p', 'e', 'r', 'm', 'i', 't')\n",
        "\n",
        "# Output: 't'\n",
        "print(my_tuple[-1])\n",
        "\n",
        "# Output: 'p'\n",
        "print(my_tuple[-6])"
      ],
      "execution_count": null,
      "outputs": [
        {
          "output_type": "stream",
          "text": [
            "t\n",
            "p\n"
          ],
          "name": "stdout"
        }
      ]
    },
    {
      "cell_type": "code",
      "metadata": {
        "id": "rtnyVsV8uh1A",
        "colab_type": "code",
        "colab": {
          "base_uri": "https://localhost:8080/",
          "height": 84
        },
        "outputId": "7fdbffcf-0bcc-425c-ec0b-81bbf8752bdd"
      },
      "source": [
        "# Accessing tuple elements using slicing\n",
        "my_tuple = ('s','a','n','j','a','y','I','N','D')\n",
        "\n",
        "# elements 2nd to 4th\n",
        "# Output: ('r', 'o', 'g')\n",
        "print(my_tuple[1:4])\n",
        "\n",
        "# elements beginning to 2nd\n",
        "# Output: ('p', 'r')\n",
        "print(my_tuple[:-7])\n",
        "\n",
        "# elements 8th to end\n",
        "# Output: ('i', 'z')\n",
        "print(my_tuple[7:])\n",
        "\n",
        "# elements beginning to end\n",
        "# Output: ('p', 'r', 'o', 'g', 'r', 'a', 'm', 'i', 'z')\n",
        "print(my_tuple[:])"
      ],
      "execution_count": null,
      "outputs": [
        {
          "output_type": "stream",
          "text": [
            "('a', 'n', 'j')\n",
            "('s', 'a')\n",
            "('N', 'D')\n",
            "('s', 'a', 'n', 'j', 'a', 'y', 'I', 'N', 'D')\n"
          ],
          "name": "stdout"
        }
      ]
    },
    {
      "cell_type": "code",
      "metadata": {
        "id": "lAN5X0SEuohW",
        "colab_type": "code",
        "colab": {
          "base_uri": "https://localhost:8080/",
          "height": 34
        },
        "outputId": "b6583e23-fdf6-4e19-8679-f66ed9b7cb98"
      },
      "source": [
        "# Changing tuple values\n",
        "my_tuple = (4, 2, 3, [6, 5])\n",
        "\n",
        "\n",
        "# However, item of mutable element can be changed\n",
        "my_tuple[3][0] = 9   \n",
        "print(my_tuple)"
      ],
      "execution_count": null,
      "outputs": [
        {
          "output_type": "stream",
          "text": [
            "(4, 2, 3, [9, 5])\n"
          ],
          "name": "stdout"
        }
      ]
    },
    {
      "cell_type": "code",
      "metadata": {
        "id": "GL2ms741utQW",
        "colab_type": "code",
        "colab": {
          "base_uri": "https://localhost:8080/",
          "height": 50
        },
        "outputId": "70f9a583-29f2-4166-bd24-63128c3cf56a"
      },
      "source": [
        "# Concatenation\n",
        "# Output: (1, 2, 3, 4, 5, 6)\n",
        "print((1, 2, 3) + (4, 5, 6))\n",
        "\n",
        "# Repeat\n",
        "# Output: ('Repeat', 'Repeat', 'Repeat')\n",
        "print((\"Repeat\",) * 3)"
      ],
      "execution_count": null,
      "outputs": [
        {
          "output_type": "stream",
          "text": [
            "(1, 2, 3, 4, 5, 6)\n",
            "('Repeat', 'Repeat', 'Repeat')\n"
          ],
          "name": "stdout"
        }
      ]
    },
    {
      "cell_type": "code",
      "metadata": {
        "id": "Bs7t6gk7uyK9",
        "colab_type": "code",
        "colab": {
          "base_uri": "https://localhost:8080/",
          "height": 212
        },
        "outputId": "90ac4634-3d87-4452-d886-d2308ebbb24c"
      },
      "source": [
        "# Deleting tuples\n",
        "my_tuple = ('S', 'A', 'N', 'J', 'A', 'Y')\n",
        "\n",
        "print(my_tuple)\n",
        "# Can delete an entire tuple\n",
        "del my_tuple\n",
        "\n",
        "# NameError: name 'my_tuple' is not defined\n",
        "print(my_tuple)"
      ],
      "execution_count": null,
      "outputs": [
        {
          "output_type": "stream",
          "text": [
            "('S', 'A', 'N', 'J', 'A', 'Y')\n"
          ],
          "name": "stdout"
        },
        {
          "output_type": "error",
          "ename": "NameError",
          "evalue": "ignored",
          "traceback": [
            "\u001b[0;31m---------------------------------------------------------------------------\u001b[0m",
            "\u001b[0;31mNameError\u001b[0m                                 Traceback (most recent call last)",
            "\u001b[0;32m<ipython-input-67-cb7750d4f8bf>\u001b[0m in \u001b[0;36m<module>\u001b[0;34m()\u001b[0m\n\u001b[1;32m      7\u001b[0m \u001b[0;34m\u001b[0m\u001b[0m\n\u001b[1;32m      8\u001b[0m \u001b[0;31m# NameError: name 'my_tuple' is not defined\u001b[0m\u001b[0;34m\u001b[0m\u001b[0;34m\u001b[0m\u001b[0;34m\u001b[0m\u001b[0m\n\u001b[0;32m----> 9\u001b[0;31m \u001b[0mprint\u001b[0m\u001b[0;34m(\u001b[0m\u001b[0mmy_tuple\u001b[0m\u001b[0;34m)\u001b[0m\u001b[0;34m\u001b[0m\u001b[0;34m\u001b[0m\u001b[0m\n\u001b[0m",
            "\u001b[0;31mNameError\u001b[0m: name 'my_tuple' is not defined"
          ]
        }
      ]
    },
    {
      "cell_type": "markdown",
      "metadata": {
        "id": "Jxx87qCUu-vX",
        "colab_type": "text"
      },
      "source": [
        "#Python Exception Handling\n",
        "Exceptions occur when something wrong happens in the code. The program stops immediately. Exceptions can be raised for multiple reasons. For e.g.\n",
        "\n",
        "ImportError - An import fails\n",
        "\n",
        "IndexError - A list is indexed with out of range error\n",
        "\n",
        "SytanxError - Some syntax error\n",
        "\n",
        "TypeError - A function is called with a wrong type of variable\n",
        "\n",
        "ValueError - A function is called with inappropriate value"
      ]
    },
    {
      "cell_type": "code",
      "metadata": {
        "id": "FCrZIWOVu6rI",
        "colab_type": "code",
        "colab": {
          "base_uri": "https://localhost:8080/",
          "height": 313
        },
        "outputId": "25a55dcf-c4f4-4d92-87b2-4e7cdc387456"
      },
      "source": [
        "#import nump1 #Import Error\n",
        "\n",
        "#list = [1,2,3]\n",
        "#list[4]        # Index Error\n",
        "\n",
        "\n",
        "#list = {1,2,3] # Syntax error\n",
        "\n",
        "\n",
        "#x = int('One') # This causes a value error\n",
        "\n",
        "def add_num(num1,num2):\n",
        "    return int(num1)+int(num2)   #value error\n",
        "  \n",
        "add_num(\"One\",\"Two\")      "
      ],
      "execution_count": null,
      "outputs": [
        {
          "output_type": "error",
          "ename": "ValueError",
          "evalue": "ignored",
          "traceback": [
            "\u001b[0;31m---------------------------------------------------------------------------\u001b[0m",
            "\u001b[0;31mValueError\u001b[0m                                Traceback (most recent call last)",
            "\u001b[0;32m<ipython-input-68-5eb6e8348814>\u001b[0m in \u001b[0;36m<module>\u001b[0;34m()\u001b[0m\n\u001b[1;32m     13\u001b[0m     \u001b[0;32mreturn\u001b[0m \u001b[0mint\u001b[0m\u001b[0;34m(\u001b[0m\u001b[0mnum1\u001b[0m\u001b[0;34m)\u001b[0m\u001b[0;34m+\u001b[0m\u001b[0mint\u001b[0m\u001b[0;34m(\u001b[0m\u001b[0mnum2\u001b[0m\u001b[0;34m)\u001b[0m   \u001b[0;31m#value error\u001b[0m\u001b[0;34m\u001b[0m\u001b[0;34m\u001b[0m\u001b[0m\n\u001b[1;32m     14\u001b[0m \u001b[0;34m\u001b[0m\u001b[0m\n\u001b[0;32m---> 15\u001b[0;31m \u001b[0madd_num\u001b[0m\u001b[0;34m(\u001b[0m\u001b[0;34m\"One\"\u001b[0m\u001b[0;34m,\u001b[0m\u001b[0;34m\"Two\"\u001b[0m\u001b[0;34m)\u001b[0m\u001b[0;34m\u001b[0m\u001b[0;34m\u001b[0m\u001b[0m\n\u001b[0m",
            "\u001b[0;32m<ipython-input-68-5eb6e8348814>\u001b[0m in \u001b[0;36madd_num\u001b[0;34m(num1, num2)\u001b[0m\n\u001b[1;32m     11\u001b[0m \u001b[0;34m\u001b[0m\u001b[0m\n\u001b[1;32m     12\u001b[0m \u001b[0;32mdef\u001b[0m \u001b[0madd_num\u001b[0m\u001b[0;34m(\u001b[0m\u001b[0mnum1\u001b[0m\u001b[0;34m,\u001b[0m\u001b[0mnum2\u001b[0m\u001b[0;34m)\u001b[0m\u001b[0;34m:\u001b[0m\u001b[0;34m\u001b[0m\u001b[0;34m\u001b[0m\u001b[0m\n\u001b[0;32m---> 13\u001b[0;31m     \u001b[0;32mreturn\u001b[0m \u001b[0mint\u001b[0m\u001b[0;34m(\u001b[0m\u001b[0mnum1\u001b[0m\u001b[0;34m)\u001b[0m\u001b[0;34m+\u001b[0m\u001b[0mint\u001b[0m\u001b[0;34m(\u001b[0m\u001b[0mnum2\u001b[0m\u001b[0;34m)\u001b[0m   \u001b[0;31m#value error\u001b[0m\u001b[0;34m\u001b[0m\u001b[0;34m\u001b[0m\u001b[0m\n\u001b[0m\u001b[1;32m     14\u001b[0m \u001b[0;34m\u001b[0m\u001b[0m\n\u001b[1;32m     15\u001b[0m \u001b[0madd_num\u001b[0m\u001b[0;34m(\u001b[0m\u001b[0;34m\"One\"\u001b[0m\u001b[0;34m,\u001b[0m\u001b[0;34m\"Two\"\u001b[0m\u001b[0;34m)\u001b[0m\u001b[0;34m\u001b[0m\u001b[0;34m\u001b[0m\u001b[0m\n",
            "\u001b[0;31mValueError\u001b[0m: invalid literal for int() with base 10: 'One'"
          ]
        }
      ]
    },
    {
      "cell_type": "code",
      "metadata": {
        "id": "ZvEN9_v1wVCB",
        "colab_type": "code",
        "colab": {
          "base_uri": "https://localhost:8080/",
          "height": 34
        },
        "outputId": "e0a9ec20-1f1c-4992-8a3a-087af3836e86"
      },
      "source": [
        "# To handle exceptions we use try/except statement. Try contains code that might throw an exception\n",
        "try:\n",
        "  num1 = 8\n",
        "  num2 = 0\n",
        "  x = num1/num2           # This line throws exception. The code stops immediately. \n",
        "  print (\"This statement will not be printed\") # This line is not executed.\n",
        "  \n",
        "except ZeroDivisionError:\n",
        "   print (\"Zero Division Error\")"
      ],
      "execution_count": null,
      "outputs": [
        {
          "output_type": "stream",
          "text": [
            "Zero Division Error\n"
          ],
          "name": "stdout"
        }
      ]
    },
    {
      "cell_type": "code",
      "metadata": {
        "id": "nyDZM_R6wZ9l",
        "colab_type": "code",
        "colab": {
          "base_uri": "https://localhost:8080/",
          "height": 34
        },
        "outputId": "9df90840-3b45-4794-dc57-1f1537f7088c"
      },
      "source": [
        "# A try statement can have multiple except blocks\n",
        "\n",
        "try:\n",
        "  variable = 10\n",
        "  print(variable+\"hello\")\n",
        "  print(variable/2)\n",
        "  \n",
        "except ZeroDivisionError:  \n",
        "  print(\"Divided by Zero\")\n",
        "except(ValueError, TypeError):\n",
        "  print(\"Error Occured\")\n",
        "  "
      ],
      "execution_count": null,
      "outputs": [
        {
          "output_type": "stream",
          "text": [
            "Error Occured\n"
          ],
          "name": "stdout"
        }
      ]
    },
    {
      "cell_type": "code",
      "metadata": {
        "id": "sVqGZw64wlvW",
        "colab_type": "code",
        "colab": {
          "base_uri": "https://localhost:8080/",
          "height": 34
        },
        "outputId": "64719b69-c274-4d42-d4f8-caf352986396"
      },
      "source": [
        "# An except statement without any exception specified will catch all errors\n",
        "\n",
        "try:\n",
        "  \n",
        "  4/0\n",
        "  \n",
        "except:\n",
        "  print (\"Error Occured\")"
      ],
      "execution_count": null,
      "outputs": [
        {
          "output_type": "stream",
          "text": [
            "Error Occured\n"
          ],
          "name": "stdout"
        }
      ]
    },
    {
      "cell_type": "code",
      "metadata": {
        "id": "uSyfG1Cowt-U",
        "colab_type": "code",
        "colab": {
          "base_uri": "https://localhost:8080/",
          "height": 67
        },
        "outputId": "80ab6a11-967b-4a6f-b768-a5f2f0f0504d"
      },
      "source": [
        "# To ensure that code runs no matter a finally block will be used\n",
        "try:\n",
        "  print(\"Step 1\")\n",
        "  4/0                            # An exception happen here\n",
        "except ZeroDivisionError:        # The exception is caught here   \n",
        "  print (\"Divided by Zero\")      # This is printed\n",
        "  \n",
        "finally:\n",
        "  print(\"This will be always executed\")  # This will be executed whether there is exception or not"
      ],
      "execution_count": null,
      "outputs": [
        {
          "output_type": "stream",
          "text": [
            "Step 1\n",
            "Divided by Zero\n",
            "This will be always executed\n"
          ],
          "name": "stdout"
        }
      ]
    },
    {
      "cell_type": "code",
      "metadata": {
        "id": "t35hxB1xxF-X",
        "colab_type": "code",
        "colab": {
          "base_uri": "https://localhost:8080/",
          "height": 430
        },
        "outputId": "16dac3db-412f-4bb4-f90e-de1b8525277b"
      },
      "source": [
        "# Code in finally statement always runs even if there is an exception in above block\n",
        "\n",
        "try:\n",
        "  print (8/0)\n",
        "except ZeroDivisionError:\n",
        "  print (\"unknown_data\")\n",
        "  print (unknown_data)  # This will trigger an exception\n",
        "\n",
        "finally:\n",
        "  print (\"This will always be executed\")"
      ],
      "execution_count": null,
      "outputs": [
        {
          "output_type": "stream",
          "text": [
            "unknown_data\n",
            "This will always be executed\n"
          ],
          "name": "stdout"
        },
        {
          "output_type": "error",
          "ename": "NameError",
          "evalue": "ignored",
          "traceback": [
            "\u001b[0;31m---------------------------------------------------------------------------\u001b[0m",
            "\u001b[0;31mZeroDivisionError\u001b[0m                         Traceback (most recent call last)",
            "\u001b[0;32m<ipython-input-79-caa28f25a16e>\u001b[0m in \u001b[0;36m<module>\u001b[0;34m()\u001b[0m\n\u001b[1;32m      3\u001b[0m \u001b[0;32mtry\u001b[0m\u001b[0;34m:\u001b[0m\u001b[0;34m\u001b[0m\u001b[0;34m\u001b[0m\u001b[0m\n\u001b[0;32m----> 4\u001b[0;31m   \u001b[0mprint\u001b[0m \u001b[0;34m(\u001b[0m\u001b[0;36m8\u001b[0m\u001b[0;34m/\u001b[0m\u001b[0;36m0\u001b[0m\u001b[0;34m)\u001b[0m\u001b[0;34m\u001b[0m\u001b[0;34m\u001b[0m\u001b[0m\n\u001b[0m\u001b[1;32m      5\u001b[0m \u001b[0;32mexcept\u001b[0m \u001b[0mZeroDivisionError\u001b[0m\u001b[0;34m:\u001b[0m\u001b[0;34m\u001b[0m\u001b[0;34m\u001b[0m\u001b[0m\n",
            "\u001b[0;31mZeroDivisionError\u001b[0m: division by zero",
            "\nDuring handling of the above exception, another exception occurred:\n",
            "\u001b[0;31mNameError\u001b[0m                                 Traceback (most recent call last)",
            "\u001b[0;32m<ipython-input-79-caa28f25a16e>\u001b[0m in \u001b[0;36m<module>\u001b[0;34m()\u001b[0m\n\u001b[1;32m      5\u001b[0m \u001b[0;32mexcept\u001b[0m \u001b[0mZeroDivisionError\u001b[0m\u001b[0;34m:\u001b[0m\u001b[0;34m\u001b[0m\u001b[0;34m\u001b[0m\u001b[0m\n\u001b[1;32m      6\u001b[0m   \u001b[0mprint\u001b[0m \u001b[0;34m(\u001b[0m\u001b[0;34m\"unknown_data\"\u001b[0m\u001b[0;34m)\u001b[0m\u001b[0;34m\u001b[0m\u001b[0;34m\u001b[0m\u001b[0m\n\u001b[0;32m----> 7\u001b[0;31m   \u001b[0mprint\u001b[0m \u001b[0;34m(\u001b[0m\u001b[0munknown_data\u001b[0m\u001b[0;34m)\u001b[0m  \u001b[0;31m# This will trigger an exception\u001b[0m\u001b[0;34m\u001b[0m\u001b[0;34m\u001b[0m\u001b[0m\n\u001b[0m\u001b[1;32m      8\u001b[0m \u001b[0;34m\u001b[0m\u001b[0m\n\u001b[1;32m      9\u001b[0m \u001b[0;32mfinally\u001b[0m\u001b[0;34m:\u001b[0m\u001b[0;34m\u001b[0m\u001b[0;34m\u001b[0m\u001b[0m\n",
            "\u001b[0;31mNameError\u001b[0m: name 'unknown_data' is not defined"
          ]
        }
      ]
    },
    {
      "cell_type": "code",
      "metadata": {
        "id": "krDWTGMsxbPG",
        "colab_type": "code",
        "colab": {
          "base_uri": "https://localhost:8080/",
          "height": 195
        },
        "outputId": "9cba85c6-b0e9-40f1-d152-f5046f5d8016"
      },
      "source": [
        "# Exceptions can be raised by giving details about arguments\n",
        "\n",
        "name = \"123\"\n",
        "raise NameError(\"Invalid Name\")"
      ],
      "execution_count": null,
      "outputs": [
        {
          "output_type": "error",
          "ename": "NameError",
          "evalue": "ignored",
          "traceback": [
            "\u001b[0;31m---------------------------------------------------------------------------\u001b[0m",
            "\u001b[0;31mNameError\u001b[0m                                 Traceback (most recent call last)",
            "\u001b[0;32m<ipython-input-80-a6471e6752bd>\u001b[0m in \u001b[0;36m<module>\u001b[0;34m()\u001b[0m\n\u001b[1;32m      2\u001b[0m \u001b[0;34m\u001b[0m\u001b[0m\n\u001b[1;32m      3\u001b[0m \u001b[0mname\u001b[0m \u001b[0;34m=\u001b[0m \u001b[0;34m\"123\"\u001b[0m\u001b[0;34m\u001b[0m\u001b[0;34m\u001b[0m\u001b[0m\n\u001b[0;32m----> 4\u001b[0;31m \u001b[0;32mraise\u001b[0m \u001b[0mNameError\u001b[0m\u001b[0;34m(\u001b[0m\u001b[0;34m\"Invalid Name\"\u001b[0m\u001b[0;34m)\u001b[0m\u001b[0;34m\u001b[0m\u001b[0;34m\u001b[0m\u001b[0m\n\u001b[0m",
            "\u001b[0;31mNameError\u001b[0m: Invalid Name"
          ]
        }
      ]
    },
    {
      "cell_type": "code",
      "metadata": {
        "id": "FDMOlTzJxkQN",
        "colab_type": "code",
        "colab": {
          "base_uri": "https://localhost:8080/",
          "height": 67
        },
        "outputId": "a2531ff4-410c-4eef-9531-511f80ac8126"
      },
      "source": [
        "def my_func():\n",
        "  try:\n",
        "    4/0   # This raises ZeroDivisionError\n",
        "  \n",
        "  except Exception as ex:\n",
        "    template = \"An exception of type {0} occurred. Arguments:\\n{1!r}\"\n",
        "    message = template.format(type(ex).__name__, ex.args)\n",
        "    print (message)\n",
        "    raise # The ZeroDivisionError is propogated out\n",
        "   \n",
        "  \n",
        "def another_func():\n",
        "  try:\n",
        "    my_func()\n",
        "  except ZeroDivisionError: # The ZeroDivisionError is caught\n",
        "      print ('Error')\n",
        "      \n",
        "another_func()      \n",
        "   "
      ],
      "execution_count": null,
      "outputs": [
        {
          "output_type": "stream",
          "text": [
            "An exception of type ZeroDivisionError occurred. Arguments:\n",
            "('division by zero',)\n",
            "Error\n"
          ],
          "name": "stdout"
        }
      ]
    }
  ]
}
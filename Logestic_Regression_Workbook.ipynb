{
  "nbformat": 4,
  "nbformat_minor": 0,
  "metadata": {
    "colab": {
      "name": "Logestic_Regression_Workbook.ipynb",
      "provenance": [],
      "collapsed_sections": [],
      "toc_visible": true,
      "authorship_tag": "ABX9TyMHSOUA22uYynPaDYQCpeOc",
      "include_colab_link": true
    },
    "kernelspec": {
      "name": "python3",
      "display_name": "Python 3"
    }
  },
  "cells": [
    {
      "cell_type": "markdown",
      "metadata": {
        "id": "view-in-github",
        "colab_type": "text"
      },
      "source": [
        "<a href=\"https://colab.research.google.com/github/MohammedNayaz/Machine-learning-Internship-2/blob/master/Logestic_Regression_Workbook.ipynb\" target=\"_parent\"><img src=\"https://colab.research.google.com/assets/colab-badge.svg\" alt=\"Open In Colab\"/></a>"
      ]
    },
    {
      "cell_type": "markdown",
      "metadata": {
        "id": "UNbwSFRJBDpv"
      },
      "source": [
        "#Logistic Regression Intro"
      ]
    },
    {
      "cell_type": "markdown",
      "metadata": {
        "id": "kfew83M2BJuT"
      },
      "source": [
        "##Simple Example\n"
      ]
    },
    {
      "cell_type": "code",
      "metadata": {
        "id": "2A94yKvaAYJk"
      },
      "source": [
        "import pandas as pd\n",
        "from sklearn.model_selection import train_test_split\n",
        "from sklearn.linear_model import LogisticRegression\n",
        "from sklearn import metrics\n",
        "import seaborn as sn"
      ],
      "execution_count": 1,
      "outputs": []
    },
    {
      "cell_type": "code",
      "metadata": {
        "id": "H8vERk17udav",
        "outputId": "5b83cc06-b134-4c06-a2ca-af951470db18",
        "colab": {
          "base_uri": "https://localhost:8080/",
          "height": 196
        }
      },
      "source": [
        "import pandas as pd\n",
        "candidates = {'gmat': [780,750,690,710,680,730,690,720,740,690,610,690,710,680,770,610,580,650,540,590,620,600,550,550,570,670,660,580,650,660,640,620,660,660,680,650,670,580,590,690],\n",
        "              'gpa': [4,3.9,3.3,3.7,3.9,3.7,2.3,3.3,3.3,1.7,2.7,3.7,3.7,3.3,3.3,3,2.7,3.7,2.7,2.3,3.3,2,2.3,2.7,3,3.3,3.7,2.3,3.7,3.3,3,2.7,4,3.3,3.3,2.3,2.7,3.3,1.7,3.7],\n",
        "              'work_experience': [3,4,3,5,4,6,1,4,5,1,3,5,6,4,3,1,4,6,2,3,2,1,4,1,2,6,4,2,6,5,1,2,4,6,5,1,2,1,4,5],\n",
        "              'admitted': [1,1,0,1,0,1,0,1,1,0,0,1,1,0,1,0,0,1,0,0,1,0,0,0,0,1,1,0,1,1,0,0,1,1,1,0,0,0,0,1]\n",
        "              }\n",
        "\n",
        "df = pd.DataFrame(candidates,columns= ['gmat', 'gpa','work_experience','admitted'])\n",
        "df.head()"
      ],
      "execution_count": 2,
      "outputs": [
        {
          "output_type": "execute_result",
          "data": {
            "text/html": [
              "<div>\n",
              "<style scoped>\n",
              "    .dataframe tbody tr th:only-of-type {\n",
              "        vertical-align: middle;\n",
              "    }\n",
              "\n",
              "    .dataframe tbody tr th {\n",
              "        vertical-align: top;\n",
              "    }\n",
              "\n",
              "    .dataframe thead th {\n",
              "        text-align: right;\n",
              "    }\n",
              "</style>\n",
              "<table border=\"1\" class=\"dataframe\">\n",
              "  <thead>\n",
              "    <tr style=\"text-align: right;\">\n",
              "      <th></th>\n",
              "      <th>gmat</th>\n",
              "      <th>gpa</th>\n",
              "      <th>work_experience</th>\n",
              "      <th>admitted</th>\n",
              "    </tr>\n",
              "  </thead>\n",
              "  <tbody>\n",
              "    <tr>\n",
              "      <th>0</th>\n",
              "      <td>780</td>\n",
              "      <td>4.0</td>\n",
              "      <td>3</td>\n",
              "      <td>1</td>\n",
              "    </tr>\n",
              "    <tr>\n",
              "      <th>1</th>\n",
              "      <td>750</td>\n",
              "      <td>3.9</td>\n",
              "      <td>4</td>\n",
              "      <td>1</td>\n",
              "    </tr>\n",
              "    <tr>\n",
              "      <th>2</th>\n",
              "      <td>690</td>\n",
              "      <td>3.3</td>\n",
              "      <td>3</td>\n",
              "      <td>0</td>\n",
              "    </tr>\n",
              "    <tr>\n",
              "      <th>3</th>\n",
              "      <td>710</td>\n",
              "      <td>3.7</td>\n",
              "      <td>5</td>\n",
              "      <td>1</td>\n",
              "    </tr>\n",
              "    <tr>\n",
              "      <th>4</th>\n",
              "      <td>680</td>\n",
              "      <td>3.9</td>\n",
              "      <td>4</td>\n",
              "      <td>0</td>\n",
              "    </tr>\n",
              "  </tbody>\n",
              "</table>\n",
              "</div>"
            ],
            "text/plain": [
              "   gmat  gpa  work_experience  admitted\n",
              "0   780  4.0                3         1\n",
              "1   750  3.9                4         1\n",
              "2   690  3.3                3         0\n",
              "3   710  3.7                5         1\n",
              "4   680  3.9                4         0"
            ]
          },
          "metadata": {
            "tags": []
          },
          "execution_count": 2
        }
      ]
    },
    {
      "cell_type": "code",
      "metadata": {
        "id": "9R1AwekDuddd",
        "outputId": "1af25165-afd7-42d9-9dca-a196b954a333",
        "colab": {
          "base_uri": "https://localhost:8080/",
          "height": 196
        }
      },
      "source": [
        "df.tail()"
      ],
      "execution_count": 3,
      "outputs": [
        {
          "output_type": "execute_result",
          "data": {
            "text/html": [
              "<div>\n",
              "<style scoped>\n",
              "    .dataframe tbody tr th:only-of-type {\n",
              "        vertical-align: middle;\n",
              "    }\n",
              "\n",
              "    .dataframe tbody tr th {\n",
              "        vertical-align: top;\n",
              "    }\n",
              "\n",
              "    .dataframe thead th {\n",
              "        text-align: right;\n",
              "    }\n",
              "</style>\n",
              "<table border=\"1\" class=\"dataframe\">\n",
              "  <thead>\n",
              "    <tr style=\"text-align: right;\">\n",
              "      <th></th>\n",
              "      <th>gmat</th>\n",
              "      <th>gpa</th>\n",
              "      <th>work_experience</th>\n",
              "      <th>admitted</th>\n",
              "    </tr>\n",
              "  </thead>\n",
              "  <tbody>\n",
              "    <tr>\n",
              "      <th>35</th>\n",
              "      <td>650</td>\n",
              "      <td>2.3</td>\n",
              "      <td>1</td>\n",
              "      <td>0</td>\n",
              "    </tr>\n",
              "    <tr>\n",
              "      <th>36</th>\n",
              "      <td>670</td>\n",
              "      <td>2.7</td>\n",
              "      <td>2</td>\n",
              "      <td>0</td>\n",
              "    </tr>\n",
              "    <tr>\n",
              "      <th>37</th>\n",
              "      <td>580</td>\n",
              "      <td>3.3</td>\n",
              "      <td>1</td>\n",
              "      <td>0</td>\n",
              "    </tr>\n",
              "    <tr>\n",
              "      <th>38</th>\n",
              "      <td>590</td>\n",
              "      <td>1.7</td>\n",
              "      <td>4</td>\n",
              "      <td>0</td>\n",
              "    </tr>\n",
              "    <tr>\n",
              "      <th>39</th>\n",
              "      <td>690</td>\n",
              "      <td>3.7</td>\n",
              "      <td>5</td>\n",
              "      <td>1</td>\n",
              "    </tr>\n",
              "  </tbody>\n",
              "</table>\n",
              "</div>"
            ],
            "text/plain": [
              "    gmat  gpa  work_experience  admitted\n",
              "35   650  2.3                1         0\n",
              "36   670  2.7                2         0\n",
              "37   580  3.3                1         0\n",
              "38   590  1.7                4         0\n",
              "39   690  3.7                5         1"
            ]
          },
          "metadata": {
            "tags": []
          },
          "execution_count": 3
        }
      ]
    },
    {
      "cell_type": "code",
      "metadata": {
        "id": "eWYeuUCfudfs"
      },
      "source": [
        "X = df[['gmat', 'gpa','work_experience']]\n",
        "y = df['admitted']"
      ],
      "execution_count": 5,
      "outputs": []
    },
    {
      "cell_type": "code",
      "metadata": {
        "id": "QXa8CLYZudiG"
      },
      "source": [
        "X_train,X_test,y_train,y_test = train_test_split(X,y,test_size=0.25,random_state=0)"
      ],
      "execution_count": 6,
      "outputs": []
    },
    {
      "cell_type": "code",
      "metadata": {
        "id": "Q8o_d9lJudkZ"
      },
      "source": [
        "logistic_regression= LogisticRegression()\n",
        "logistic_regression.fit(X_train,y_train)\n",
        "y_pred=logistic_regression.predict(X_test)"
      ],
      "execution_count": 7,
      "outputs": []
    },
    {
      "cell_type": "code",
      "metadata": {
        "id": "N22GaoKDudm1",
        "outputId": "ca77a85d-1a0f-4455-8bb5-0bd89ce83bb2",
        "colab": {
          "base_uri": "https://localhost:8080/",
          "height": 33
        }
      },
      "source": [
        "y_pred"
      ],
      "execution_count": 8,
      "outputs": [
        {
          "output_type": "execute_result",
          "data": {
            "text/plain": [
              "array([0, 0, 1, 1, 0, 0, 1, 1, 0, 1])"
            ]
          },
          "metadata": {
            "tags": []
          },
          "execution_count": 8
        }
      ]
    },
    {
      "cell_type": "code",
      "metadata": {
        "id": "RXllsaJnuw19",
        "outputId": "c3263a90-cfb9-4ba6-e2f9-c0e8f64245c9",
        "colab": {
          "base_uri": "https://localhost:8080/",
          "height": 300
        }
      },
      "source": [
        "confusion_matrix = pd.crosstab(y_test, y_pred, rownames=['Actual'], colnames=['Predicted'])\n",
        "sn.heatmap(confusion_matrix, annot=True)"
      ],
      "execution_count": 9,
      "outputs": [
        {
          "output_type": "execute_result",
          "data": {
            "text/plain": [
              "<matplotlib.axes._subplots.AxesSubplot at 0x7f4c2f1d8c88>"
            ]
          },
          "metadata": {
            "tags": []
          },
          "execution_count": 9
        },
        {
          "output_type": "display_data",
          "data": {
            "image/png": "[encoded data removed]",
            "text/plain": [
              "<Figure size 432x288 with 2 Axes>"
            ]
          },
          "metadata": {
            "tags": [],
            "needs_background": "light"
          }
        }
      ]
    },
    {
      "cell_type": "code",
      "metadata": {
        "id": "XcAzPSqquw4b",
        "outputId": "00aba05d-5ea7-4e82-cc38-0ed5b24cd952",
        "colab": {
          "base_uri": "https://localhost:8080/",
          "height": 33
        }
      },
      "source": [
        "print('Accuracy: ',metrics.accuracy_score(y_test, y_pred))"
      ],
      "execution_count": 10,
      "outputs": [
        {
          "output_type": "stream",
          "text": [
            "Accuracy:  0.8\n"
          ],
          "name": "stdout"
        }
      ]
    },
    {
      "cell_type": "markdown",
      "metadata": {
        "id": "OBVt9Ouzu3qu"
      },
      "source": [
        "##Second Example"
      ]
    },
    {
      "cell_type": "code",
      "metadata": {
        "id": "vvBZDyHsuw63"
      },
      "source": [
        "#Logistic Regression\n",
        "\n",
        "# Importing the libraries\n",
        "import numpy as np\n",
        "import matplotlib.pyplot as plt\n",
        "import pandas as pd"
      ],
      "execution_count": 11,
      "outputs": []
    },
    {
      "cell_type": "code",
      "metadata": {
        "id": "bhnF175puw9f",
        "outputId": "71531713-452a-491c-f530-e87f13889925",
        "colab": {
          "base_uri": "https://localhost:8080/",
          "height": 1000
        }
      },
      "source": [
        "# Importing the dataset\n",
        "dataset = pd.read_csv('Ads.csv')\n",
        "x = dataset.iloc[:, [2,3]].values\n",
        "y = dataset.iloc[:, 4].values\n",
        "x, y"
      ],
      "execution_count": 12,
      "outputs": [
        {
          "output_type": "execute_result",
          "data": {
            "text/plain": [
              "(array([[1.90e+01, 1.90e+04],\n",
              "        [3.50e+01, 2.00e+04],\n",
              "        [2.60e+01, 4.30e+04],\n",
              "        [2.70e+01, 5.70e+04],\n",
              "        [1.90e+01, 7.60e+04],\n",
              "        [2.70e+01, 5.80e+04],\n",
              "        [2.70e+01, 8.40e+04],\n",
              "        [3.20e+01, 1.50e+05],\n",
              "        [2.50e+01, 3.30e+04],\n",
              "        [3.50e+01, 6.50e+04],\n",
              "        [2.60e+01, 8.00e+04],\n",
              "        [2.60e+01, 5.20e+04],\n",
              "        [2.00e+01, 8.60e+04],\n",
              "        [3.20e+01, 1.80e+04],\n",
              "        [1.80e+01, 8.20e+04],\n",
              "        [2.90e+01, 8.00e+04],\n",
              "        [4.70e+01, 2.50e+04],\n",
              "        [4.50e+01, 2.60e+04],\n",
              "        [4.60e+01, 2.80e+04],\n",
              "        [4.80e+01, 2.90e+04],\n",
              "        [4.50e+01, 2.20e+04],\n",
              "        [4.70e+01, 4.90e+04],\n",
              "        [4.80e+01, 4.10e+04],\n",
              "        [4.50e+01, 2.20e+04],\n",
              "        [4.60e+01, 2.30e+04],\n",
              "        [4.70e+01, 2.00e+04],\n",
              "        [4.90e+01, 2.80e+04],\n",
              "        [4.70e+01, 3.00e+04],\n",
              "        [2.90e+01, 4.30e+04],\n",
              "        [3.10e+01, 1.80e+04],\n",
              "        [3.10e+01, 7.40e+04],\n",
              "        [2.70e+01, 1.37e+05],\n",
              "        [2.10e+01, 1.60e+04],\n",
              "        [2.80e+01, 4.40e+04],\n",
              "        [2.70e+01, 9.00e+04],\n",
              "        [3.50e+01, 2.70e+04],\n",
              "        [3.30e+01, 2.80e+04],\n",
              "        [3.00e+01, 4.90e+04],\n",
              "        [2.60e+01, 7.20e+04],\n",
              "        [2.70e+01, 3.10e+04],\n",
              "        [2.70e+01, 1.70e+04],\n",
              "        [3.30e+01, 5.10e+04],\n",
              "        [3.50e+01, 1.08e+05],\n",
              "        [3.00e+01, 1.50e+04],\n",
              "        [2.80e+01, 8.40e+04],\n",
              "        [2.30e+01, 2.00e+04],\n",
              "        [2.50e+01, 7.90e+04],\n",
              "        [2.70e+01, 5.40e+04],\n",
              "        [3.00e+01, 1.35e+05],\n",
              "        [3.10e+01, 8.90e+04],\n",
              "        [2.40e+01, 3.20e+04],\n",
              "        [1.80e+01, 4.40e+04],\n",
              "        [2.90e+01, 8.30e+04],\n",
              "        [3.50e+01, 2.30e+04],\n",
              "        [2.70e+01, 5.80e+04],\n",
              "        [2.40e+01, 5.50e+04],\n",
              "        [2.30e+01, 4.80e+04],\n",
              "        [2.80e+01, 7.90e+04],\n",
              "        [2.20e+01, 1.80e+04],\n",
              "        [3.20e+01, 1.17e+05],\n",
              "        [2.70e+01, 2.00e+04],\n",
              "        [2.50e+01, 8.70e+04],\n",
              "        [2.30e+01, 6.60e+04],\n",
              "        [3.20e+01, 1.20e+05],\n",
              "        [5.90e+01, 8.30e+04],\n",
              "        [2.40e+01, 5.80e+04],\n",
              "        [2.40e+01, 1.90e+04],\n",
              "        [2.30e+01, 8.20e+04],\n",
              "        [2.20e+01, 6.30e+04],\n",
              "        [3.10e+01, 6.80e+04],\n",
              "        [2.50e+01, 8.00e+04],\n",
              "        [2.40e+01, 2.70e+04],\n",
              "        [2.00e+01, 2.30e+04],\n",
              "        [3.30e+01, 1.13e+05],\n",
              "        [3.20e+01, 1.80e+04],\n",
              "        [3.40e+01, 1.12e+05],\n",
              "        [1.80e+01, 5.20e+04],\n",
              "        [2.20e+01, 2.70e+04],\n",
              "        [2.80e+01, 8.70e+04],\n",
              "        [2.60e+01, 1.70e+04],\n",
              "        [3.00e+01, 8.00e+04],\n",
              "        [3.90e+01, 4.20e+04],\n",
              "        [2.00e+01, 4.90e+04],\n",
              "        [3.50e+01, 8.80e+04],\n",
              "        [3.00e+01, 6.20e+04],\n",
              "        [3.10e+01, 1.18e+05],\n",
              "        [2.40e+01, 5.50e+04],\n",
              "        [2.80e+01, 8.50e+04],\n",
              "        [2.60e+01, 8.10e+04],\n",
              "        [3.50e+01, 5.00e+04],\n",
              "        [2.20e+01, 8.10e+04],\n",
              "        [3.00e+01, 1.16e+05],\n",
              "        [2.60e+01, 1.50e+04],\n",
              "        [2.90e+01, 2.80e+04],\n",
              "        [2.90e+01, 8.30e+04],\n",
              "        [3.50e+01, 4.40e+04],\n",
              "        [3.50e+01, 2.50e+04],\n",
              "        [2.80e+01, 1.23e+05],\n",
              "        [3.50e+01, 7.30e+04],\n",
              "        [2.80e+01, 3.70e+04],\n",
              "        [2.70e+01, 8.80e+04],\n",
              "        [2.80e+01, 5.90e+04],\n",
              "        [3.20e+01, 8.60e+04],\n",
              "        [3.30e+01, 1.49e+05],\n",
              "        [1.90e+01, 2.10e+04],\n",
              "        [2.10e+01, 7.20e+04],\n",
              "        [2.60e+01, 3.50e+04],\n",
              "        [2.70e+01, 8.90e+04],\n",
              "        [2.60e+01, 8.60e+04],\n",
              "        [3.80e+01, 8.00e+04],\n",
              "        [3.90e+01, 7.10e+04],\n",
              "        [3.70e+01, 7.10e+04],\n",
              "        [3.80e+01, 6.10e+04],\n",
              "        [3.70e+01, 5.50e+04],\n",
              "        [4.20e+01, 8.00e+04],\n",
              "        [4.00e+01, 5.70e+04],\n",
              "        [3.50e+01, 7.50e+04],\n",
              "        [3.60e+01, 5.20e+04],\n",
              "        [4.00e+01, 5.90e+04],\n",
              "        [4.10e+01, 5.90e+04],\n",
              "        [3.60e+01, 7.50e+04],\n",
              "        [3.70e+01, 7.20e+04],\n",
              "        [4.00e+01, 7.50e+04],\n",
              "        [3.50e+01, 5.30e+04],\n",
              "        [4.10e+01, 5.10e+04],\n",
              "        [3.90e+01, 6.10e+04],\n",
              "        [4.20e+01, 6.50e+04],\n",
              "        [2.60e+01, 3.20e+04],\n",
              "        [3.00e+01, 1.70e+04],\n",
              "        [2.60e+01, 8.40e+04],\n",
              "        [3.10e+01, 5.80e+04],\n",
              "        [3.30e+01, 3.10e+04],\n",
              "        [3.00e+01, 8.70e+04],\n",
              "        [2.10e+01, 6.80e+04],\n",
              "        [2.80e+01, 5.50e+04],\n",
              "        [2.30e+01, 6.30e+04],\n",
              "        [2.00e+01, 8.20e+04],\n",
              "        [3.00e+01, 1.07e+05],\n",
              "        [2.80e+01, 5.90e+04],\n",
              "        [1.90e+01, 2.50e+04],\n",
              "        [1.90e+01, 8.50e+04],\n",
              "        [1.80e+01, 6.80e+04],\n",
              "        [3.50e+01, 5.90e+04],\n",
              "        [3.00e+01, 8.90e+04],\n",
              "        [3.40e+01, 2.50e+04],\n",
              "        [2.40e+01, 8.90e+04],\n",
              "        [2.70e+01, 9.60e+04],\n",
              "        [4.10e+01, 3.00e+04],\n",
              "        [2.90e+01, 6.10e+04],\n",
              "        [2.00e+01, 7.40e+04],\n",
              "        [2.60e+01, 1.50e+04],\n",
              "        [4.10e+01, 4.50e+04],\n",
              "        [3.10e+01, 7.60e+04],\n",
              "        [3.60e+01, 5.00e+04],\n",
              "        [4.00e+01, 4.70e+04],\n",
              "        [3.10e+01, 1.50e+04],\n",
              "        [4.60e+01, 5.90e+04],\n",
              "        [2.90e+01, 7.50e+04],\n",
              "        [2.60e+01, 3.00e+04],\n",
              "        [3.20e+01, 1.35e+05],\n",
              "        [3.20e+01, 1.00e+05],\n",
              "        [2.50e+01, 9.00e+04],\n",
              "        [3.70e+01, 3.30e+04],\n",
              "        [3.50e+01, 3.80e+04],\n",
              "        [3.30e+01, 6.90e+04],\n",
              "        [1.80e+01, 8.60e+04],\n",
              "        [2.20e+01, 5.50e+04],\n",
              "        [3.50e+01, 7.10e+04],\n",
              "        [2.90e+01, 1.48e+05],\n",
              "        [2.90e+01, 4.70e+04],\n",
              "        [2.10e+01, 8.80e+04],\n",
              "        [3.40e+01, 1.15e+05],\n",
              "        [2.60e+01, 1.18e+05],\n",
              "        [3.40e+01, 4.30e+04],\n",
              "        [3.40e+01, 7.20e+04],\n",
              "        [2.30e+01, 2.80e+04],\n",
              "        [3.50e+01, 4.70e+04],\n",
              "        [2.50e+01, 2.20e+04],\n",
              "        [2.40e+01, 2.30e+04],\n",
              "        [3.10e+01, 3.40e+04],\n",
              "        [2.60e+01, 1.60e+04],\n",
              "        [3.10e+01, 7.10e+04],\n",
              "        [3.20e+01, 1.17e+05],\n",
              "        [3.30e+01, 4.30e+04],\n",
              "        [3.30e+01, 6.00e+04],\n",
              "        [3.10e+01, 6.60e+04],\n",
              "        [2.00e+01, 8.20e+04],\n",
              "        [3.30e+01, 4.10e+04],\n",
              "        [3.50e+01, 7.20e+04],\n",
              "        [2.80e+01, 3.20e+04],\n",
              "        [2.40e+01, 8.40e+04],\n",
              "        [1.90e+01, 2.60e+04],\n",
              "        [2.90e+01, 4.30e+04],\n",
              "        [1.90e+01, 7.00e+04],\n",
              "        [2.80e+01, 8.90e+04],\n",
              "        [3.40e+01, 4.30e+04],\n",
              "        [3.00e+01, 7.90e+04],\n",
              "        [2.00e+01, 3.60e+04],\n",
              "        [2.60e+01, 8.00e+04],\n",
              "        [3.50e+01, 2.20e+04],\n",
              "        [3.50e+01, 3.90e+04],\n",
              "        [4.90e+01, 7.40e+04],\n",
              "        [3.90e+01, 1.34e+05],\n",
              "        [4.10e+01, 7.10e+04],\n",
              "        [5.80e+01, 1.01e+05],\n",
              "        [4.70e+01, 4.70e+04],\n",
              "        [5.50e+01, 1.30e+05],\n",
              "        [5.20e+01, 1.14e+05],\n",
              "        [4.00e+01, 1.42e+05],\n",
              "        [4.60e+01, 2.20e+04],\n",
              "        [4.80e+01, 9.60e+04],\n",
              "        [5.20e+01, 1.50e+05],\n",
              "        [5.90e+01, 4.20e+04],\n",
              "        [3.50e+01, 5.80e+04],\n",
              "        [4.70e+01, 4.30e+04],\n",
              "        [6.00e+01, 1.08e+05],\n",
              "        [4.90e+01, 6.50e+04],\n",
              "        [4.00e+01, 7.80e+04],\n",
              "        [4.60e+01, 9.60e+04],\n",
              "        [5.90e+01, 1.43e+05],\n",
              "        [4.10e+01, 8.00e+04],\n",
              "        [3.50e+01, 9.10e+04],\n",
              "        [3.70e+01, 1.44e+05],\n",
              "        [6.00e+01, 1.02e+05],\n",
              "        [3.50e+01, 6.00e+04],\n",
              "        [3.70e+01, 5.30e+04],\n",
              "        [3.60e+01, 1.26e+05],\n",
              "        [5.60e+01, 1.33e+05],\n",
              "        [4.00e+01, 7.20e+04],\n",
              "        [4.20e+01, 8.00e+04],\n",
              "        [3.50e+01, 1.47e+05],\n",
              "        [3.90e+01, 4.20e+04],\n",
              "        [4.00e+01, 1.07e+05],\n",
              "        [4.90e+01, 8.60e+04],\n",
              "        [3.80e+01, 1.12e+05],\n",
              "        [4.60e+01, 7.90e+04],\n",
              "        [4.00e+01, 5.70e+04],\n",
              "        [3.70e+01, 8.00e+04],\n",
              "        [4.60e+01, 8.20e+04],\n",
              "        [5.30e+01, 1.43e+05],\n",
              "        [4.20e+01, 1.49e+05],\n",
              "        [3.80e+01, 5.90e+04],\n",
              "        [5.00e+01, 8.80e+04],\n",
              "        [5.60e+01, 1.04e+05],\n",
              "        [4.10e+01, 7.20e+04],\n",
              "        [5.10e+01, 1.46e+05],\n",
              "        [3.50e+01, 5.00e+04],\n",
              "        [5.70e+01, 1.22e+05],\n",
              "        [4.10e+01, 5.20e+04],\n",
              "        [3.50e+01, 9.70e+04],\n",
              "        [4.40e+01, 3.90e+04],\n",
              "        [3.70e+01, 5.20e+04],\n",
              "        [4.80e+01, 1.34e+05],\n",
              "        [3.70e+01, 1.46e+05],\n",
              "        [5.00e+01, 4.40e+04],\n",
              "        [5.20e+01, 9.00e+04],\n",
              "        [4.10e+01, 7.20e+04],\n",
              "        [4.00e+01, 5.70e+04],\n",
              "        [5.80e+01, 9.50e+04],\n",
              "        [4.50e+01, 1.31e+05],\n",
              "        [3.50e+01, 7.70e+04],\n",
              "        [3.60e+01, 1.44e+05],\n",
              "        [5.50e+01, 1.25e+05],\n",
              "        [3.50e+01, 7.20e+04],\n",
              "        [4.80e+01, 9.00e+04],\n",
              "        [4.20e+01, 1.08e+05],\n",
              "        [4.00e+01, 7.50e+04],\n",
              "        [3.70e+01, 7.40e+04],\n",
              "        [4.70e+01, 1.44e+05],\n",
              "        [4.00e+01, 6.10e+04],\n",
              "        [4.30e+01, 1.33e+05],\n",
              "        [5.90e+01, 7.60e+04],\n",
              "        [6.00e+01, 4.20e+04],\n",
              "        [3.90e+01, 1.06e+05],\n",
              "        [5.70e+01, 2.60e+04],\n",
              "        [5.70e+01, 7.40e+04],\n",
              "        [3.80e+01, 7.10e+04],\n",
              "        [4.90e+01, 8.80e+04],\n",
              "        [5.20e+01, 3.80e+04],\n",
              "        [5.00e+01, 3.60e+04],\n",
              "        [5.90e+01, 8.80e+04],\n",
              "        [3.50e+01, 6.10e+04],\n",
              "        [3.70e+01, 7.00e+04],\n",
              "        [5.20e+01, 2.10e+04],\n",
              "        [4.80e+01, 1.41e+05],\n",
              "        [3.70e+01, 9.30e+04],\n",
              "        [3.70e+01, 6.20e+04],\n",
              "        [4.80e+01, 1.38e+05],\n",
              "        [4.10e+01, 7.90e+04],\n",
              "        [3.70e+01, 7.80e+04],\n",
              "        [3.90e+01, 1.34e+05],\n",
              "        [4.90e+01, 8.90e+04],\n",
              "        [5.50e+01, 3.90e+04],\n",
              "        [3.70e+01, 7.70e+04],\n",
              "        [3.50e+01, 5.70e+04],\n",
              "        [3.60e+01, 6.30e+04],\n",
              "        [4.20e+01, 7.30e+04],\n",
              "        [4.30e+01, 1.12e+05],\n",
              "        [4.50e+01, 7.90e+04],\n",
              "        [4.60e+01, 1.17e+05],\n",
              "        [5.80e+01, 3.80e+04],\n",
              "        [4.80e+01, 7.40e+04],\n",
              "        [3.70e+01, 1.37e+05],\n",
              "        [3.70e+01, 7.90e+04],\n",
              "        [4.00e+01, 6.00e+04],\n",
              "        [4.20e+01, 5.40e+04],\n",
              "        [5.10e+01, 1.34e+05],\n",
              "        [4.70e+01, 1.13e+05],\n",
              "        [3.60e+01, 1.25e+05],\n",
              "        [3.80e+01, 5.00e+04],\n",
              "        [4.20e+01, 7.00e+04],\n",
              "        [3.90e+01, 9.60e+04],\n",
              "        [3.80e+01, 5.00e+04],\n",
              "        [4.90e+01, 1.41e+05],\n",
              "        [3.90e+01, 7.90e+04],\n",
              "        [3.90e+01, 7.50e+04],\n",
              "        [5.40e+01, 1.04e+05],\n",
              "        [3.50e+01, 5.50e+04],\n",
              "        [4.50e+01, 3.20e+04],\n",
              "        [3.60e+01, 6.00e+04],\n",
              "        [5.20e+01, 1.38e+05],\n",
              "        [5.30e+01, 8.20e+04],\n",
              "        [4.10e+01, 5.20e+04],\n",
              "        [4.80e+01, 3.00e+04],\n",
              "        [4.80e+01, 1.31e+05],\n",
              "        [4.10e+01, 6.00e+04],\n",
              "        [4.10e+01, 7.20e+04],\n",
              "        [4.20e+01, 7.50e+04],\n",
              "        [3.60e+01, 1.18e+05],\n",
              "        [4.70e+01, 1.07e+05],\n",
              "        [3.80e+01, 5.10e+04],\n",
              "        [4.80e+01, 1.19e+05],\n",
              "        [4.20e+01, 6.50e+04],\n",
              "        [4.00e+01, 6.50e+04],\n",
              "        [5.70e+01, 6.00e+04],\n",
              "        [3.60e+01, 5.40e+04],\n",
              "        [5.80e+01, 1.44e+05],\n",
              "        [3.50e+01, 7.90e+04],\n",
              "        [3.80e+01, 5.50e+04],\n",
              "        [3.90e+01, 1.22e+05],\n",
              "        [5.30e+01, 1.04e+05],\n",
              "        [3.50e+01, 7.50e+04],\n",
              "        [3.80e+01, 6.50e+04],\n",
              "        [4.70e+01, 5.10e+04],\n",
              "        [4.70e+01, 1.05e+05],\n",
              "        [4.10e+01, 6.30e+04],\n",
              "        [5.30e+01, 7.20e+04],\n",
              "        [5.40e+01, 1.08e+05],\n",
              "        [3.90e+01, 7.70e+04],\n",
              "        [3.80e+01, 6.10e+04],\n",
              "        [3.80e+01, 1.13e+05],\n",
              "        [3.70e+01, 7.50e+04],\n",
              "        [4.20e+01, 9.00e+04],\n",
              "        [3.70e+01, 5.70e+04],\n",
              "        [3.60e+01, 9.90e+04],\n",
              "        [6.00e+01, 3.40e+04],\n",
              "        [5.40e+01, 7.00e+04],\n",
              "        [4.10e+01, 7.20e+04],\n",
              "        [4.00e+01, 7.10e+04],\n",
              "        [4.20e+01, 5.40e+04],\n",
              "        [4.30e+01, 1.29e+05],\n",
              "        [5.30e+01, 3.40e+04],\n",
              "        [4.70e+01, 5.00e+04],\n",
              "        [4.20e+01, 7.90e+04],\n",
              "        [4.20e+01, 1.04e+05],\n",
              "        [5.90e+01, 2.90e+04],\n",
              "        [5.80e+01, 4.70e+04],\n",
              "        [4.60e+01, 8.80e+04],\n",
              "        [3.80e+01, 7.10e+04],\n",
              "        [5.40e+01, 2.60e+04],\n",
              "        [6.00e+01, 4.60e+04],\n",
              "        [6.00e+01, 8.30e+04],\n",
              "        [3.90e+01, 7.30e+04],\n",
              "        [5.90e+01, 1.30e+05],\n",
              "        [3.70e+01, 8.00e+04],\n",
              "        [4.60e+01, 3.20e+04],\n",
              "        [4.60e+01, 7.40e+04],\n",
              "        [4.20e+01, 5.30e+04],\n",
              "        [4.10e+01, 8.70e+04],\n",
              "        [5.80e+01, 2.30e+04],\n",
              "        [4.20e+01, 6.40e+04],\n",
              "        [4.80e+01, 3.30e+04],\n",
              "        [4.40e+01, 1.39e+05],\n",
              "        [4.90e+01, 2.80e+04],\n",
              "        [5.70e+01, 3.30e+04],\n",
              "        [5.60e+01, 6.00e+04],\n",
              "        [4.90e+01, 3.90e+04],\n",
              "        [3.90e+01, 7.10e+04],\n",
              "        [4.70e+01, 3.40e+04],\n",
              "        [4.80e+01, 3.50e+04],\n",
              "        [4.80e+01, 3.30e+04],\n",
              "        [4.70e+01, 2.30e+04],\n",
              "        [4.50e+01, 4.50e+04],\n",
              "        [6.00e+01, 4.20e+04],\n",
              "        [3.90e+01, 5.90e+04],\n",
              "        [4.60e+01, 4.10e+04],\n",
              "        [5.10e+01, 2.30e+04],\n",
              "        [5.00e+01, 2.00e+04],\n",
              "        [3.60e+01, 3.30e+04],\n",
              "        [4.90e+01, 3.60e+04]]),\n",
              " array([0, 0, 0, 0, 0, 0, 0, 1, 0, 0, 0, 0, 0, 0, 0, 0, 1, 1, 1, 1, 1, 1,\n",
              "        1, 1, 1, 1, 1, 1, 0, 0, 0, 1, 0, 0, 0, 0, 0, 0, 0, 0, 0, 0, 0, 0,\n",
              "        0, 0, 0, 0, 1, 0, 0, 0, 0, 0, 0, 0, 0, 0, 0, 0, 0, 0, 0, 1, 0, 0,\n",
              "        0, 0, 0, 0, 0, 0, 0, 0, 0, 1, 0, 0, 0, 0, 0, 0, 0, 0, 0, 1, 0, 0,\n",
              "        0, 0, 0, 0, 0, 0, 0, 0, 0, 1, 0, 0, 0, 0, 0, 1, 0, 0, 0, 0, 0, 0,\n",
              "        0, 0, 0, 0, 0, 0, 0, 0, 0, 0, 0, 0, 0, 0, 0, 0, 0, 0, 0, 0, 0, 0,\n",
              "        0, 0, 0, 0, 0, 1, 0, 0, 0, 0, 0, 0, 0, 0, 1, 0, 0, 0, 0, 0, 0, 0,\n",
              "        0, 0, 0, 0, 0, 1, 1, 0, 0, 0, 0, 0, 0, 0, 1, 0, 0, 0, 0, 0, 0, 0,\n",
              "        0, 0, 0, 0, 0, 0, 1, 0, 0, 0, 0, 0, 0, 0, 0, 0, 0, 0, 0, 0, 0, 0,\n",
              "        0, 0, 0, 0, 1, 0, 1, 0, 1, 0, 1, 0, 1, 1, 0, 0, 0, 1, 0, 0, 0, 1,\n",
              "        0, 1, 1, 1, 0, 0, 1, 1, 0, 1, 1, 0, 1, 1, 0, 1, 0, 0, 0, 1, 1, 0,\n",
              "        1, 1, 0, 1, 0, 1, 0, 1, 0, 0, 1, 1, 0, 1, 0, 0, 1, 1, 0, 1, 1, 0,\n",
              "        1, 1, 0, 0, 1, 0, 0, 1, 1, 1, 1, 1, 0, 1, 1, 1, 1, 0, 1, 1, 0, 1,\n",
              "        0, 1, 0, 1, 1, 1, 1, 0, 0, 0, 1, 1, 0, 1, 1, 1, 1, 1, 0, 0, 0, 1,\n",
              "        1, 0, 0, 1, 0, 1, 0, 1, 1, 0, 1, 0, 1, 1, 0, 1, 1, 0, 0, 0, 1, 1,\n",
              "        0, 1, 0, 0, 1, 0, 1, 0, 0, 1, 1, 0, 0, 1, 1, 0, 1, 1, 0, 0, 1, 0,\n",
              "        1, 0, 1, 1, 1, 0, 1, 0, 1, 1, 1, 0, 1, 1, 1, 1, 0, 1, 1, 1, 0, 1,\n",
              "        0, 1, 0, 0, 1, 1, 0, 1, 1, 1, 1, 1, 1, 0, 1, 1, 1, 1, 1, 1, 0, 1,\n",
              "        1, 1, 0, 1]))"
            ]
          },
          "metadata": {
            "tags": []
          },
          "execution_count": 12
        }
      ]
    },
    {
      "cell_type": "code",
      "metadata": {
        "id": "FIOyBIKOuw_3"
      },
      "source": [
        "# Splitting the dataset into the Training set and Test set\n",
        "from sklearn.model_selection import train_test_split\n",
        "x_train, x_test, y_train, y_test = train_test_split(x, y, test_size = 0.25)"
      ],
      "execution_count": 13,
      "outputs": []
    },
    {
      "cell_type": "code",
      "metadata": {
        "id": "Ya-fsKuXuxEw",
        "outputId": "401601f8-a50b-41f6-eab0-5a1c783a2621",
        "colab": {
          "base_uri": "https://localhost:8080/",
          "height": 1000
        }
      },
      "source": [
        "# Feature Scaling\n",
        "from sklearn.preprocessing import StandardScaler\n",
        "sc_x = StandardScaler()\n",
        "x_train = sc_x.fit_transform(x_train)\n",
        "x_test = sc_x.transform(x_test)\n",
        "x_train, x_test"
      ],
      "execution_count": 14,
      "outputs": [
        {
          "output_type": "execute_result",
          "data": {
            "text/plain": [
              "(array([[-1.41189339, -0.22933986],\n",
              "        [-0.23857478,  1.14425736],\n",
              "        [-0.33635133,  0.04537958],\n",
              "        [ 1.13029692,  0.56429409],\n",
              "        [-0.04302168,  0.28957464],\n",
              "        [-0.23857478, -1.3892664 ],\n",
              "        [ 2.10806243,  0.16747711],\n",
              "        [-1.31411684, -1.32821764],\n",
              "        [ 0.25030797, -0.41248616],\n",
              "        [ 2.10806243,  2.21261075],\n",
              "        [ 0.15253142,  1.57159872],\n",
              "        [-0.23857478,  0.62534285],\n",
              "        [ 1.91250933,  0.10642835],\n",
              "        [ 1.42362657,  1.32740366],\n",
              "        [ 2.20583898,  0.38114779],\n",
              "        [-0.92301064, -0.80930313],\n",
              "        [ 0.15253142,  0.0148552 ],\n",
              "        [-0.04302168,  0.1980015 ],\n",
              "        [-1.90077614, -0.80930313],\n",
              "        [ 1.03252037,  2.05998884],\n",
              "        [ 1.42362657,  2.05998884],\n",
              "        [ 1.03252037, -1.23664449],\n",
              "        [-0.23857478, -0.38196178],\n",
              "        [-1.80299959, -1.3892664 ],\n",
              "        [ 2.10806243,  0.38114779],\n",
              "        [-1.80299959, -1.51136393],\n",
              "        [-0.23857478, -0.41248616],\n",
              "        [ 0.73919072,  1.84631816],\n",
              "        [ 0.83696727,  0.25905026],\n",
              "        [-0.72745754,  1.11373298],\n",
              "        [ 0.83696727,  0.35062341],\n",
              "        [ 0.54363762,  1.7852694 ],\n",
              "        [ 0.44586107,  0.13695273],\n",
              "        [-0.04302168,  0.68639162],\n",
              "        [-1.02078719, -0.41248616],\n",
              "        [-1.70522304,  0.35062341],\n",
              "        [ 0.34808452, -0.77877875],\n",
              "        [-1.02078719,  0.56429409],\n",
              "        [-0.43412788,  2.39575705],\n",
              "        [ 1.52140313,  0.35062341],\n",
              "        [ 1.61917968,  1.02215983],\n",
              "        [-0.23857478,  0.80848915],\n",
              "        [-0.23857478, -1.54188832],\n",
              "        [ 0.15253142,  1.93789131],\n",
              "        [-0.82523409, -0.83982752],\n",
              "        [-0.04302168,  0.0148552 ],\n",
              "        [-0.82523409, -0.29038863],\n",
              "        [-1.11856374, -1.69451023],\n",
              "        [-1.02078719, -1.63346147],\n",
              "        [ 2.01028588,  2.24313514],\n",
              "        [ 0.44586107,  0.28957464],\n",
              "        [ 1.71695623,  1.81579378],\n",
              "        [-0.04302168, -0.53458369],\n",
              "        [-0.23857478, -0.62615684],\n",
              "        [ 0.83696727,  0.10642835],\n",
              "        [-0.23857478,  0.13695273],\n",
              "        [ 1.81473278,  1.90736693],\n",
              "        [-0.92301064, -0.35143739],\n",
              "        [-0.33635133, -0.83982752],\n",
              "        [-1.21634029, -1.48083955],\n",
              "        [ 0.25030797, -0.29038863],\n",
              "        [-0.92301064, -1.17559573],\n",
              "        [ 1.22807347,  0.53376971],\n",
              "        [-0.04302168, -0.47353492],\n",
              "        [ 1.22807347, -0.80930313],\n",
              "        [ 1.61917968, -1.35874202],\n",
              "        [ 0.05475487,  1.26635489],\n",
              "        [ 0.25030797, -0.41248616],\n",
              "        [ 0.83696727, -0.35143739],\n",
              "        [ 1.03252037,  2.15156199],\n",
              "        [-0.53190443,  1.4189768 ],\n",
              "        [-0.04302168,  0.22852588],\n",
              "        [-0.62968098,  0.16747711],\n",
              "        [-1.31411684,  0.56429409],\n",
              "        [-1.02078719, -0.50405931],\n",
              "        [ 0.25030797, -0.35143739],\n",
              "        [ 0.93474382, -1.23664449],\n",
              "        [ 0.05475487,  0.0148552 ],\n",
              "        [ 0.25030797,  0.13695273],\n",
              "        [-1.21634029, -1.14507134],\n",
              "        [ 0.15253142,  0.25905026],\n",
              "        [-0.53190443,  1.96841569],\n",
              "        [ 0.44586107, -0.19881548],\n",
              "        [-0.14079823, -0.22933986],\n",
              "        [ 0.64141417, -0.96192505],\n",
              "        [-0.72745754, -1.69451023],\n",
              "        [ 2.01028588, -0.99244943],\n",
              "        [-0.04302168,  0.04537958],\n",
              "        [-1.80299959, -0.01566918],\n",
              "        [-0.43412788, -1.20612011],\n",
              "        [-0.62968098, -1.60293708],\n",
              "        [-0.23857478,  0.25905026],\n",
              "        [ 0.05475487,  1.29687927],\n",
              "        [-0.23857478,  0.53376971],\n",
              "        [ 1.13029692,  0.47272094],\n",
              "        [ 0.73919072, -0.77877875],\n",
              "        [-0.14079823, -0.50405931],\n",
              "        [ 2.10806243,  0.53376971],\n",
              "        [ 1.03252037,  1.84631816],\n",
              "        [ 0.34808452,  0.04537958],\n",
              "        [ 0.34808452,  0.28957464],\n",
              "        [ 0.93474382, -0.83982752],\n",
              "        [-0.92301064,  1.6021231 ],\n",
              "        [-1.90077614, -0.07671795],\n",
              "        [-0.62968098, -0.38196178],\n",
              "        [ 0.15253142,  0.77796477],\n",
              "        [ 0.83696727,  1.4189768 ],\n",
              "        [-0.23857478, -0.29038863],\n",
              "        [ 0.93474382,  1.11373298],\n",
              "        [-0.43412788, -0.90087628],\n",
              "        [ 0.44586107, -0.01566918],\n",
              "        [ 0.44586107, -0.53458369],\n",
              "        [ 1.22807347, -1.54188832],\n",
              "        [-0.72745754,  0.56429409],\n",
              "        [ 1.91250933, -1.14507134],\n",
              "        [ 0.25030797,  1.11373298],\n",
              "        [-0.14079823, -0.62615684],\n",
              "        [ 1.03252037,  0.77796477],\n",
              "        [ 1.61917968,  1.14425736],\n",
              "        [-0.62968098, -0.07671795],\n",
              "        [-1.11856374, -0.56510807],\n",
              "        [ 0.44586107, -0.50405931],\n",
              "        [-0.14079823,  0.86953791],\n",
              "        [-0.72745754,  1.38845242],\n",
              "        [ 0.34808452, -0.56510807],\n",
              "        [-0.23857478, -1.45031517],\n",
              "        [ 0.15253142,  0.0148552 ],\n",
              "        [ 1.03252037, -0.90087628],\n",
              "        [-0.92301064, -1.02297381],\n",
              "        [ 0.05475487,  0.0148552 ],\n",
              "        [-0.23857478,  0.07590396],\n",
              "        [ 2.20583898,  0.96111106],\n",
              "        [-1.21634029,  0.59481847],\n",
              "        [-0.92301064, -0.47353492],\n",
              "        [-0.23857478, -0.35143739],\n",
              "        [-1.02078719,  0.53376971],\n",
              "        [-1.11856374,  0.28957464],\n",
              "        [ 0.54363762,  1.26635489],\n",
              "        [ 1.42362657, -1.51136393],\n",
              "        [ 1.13029692, -1.05349819],\n",
              "        [ 0.34808452,  0.04537958],\n",
              "        [-0.72745754, -0.25986424],\n",
              "        [ 0.83696727,  0.53376971],\n",
              "        [ 0.93474382,  2.24313514],\n",
              "        [ 0.54363762,  1.90736693],\n",
              "        [-0.82523409,  0.28957464],\n",
              "        [ 0.44586107,  0.28957464],\n",
              "        [ 1.42362657,  0.59481847],\n",
              "        [-0.23857478,  0.1980015 ],\n",
              "        [ 0.15253142, -0.8703519 ],\n",
              "        [-0.23857478,  0.04537958],\n",
              "        [ 0.93474382, -0.62615684],\n",
              "        [ 0.05475487,  0.28957464],\n",
              "        [ 0.05475487, -0.62615684],\n",
              "        [-0.92301064,  0.50324532],\n",
              "        [ 0.25030797, -0.71772998],\n",
              "        [-1.70522304,  0.10642835],\n",
              "        [-0.04302168,  0.28957464],\n",
              "        [-1.70522304,  0.47272094],\n",
              "        [ 0.93474382, -1.45031517],\n",
              "        [ 1.22807347, -1.05349819],\n",
              "        [-1.21634029,  0.50324532],\n",
              "        [ 0.15253142,  0.1980015 ],\n",
              "        [-1.11856374,  0.41167217],\n",
              "        [ 0.44586107,  2.39575705],\n",
              "        [ 1.13029692, -0.1682911 ],\n",
              "        [-0.62968098, -1.69451023],\n",
              "        [-1.11856374, -1.69451023],\n",
              "        [-0.62968098, -1.11454696],\n",
              "        [-0.92301064,  0.44219656],\n",
              "        [-1.80299959, -1.5724127 ],\n",
              "        [ 0.93474382, -0.71772998],\n",
              "        [ 0.83696727, -0.90087628],\n",
              "        [ 0.93474382, -1.11454696],\n",
              "        [-1.11856374,  1.44950119],\n",
              "        [-1.90077614,  0.35062341],\n",
              "        [-0.72745754,  1.96841569],\n",
              "        [-0.33635133, -1.3892664 ],\n",
              "        [-1.41189339,  0.35062341],\n",
              "        [-1.02078719, -0.38196178],\n",
              "        [-1.11856374, -1.08402258],\n",
              "        [-1.50966994,  0.32009903],\n",
              "        [-0.04302168, -0.01566918],\n",
              "        [ 1.91250933, -1.35874202],\n",
              "        [ 0.25030797,  0.04537958],\n",
              "        [-0.82523409, -0.71772998],\n",
              "        [ 0.25030797,  0.22852588],\n",
              "        [ 0.34808452,  0.25905026],\n",
              "        [ 1.91250933, -0.32091301],\n",
              "        [ 0.64141417,  2.09051322],\n",
              "        [ 0.73919072, -1.35874202],\n",
              "        [-0.23857478, -1.32821764],\n",
              "        [ 0.34808452, -0.32091301],\n",
              "        [-0.23857478, -0.1682911 ],\n",
              "        [-1.11856374, -1.17559573],\n",
              "        [-0.04302168, -1.14507134],\n",
              "        [-0.04302168, -0.56510807],\n",
              "        [-1.41189339, -0.13776671],\n",
              "        [-0.53190443,  1.51054995],\n",
              "        [ 0.44586107,  0.25905026],\n",
              "        [-1.50966994, -0.47353492],\n",
              "        [ 0.25030797, -0.41248616],\n",
              "        [ 1.03252037,  0.10642835],\n",
              "        [ 0.15253142,  1.93789131],\n",
              "        [-0.23857478, -0.80930313],\n",
              "        [-0.82523409,  0.13695273],\n",
              "        [-0.23857478, -0.99244943],\n",
              "        [-1.90077614,  0.47272094],\n",
              "        [ 0.93474382,  1.29687927],\n",
              "        [ 1.52140313,  1.02215983],\n",
              "        [ 1.03252037,  1.93789131],\n",
              "        [-0.72745754,  0.25905026],\n",
              "        [-0.72745754,  0.50324532],\n",
              "        [-0.04302168, -0.41248616],\n",
              "        [ 0.15253142,  0.13695273],\n",
              "        [-0.14079823, -0.56510807],\n",
              "        [ 2.20583898, -0.8703519 ],\n",
              "        [-0.53190443,  0.9000623 ],\n",
              "        [ 0.44586107, -0.50405931],\n",
              "        [-1.41189339, -1.29769326],\n",
              "        [-1.50966994, -1.32821764],\n",
              "        [-1.60744649,  0.04537958],\n",
              "        [-1.31411684, -0.38196178],\n",
              "        [ 0.93474382, -1.54188832],\n",
              "        [-0.04302168,  2.3041839 ],\n",
              "        [ 0.34808452,  0.04537958],\n",
              "        [-0.23857478, -0.47353492],\n",
              "        [-0.62968098,  1.44950119],\n",
              "        [-0.92301064,  0.25905026],\n",
              "        [ 0.93474382,  1.05268421],\n",
              "        [-1.11856374, -0.83982752],\n",
              "        [-1.80299959,  0.44219656],\n",
              "        [ 1.03252037,  1.48002557],\n",
              "        [-1.60744649,  0.53376971],\n",
              "        [ 0.34808452, -0.56510807],\n",
              "        [ 1.52140313,  0.04537958],\n",
              "        [ 1.13029692,  0.53376971],\n",
              "        [ 0.44586107, -0.1682911 ],\n",
              "        [-1.90077614, -0.56510807],\n",
              "        [-0.14079823,  1.44950119],\n",
              "        [ 0.34808452,  0.50324532],\n",
              "        [ 0.25030797, -0.32091301],\n",
              "        [-1.11856374,  0.28957464],\n",
              "        [ 1.13029692, -1.29769326],\n",
              "        [ 1.13029692, -0.96192505],\n",
              "        [-0.53190443,  2.42628143],\n",
              "        [ 0.93474382, -1.3892664 ],\n",
              "        [-0.04302168,  0.25905026],\n",
              "        [ 0.05475487, -0.35143739],\n",
              "        [ 0.44586107,  1.02215983],\n",
              "        [ 0.44586107, -0.1682911 ],\n",
              "        [ 1.81473278, -0.32091301],\n",
              "        [-1.21634029,  0.28957464],\n",
              "        [-1.31411684,  0.41167217],\n",
              "        [-0.23857478, -0.32091301],\n",
              "        [ 0.34808452, -0.59563245],\n",
              "        [ 0.93474382, -0.59563245],\n",
              "        [-0.62968098,  0.0148552 ],\n",
              "        [-1.11856374, -1.63346147],\n",
              "        [-1.31411684, -1.17559573],\n",
              "        [-0.33635133, -0.83982752],\n",
              "        [-0.72745754, -0.65668122],\n",
              "        [-0.43412788, -1.29769326],\n",
              "        [-1.31411684, -0.47353492],\n",
              "        [-1.41189339, -0.6872056 ],\n",
              "        [-0.23857478, -0.62615684],\n",
              "        [ 0.44586107,  0.59481847],\n",
              "        [ 0.15253142,  1.08320859],\n",
              "        [ 1.13029692,  0.10642835],\n",
              "        [ 1.03252037,  0.59481847],\n",
              "        [-1.02078719,  0.41167217],\n",
              "        [-0.33635133,  1.26635489],\n",
              "        [ 2.20583898, -0.74825437],\n",
              "        [-0.04302168, -0.25986424],\n",
              "        [ 0.83696727, -1.17559573],\n",
              "        [ 1.91250933,  1.57159872],\n",
              "        [ 0.25030797, -0.1682911 ],\n",
              "        [-0.33635133,  1.35792804],\n",
              "        [-1.02078719,  2.02946446],\n",
              "        [ 2.01028588, -0.71772998],\n",
              "        [-1.02078719, -1.20612011],\n",
              "        [ 0.83696727, -1.29769326],\n",
              "        [-0.04302168,  0.10642835],\n",
              "        [ 0.15253142,  0.07590396],\n",
              "        [ 0.83696727, -1.45031517],\n",
              "        [-0.82523409,  2.36523267],\n",
              "        [-1.11856374,  0.47272094],\n",
              "        [ 0.15253142, -0.35143739],\n",
              "        [-0.53190443, -1.60293708],\n",
              "        [-0.43412788, -0.04619357],\n",
              "        [-0.82523409,  0.38114779],\n",
              "        [-1.31411684, -1.45031517],\n",
              "        [-1.11856374, -1.23664449],\n",
              "        [ 1.61917968, -0.01566918],\n",
              "        [-1.70522304, -1.45031517],\n",
              "        [ 0.05475487, -0.59563245],\n",
              "        [-1.80299959,  0.16747711],\n",
              "        [ 1.32585002, -1.45031517],\n",
              "        [-0.43412788,  1.29687927],\n",
              "        [ 0.05475487, -0.62615684]]), array([[ 2.20583898, -1.11454696],\n",
              "        [-0.72745754, -1.63346147],\n",
              "        [-0.14079823,  2.24313514],\n",
              "        [-0.04302168,  2.24313514],\n",
              "        [-1.11856374,  0.32009903],\n",
              "        [ 2.10806243, -0.8703519 ],\n",
              "        [-0.92301064,  0.41167217],\n",
              "        [-0.53190443, -1.60293708],\n",
              "        [-0.92301064, -0.35143739],\n",
              "        [ 0.93474382, -0.65668122],\n",
              "        [-0.23857478,  2.33470828],\n",
              "        [ 0.25030797,  2.18208637],\n",
              "        [ 0.05475487, -0.29038863],\n",
              "        [-0.82523409, -1.29769326],\n",
              "        [-0.72745754,  0.28957464],\n",
              "        [ 1.32585002,  1.93789131],\n",
              "        [ 0.34808452, -1.23664449],\n",
              "        [ 0.15253142, -0.29038863],\n",
              "        [ 1.52140313, -1.11454696],\n",
              "        [-0.23857478, -0.53458369],\n",
              "        [-0.23857478,  0.04537958],\n",
              "        [-0.23857478,  0.0148552 ],\n",
              "        [ 1.03252037, -1.26716887],\n",
              "        [ 1.42362657, -0.99244943],\n",
              "        [-1.31411684, -1.5724127 ],\n",
              "        [ 2.20583898, -0.8703519 ],\n",
              "        [-1.11856374,  0.04537958],\n",
              "        [-1.50966994, -0.22933986],\n",
              "        [ 1.52140313,  2.21261075],\n",
              "        [-1.70522304,  0.35062341],\n",
              "        [-1.60744649, -1.66398585],\n",
              "        [ 1.81473278,  1.02215983],\n",
              "        [ 0.25030797,  0.0148552 ],\n",
              "        [ 1.03252037, -1.14507134],\n",
              "        [-0.04302168,  2.02946446],\n",
              "        [-1.02078719,  0.77796477],\n",
              "        [-1.02078719, -1.54188832],\n",
              "        [-0.23857478, -0.71772998],\n",
              "        [ 1.71695623,  1.66317186],\n",
              "        [ 0.34808452, -0.22933986],\n",
              "        [-0.14079823, -1.14507134],\n",
              "        [-0.62968098,  0.56429409],\n",
              "        [-0.92301064,  0.56429409],\n",
              "        [ 1.03252037, -1.14507134],\n",
              "        [-0.43412788, -0.59563245],\n",
              "        [ 0.34808452, -0.35143739],\n",
              "        [-0.14079823,  0.13695273],\n",
              "        [ 0.73919072, -1.48083955],\n",
              "        [-0.82523409,  0.38114779],\n",
              "        [-0.14079823, -0.32091301],\n",
              "        [-1.70522304, -1.05349819],\n",
              "        [ 0.73919072,  0.25905026],\n",
              "        [-0.23857478,  0.13695273],\n",
              "        [-1.60744649, -0.07671795],\n",
              "        [-0.43412788, -0.32091301],\n",
              "        [-0.04302168,  0.13695273],\n",
              "        [-1.70522304, -0.65668122],\n",
              "        [ 1.13029692,  2.15156199],\n",
              "        [ 0.73919072, -1.17559573],\n",
              "        [ 0.15253142, -0.8703519 ],\n",
              "        [-1.21634029,  0.25905026],\n",
              "        [ 0.05475487, -0.47353492],\n",
              "        [ 1.03252037, -1.08402258],\n",
              "        [ 0.05475487, -0.1682911 ],\n",
              "        [-0.14079823,  1.66317186],\n",
              "        [ 0.73919072, -1.48083955],\n",
              "        [-1.41189339, -1.54188832],\n",
              "        [ 1.71695623, -0.96192505],\n",
              "        [-0.23857478, -1.48083955],\n",
              "        [-0.43412788, -0.83982752],\n",
              "        [-0.62968098, -0.13776671],\n",
              "        [-0.53190443,  0.47272094],\n",
              "        [ 2.01028588,  0.93058668],\n",
              "        [-1.50966994, -1.60293708],\n",
              "        [ 0.83696727,  0.77796477],\n",
              "        [ 0.34808452,  0.0148552 ],\n",
              "        [ 2.01028588,  0.74744038],\n",
              "        [ 0.34808452,  0.04537958],\n",
              "        [ 1.32585002,  2.3041839 ],\n",
              "        [ 0.83696727, -1.48083955],\n",
              "        [ 0.44586107,  0.07590396],\n",
              "        [ 0.44586107,  1.14425736],\n",
              "        [ 2.01028588, -1.45031517],\n",
              "        [-0.23857478, -0.96192505],\n",
              "        [-1.11856374, -1.66398585],\n",
              "        [-0.82523409, -0.83982752],\n",
              "        [-1.02078719, -0.38196178],\n",
              "        [ 1.42362657,  2.42628143],\n",
              "        [-1.80299959, -1.35874202],\n",
              "        [-0.53190443,  1.4189768 ],\n",
              "        [ 0.25030797,  0.13695273],\n",
              "        [-1.31411684, -0.47353492],\n",
              "        [ 2.10806243, -1.26716887],\n",
              "        [ 0.05475487, -0.29038863],\n",
              "        [-0.62968098,  0.10642835],\n",
              "        [-0.14079823,  1.69369625],\n",
              "        [ 2.20583898,  1.14425736],\n",
              "        [-1.02078719,  0.59481847],\n",
              "        [ 1.13029692, -1.29769326],\n",
              "        [ 2.10806243,  1.81579378]]))"
            ]
          },
          "metadata": {
            "tags": []
          },
          "execution_count": 14
        }
      ]
    },
    {
      "cell_type": "markdown",
      "metadata": {
        "id": "fFnbXtLCvHLY"
      },
      "source": [
        "#Logistic Regression\n"
      ]
    },
    {
      "cell_type": "code",
      "metadata": {
        "id": "ZgE0m4NruxJM",
        "outputId": "984be580-dcfd-41d8-aef6-571d3a2413f7",
        "colab": {
          "base_uri": "https://localhost:8080/",
          "height": 100
        }
      },
      "source": [
        "#Fitting Logistic Regresssion to Training Set\n",
        "from sklearn.linear_model import LogisticRegression\n",
        "classifier = LogisticRegression(random_state =0)\n",
        "classifier.fit(x_train,y_train)"
      ],
      "execution_count": 15,
      "outputs": [
        {
          "output_type": "execute_result",
          "data": {
            "text/plain": [
              "LogisticRegression(C=1.0, class_weight=None, dual=False, fit_intercept=True,\n",
              "                   intercept_scaling=1, l1_ratio=None, max_iter=100,\n",
              "                   multi_class='auto', n_jobs=None, penalty='l2',\n",
              "                   random_state=0, solver='lbfgs', tol=0.0001, verbose=0,\n",
              "                   warm_start=False)"
            ]
          },
          "metadata": {
            "tags": []
          },
          "execution_count": 15
        }
      ]
    },
    {
      "cell_type": "markdown",
      "metadata": {
        "id": "k8D9mM51vRnL"
      },
      "source": [
        "# Predicting the results"
      ]
    },
    {
      "cell_type": "code",
      "metadata": {
        "id": "esAmtW_iuxMJ",
        "outputId": "5d78c972-7968-4442-b0ac-fefea1667493",
        "colab": {
          "base_uri": "https://localhost:8080/",
          "height": 100
        }
      },
      "source": [
        "#Predicting the Test Set Results\n",
        "y_pred = classifier.predict(x_test)\n",
        "y_pred"
      ],
      "execution_count": 16,
      "outputs": [
        {
          "output_type": "execute_result",
          "data": {
            "text/plain": [
              "array([1, 0, 1, 1, 0, 1, 0, 0, 0, 1, 1, 1, 0, 0, 0, 1, 0, 0, 1, 0, 0, 0,\n",
              "       0, 1, 0, 1, 0, 0, 1, 0, 0, 1, 0, 0, 1, 0, 0, 0, 1, 0, 0, 0, 0, 0,\n",
              "       0, 0, 0, 0, 0, 0, 0, 1, 0, 0, 0, 0, 0, 1, 0, 0, 0, 0, 0, 0, 1, 0,\n",
              "       0, 1, 0, 0, 0, 0, 1, 0, 1, 0, 1, 0, 1, 0, 0, 1, 1, 0, 0, 0, 0, 1,\n",
              "       0, 0, 0, 0, 1, 0, 0, 1, 1, 0, 0, 1])"
            ]
          },
          "metadata": {
            "tags": []
          },
          "execution_count": 16
        }
      ]
    },
    {
      "cell_type": "markdown",
      "metadata": {
        "id": "bkySFRsAvVHN"
      },
      "source": [
        "# Cross Validation"
      ]
    },
    {
      "cell_type": "code",
      "metadata": {
        "id": "kcAgXI0BuxHO",
        "outputId": "9acdaee0-a683-4c38-a77d-9e5d0def1c3e",
        "colab": {
          "base_uri": "https://localhost:8080/",
          "height": 50
        }
      },
      "source": [
        "from sklearn.model_selection import cross_val_score\n",
        "\n",
        "scores = cross_val_score(classifier, x_train , y_train, cv=8)\n",
        "print('Cross-Validation Accuracy Scores', scores)"
      ],
      "execution_count": 17,
      "outputs": [
        {
          "output_type": "stream",
          "text": [
            "Cross-Validation Accuracy Scores [0.81578947 0.76315789 0.84210526 0.89473684 0.78378378 0.86486486\n",
            " 0.91891892 0.78378378]\n"
          ],
          "name": "stdout"
        }
      ]
    },
    {
      "cell_type": "markdown",
      "metadata": {
        "id": "vY6obF3fvZzK"
      },
      "source": [
        "# Confusion Matrix"
      ]
    },
    {
      "cell_type": "code",
      "metadata": {
        "id": "HWYI4MfhuxC8",
        "outputId": "4fc919b4-c065-4e71-93ab-154c3af58711",
        "colab": {
          "base_uri": "https://localhost:8080/",
          "height": 50
        }
      },
      "source": [
        "#Making the Confusion Matrix\n",
        "from sklearn.metrics import confusion_matrix\n",
        "cm = confusion_matrix(y_test,y_pred)\n",
        "cm"
      ],
      "execution_count": 18,
      "outputs": [
        {
          "output_type": "execute_result",
          "data": {
            "text/plain": [
              "array([[59,  4],\n",
              "       [11, 26]])"
            ]
          },
          "metadata": {
            "tags": []
          },
          "execution_count": 18
        }
      ]
    },
    {
      "cell_type": "code",
      "metadata": {
        "id": "zYy_Fdy8vc9b",
        "outputId": "1405ed78-6e4e-4548-d343-776d57b6ce5a",
        "colab": {
          "base_uri": "https://localhost:8080/",
          "height": 281
        }
      },
      "source": [
        "import seaborn as sns\n",
        "sns.heatmap(cm, annot=True, cmap='Blues')"
      ],
      "execution_count": 19,
      "outputs": [
        {
          "output_type": "execute_result",
          "data": {
            "text/plain": [
              "<matplotlib.axes._subplots.AxesSubplot at 0x7f4c2b6a67f0>"
            ]
          },
          "metadata": {
            "tags": []
          },
          "execution_count": 19
        },
        {
          "output_type": "display_data",
          "data": {
            "image/png": "[encoded data removed]",
            "text/plain": [
              "<Figure size 432x288 with 2 Axes>"
            ]
          },
          "metadata": {
            "tags": [],
            "needs_background": "light"
          }
        }
      ]
    },
    {
      "cell_type": "code",
      "metadata": {
        "id": "ukrz1z5Fvc_0",
        "outputId": "20616a4a-9806-40d6-8fd7-062e519b231f",
        "colab": {
          "base_uri": "https://localhost:8080/",
          "height": 281
        }
      },
      "source": [
        "import seaborn as sns\n",
        "sns.heatmap(cm, annot=True, cmap='Reds')"
      ],
      "execution_count": 21,
      "outputs": [
        {
          "output_type": "execute_result",
          "data": {
            "text/plain": [
              "<matplotlib.axes._subplots.AxesSubplot at 0x7f4c2df24080>"
            ]
          },
          "metadata": {
            "tags": []
          },
          "execution_count": 21
        },
        {
          "output_type": "display_data",
          "data": {
            "image/png": "[encoded data removed]",
            "text/plain": [
              "<Figure size 432x288 with 2 Axes>"
            ]
          },
          "metadata": {
            "tags": [],
            "needs_background": "light"
          }
        }
      ]
    },
    {
      "cell_type": "code",
      "metadata": {
        "id": "MZDUy06AvdCg",
        "outputId": "a59afc82-522e-4f83-ac56-5ec4d2f835d7",
        "colab": {
          "base_uri": "https://localhost:8080/",
          "height": 281
        }
      },
      "source": [
        "sns.heatmap(cm/np.sum(cm), annot=True, \n",
        "            fmt='.2%', cmap='Blues')"
      ],
      "execution_count": 22,
      "outputs": [
        {
          "output_type": "execute_result",
          "data": {
            "text/plain": [
              "<matplotlib.axes._subplots.AxesSubplot at 0x7f4c2afb77b8>"
            ]
          },
          "metadata": {
            "tags": []
          },
          "execution_count": 22
        },
        {
          "output_type": "display_data",
          "data": {
            "image/png": "[encoded data removed]",
            "text/plain": [
              "<Figure size 432x288 with 2 Axes>"
            ]
          },
          "metadata": {
            "tags": [],
            "needs_background": "light"
          }
        }
      ]
    },
    {
      "cell_type": "code",
      "metadata": {
        "id": "vwAGElbSvdFH",
        "outputId": "e4de75bb-987f-48b8-80e5-0ccb4845abee",
        "colab": {
          "base_uri": "https://localhost:8080/",
          "height": 282
        }
      },
      "source": [
        "sns.heatmap(cm/np.sum(cm), annot=True, \n",
        "            fmt='.2%', cmap='GnBu')"
      ],
      "execution_count": 24,
      "outputs": [
        {
          "output_type": "execute_result",
          "data": {
            "text/plain": [
              "<matplotlib.axes._subplots.AxesSubplot at 0x7f4c2af40e48>"
            ]
          },
          "metadata": {
            "tags": []
          },
          "execution_count": 24
        },
        {
          "output_type": "display_data",
          "data": {
            "image/png": "[encoded data removed]",
            "text/plain": [
              "<Figure size 432x288 with 2 Axes>"
            ]
          },
          "metadata": {
            "tags": [],
            "needs_background": "light"
          }
        }
      ]
    },
    {
      "cell_type": "markdown",
      "metadata": {
        "id": "hGU5YaZkv2Nu"
      },
      "source": [
        "# Analysing result parameters"
      ]
    },
    {
      "cell_type": "code",
      "metadata": {
        "id": "oDlqI_wIudpG",
        "outputId": "ffbc45aa-60b2-440a-d674-6ae102c8f866",
        "colab": {
          "base_uri": "https://localhost:8080/",
          "height": 349
        }
      },
      "source": [
        "#Visualizing the Training Set Results\n",
        "from matplotlib.colors import ListedColormap\n",
        "x_set , y_set = x_train ,y_train\n",
        "x1, x2 = np.meshgrid(np.arange(start = x_set[:,0].min()-1,stop =x_set[:,0].max()+1,step=0.01),\n",
        "                    np.arange(start = x_set[:,1].min()-1,stop =x_set[:,1].max()+1,step=0.01))\n",
        "plt.contour(x1,x2,classifier.predict(np.array([x1.ravel(),x2.ravel()]).T).reshape(x1.shape),\n",
        "            alpha= 0.75 ,cmap = ListedColormap(('red','green')))\n",
        "plt.xlim(x1.min() ,x1.max())\n",
        "plt.ylim(x2.min() ,x2.max())\n",
        "for i,j in enumerate(np.unique(y_set)):\n",
        "    plt.scatter(x_set[y_set == j ,0], x_set[y_set == j,1],\n",
        "                c= ListedColormap(('red' , 'green'))(i) , label = j)\n",
        "plt.title('Logistic Regression(Training Set)')\n",
        "plt.xlabel('Age')\n",
        "plt.ylabel('Estimated Salary')\n",
        "plt.legend()\n",
        "plt.show()"
      ],
      "execution_count": 25,
      "outputs": [
        {
          "output_type": "stream",
          "text": [
            "*c* argument looks like a single numeric RGB or RGBA sequence, which should be avoided as value-mapping will have precedence in case its length matches with *x* & *y*.  Please use the *color* keyword-argument or provide a 2-D array with a single row if you intend to specify the same RGB or RGBA value for all points.\n",
            "*c* argument looks like a single numeric RGB or RGBA sequence, which should be avoided as value-mapping will have precedence in case its length matches with *x* & *y*.  Please use the *color* keyword-argument or provide a 2-D array with a single row if you intend to specify the same RGB or RGBA value for all points.\n"
          ],
          "name": "stderr"
        },
        {
          "output_type": "display_data",
          "data": {
            "image/png": "[encoded data removed]",
            "text/plain": [
              "<Figure size 432x288 with 1 Axes>"
            ]
          },
          "metadata": {
            "tags": [],
            "needs_background": "light"
          }
        }
      ]
    },
    {
      "cell_type": "code",
      "metadata": {
        "id": "DpAf36W9wAKF",
        "outputId": "dd7443a2-d83c-4698-bc3a-dcf782111e78",
        "colab": {
          "base_uri": "https://localhost:8080/",
          "height": 349
        }
      },
      "source": [
        "#Visualizing the Test Set Results\n",
        "from matplotlib.colors import ListedColormap\n",
        "x_set , y_set = x_test ,y_test\n",
        "x1, x2 = np.meshgrid(np.arange(start = x_set[:,0].min()-1,stop =x_set[:,0].max()+1,step=0.01),\n",
        "                    np.arange(start = x_set[:,1].min()-1,stop =x_set[:,1].max()+1,step=0.01))\n",
        "plt.contour(x1,x2,classifier.predict(np.array([x1.ravel(),x2.ravel()]).T).reshape(x1.shape),\n",
        "            alpha= 0.75 ,cmap = ListedColormap(('red','green')))\n",
        "plt.xlim(x1.min() ,x1.max())\n",
        "plt.ylim(x2.min() ,x2.max())\n",
        "for i,j in enumerate(np.unique(y_set)):\n",
        "    plt.scatter(x_set[y_set == j ,0], x_set[y_set == j,1],\n",
        "                c= ListedColormap(('red' , 'green'))(i) , label = j)\n",
        "plt.title('Logistic Regression(Test Set)')\n",
        "plt.xlabel('Age')\n",
        "plt.ylabel('Estimated Salary')\n",
        "plt.legend()\n",
        "plt.show()"
      ],
      "execution_count": 28,
      "outputs": [
        {
          "output_type": "stream",
          "text": [
            "*c* argument looks like a single numeric RGB or RGBA sequence, which should be avoided as value-mapping will have precedence in case its length matches with *x* & *y*.  Please use the *color* keyword-argument or provide a 2-D array with a single row if you intend to specify the same RGB or RGBA value for all points.\n",
            "*c* argument looks like a single numeric RGB or RGBA sequence, which should be avoided as value-mapping will have precedence in case its length matches with *x* & *y*.  Please use the *color* keyword-argument or provide a 2-D array with a single row if you intend to specify the same RGB or RGBA value for all points.\n"
          ],
          "name": "stderr"
        },
        {
          "output_type": "display_data",
          "data": {
            "image/png": "[encoded data removed]",
            "text/plain": [
              "<Figure size 432x288 with 1 Axes>"
            ]
          },
          "metadata": {
            "tags": [],
            "needs_background": "light"
          }
        }
      ]
    },
    {
      "cell_type": "code",
      "metadata": {
        "id": "ffLrzWnxwAMP",
        "outputId": "ddab7408-8be5-4772-f73d-c6e6083287db",
        "colab": {
          "base_uri": "https://localhost:8080/",
          "height": 34
        }
      },
      "source": [
        "metrics.accuracy_score(y_test, y_pred)"
      ],
      "execution_count": 29,
      "outputs": [
        {
          "output_type": "execute_result",
          "data": {
            "text/plain": [
              "0.85"
            ]
          },
          "metadata": {
            "tags": []
          },
          "execution_count": 29
        }
      ]
    },
    {
      "cell_type": "markdown",
      "metadata": {
        "id": "3_TlopW6wWmp"
      },
      "source": [
        "# Third example with Iris Dataset"
      ]
    },
    {
      "cell_type": "code",
      "metadata": {
        "id": "LoFX1ZRQwAOl"
      },
      "source": [
        "from sklearn import datasets\n",
        "import matplotlib.pyplot as plt"
      ],
      "execution_count": 30,
      "outputs": []
    },
    {
      "cell_type": "code",
      "metadata": {
        "id": "BNwMhSpkwaLy"
      },
      "source": [
        "#import data\n",
        "data = datasets.load_iris()"
      ],
      "execution_count": 31,
      "outputs": []
    },
    {
      "cell_type": "code",
      "metadata": {
        "id": "mizFoa87waOX",
        "outputId": "1aeca702-d782-4696-980d-f93ea059125b",
        "colab": {
          "base_uri": "https://localhost:8080/",
          "height": 1000
        }
      },
      "source": [
        "# here as we have imported the data through sckit's package , we will get the data in form of arrays,\n",
        "# so here our labes is stored in \n",
        "data.data"
      ],
      "execution_count": 32,
      "outputs": [
        {
          "output_type": "execute_result",
          "data": {
            "text/plain": [
              "array([[5.1, 3.5, 1.4, 0.2],\n",
              "       [4.9, 3. , 1.4, 0.2],\n",
              "       [4.7, 3.2, 1.3, 0.2],\n",
              "       [4.6, 3.1, 1.5, 0.2],\n",
              "       [5. , 3.6, 1.4, 0.2],\n",
              "       [5.4, 3.9, 1.7, 0.4],\n",
              "       [4.6, 3.4, 1.4, 0.3],\n",
              "       [5. , 3.4, 1.5, 0.2],\n",
              "       [4.4, 2.9, 1.4, 0.2],\n",
              "       [4.9, 3.1, 1.5, 0.1],\n",
              "       [5.4, 3.7, 1.5, 0.2],\n",
              "       [4.8, 3.4, 1.6, 0.2],\n",
              "       [4.8, 3. , 1.4, 0.1],\n",
              "       [4.3, 3. , 1.1, 0.1],\n",
              "       [5.8, 4. , 1.2, 0.2],\n",
              "       [5.7, 4.4, 1.5, 0.4],\n",
              "       [5.4, 3.9, 1.3, 0.4],\n",
              "       [5.1, 3.5, 1.4, 0.3],\n",
              "       [5.7, 3.8, 1.7, 0.3],\n",
              "       [5.1, 3.8, 1.5, 0.3],\n",
              "       [5.4, 3.4, 1.7, 0.2],\n",
              "       [5.1, 3.7, 1.5, 0.4],\n",
              "       [4.6, 3.6, 1. , 0.2],\n",
              "       [5.1, 3.3, 1.7, 0.5],\n",
              "       [4.8, 3.4, 1.9, 0.2],\n",
              "       [5. , 3. , 1.6, 0.2],\n",
              "       [5. , 3.4, 1.6, 0.4],\n",
              "       [5.2, 3.5, 1.5, 0.2],\n",
              "       [5.2, 3.4, 1.4, 0.2],\n",
              "       [4.7, 3.2, 1.6, 0.2],\n",
              "       [4.8, 3.1, 1.6, 0.2],\n",
              "       [5.4, 3.4, 1.5, 0.4],\n",
              "       [5.2, 4.1, 1.5, 0.1],\n",
              "       [5.5, 4.2, 1.4, 0.2],\n",
              "       [4.9, 3.1, 1.5, 0.2],\n",
              "       [5. , 3.2, 1.2, 0.2],\n",
              "       [5.5, 3.5, 1.3, 0.2],\n",
              "       [4.9, 3.6, 1.4, 0.1],\n",
              "       [4.4, 3. , 1.3, 0.2],\n",
              "       [5.1, 3.4, 1.5, 0.2],\n",
              "       [5. , 3.5, 1.3, 0.3],\n",
              "       [4.5, 2.3, 1.3, 0.3],\n",
              "       [4.4, 3.2, 1.3, 0.2],\n",
              "       [5. , 3.5, 1.6, 0.6],\n",
              "       [5.1, 3.8, 1.9, 0.4],\n",
              "       [4.8, 3. , 1.4, 0.3],\n",
              "       [5.1, 3.8, 1.6, 0.2],\n",
              "       [4.6, 3.2, 1.4, 0.2],\n",
              "       [5.3, 3.7, 1.5, 0.2],\n",
              "       [5. , 3.3, 1.4, 0.2],\n",
              "       [7. , 3.2, 4.7, 1.4],\n",
              "       [6.4, 3.2, 4.5, 1.5],\n",
              "       [6.9, 3.1, 4.9, 1.5],\n",
              "       [5.5, 2.3, 4. , 1.3],\n",
              "       [6.5, 2.8, 4.6, 1.5],\n",
              "       [5.7, 2.8, 4.5, 1.3],\n",
              "       [6.3, 3.3, 4.7, 1.6],\n",
              "       [4.9, 2.4, 3.3, 1. ],\n",
              "       [6.6, 2.9, 4.6, 1.3],\n",
              "       [5.2, 2.7, 3.9, 1.4],\n",
              "       [5. , 2. , 3.5, 1. ],\n",
              "       [5.9, 3. , 4.2, 1.5],\n",
              "       [6. , 2.2, 4. , 1. ],\n",
              "       [6.1, 2.9, 4.7, 1.4],\n",
              "       [5.6, 2.9, 3.6, 1.3],\n",
              "       [6.7, 3.1, 4.4, 1.4],\n",
              "       [5.6, 3. , 4.5, 1.5],\n",
              "       [5.8, 2.7, 4.1, 1. ],\n",
              "       [6.2, 2.2, 4.5, 1.5],\n",
              "       [5.6, 2.5, 3.9, 1.1],\n",
              "       [5.9, 3.2, 4.8, 1.8],\n",
              "       [6.1, 2.8, 4. , 1.3],\n",
              "       [6.3, 2.5, 4.9, 1.5],\n",
              "       [6.1, 2.8, 4.7, 1.2],\n",
              "       [6.4, 2.9, 4.3, 1.3],\n",
              "       [6.6, 3. , 4.4, 1.4],\n",
              "       [6.8, 2.8, 4.8, 1.4],\n",
              "       [6.7, 3. , 5. , 1.7],\n",
              "       [6. , 2.9, 4.5, 1.5],\n",
              "       [5.7, 2.6, 3.5, 1. ],\n",
              "       [5.5, 2.4, 3.8, 1.1],\n",
              "       [5.5, 2.4, 3.7, 1. ],\n",
              "       [5.8, 2.7, 3.9, 1.2],\n",
              "       [6. , 2.7, 5.1, 1.6],\n",
              "       [5.4, 3. , 4.5, 1.5],\n",
              "       [6. , 3.4, 4.5, 1.6],\n",
              "       [6.7, 3.1, 4.7, 1.5],\n",
              "       [6.3, 2.3, 4.4, 1.3],\n",
              "       [5.6, 3. , 4.1, 1.3],\n",
              "       [5.5, 2.5, 4. , 1.3],\n",
              "       [5.5, 2.6, 4.4, 1.2],\n",
              "       [6.1, 3. , 4.6, 1.4],\n",
              "       [5.8, 2.6, 4. , 1.2],\n",
              "       [5. , 2.3, 3.3, 1. ],\n",
              "       [5.6, 2.7, 4.2, 1.3],\n",
              "       [5.7, 3. , 4.2, 1.2],\n",
              "       [5.7, 2.9, 4.2, 1.3],\n",
              "       [6.2, 2.9, 4.3, 1.3],\n",
              "       [5.1, 2.5, 3. , 1.1],\n",
              "       [5.7, 2.8, 4.1, 1.3],\n",
              "       [6.3, 3.3, 6. , 2.5],\n",
              "       [5.8, 2.7, 5.1, 1.9],\n",
              "       [7.1, 3. , 5.9, 2.1],\n",
              "       [6.3, 2.9, 5.6, 1.8],\n",
              "       [6.5, 3. , 5.8, 2.2],\n",
              "       [7.6, 3. , 6.6, 2.1],\n",
              "       [4.9, 2.5, 4.5, 1.7],\n",
              "       [7.3, 2.9, 6.3, 1.8],\n",
              "       [6.7, 2.5, 5.8, 1.8],\n",
              "       [7.2, 3.6, 6.1, 2.5],\n",
              "       [6.5, 3.2, 5.1, 2. ],\n",
              "       [6.4, 2.7, 5.3, 1.9],\n",
              "       [6.8, 3. , 5.5, 2.1],\n",
              "       [5.7, 2.5, 5. , 2. ],\n",
              "       [5.8, 2.8, 5.1, 2.4],\n",
              "       [6.4, 3.2, 5.3, 2.3],\n",
              "       [6.5, 3. , 5.5, 1.8],\n",
              "       [7.7, 3.8, 6.7, 2.2],\n",
              "       [7.7, 2.6, 6.9, 2.3],\n",
              "       [6. , 2.2, 5. , 1.5],\n",
              "       [6.9, 3.2, 5.7, 2.3],\n",
              "       [5.6, 2.8, 4.9, 2. ],\n",
              "       [7.7, 2.8, 6.7, 2. ],\n",
              "       [6.3, 2.7, 4.9, 1.8],\n",
              "       [6.7, 3.3, 5.7, 2.1],\n",
              "       [7.2, 3.2, 6. , 1.8],\n",
              "       [6.2, 2.8, 4.8, 1.8],\n",
              "       [6.1, 3. , 4.9, 1.8],\n",
              "       [6.4, 2.8, 5.6, 2.1],\n",
              "       [7.2, 3. , 5.8, 1.6],\n",
              "       [7.4, 2.8, 6.1, 1.9],\n",
              "       [7.9, 3.8, 6.4, 2. ],\n",
              "       [6.4, 2.8, 5.6, 2.2],\n",
              "       [6.3, 2.8, 5.1, 1.5],\n",
              "       [6.1, 2.6, 5.6, 1.4],\n",
              "       [7.7, 3. , 6.1, 2.3],\n",
              "       [6.3, 3.4, 5.6, 2.4],\n",
              "       [6.4, 3.1, 5.5, 1.8],\n",
              "       [6. , 3. , 4.8, 1.8],\n",
              "       [6.9, 3.1, 5.4, 2.1],\n",
              "       [6.7, 3.1, 5.6, 2.4],\n",
              "       [6.9, 3.1, 5.1, 2.3],\n",
              "       [5.8, 2.7, 5.1, 1.9],\n",
              "       [6.8, 3.2, 5.9, 2.3],\n",
              "       [6.7, 3.3, 5.7, 2.5],\n",
              "       [6.7, 3. , 5.2, 2.3],\n",
              "       [6.3, 2.5, 5. , 1.9],\n",
              "       [6.5, 3. , 5.2, 2. ],\n",
              "       [6.2, 3.4, 5.4, 2.3],\n",
              "       [5.9, 3. , 5.1, 1.8]])"
            ]
          },
          "metadata": {
            "tags": []
          },
          "execution_count": 32
        }
      ]
    },
    {
      "cell_type": "code",
      "metadata": {
        "id": "YsjoWQvuwaQw",
        "outputId": "ca4d846d-a161-432d-c85c-2b4c1c279525",
        "colab": {
          "base_uri": "https://localhost:8080/",
          "height": 134
        }
      },
      "source": [
        "# and labels\n",
        "data.target"
      ],
      "execution_count": 33,
      "outputs": [
        {
          "output_type": "execute_result",
          "data": {
            "text/plain": [
              "array([0, 0, 0, 0, 0, 0, 0, 0, 0, 0, 0, 0, 0, 0, 0, 0, 0, 0, 0, 0, 0, 0,\n",
              "       0, 0, 0, 0, 0, 0, 0, 0, 0, 0, 0, 0, 0, 0, 0, 0, 0, 0, 0, 0, 0, 0,\n",
              "       0, 0, 0, 0, 0, 0, 1, 1, 1, 1, 1, 1, 1, 1, 1, 1, 1, 1, 1, 1, 1, 1,\n",
              "       1, 1, 1, 1, 1, 1, 1, 1, 1, 1, 1, 1, 1, 1, 1, 1, 1, 1, 1, 1, 1, 1,\n",
              "       1, 1, 1, 1, 1, 1, 1, 1, 1, 1, 1, 1, 2, 2, 2, 2, 2, 2, 2, 2, 2, 2,\n",
              "       2, 2, 2, 2, 2, 2, 2, 2, 2, 2, 2, 2, 2, 2, 2, 2, 2, 2, 2, 2, 2, 2,\n",
              "       2, 2, 2, 2, 2, 2, 2, 2, 2, 2, 2, 2, 2, 2, 2, 2, 2, 2])"
            ]
          },
          "metadata": {
            "tags": []
          },
          "execution_count": 33
        }
      ]
    },
    {
      "cell_type": "code",
      "metadata": {
        "id": "Q76Ytp4awiS_"
      },
      "source": [
        "# First let's divide the dataset into data and target \n",
        "\n",
        "X = data.data[:, :2]   # X is the features in our dataset\n",
        "y = (data.target != 0) * 1  # y is the Labels in our dataset"
      ],
      "execution_count": 34,
      "outputs": []
    },
    {
      "cell_type": "code",
      "metadata": {
        "id": "UAqKVVsIwiVa",
        "outputId": "8e598ea1-82d8-4ae1-917b-ce854284ca03",
        "colab": {
          "base_uri": "https://localhost:8080/",
          "height": 376
        }
      },
      "source": [
        "plt.figure(figsize=(10, 6))\n",
        "plt.scatter(X[y == 0][:, 0], X[y == 0][:, 1], color='b', label='0') \n",
        "plt.scatter(X[y == 1][:, 0], X[y == 1][:, 1], color='r', label='1')\n",
        "plt.legend();\n"
      ],
      "execution_count": 35,
      "outputs": [
        {
          "output_type": "display_data",
          "data": {
            "image/png": "[encoded data removed]",
            "text/plain": [
              "<Figure size 720x432 with 1 Axes>"
            ]
          },
          "metadata": {
            "tags": [],
            "needs_background": "light"
          }
        }
      ]
    },
    {
      "cell_type": "code",
      "metadata": {
        "id": "BqSzop2zwiX0"
      },
      "source": [
        "# import dependencies\n",
        "from sklearn.linear_model import LogisticRegression"
      ],
      "execution_count": 36,
      "outputs": []
    },
    {
      "cell_type": "code",
      "metadata": {
        "id": "RtM53fUqwAQ0"
      },
      "source": [
        "# load model\n",
        "model = LogisticRegression()"
      ],
      "execution_count": 37,
      "outputs": []
    },
    {
      "cell_type": "code",
      "metadata": {
        "id": "_zZHaUCLwATK",
        "outputId": "980f5cd0-77af-473c-c901-39895cf78ecc",
        "colab": {
          "base_uri": "https://localhost:8080/",
          "height": 101
        }
      },
      "source": [
        "# fit model\n",
        "model.fit(X, y)"
      ],
      "execution_count": 38,
      "outputs": [
        {
          "output_type": "execute_result",
          "data": {
            "text/plain": [
              "LogisticRegression(C=1.0, class_weight=None, dual=False, fit_intercept=True,\n",
              "                   intercept_scaling=1, l1_ratio=None, max_iter=100,\n",
              "                   multi_class='auto', n_jobs=None, penalty='l2',\n",
              "                   random_state=None, solver='lbfgs', tol=0.0001, verbose=0,\n",
              "                   warm_start=False)"
            ]
          },
          "metadata": {
            "tags": []
          },
          "execution_count": 38
        }
      ]
    },
    {
      "cell_type": "code",
      "metadata": {
        "id": "hJJsgm2UwAVm",
        "outputId": "e7b9cc1f-be80-4cfc-c932-1a3cf6222a48",
        "colab": {
          "base_uri": "https://localhost:8080/",
          "height": 134
        }
      },
      "source": [
        "# Predict Model\n",
        "preds = model.predict(X)\n",
        "preds"
      ],
      "execution_count": 39,
      "outputs": [
        {
          "output_type": "execute_result",
          "data": {
            "text/plain": [
              "array([0, 0, 0, 0, 0, 0, 0, 0, 0, 0, 0, 0, 0, 0, 0, 0, 0, 0, 0, 0, 0, 0,\n",
              "       0, 0, 0, 0, 0, 0, 0, 0, 0, 0, 0, 0, 0, 0, 0, 0, 0, 0, 0, 0, 0, 0,\n",
              "       0, 0, 0, 0, 0, 0, 1, 1, 1, 1, 1, 1, 1, 1, 1, 1, 1, 1, 1, 1, 1, 1,\n",
              "       1, 1, 1, 1, 1, 1, 1, 1, 1, 1, 1, 1, 1, 1, 1, 1, 1, 1, 1, 1, 1, 1,\n",
              "       1, 1, 1, 1, 1, 1, 1, 1, 1, 1, 1, 1, 1, 1, 1, 1, 1, 1, 1, 1, 1, 1,\n",
              "       1, 1, 1, 1, 1, 1, 1, 1, 1, 1, 1, 1, 1, 1, 1, 1, 1, 1, 1, 1, 1, 1,\n",
              "       1, 1, 1, 1, 1, 1, 1, 1, 1, 1, 1, 1, 1, 1, 1, 1, 1, 1])"
            ]
          },
          "metadata": {
            "tags": []
          },
          "execution_count": 39
        }
      ]
    },
    {
      "cell_type": "code",
      "metadata": {
        "id": "A0C_YoO0wxxC",
        "outputId": "32cad6dd-9fee-4d25-bb97-7471b222b1e8",
        "colab": {
          "base_uri": "https://localhost:8080/",
          "height": 34
        }
      },
      "source": [
        "metrics.accuracy_score(y, preds)"
      ],
      "execution_count": 40,
      "outputs": [
        {
          "output_type": "execute_result",
          "data": {
            "text/plain": [
              "1.0"
            ]
          },
          "metadata": {
            "tags": []
          },
          "execution_count": 40
        }
      ]
    },
    {
      "cell_type": "markdown",
      "metadata": {
        "id": "Ug363NZLw0ZC"
      },
      "source": [
        "# Fourth Example"
      ]
    },
    {
      "cell_type": "code",
      "metadata": {
        "id": "009h4jIfwxzV",
        "outputId": "d0cdd611-95e4-4012-d9cf-8bc7e873e9d4",
        "colab": {
          "base_uri": "https://localhost:8080/",
          "height": 34
        }
      },
      "source": [
        "#Logistic Regression\n",
        "\n",
        "# Importing the libraries\n",
        "import numpy as np\n",
        "import matplotlib.pyplot as plt\n",
        "import pandas as pd\n",
        "#Importing the data\n",
        "df =pd.read_csv('Chip_test.csv').values\n",
        "df.shape"
      ],
      "execution_count": 41,
      "outputs": [
        {
          "output_type": "execute_result",
          "data": {
            "text/plain": [
              "(118, 3)"
            ]
          },
          "metadata": {
            "tags": []
          },
          "execution_count": 41
        }
      ]
    },
    {
      "cell_type": "code",
      "metadata": {
        "id": "vX2KNJkNwAYF"
      },
      "source": [
        "x= df[:, 0:2 ]\n",
        "y= df[:, -1] "
      ],
      "execution_count": 42,
      "outputs": []
    },
    {
      "cell_type": "code",
      "metadata": {
        "id": "GSSBY9jxw79a"
      },
      "source": [
        "# Splitting the dataset into the Training set and Test set\n",
        "from sklearn.model_selection import train_test_split\n",
        "x_train, x_test, y_train, y_test = train_test_split(x, y, test_size = 0.25) "
      ],
      "execution_count": 43,
      "outputs": []
    },
    {
      "cell_type": "code",
      "metadata": {
        "id": "Aa-p1EX7w8AN",
        "outputId": "4003bcfc-6460-4ca2-f86b-2eab1a1c34b4",
        "colab": {
          "base_uri": "https://localhost:8080/",
          "height": 101
        }
      },
      "source": [
        "#Fitting Logistic Regresssion to Training Set\n",
        "from sklearn.linear_model import LogisticRegression\n",
        "model = LogisticRegression()\n",
        "model.fit(x_train,y_train)"
      ],
      "execution_count": 44,
      "outputs": [
        {
          "output_type": "execute_result",
          "data": {
            "text/plain": [
              "LogisticRegression(C=1.0, class_weight=None, dual=False, fit_intercept=True,\n",
              "                   intercept_scaling=1, l1_ratio=None, max_iter=100,\n",
              "                   multi_class='auto', n_jobs=None, penalty='l2',\n",
              "                   random_state=None, solver='lbfgs', tol=0.0001, verbose=0,\n",
              "                   warm_start=False)"
            ]
          },
          "metadata": {
            "tags": []
          },
          "execution_count": 44
        }
      ]
    },
    {
      "cell_type": "code",
      "metadata": {
        "id": "45nOSibRw8DA",
        "outputId": "4ed3b9f1-edcb-4bdd-fbd1-14759620ab8a",
        "colab": {
          "base_uri": "https://localhost:8080/",
          "height": 50
        }
      },
      "source": [
        "#Predicting the Test Set Results\n",
        "y_pred = model.predict(x_test)\n",
        "y_pred"
      ],
      "execution_count": 45,
      "outputs": [
        {
          "output_type": "execute_result",
          "data": {
            "text/plain": [
              "array([1., 1., 1., 0., 1., 0., 0., 1., 0., 1., 0., 1., 1., 1., 0., 0., 1.,\n",
              "       1., 0., 0., 0., 1., 1., 1., 0., 1., 0., 1., 1., 0.])"
            ]
          },
          "metadata": {
            "tags": []
          },
          "execution_count": 45
        }
      ]
    },
    {
      "cell_type": "code",
      "metadata": {
        "id": "Kkc9conyw8Fm",
        "outputId": "c0596e6e-822b-49c3-9ba0-eb79d9eca242",
        "colab": {
          "base_uri": "https://localhost:8080/",
          "height": 50
        }
      },
      "source": [
        "from sklearn.metrics import confusion_matrix\n",
        "cm = confusion_matrix(y_test,y_pred)\n",
        "cm"
      ],
      "execution_count": 46,
      "outputs": [
        {
          "output_type": "execute_result",
          "data": {
            "text/plain": [
              "array([[9, 9],\n",
              "       [4, 8]])"
            ]
          },
          "metadata": {
            "tags": []
          },
          "execution_count": 46
        }
      ]
    },
    {
      "cell_type": "code",
      "metadata": {
        "id": "vWufo8ARw8Mw",
        "outputId": "71069392-dca7-44ab-888b-be861a9f7711",
        "colab": {
          "base_uri": "https://localhost:8080/",
          "height": 286
        }
      },
      "source": [
        "import seaborn as sns\n",
        "sns.heatmap(cm, annot=True, cmap='Blues')"
      ],
      "execution_count": 47,
      "outputs": [
        {
          "output_type": "execute_result",
          "data": {
            "text/plain": [
              "<matplotlib.axes._subplots.AxesSubplot at 0x7f4c2aac4d68>"
            ]
          },
          "metadata": {
            "tags": []
          },
          "execution_count": 47
        },
        {
          "output_type": "display_data",
          "data": {
            "image/png": "[encoded data removed]",
            "text/plain": [
              "<Figure size 432x288 with 2 Axes>"
            ]
          },
          "metadata": {
            "tags": [],
            "needs_background": "light"
          }
        }
      ]
    },
    {
      "cell_type": "code",
      "metadata": {
        "id": "odYncg18w8Sh",
        "outputId": "583c0b4b-6507-4abc-8da1-71b04eee0e69",
        "colab": {
          "base_uri": "https://localhost:8080/",
          "height": 286
        }
      },
      "source": [
        "import seaborn as sns\n",
        "sns.heatmap(cm, annot=True, cmap='Reds')"
      ],
      "execution_count": 48,
      "outputs": [
        {
          "output_type": "execute_result",
          "data": {
            "text/plain": [
              "<matplotlib.axes._subplots.AxesSubplot at 0x7f4c29f00128>"
            ]
          },
          "metadata": {
            "tags": []
          },
          "execution_count": 48
        },
        {
          "output_type": "display_data",
          "data": {
            "image/png": "[encoded data removed]",
            "text/plain": [
              "<Figure size 432x288 with 2 Axes>"
            ]
          },
          "metadata": {
            "tags": [],
            "needs_background": "light"
          }
        }
      ]
    },
    {
      "cell_type": "code",
      "metadata": {
        "id": "HYBn6dA-w8XZ",
        "outputId": "a9c91f6e-b2ce-4994-c7c0-acf7c37f9931",
        "colab": {
          "base_uri": "https://localhost:8080/",
          "height": 34
        }
      },
      "source": [
        "metrics.accuracy_score(y_test, y_pred)"
      ],
      "execution_count": 49,
      "outputs": [
        {
          "output_type": "execute_result",
          "data": {
            "text/plain": [
              "0.5666666666666667"
            ]
          },
          "metadata": {
            "tags": []
          },
          "execution_count": 49
        }
      ]
    },
    {
      "cell_type": "markdown",
      "metadata": {
        "id": "TiE6rszTxQLc"
      },
      "source": [
        "# fifth example"
      ]
    },
    {
      "cell_type": "code",
      "metadata": {
        "id": "7pT9HdgOw8cD",
        "outputId": "cc8f3b0a-0d39-4d02-b0a1-90210da7830a",
        "colab": {
          "base_uri": "https://localhost:8080/",
          "height": 34
        }
      },
      "source": [
        "#Logistic Regression\n",
        "\n",
        "# Importing the libraries\n",
        "import numpy as np\n",
        "import matplotlib.pyplot as plt\n",
        "import pandas as pd\n",
        "\n",
        "# Importing the dataset\n",
        "df = pd.read_csv('examdata.csv').values\n",
        "df.shape"
      ],
      "execution_count": 50,
      "outputs": [
        {
          "output_type": "execute_result",
          "data": {
            "text/plain": [
              "(100, 3)"
            ]
          },
          "metadata": {
            "tags": []
          },
          "execution_count": 50
        }
      ]
    },
    {
      "cell_type": "code",
      "metadata": {
        "id": "wvMphtPkw8j1"
      },
      "source": [
        "x = df[:, 0:2]\n",
        "y = df[:, 2]\n",
        "# Splitting the dataset into the Training set and Test set\n",
        "from sklearn.model_selection import train_test_split\n",
        "x_train, x_test, y_train, y_test = train_test_split(x, y, test_size = 0.20)"
      ],
      "execution_count": 51,
      "outputs": []
    },
    {
      "cell_type": "code",
      "metadata": {
        "id": "ecqfFKAjw8yp"
      },
      "source": [
        "# Feature Scaling\n",
        "from sklearn.preprocessing import StandardScaler\n",
        "sc_x = StandardScaler()\n",
        "x_train = sc_x.fit_transform(x_train)\n",
        "x_test = sc_x.transform(x_test)\n",
        "\n",
        "#Fitting Logistic Regresssion to Training Set\n",
        "from sklearn.linear_model import LogisticRegression\n",
        "classifier = LogisticRegression(random_state =0)\n",
        "classifier.fit(x_train,y_train)\n",
        "\n",
        "#Predicting the Test Set Results\n",
        "y_pred = classifier.predict(x_test)"
      ],
      "execution_count": 52,
      "outputs": []
    },
    {
      "cell_type": "code",
      "metadata": {
        "id": "AEVqswrawAac",
        "outputId": "abe5f8cc-9f83-40dd-a749-1a183374ee56",
        "colab": {
          "base_uri": "https://localhost:8080/",
          "height": 50
        }
      },
      "source": [
        "#Making the Confusion Matrix\n",
        "from sklearn.metrics import confusion_matrix\n",
        "cm = confusion_matrix(y_test,y_pred)\n",
        "cm"
      ],
      "execution_count": 53,
      "outputs": [
        {
          "output_type": "execute_result",
          "data": {
            "text/plain": [
              "array([[ 7,  0],\n",
              "       [ 2, 11]])"
            ]
          },
          "metadata": {
            "tags": []
          },
          "execution_count": 53
        }
      ]
    },
    {
      "cell_type": "code",
      "metadata": {
        "id": "L8PeFdh5wAdC",
        "outputId": "f2b89873-73d0-4208-e3cc-56de55365730",
        "colab": {
          "base_uri": "https://localhost:8080/",
          "height": 334
        }
      },
      "source": [
        "#Visualizing the Training Set Results\n",
        "from matplotlib.colors import ListedColormap\n",
        "x_set , y_set = x_train ,y_train\n",
        "x1, x2 = np.meshgrid(np.arange(start = x_set[:,0].min()-1,stop =x_set[:,0].max()+1,step=0.01),\n",
        "                    np.arange(start = x_set[:,1].min()-1,stop =x_set[:,1].max()+1,step=0.01))\n",
        "plt.contour(x1,x2,classifier.predict(np.array([x1.ravel(),x2.ravel()]).T).reshape(x1.shape),\n",
        "            alpha= 0.75 ,cmap = ListedColormap(('red','green')))\n",
        "plt.xlim(x1.min() ,x1.max())\n",
        "plt.ylim(x2.min() ,x2.max())\n",
        "for i,j in enumerate(np.unique(y_set)):\n",
        "    plt.scatter(x_set[y_set == j ,0], x_set[y_set == j,1],\n",
        "                c= ListedColormap(('red' , 'green'))(i) , label = j)\n",
        "plt.title('Logistic Regression(Training Set)')\n",
        "plt.legend()\n",
        "plt.show()\n",
        "      "
      ],
      "execution_count": 54,
      "outputs": [
        {
          "output_type": "stream",
          "text": [
            "*c* argument looks like a single numeric RGB or RGBA sequence, which should be avoided as value-mapping will have precedence in case its length matches with *x* & *y*.  Please use the *color* keyword-argument or provide a 2-D array with a single row if you intend to specify the same RGB or RGBA value for all points.\n",
            "*c* argument looks like a single numeric RGB or RGBA sequence, which should be avoided as value-mapping will have precedence in case its length matches with *x* & *y*.  Please use the *color* keyword-argument or provide a 2-D array with a single row if you intend to specify the same RGB or RGBA value for all points.\n"
          ],
          "name": "stderr"
        },
        {
          "output_type": "display_data",
          "data": {
            "image/png": "[encoded data removed]",
            "text/plain": [
              "<Figure size 432x288 with 1 Axes>"
            ]
          },
          "metadata": {
            "tags": [],
            "needs_background": "light"
          }
        }
      ]
    },
    {
      "cell_type": "code",
      "metadata": {
        "id": "gILjdlVAxf7d",
        "outputId": "99bd04c1-0b93-476d-d76b-61383f7a72b8",
        "colab": {
          "base_uri": "https://localhost:8080/",
          "height": 351
        }
      },
      "source": [
        "#Visualizing the Test Set Results\n",
        "from matplotlib.colors import ListedColormap\n",
        "x_set , y_set = x_test ,y_test\n",
        "x1, x2 = np.meshgrid(np.arange(start = x_set[:,0].min()-1,stop =x_set[:,0].max()+1,step=0.01),\n",
        "                    np.arange(start = x_set[:,1].min()-1,stop =x_set[:,1].max()+1,step=0.01))\n",
        "plt.contour(x1,x2,classifier.predict(np.array([x1.ravel(),x2.ravel()]).T).reshape(x1.shape),\n",
        "            alpha= 0.75 ,cmap = ListedColormap(('red','green')))\n",
        "plt.xlim(x1.min() ,x1.max())\n",
        "plt.ylim(x2.min() ,x2.max())\n",
        "for i,j in enumerate(np.unique(y_set)):\n",
        "    plt.scatter(x_set[y_set == j ,0], x_set[y_set == j,1],\n",
        "                c= ListedColormap(('red' , 'green'))(i) , label = j)\n",
        "plt.title('Test Set')\n",
        " \n",
        "plt.legend()"
      ],
      "execution_count": 55,
      "outputs": [
        {
          "output_type": "stream",
          "text": [
            "*c* argument looks like a single numeric RGB or RGBA sequence, which should be avoided as value-mapping will have precedence in case its length matches with *x* & *y*.  Please use the *color* keyword-argument or provide a 2-D array with a single row if you intend to specify the same RGB or RGBA value for all points.\n",
            "*c* argument looks like a single numeric RGB or RGBA sequence, which should be avoided as value-mapping will have precedence in case its length matches with *x* & *y*.  Please use the *color* keyword-argument or provide a 2-D array with a single row if you intend to specify the same RGB or RGBA value for all points.\n"
          ],
          "name": "stderr"
        },
        {
          "output_type": "execute_result",
          "data": {
            "text/plain": [
              "<matplotlib.legend.Legend at 0x7f4c2af381d0>"
            ]
          },
          "metadata": {
            "tags": []
          },
          "execution_count": 55
        },
        {
          "output_type": "display_data",
          "data": {
            "image/png": "[encoded data removed]",
            "text/plain": [
              "<Figure size 432x288 with 1 Axes>"
            ]
          },
          "metadata": {
            "tags": [],
            "needs_background": "light"
          }
        }
      ]
    },
    {
      "cell_type": "code",
      "metadata": {
        "id": "m_ZEyHytxf96",
        "outputId": "4f9b6aaf-d339-4f7e-c52d-a43ca2324169",
        "colab": {
          "base_uri": "https://localhost:8080/",
          "height": 34
        }
      },
      "source": [
        "metrics.accuracy_score(y_test, y_pred)"
      ],
      "execution_count": 56,
      "outputs": [
        {
          "output_type": "execute_result",
          "data": {
            "text/plain": [
              "0.9"
            ]
          },
          "metadata": {
            "tags": []
          },
          "execution_count": 56
        }
      ]
    },
    {
      "cell_type": "markdown",
      "metadata": {
        "id": "jGZiHVaRxm2d"
      },
      "source": [
        "# sixth example"
      ]
    },
    {
      "cell_type": "code",
      "metadata": {
        "id": "Yq0fv1opwAg4",
        "outputId": "b1f295ef-1b65-4a53-a53b-4b4c9ae0452d",
        "colab": {
          "base_uri": "https://localhost:8080/",
          "height": 50
        }
      },
      "source": [
        "import numpy as np\n",
        "import matplotlib.pyplot as plt\n",
        "import pandas as pd\n",
        "\n",
        "# Importing the dataset\n",
        "dataset = pd.read_csv('LR_df.csv').values\n",
        "X = dataset[:, 0].reshape(-1, 1)\n",
        "y = dataset[:, -1] \n",
        "\n",
        "# Splitting the dataset into the Training set and Test set\n",
        "from sklearn.model_selection import train_test_split\n",
        "X_train, X_test, y_train, y_test = train_test_split(X, y, test_size = 0.25, random_state = 0)\n",
        "# Feature Scaling\n",
        "from sklearn.preprocessing import StandardScaler\n",
        "sc_X = StandardScaler() \n",
        "X_train = sc_X.fit_transform(X_train)\n",
        "X_test = sc_X.transform(X_test)\n",
        "\n",
        "#Fitting Logistic Regresssion to Training Set\n",
        "from sklearn.linear_model import LogisticRegression\n",
        "classifier = LogisticRegression(random_state =0)\n",
        "classifier.fit(X_train,y_train)\n",
        "\n",
        "#Predicting the Test Set Results\n",
        "y_pred = classifier.predict(X_test) \n",
        "\n",
        "#Making the Confusion Matrix\n",
        "from sklearn.metrics import confusion_matrix\n",
        "cm = confusion_matrix(y_test,y_pred)\n",
        "cm\n",
        "\n",
        "\n",
        "      "
      ],
      "execution_count": 57,
      "outputs": [
        {
          "output_type": "execute_result",
          "data": {
            "text/plain": [
              "array([[108,  23],\n",
              "       [ 45,  16]])"
            ]
          },
          "metadata": {
            "tags": []
          },
          "execution_count": 57
        }
      ]
    },
    {
      "cell_type": "code",
      "metadata": {
        "id": "4aHxTM-ZxqGm",
        "outputId": "205412b1-9b52-4b68-9ed6-de14037869a2",
        "colab": {
          "base_uri": "https://localhost:8080/",
          "height": 282
        }
      },
      "source": [
        "import seaborn as sns\n",
        "sns.heatmap(cm, annot=True, cmap='Blues')\n"
      ],
      "execution_count": 58,
      "outputs": [
        {
          "output_type": "execute_result",
          "data": {
            "text/plain": [
              "<matplotlib.axes._subplots.AxesSubplot at 0x7f4c29d201d0>"
            ]
          },
          "metadata": {
            "tags": []
          },
          "execution_count": 58
        },
        {
          "output_type": "display_data",
          "data": {
            "image/png": "[encoded data removed]",
            "text/plain": [
              "<Figure size 432x288 with 2 Axes>"
            ]
          },
          "metadata": {
            "tags": [],
            "needs_background": "light"
          }
        }
      ]
    },
    {
      "cell_type": "code",
      "metadata": {
        "id": "EUsfdB1GxqJM",
        "outputId": "3b67a9cc-5fcd-49a0-d0d6-f62075ad88f7",
        "colab": {
          "base_uri": "https://localhost:8080/",
          "height": 34
        }
      },
      "source": [
        "metrics.accuracy_score(y_test, y_pred)"
      ],
      "execution_count": 59,
      "outputs": [
        {
          "output_type": "execute_result",
          "data": {
            "text/plain": [
              "0.6458333333333334"
            ]
          },
          "metadata": {
            "tags": []
          },
          "execution_count": 59
        }
      ]
    }
  ]
}